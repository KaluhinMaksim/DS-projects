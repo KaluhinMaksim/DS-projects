{
 "cells": [
  {
   "cell_type": "markdown",
   "metadata": {},
   "source": [
    "# Определение стоимости автомобилей"
   ]
  },
  {
   "cell_type": "markdown",
   "metadata": {},
   "source": [
    "Сервис по продаже автомобилей с пробегом «Не бит, не крашен» разрабатывает приложение для привлечения новых клиентов. В нём можно быстро узнать рыночную стоимость своего автомобиля. В вашем распоряжении исторические данные: технические характеристики, комплектации и цены автомобилей. Вам нужно построить модель для определения стоимости. \n",
    "\n",
    "Заказчику важны:\n",
    "\n",
    "- качество предсказания;\n",
    "- скорость предсказания;\n",
    "- время обучения.\n",
    "\n",
    "Признаки:\n",
    "\n",
    "DateCrawled — дата скачивания анкеты из базы  \n",
    "VehicleType — тип автомобильного кузова  \n",
    "RegistrationYear — год регистрации автомобиля  \n",
    "Gearbox — тип коробки передач\n",
    "Power — мощность (л. с.)  \n",
    "Model — модель автомобиля  \n",
    "Kilometer — пробег (км)  \n",
    "RegistrationMonth — месяц регистрации автомобиля  \n",
    "FuelType — тип топлива  \n",
    "Brand — марка автомобиля  \n",
    "Repaired — была машина в ремонте или нет  \n",
    "DateCreated — дата создания анкеты  \n",
    "NumberOfPictures — количество фотографий автомобиля  \n",
    "PostalCode — почтовый индекс владельца анкеты (пользователя)  \n",
    "LastSeen — дата последней активности пользователя  \n",
    "\n",
    "Целевой признак: \n",
    "\n",
    "Price — цена (евро)"
   ]
  },
  {
   "cell_type": "markdown",
   "metadata": {},
   "source": [
    "## Подготовка данных"
   ]
  },
  {
   "cell_type": "markdown",
   "metadata": {},
   "source": [
    "### Загрузка данных"
   ]
  },
  {
   "cell_type": "code",
   "execution_count": 41,
   "metadata": {},
   "outputs": [],
   "source": [
    "import matplotlib.pyplot as plt\n",
    "import pandas as pd\n",
    "import seaborn as sns\n",
    "from lightgbm import LGBMRegressor\n",
    "from sklearn.preprocessing import OrdinalEncoder\n",
    "from sklearn.model_selection import RandomizedSearchCV\n",
    "from sklearn.tree import DecisionTreeRegressor\n",
    "from sklearn.metrics import mean_squared_error\n",
    "from sklearn.model_selection import cross_val_score\n",
    "from sklearn.linear_model import LinearRegression\n",
    "from sklearn.preprocessing import OneHotEncoder, StandardScaler\n",
    "from sklearn.model_selection import train_test_split\n",
    "RANDOM_STATE=42"
   ]
  },
  {
   "cell_type": "code",
   "execution_count": 42,
   "metadata": {},
   "outputs": [],
   "source": [
    "data = pd.read_csv('/datasets/autos.csv')"
   ]
  },
  {
   "cell_type": "code",
   "execution_count": 43,
   "metadata": {},
   "outputs": [
    {
     "data": {
      "text/html": [
       "<div>\n",
       "<style scoped>\n",
       "    .dataframe tbody tr th:only-of-type {\n",
       "        vertical-align: middle;\n",
       "    }\n",
       "\n",
       "    .dataframe tbody tr th {\n",
       "        vertical-align: top;\n",
       "    }\n",
       "\n",
       "    .dataframe thead th {\n",
       "        text-align: right;\n",
       "    }\n",
       "</style>\n",
       "<table border=\"1\" class=\"dataframe\">\n",
       "  <thead>\n",
       "    <tr style=\"text-align: right;\">\n",
       "      <th></th>\n",
       "      <th>DateCrawled</th>\n",
       "      <th>Price</th>\n",
       "      <th>VehicleType</th>\n",
       "      <th>RegistrationYear</th>\n",
       "      <th>Gearbox</th>\n",
       "      <th>Power</th>\n",
       "      <th>Model</th>\n",
       "      <th>Kilometer</th>\n",
       "      <th>RegistrationMonth</th>\n",
       "      <th>FuelType</th>\n",
       "      <th>Brand</th>\n",
       "      <th>Repaired</th>\n",
       "      <th>DateCreated</th>\n",
       "      <th>NumberOfPictures</th>\n",
       "      <th>PostalCode</th>\n",
       "      <th>LastSeen</th>\n",
       "    </tr>\n",
       "  </thead>\n",
       "  <tbody>\n",
       "    <tr>\n",
       "      <th>0</th>\n",
       "      <td>2016-03-24 11:52:17</td>\n",
       "      <td>480</td>\n",
       "      <td>NaN</td>\n",
       "      <td>1993</td>\n",
       "      <td>manual</td>\n",
       "      <td>0</td>\n",
       "      <td>golf</td>\n",
       "      <td>150000</td>\n",
       "      <td>0</td>\n",
       "      <td>petrol</td>\n",
       "      <td>volkswagen</td>\n",
       "      <td>NaN</td>\n",
       "      <td>2016-03-24 00:00:00</td>\n",
       "      <td>0</td>\n",
       "      <td>70435</td>\n",
       "      <td>2016-04-07 03:16:57</td>\n",
       "    </tr>\n",
       "    <tr>\n",
       "      <th>1</th>\n",
       "      <td>2016-03-24 10:58:45</td>\n",
       "      <td>18300</td>\n",
       "      <td>coupe</td>\n",
       "      <td>2011</td>\n",
       "      <td>manual</td>\n",
       "      <td>190</td>\n",
       "      <td>NaN</td>\n",
       "      <td>125000</td>\n",
       "      <td>5</td>\n",
       "      <td>gasoline</td>\n",
       "      <td>audi</td>\n",
       "      <td>yes</td>\n",
       "      <td>2016-03-24 00:00:00</td>\n",
       "      <td>0</td>\n",
       "      <td>66954</td>\n",
       "      <td>2016-04-07 01:46:50</td>\n",
       "    </tr>\n",
       "    <tr>\n",
       "      <th>2</th>\n",
       "      <td>2016-03-14 12:52:21</td>\n",
       "      <td>9800</td>\n",
       "      <td>suv</td>\n",
       "      <td>2004</td>\n",
       "      <td>auto</td>\n",
       "      <td>163</td>\n",
       "      <td>grand</td>\n",
       "      <td>125000</td>\n",
       "      <td>8</td>\n",
       "      <td>gasoline</td>\n",
       "      <td>jeep</td>\n",
       "      <td>NaN</td>\n",
       "      <td>2016-03-14 00:00:00</td>\n",
       "      <td>0</td>\n",
       "      <td>90480</td>\n",
       "      <td>2016-04-05 12:47:46</td>\n",
       "    </tr>\n",
       "    <tr>\n",
       "      <th>3</th>\n",
       "      <td>2016-03-17 16:54:04</td>\n",
       "      <td>1500</td>\n",
       "      <td>small</td>\n",
       "      <td>2001</td>\n",
       "      <td>manual</td>\n",
       "      <td>75</td>\n",
       "      <td>golf</td>\n",
       "      <td>150000</td>\n",
       "      <td>6</td>\n",
       "      <td>petrol</td>\n",
       "      <td>volkswagen</td>\n",
       "      <td>no</td>\n",
       "      <td>2016-03-17 00:00:00</td>\n",
       "      <td>0</td>\n",
       "      <td>91074</td>\n",
       "      <td>2016-03-17 17:40:17</td>\n",
       "    </tr>\n",
       "    <tr>\n",
       "      <th>4</th>\n",
       "      <td>2016-03-31 17:25:20</td>\n",
       "      <td>3600</td>\n",
       "      <td>small</td>\n",
       "      <td>2008</td>\n",
       "      <td>manual</td>\n",
       "      <td>69</td>\n",
       "      <td>fabia</td>\n",
       "      <td>90000</td>\n",
       "      <td>7</td>\n",
       "      <td>gasoline</td>\n",
       "      <td>skoda</td>\n",
       "      <td>no</td>\n",
       "      <td>2016-03-31 00:00:00</td>\n",
       "      <td>0</td>\n",
       "      <td>60437</td>\n",
       "      <td>2016-04-06 10:17:21</td>\n",
       "    </tr>\n",
       "    <tr>\n",
       "      <th>5</th>\n",
       "      <td>2016-04-04 17:36:23</td>\n",
       "      <td>650</td>\n",
       "      <td>sedan</td>\n",
       "      <td>1995</td>\n",
       "      <td>manual</td>\n",
       "      <td>102</td>\n",
       "      <td>3er</td>\n",
       "      <td>150000</td>\n",
       "      <td>10</td>\n",
       "      <td>petrol</td>\n",
       "      <td>bmw</td>\n",
       "      <td>yes</td>\n",
       "      <td>2016-04-04 00:00:00</td>\n",
       "      <td>0</td>\n",
       "      <td>33775</td>\n",
       "      <td>2016-04-06 19:17:07</td>\n",
       "    </tr>\n",
       "    <tr>\n",
       "      <th>6</th>\n",
       "      <td>2016-04-01 20:48:51</td>\n",
       "      <td>2200</td>\n",
       "      <td>convertible</td>\n",
       "      <td>2004</td>\n",
       "      <td>manual</td>\n",
       "      <td>109</td>\n",
       "      <td>2_reihe</td>\n",
       "      <td>150000</td>\n",
       "      <td>8</td>\n",
       "      <td>petrol</td>\n",
       "      <td>peugeot</td>\n",
       "      <td>no</td>\n",
       "      <td>2016-04-01 00:00:00</td>\n",
       "      <td>0</td>\n",
       "      <td>67112</td>\n",
       "      <td>2016-04-05 18:18:39</td>\n",
       "    </tr>\n",
       "    <tr>\n",
       "      <th>7</th>\n",
       "      <td>2016-03-21 18:54:38</td>\n",
       "      <td>0</td>\n",
       "      <td>sedan</td>\n",
       "      <td>1980</td>\n",
       "      <td>manual</td>\n",
       "      <td>50</td>\n",
       "      <td>other</td>\n",
       "      <td>40000</td>\n",
       "      <td>7</td>\n",
       "      <td>petrol</td>\n",
       "      <td>volkswagen</td>\n",
       "      <td>no</td>\n",
       "      <td>2016-03-21 00:00:00</td>\n",
       "      <td>0</td>\n",
       "      <td>19348</td>\n",
       "      <td>2016-03-25 16:47:58</td>\n",
       "    </tr>\n",
       "    <tr>\n",
       "      <th>8</th>\n",
       "      <td>2016-04-04 23:42:13</td>\n",
       "      <td>14500</td>\n",
       "      <td>bus</td>\n",
       "      <td>2014</td>\n",
       "      <td>manual</td>\n",
       "      <td>125</td>\n",
       "      <td>c_max</td>\n",
       "      <td>30000</td>\n",
       "      <td>8</td>\n",
       "      <td>petrol</td>\n",
       "      <td>ford</td>\n",
       "      <td>NaN</td>\n",
       "      <td>2016-04-04 00:00:00</td>\n",
       "      <td>0</td>\n",
       "      <td>94505</td>\n",
       "      <td>2016-04-04 23:42:13</td>\n",
       "    </tr>\n",
       "    <tr>\n",
       "      <th>9</th>\n",
       "      <td>2016-03-17 10:53:50</td>\n",
       "      <td>999</td>\n",
       "      <td>small</td>\n",
       "      <td>1998</td>\n",
       "      <td>manual</td>\n",
       "      <td>101</td>\n",
       "      <td>golf</td>\n",
       "      <td>150000</td>\n",
       "      <td>0</td>\n",
       "      <td>NaN</td>\n",
       "      <td>volkswagen</td>\n",
       "      <td>NaN</td>\n",
       "      <td>2016-03-17 00:00:00</td>\n",
       "      <td>0</td>\n",
       "      <td>27472</td>\n",
       "      <td>2016-03-31 17:17:06</td>\n",
       "    </tr>\n",
       "  </tbody>\n",
       "</table>\n",
       "</div>"
      ],
      "text/plain": [
       "           DateCrawled  Price  VehicleType  RegistrationYear Gearbox  Power  \\\n",
       "0  2016-03-24 11:52:17    480          NaN              1993  manual      0   \n",
       "1  2016-03-24 10:58:45  18300        coupe              2011  manual    190   \n",
       "2  2016-03-14 12:52:21   9800          suv              2004    auto    163   \n",
       "3  2016-03-17 16:54:04   1500        small              2001  manual     75   \n",
       "4  2016-03-31 17:25:20   3600        small              2008  manual     69   \n",
       "5  2016-04-04 17:36:23    650        sedan              1995  manual    102   \n",
       "6  2016-04-01 20:48:51   2200  convertible              2004  manual    109   \n",
       "7  2016-03-21 18:54:38      0        sedan              1980  manual     50   \n",
       "8  2016-04-04 23:42:13  14500          bus              2014  manual    125   \n",
       "9  2016-03-17 10:53:50    999        small              1998  manual    101   \n",
       "\n",
       "     Model  Kilometer  RegistrationMonth  FuelType       Brand Repaired  \\\n",
       "0     golf     150000                  0    petrol  volkswagen      NaN   \n",
       "1      NaN     125000                  5  gasoline        audi      yes   \n",
       "2    grand     125000                  8  gasoline        jeep      NaN   \n",
       "3     golf     150000                  6    petrol  volkswagen       no   \n",
       "4    fabia      90000                  7  gasoline       skoda       no   \n",
       "5      3er     150000                 10    petrol         bmw      yes   \n",
       "6  2_reihe     150000                  8    petrol     peugeot       no   \n",
       "7    other      40000                  7    petrol  volkswagen       no   \n",
       "8    c_max      30000                  8    petrol        ford      NaN   \n",
       "9     golf     150000                  0       NaN  volkswagen      NaN   \n",
       "\n",
       "           DateCreated  NumberOfPictures  PostalCode             LastSeen  \n",
       "0  2016-03-24 00:00:00                 0       70435  2016-04-07 03:16:57  \n",
       "1  2016-03-24 00:00:00                 0       66954  2016-04-07 01:46:50  \n",
       "2  2016-03-14 00:00:00                 0       90480  2016-04-05 12:47:46  \n",
       "3  2016-03-17 00:00:00                 0       91074  2016-03-17 17:40:17  \n",
       "4  2016-03-31 00:00:00                 0       60437  2016-04-06 10:17:21  \n",
       "5  2016-04-04 00:00:00                 0       33775  2016-04-06 19:17:07  \n",
       "6  2016-04-01 00:00:00                 0       67112  2016-04-05 18:18:39  \n",
       "7  2016-03-21 00:00:00                 0       19348  2016-03-25 16:47:58  \n",
       "8  2016-04-04 00:00:00                 0       94505  2016-04-04 23:42:13  \n",
       "9  2016-03-17 00:00:00                 0       27472  2016-03-31 17:17:06  "
      ]
     },
     "execution_count": 43,
     "metadata": {},
     "output_type": "execute_result"
    }
   ],
   "source": [
    "data.head(10)"
   ]
  },
  {
   "cell_type": "code",
   "execution_count": 44,
   "metadata": {},
   "outputs": [
    {
     "name": "stdout",
     "output_type": "stream",
     "text": [
      "<class 'pandas.core.frame.DataFrame'>\n",
      "RangeIndex: 354369 entries, 0 to 354368\n",
      "Data columns (total 16 columns):\n",
      " #   Column             Non-Null Count   Dtype \n",
      "---  ------             --------------   ----- \n",
      " 0   DateCrawled        354369 non-null  object\n",
      " 1   Price              354369 non-null  int64 \n",
      " 2   VehicleType        316879 non-null  object\n",
      " 3   RegistrationYear   354369 non-null  int64 \n",
      " 4   Gearbox            334536 non-null  object\n",
      " 5   Power              354369 non-null  int64 \n",
      " 6   Model              334664 non-null  object\n",
      " 7   Kilometer          354369 non-null  int64 \n",
      " 8   RegistrationMonth  354369 non-null  int64 \n",
      " 9   FuelType           321474 non-null  object\n",
      " 10  Brand              354369 non-null  object\n",
      " 11  Repaired           283215 non-null  object\n",
      " 12  DateCreated        354369 non-null  object\n",
      " 13  NumberOfPictures   354369 non-null  int64 \n",
      " 14  PostalCode         354369 non-null  int64 \n",
      " 15  LastSeen           354369 non-null  object\n",
      "dtypes: int64(7), object(9)\n",
      "memory usage: 43.3+ MB\n"
     ]
    }
   ],
   "source": [
    "data.info()"
   ]
  },
  {
   "cell_type": "markdown",
   "metadata": {},
   "source": [
    "### Предобработка данных"
   ]
  },
  {
   "cell_type": "code",
   "execution_count": 45,
   "metadata": {
    "scrolled": true
   },
   "outputs": [
    {
     "data": {
      "text/plain": [
       "4"
      ]
     },
     "execution_count": 45,
     "metadata": {},
     "output_type": "execute_result"
    }
   ],
   "source": [
    "data.duplicated().sum()"
   ]
  },
  {
   "cell_type": "code",
   "execution_count": 46,
   "metadata": {},
   "outputs": [],
   "source": [
    "data = data.drop_duplicates()"
   ]
  },
  {
   "cell_type": "code",
   "execution_count": 47,
   "metadata": {},
   "outputs": [],
   "source": [
    "data.columns = data.columns.str.lower()"
   ]
  },
  {
   "cell_type": "code",
   "execution_count": 48,
   "metadata": {},
   "outputs": [],
   "source": [
    "#удаляем признаки, которые по смыслу задачи не несут важной информации\n",
    "data = data.drop(['datecrawled', 'registrationmonth', 'datecreated', 'numberofpictures','postalcode','lastseen'], axis=1)"
   ]
  },
  {
   "cell_type": "code",
   "execution_count": 49,
   "metadata": {},
   "outputs": [
    {
     "data": {
      "text/plain": [
       "price                   0\n",
       "vehicletype         37490\n",
       "registrationyear        0\n",
       "gearbox             19833\n",
       "power                   0\n",
       "model               19705\n",
       "kilometer               0\n",
       "fueltype            32895\n",
       "brand                   0\n",
       "repaired            71154\n",
       "dtype: int64"
      ]
     },
     "execution_count": 49,
     "metadata": {},
     "output_type": "execute_result"
    }
   ],
   "source": [
    "data.isna().sum()"
   ]
  },
  {
   "cell_type": "code",
   "execution_count": 50,
   "metadata": {},
   "outputs": [
    {
     "data": {
      "text/html": [
       "<div>\n",
       "<style scoped>\n",
       "    .dataframe tbody tr th:only-of-type {\n",
       "        vertical-align: middle;\n",
       "    }\n",
       "\n",
       "    .dataframe tbody tr th {\n",
       "        vertical-align: top;\n",
       "    }\n",
       "\n",
       "    .dataframe thead th {\n",
       "        text-align: right;\n",
       "    }\n",
       "</style>\n",
       "<table border=\"1\" class=\"dataframe\">\n",
       "  <thead>\n",
       "    <tr style=\"text-align: right;\">\n",
       "      <th></th>\n",
       "      <th>price</th>\n",
       "      <th>registrationyear</th>\n",
       "      <th>power</th>\n",
       "      <th>kilometer</th>\n",
       "    </tr>\n",
       "  </thead>\n",
       "  <tbody>\n",
       "    <tr>\n",
       "      <th>count</th>\n",
       "      <td>354365.000000</td>\n",
       "      <td>354365.000000</td>\n",
       "      <td>354365.000000</td>\n",
       "      <td>354365.000000</td>\n",
       "    </tr>\n",
       "    <tr>\n",
       "      <th>mean</th>\n",
       "      <td>4416.679830</td>\n",
       "      <td>2004.234481</td>\n",
       "      <td>110.093816</td>\n",
       "      <td>128211.363989</td>\n",
       "    </tr>\n",
       "    <tr>\n",
       "      <th>std</th>\n",
       "      <td>4514.176349</td>\n",
       "      <td>90.228466</td>\n",
       "      <td>189.851330</td>\n",
       "      <td>37905.083858</td>\n",
       "    </tr>\n",
       "    <tr>\n",
       "      <th>min</th>\n",
       "      <td>0.000000</td>\n",
       "      <td>1000.000000</td>\n",
       "      <td>0.000000</td>\n",
       "      <td>5000.000000</td>\n",
       "    </tr>\n",
       "    <tr>\n",
       "      <th>25%</th>\n",
       "      <td>1050.000000</td>\n",
       "      <td>1999.000000</td>\n",
       "      <td>69.000000</td>\n",
       "      <td>125000.000000</td>\n",
       "    </tr>\n",
       "    <tr>\n",
       "      <th>50%</th>\n",
       "      <td>2700.000000</td>\n",
       "      <td>2003.000000</td>\n",
       "      <td>105.000000</td>\n",
       "      <td>150000.000000</td>\n",
       "    </tr>\n",
       "    <tr>\n",
       "      <th>75%</th>\n",
       "      <td>6400.000000</td>\n",
       "      <td>2008.000000</td>\n",
       "      <td>143.000000</td>\n",
       "      <td>150000.000000</td>\n",
       "    </tr>\n",
       "    <tr>\n",
       "      <th>max</th>\n",
       "      <td>20000.000000</td>\n",
       "      <td>9999.000000</td>\n",
       "      <td>20000.000000</td>\n",
       "      <td>150000.000000</td>\n",
       "    </tr>\n",
       "  </tbody>\n",
       "</table>\n",
       "</div>"
      ],
      "text/plain": [
       "               price  registrationyear          power      kilometer\n",
       "count  354365.000000     354365.000000  354365.000000  354365.000000\n",
       "mean     4416.679830       2004.234481     110.093816  128211.363989\n",
       "std      4514.176349         90.228466     189.851330   37905.083858\n",
       "min         0.000000       1000.000000       0.000000    5000.000000\n",
       "25%      1050.000000       1999.000000      69.000000  125000.000000\n",
       "50%      2700.000000       2003.000000     105.000000  150000.000000\n",
       "75%      6400.000000       2008.000000     143.000000  150000.000000\n",
       "max     20000.000000       9999.000000   20000.000000  150000.000000"
      ]
     },
     "execution_count": 50,
     "metadata": {},
     "output_type": "execute_result"
    }
   ],
   "source": [
    "data.describe()"
   ]
  },
  {
   "cell_type": "code",
   "execution_count": 51,
   "metadata": {},
   "outputs": [],
   "source": [
    "quant_columns = data.select_dtypes(include='number').columns.tolist()"
   ]
  },
  {
   "cell_type": "code",
   "execution_count": 52,
   "metadata": {},
   "outputs": [
    {
     "data": {
      "image/png": "[encoded data removed]",
      "text/plain": [
       "<Figure size 1152x576 with 2 Axes>"
      ]
     },
     "metadata": {
      "needs_background": "light"
     },
     "output_type": "display_data"
    },
    {
     "data": {
      "image/png": "[encoded data removed]",
      "text/plain": [
       "<Figure size 1152x576 with 2 Axes>"
      ]
     },
     "metadata": {
      "needs_background": "light"
     },
     "output_type": "display_data"
    },
    {
     "data": {
      "image/png": "[encoded data removed]",
      "text/plain": [
       "<Figure size 1152x576 with 2 Axes>"
      ]
     },
     "metadata": {
      "needs_background": "light"
     },
     "output_type": "display_data"
    },
    {
     "data": {
      "image/png": "[encoded data removed]",
      "text/plain": [
       "<Figure size 1152x576 with 2 Axes>"
      ]
     },
     "metadata": {
      "needs_background": "light"
     },
     "output_type": "display_data"
    }
   ],
   "source": [
    "for i in quant_columns:\n",
    "    fig, axs = plt.subplots(nrows= 1 , ncols= 2, figsize = (16,8))\n",
    "    sns.histplot(data = data,x = i, ax=axs[0], bins = 30, kde=True)\n",
    "    axs[0].set_xlabel(i)\n",
    "    axs[0].set_ylabel('Количество')\n",
    "    axs[0].set_title('Гистограмма')\n",
    "    axs[0].grid(True)\n",
    "    sns.boxplot(data = data,x = i, ax=axs[1])\n",
    "    axs[1].set_xlabel(i)\n",
    "    axs[1].set_title('Диаграмма размаха')\n",
    "    fig.suptitle(i)\n",
    "    plt.tight_layout()\n",
    "    plt.show()"
   ]
  },
  {
   "cell_type": "code",
   "execution_count": 53,
   "metadata": {},
   "outputs": [
    {
     "data": {
      "text/plain": [
       "23163"
      ]
     },
     "execution_count": 53,
     "metadata": {},
     "output_type": "execute_result"
    }
   ],
   "source": [
    "len(data.query('price<300'))"
   ]
  },
  {
   "cell_type": "code",
   "execution_count": 54,
   "metadata": {},
   "outputs": [],
   "source": [
    "# убираем нулевые и околонулевые цены, чтобы не портить качество моделей\n",
    "data = data.query('price>300')"
   ]
  },
  {
   "cell_type": "code",
   "execution_count": 55,
   "metadata": {},
   "outputs": [
    {
     "data": {
      "text/plain": [
       "36167"
      ]
     },
     "execution_count": 55,
     "metadata": {},
     "output_type": "execute_result"
    }
   ],
   "source": [
    "len(data.query('power>1000 or power<50'))"
   ]
  },
  {
   "cell_type": "code",
   "execution_count": 56,
   "metadata": {},
   "outputs": [],
   "source": [
    "# убираем околонулевые мощности и мощности свыше 1000 сил, так как они кажутся неправдоподобыми\n",
    "data = data.query('power<1000 and power>50')"
   ]
  },
  {
   "cell_type": "code",
   "execution_count": 57,
   "metadata": {},
   "outputs": [
    {
     "data": {
      "text/plain": [
       "86"
      ]
     },
     "execution_count": 57,
     "metadata": {},
     "output_type": "execute_result"
    }
   ],
   "source": [
    "len(data.query('registrationyear>2025 or registrationyear<1960'))"
   ]
  },
  {
   "cell_type": "code",
   "execution_count": 58,
   "metadata": {},
   "outputs": [],
   "source": [
    "# убираем неправдоподобные даты(начинались с 1000г и доходили до 9999г)\n",
    "data = data.query('registrationyear<2025 and registrationyear>1960')"
   ]
  },
  {
   "cell_type": "code",
   "execution_count": 59,
   "metadata": {},
   "outputs": [
    {
     "data": {
      "text/plain": [
       "10841"
      ]
     },
     "execution_count": 59,
     "metadata": {},
     "output_type": "execute_result"
    }
   ],
   "source": [
    "len(data.query('model.isna()==1'))"
   ]
  },
  {
   "cell_type": "code",
   "execution_count": 60,
   "metadata": {},
   "outputs": [],
   "source": [
    "# убираем пропущенные значения моделей, так как восстановить данные невозможно, а они сильно влияют на цену\n",
    "data = data.query('model.isna()==0')"
   ]
  },
  {
   "cell_type": "code",
   "execution_count": 61,
   "metadata": {},
   "outputs": [],
   "source": [
    "#пропуски заполняем заглушкой\n",
    "data['repaired'] = data['repaired'].fillna('unknown')"
   ]
  },
  {
   "cell_type": "code",
   "execution_count": 62,
   "metadata": {},
   "outputs": [],
   "source": [
    "data['vehicletype'] = data['vehicletype'].fillna(\n",
    "    data.groupby('model')['vehicletype']\n",
    "        .transform(lambda x: x.value_counts().idxmax())\n",
    ")"
   ]
  },
  {
   "cell_type": "code",
   "execution_count": 63,
   "metadata": {},
   "outputs": [],
   "source": [
    "data['gearbox'] = data['gearbox'].fillna(\n",
    "    data.groupby('model')['gearbox']\n",
    "        .transform(lambda x: x.value_counts().idxmax())\n",
    ")"
   ]
  },
  {
   "cell_type": "code",
   "execution_count": 64,
   "metadata": {},
   "outputs": [],
   "source": [
    "data['fueltype'] = data['fueltype'].fillna(\n",
    "    data.groupby('model')['fueltype']\n",
    "        .transform(lambda x: x.value_counts().idxmax())\n",
    ")"
   ]
  },
  {
   "cell_type": "markdown",
   "metadata": {},
   "source": [
    "vehicletype, gearbox, fueltype заполняем наиболее частыми значениями встречающимися у моделей."
   ]
  },
  {
   "cell_type": "code",
   "execution_count": 65,
   "metadata": {},
   "outputs": [
    {
     "data": {
      "text/plain": [
       "price               0\n",
       "vehicletype         0\n",
       "registrationyear    0\n",
       "gearbox             0\n",
       "power               0\n",
       "model               0\n",
       "kilometer           0\n",
       "fueltype            0\n",
       "brand               0\n",
       "repaired            0\n",
       "dtype: int64"
      ]
     },
     "execution_count": 65,
     "metadata": {},
     "output_type": "execute_result"
    }
   ],
   "source": [
    "data.isna().sum()"
   ]
  },
  {
   "cell_type": "code",
   "execution_count": 66,
   "metadata": {},
   "outputs": [
    {
     "name": "stdout",
     "output_type": "stream",
     "text": [
      "<class 'pandas.core.frame.DataFrame'>\n",
      "Int64Index: 277329 entries, 2 to 354368\n",
      "Data columns (total 10 columns):\n",
      " #   Column            Non-Null Count   Dtype \n",
      "---  ------            --------------   ----- \n",
      " 0   price             277329 non-null  int64 \n",
      " 1   vehicletype       277329 non-null  object\n",
      " 2   registrationyear  277329 non-null  int64 \n",
      " 3   gearbox           277329 non-null  object\n",
      " 4   power             277329 non-null  int64 \n",
      " 5   model             277329 non-null  object\n",
      " 6   kilometer         277329 non-null  int64 \n",
      " 7   fueltype          277329 non-null  object\n",
      " 8   brand             277329 non-null  object\n",
      " 9   repaired          277329 non-null  object\n",
      "dtypes: int64(4), object(6)\n",
      "memory usage: 23.3+ MB\n"
     ]
    }
   ],
   "source": [
    "data.info()"
   ]
  },
  {
   "cell_type": "markdown",
   "metadata": {},
   "source": [
    "Загрузили библиотеки, объявили константы. Проведена предобработка данных. Удалены дубликаты и аномальные значения."
   ]
  },
  {
   "cell_type": "markdown",
   "metadata": {},
   "source": [
    "## Обучение моделей"
   ]
  },
  {
   "cell_type": "markdown",
   "metadata": {},
   "source": [
    "### LinearRegression"
   ]
  },
  {
   "cell_type": "code",
   "execution_count": 67,
   "metadata": {},
   "outputs": [],
   "source": [
    "X = data.drop(['price'], axis=1)\n",
    "y = data['price']"
   ]
  },
  {
   "cell_type": "code",
   "execution_count": 68,
   "metadata": {},
   "outputs": [],
   "source": [
    "X_train, X_test, y_train, y_test = train_test_split(X, y, test_size=0.2, random_state=1)"
   ]
  },
  {
   "cell_type": "code",
   "execution_count": 69,
   "metadata": {},
   "outputs": [],
   "source": [
    "cat_col_names = ['vehicletype', 'gearbox', 'model', 'fueltype', 'brand', 'repaired']\n",
    "num_col_names = ['power', 'kilometer', 'registrationyear']"
   ]
  },
  {
   "cell_type": "code",
   "execution_count": 70,
   "metadata": {},
   "outputs": [],
   "source": [
    "encoder = OneHotEncoder(drop='first', sparse=False)\n",
    "X_train_ohe = encoder.fit_transform(X_train[cat_col_names])\n",
    "X_test_ohe = encoder.transform(X_test[cat_col_names])\n",
    "encoder_col_names = encoder.get_feature_names(cat_col_names)\n",
    "X_train_ohe = pd.DataFrame(X_train_ohe, columns=encoder_col_names)\n",
    "X_test_ohe = pd.DataFrame(X_test_ohe, columns=encoder_col_names)"
   ]
  },
  {
   "cell_type": "code",
   "execution_count": 71,
   "metadata": {},
   "outputs": [],
   "source": [
    "scaler = StandardScaler()\n",
    "X_train_scaled = scaler.fit_transform(X_train[num_col_names])\n",
    "X_test_scaled = scaler.transform(X_test[num_col_names])\n",
    "X_train_scaled = pd.DataFrame(X_train_scaled, columns=num_col_names)\n",
    "X_test_scaled = pd.DataFrame(X_test_scaled, columns=num_col_names)"
   ]
  },
  {
   "cell_type": "code",
   "execution_count": 72,
   "metadata": {},
   "outputs": [],
   "source": [
    "X_train_preprocessed = pd.concat([X_train_ohe, X_train_scaled], axis=1)\n",
    "X_test_preprocessed = pd.concat([X_test_ohe, X_test_scaled], axis=1)"
   ]
  },
  {
   "cell_type": "code",
   "execution_count": 73,
   "metadata": {},
   "outputs": [],
   "source": [
    "lr_model = LinearRegression()"
   ]
  },
  {
   "cell_type": "code",
   "execution_count": 74,
   "metadata": {},
   "outputs": [
    {
     "name": "stdout",
     "output_type": "stream",
     "text": [
      "RMSE для LinearRegression = 2621.5736101192747\n"
     ]
    }
   ],
   "source": [
    "#находим RMSE\n",
    "mse = cross_val_score(lr_model, X_train_preprocessed, y_train, cv=5, scoring='neg_mean_squared_error')\n",
    "print('RMSE для LinearRegression =',(-mse).mean()**0.5)"
   ]
  },
  {
   "cell_type": "code",
   "execution_count": 75,
   "metadata": {},
   "outputs": [
    {
     "name": "stdout",
     "output_type": "stream",
     "text": [
      "CPU times: user 14.8 s, sys: 3.77 s, total: 18.6 s\n",
      "Wall time: 18.6 s\n"
     ]
    },
    {
     "data": {
      "text/plain": [
       "LinearRegression()"
      ]
     },
     "execution_count": 75,
     "metadata": {},
     "output_type": "execute_result"
    }
   ],
   "source": [
    "%%time\n",
    "lr_model.fit(X_train_preprocessed, y_train) # Время обучения"
   ]
  },
  {
   "cell_type": "code",
   "execution_count": 76,
   "metadata": {},
   "outputs": [
    {
     "name": "stdout",
     "output_type": "stream",
     "text": [
      "CPU times: user 181 ms, sys: 14 ms, total: 195 ms\n",
      "Wall time: 194 ms\n"
     ]
    }
   ],
   "source": [
    "%%time\n",
    "y_pred_lr = lr_model.predict(X_train_preprocessed) # Вреся предсказания"
   ]
  },
  {
   "cell_type": "markdown",
   "metadata": {},
   "source": [
    "### DecisionTreeRegressor"
   ]
  },
  {
   "cell_type": "code",
   "execution_count": 77,
   "metadata": {},
   "outputs": [],
   "source": [
    "encoder = OrdinalEncoder(handle_unknown='use_encoded_value', unknown_value=-1)\n",
    "X_train_ord = encoder.fit_transform(X_train[cat_col_names])\n",
    "X_test_ord = encoder.transform(X_test[cat_col_names])\n",
    "X_train_ord = pd.DataFrame(X_train_ord, columns=cat_col_names)\n",
    "X_test_ord = pd.DataFrame(X_test_ord, columns=cat_col_names)"
   ]
  },
  {
   "cell_type": "code",
   "execution_count": 78,
   "metadata": {},
   "outputs": [],
   "source": [
    "X_train_preprocessed = pd.concat([X_train_ord, X_train_scaled], axis=1)\n",
    "X_test_preprocessed = pd.concat([X_test_ord, X_test_scaled], axis=1)"
   ]
  },
  {
   "cell_type": "code",
   "execution_count": 81,
   "metadata": {},
   "outputs": [],
   "source": [
    "dt_model = DecisionTreeRegressor(random_state=42)"
   ]
  },
  {
   "cell_type": "code",
   "execution_count": 82,
   "metadata": {},
   "outputs": [
    {
     "name": "stdout",
     "output_type": "stream",
     "text": [
      "CPU times: user 824 ms, sys: 0 ns, total: 824 ms\n",
      "Wall time: 826 ms\n"
     ]
    },
    {
     "data": {
      "text/plain": [
       "DecisionTreeRegressor(random_state=42)"
      ]
     },
     "execution_count": 82,
     "metadata": {},
     "output_type": "execute_result"
    }
   ],
   "source": [
    "\n",
    "%%time\n",
    "dt_model.fit(X_train_preprocessed, y_train) # Время обучения"
   ]
  },
  {
   "cell_type": "code",
   "execution_count": 83,
   "metadata": {},
   "outputs": [],
   "source": [
    "dt_model = DecisionTreeRegressor(random_state=42)"
   ]
  },
  {
   "cell_type": "code",
   "execution_count": 84,
   "metadata": {},
   "outputs": [],
   "source": [
    "param_dt = {\n",
    "    'max_depth': range(2,15),\n",
    "    'min_samples_split': range(2,20),\n",
    "    'min_samples_leaf': range(2,10),\n",
    "}\n"
   ]
  },
  {
   "cell_type": "code",
   "execution_count": 85,
   "metadata": {},
   "outputs": [],
   "source": [
    "random_search_dt = RandomizedSearchCV(\n",
    "    dt_model,\n",
    "    param_dt, \n",
    "    n_iter=10, \n",
    "    cv=3, \n",
    "    scoring='neg_mean_squared_error',\n",
    "    verbose=10,\n",
    "    n_jobs=-1)"
   ]
  },
  {
   "cell_type": "code",
   "execution_count": 86,
   "metadata": {
    "scrolled": true
   },
   "outputs": [
    {
     "name": "stdout",
     "output_type": "stream",
     "text": [
      "Fitting 3 folds for each of 10 candidates, totalling 30 fits\n",
      "[CV 1/3; 1/10] START max_depth=8, min_samples_leaf=4, min_samples_split=6.......\n",
      "[CV 1/3; 1/10] END max_depth=8, min_samples_leaf=4, min_samples_split=6; total time=   0.3s\n",
      "[CV 2/3; 1/10] START max_depth=8, min_samples_leaf=4, min_samples_split=6.......\n",
      "[CV 2/3; 1/10] END max_depth=8, min_samples_leaf=4, min_samples_split=6; total time=   0.2s\n",
      "[CV 3/3; 1/10] START max_depth=8, min_samples_leaf=4, min_samples_split=6.......\n",
      "[CV 3/3; 1/10] END max_depth=8, min_samples_leaf=4, min_samples_split=6; total time=   0.3s\n",
      "[CV 1/3; 2/10] START max_depth=11, min_samples_leaf=5, min_samples_split=2......\n",
      "[CV 1/3; 2/10] END max_depth=11, min_samples_leaf=5, min_samples_split=2; total time=   0.3s\n",
      "[CV 2/3; 2/10] START max_depth=11, min_samples_leaf=5, min_samples_split=2......\n",
      "[CV 2/3; 2/10] END max_depth=11, min_samples_leaf=5, min_samples_split=2; total time=   0.3s\n",
      "[CV 3/3; 2/10] START max_depth=11, min_samples_leaf=5, min_samples_split=2......\n",
      "[CV 3/3; 2/10] END max_depth=11, min_samples_leaf=5, min_samples_split=2; total time=   0.3s\n",
      "[CV 1/3; 3/10] START max_depth=4, min_samples_leaf=4, min_samples_split=13......\n",
      "[CV 1/3; 3/10] END max_depth=4, min_samples_leaf=4, min_samples_split=13; total time=   0.2s\n",
      "[CV 2/3; 3/10] START max_depth=4, min_samples_leaf=4, min_samples_split=13......\n",
      "[CV 2/3; 3/10] END max_depth=4, min_samples_leaf=4, min_samples_split=13; total time=   0.2s\n",
      "[CV 3/3; 3/10] START max_depth=4, min_samples_leaf=4, min_samples_split=13......\n",
      "[CV 3/3; 3/10] END max_depth=4, min_samples_leaf=4, min_samples_split=13; total time=   0.2s\n",
      "[CV 1/3; 4/10] START max_depth=10, min_samples_leaf=2, min_samples_split=6......\n",
      "[CV 1/3; 4/10] END max_depth=10, min_samples_leaf=2, min_samples_split=6; total time=   0.7s\n",
      "[CV 2/3; 4/10] START max_depth=10, min_samples_leaf=2, min_samples_split=6......\n",
      "[CV 2/3; 4/10] END max_depth=10, min_samples_leaf=2, min_samples_split=6; total time=   0.3s\n",
      "[CV 3/3; 4/10] START max_depth=10, min_samples_leaf=2, min_samples_split=6......\n",
      "[CV 3/3; 4/10] END max_depth=10, min_samples_leaf=2, min_samples_split=6; total time=   0.3s\n",
      "[CV 1/3; 5/10] START max_depth=10, min_samples_leaf=7, min_samples_split=12.....\n",
      "[CV 1/3; 5/10] END max_depth=10, min_samples_leaf=7, min_samples_split=12; total time=   0.3s\n",
      "[CV 2/3; 5/10] START max_depth=10, min_samples_leaf=7, min_samples_split=12.....\n",
      "[CV 2/3; 5/10] END max_depth=10, min_samples_leaf=7, min_samples_split=12; total time=   0.3s\n",
      "[CV 3/3; 5/10] START max_depth=10, min_samples_leaf=7, min_samples_split=12.....\n",
      "[CV 3/3; 5/10] END max_depth=10, min_samples_leaf=7, min_samples_split=12; total time=   0.3s\n",
      "[CV 1/3; 6/10] START max_depth=10, min_samples_leaf=5, min_samples_split=8......\n",
      "[CV 1/3; 6/10] END max_depth=10, min_samples_leaf=5, min_samples_split=8; total time=   0.3s\n",
      "[CV 2/3; 6/10] START max_depth=10, min_samples_leaf=5, min_samples_split=8......\n",
      "[CV 2/3; 6/10] END max_depth=10, min_samples_leaf=5, min_samples_split=8; total time=   0.3s\n",
      "[CV 3/3; 6/10] START max_depth=10, min_samples_leaf=5, min_samples_split=8......\n",
      "[CV 3/3; 6/10] END max_depth=10, min_samples_leaf=5, min_samples_split=8; total time=   0.3s\n",
      "[CV 1/3; 7/10] START max_depth=10, min_samples_leaf=5, min_samples_split=17.....\n",
      "[CV 1/3; 7/10] END max_depth=10, min_samples_leaf=5, min_samples_split=17; total time=   0.3s\n",
      "[CV 2/3; 7/10] START max_depth=10, min_samples_leaf=5, min_samples_split=17.....\n",
      "[CV 2/3; 7/10] END max_depth=10, min_samples_leaf=5, min_samples_split=17; total time=   0.3s\n",
      "[CV 3/3; 7/10] START max_depth=10, min_samples_leaf=5, min_samples_split=17.....\n",
      "[CV 3/3; 7/10] END max_depth=10, min_samples_leaf=5, min_samples_split=17; total time=   0.3s\n",
      "[CV 1/3; 8/10] START max_depth=3, min_samples_leaf=6, min_samples_split=13......\n",
      "[CV 1/3; 8/10] END max_depth=3, min_samples_leaf=6, min_samples_split=13; total time=   0.1s\n",
      "[CV 2/3; 8/10] START max_depth=3, min_samples_leaf=6, min_samples_split=13......\n",
      "[CV 2/3; 8/10] END max_depth=3, min_samples_leaf=6, min_samples_split=13; total time=   0.1s\n",
      "[CV 3/3; 8/10] START max_depth=3, min_samples_leaf=6, min_samples_split=13......\n",
      "[CV 3/3; 8/10] END max_depth=3, min_samples_leaf=6, min_samples_split=13; total time=   0.1s\n",
      "[CV 1/3; 9/10] START max_depth=2, min_samples_leaf=9, min_samples_split=3.......\n",
      "[CV 1/3; 9/10] END max_depth=2, min_samples_leaf=9, min_samples_split=3; total time=   0.1s\n",
      "[CV 2/3; 9/10] START max_depth=2, min_samples_leaf=9, min_samples_split=3.......\n",
      "[CV 2/3; 9/10] END max_depth=2, min_samples_leaf=9, min_samples_split=3; total time=   0.1s\n",
      "[CV 3/3; 9/10] START max_depth=2, min_samples_leaf=9, min_samples_split=3.......\n",
      "[CV 3/3; 9/10] END max_depth=2, min_samples_leaf=9, min_samples_split=3; total time=   0.1s\n",
      "[CV 1/3; 10/10] START max_depth=4, min_samples_leaf=2, min_samples_split=11.....\n",
      "[CV 1/3; 10/10] END max_depth=4, min_samples_leaf=2, min_samples_split=11; total time=   0.1s\n",
      "[CV 2/3; 10/10] START max_depth=4, min_samples_leaf=2, min_samples_split=11.....\n",
      "[CV 2/3; 10/10] END max_depth=4, min_samples_leaf=2, min_samples_split=11; total time=   0.1s\n",
      "[CV 3/3; 10/10] START max_depth=4, min_samples_leaf=2, min_samples_split=11.....\n",
      "[CV 3/3; 10/10] END max_depth=4, min_samples_leaf=2, min_samples_split=11; total time=   0.1s\n"
     ]
    },
    {
     "data": {
      "text/plain": [
       "RandomizedSearchCV(cv=3, estimator=DecisionTreeRegressor(random_state=42),\n",
       "                   n_jobs=-1,\n",
       "                   param_distributions={'max_depth': range(2, 15),\n",
       "                                        'min_samples_leaf': range(2, 10),\n",
       "                                        'min_samples_split': range(2, 20)},\n",
       "                   scoring='neg_mean_squared_error', verbose=10)"
      ]
     },
     "execution_count": 86,
     "metadata": {},
     "output_type": "execute_result"
    }
   ],
   "source": [
    "random_search_dt.fit(X_train_preprocessed, y_train)"
   ]
  },
  {
   "cell_type": "code",
   "execution_count": 87,
   "metadata": {},
   "outputs": [
    {
     "data": {
      "text/html": [
       "<div>\n",
       "<style scoped>\n",
       "    .dataframe tbody tr th:only-of-type {\n",
       "        vertical-align: middle;\n",
       "    }\n",
       "\n",
       "    .dataframe tbody tr th {\n",
       "        vertical-align: top;\n",
       "    }\n",
       "\n",
       "    .dataframe thead th {\n",
       "        text-align: right;\n",
       "    }\n",
       "</style>\n",
       "<table border=\"1\" class=\"dataframe\">\n",
       "  <thead>\n",
       "    <tr style=\"text-align: right;\">\n",
       "      <th></th>\n",
       "      <th>params</th>\n",
       "      <th>std_test_score</th>\n",
       "      <th>mean_test_score</th>\n",
       "      <th>mean_fit_time</th>\n",
       "    </tr>\n",
       "  </thead>\n",
       "  <tbody>\n",
       "    <tr>\n",
       "      <th>1</th>\n",
       "      <td>{'min_samples_split': 2, 'min_samples_leaf': 5, 'max_depth': 11}</td>\n",
       "      <td>51083.911614</td>\n",
       "      <td>-3.764999e+06</td>\n",
       "      <td>0.316352</td>\n",
       "    </tr>\n",
       "    <tr>\n",
       "      <th>4</th>\n",
       "      <td>{'min_samples_split': 12, 'min_samples_leaf': 7, 'max_depth': 10}</td>\n",
       "      <td>41403.945402</td>\n",
       "      <td>-3.957656e+06</td>\n",
       "      <td>0.293932</td>\n",
       "    </tr>\n",
       "    <tr>\n",
       "      <th>6</th>\n",
       "      <td>{'min_samples_split': 17, 'min_samples_leaf': 5, 'max_depth': 10}</td>\n",
       "      <td>37249.586258</td>\n",
       "      <td>-3.960380e+06</td>\n",
       "      <td>0.293972</td>\n",
       "    </tr>\n",
       "  </tbody>\n",
       "</table>\n",
       "</div>"
      ],
      "text/plain": [
       "                                                              params  \\\n",
       "1   {'min_samples_split': 2, 'min_samples_leaf': 5, 'max_depth': 11}   \n",
       "4  {'min_samples_split': 12, 'min_samples_leaf': 7, 'max_depth': 10}   \n",
       "6  {'min_samples_split': 17, 'min_samples_leaf': 5, 'max_depth': 10}   \n",
       "\n",
       "   std_test_score  mean_test_score  mean_fit_time  \n",
       "1    51083.911614    -3.764999e+06       0.316352  \n",
       "4    41403.945402    -3.957656e+06       0.293932  \n",
       "6    37249.586258    -3.960380e+06       0.293972  "
      ]
     },
     "execution_count": 87,
     "metadata": {},
     "output_type": "execute_result"
    }
   ],
   "source": [
    "pd.set_option('display.max_colwidth', None)\n",
    "pd.DataFrame(random_search_dt.cv_results_)[\n",
    "    ['params', 'std_test_score', 'mean_test_score','mean_fit_time']\n",
    "].sort_values('mean_test_score', ascending=False).head(3)"
   ]
  },
  {
   "cell_type": "code",
   "execution_count": 88,
   "metadata": {},
   "outputs": [
    {
     "name": "stdout",
     "output_type": "stream",
     "text": [
      "RMSE для DecisionTreeRegressor = 1940.3606145501265\n"
     ]
    }
   ],
   "source": [
    "# RMSE модели\n",
    "mse = -(random_search_dt.best_score_)\n",
    "print('RMSE для DecisionTreeRegressor =', mse**0.5)"
   ]
  },
  {
   "cell_type": "code",
   "execution_count": 89,
   "metadata": {},
   "outputs": [
    {
     "name": "stdout",
     "output_type": "stream",
     "text": [
      "CPU times: user 29.1 ms, sys: 0 ns, total: 29.1 ms\n",
      "Wall time: 28.4 ms\n"
     ]
    }
   ],
   "source": [
    "\n",
    "%%time\n",
    "y_pred_dt = random_search_dt.best_estimator_.predict(X_train_preprocessed) # Время предсказания"
   ]
  },
  {
   "cell_type": "markdown",
   "metadata": {},
   "source": [
    "### LightGBM"
   ]
  },
  {
   "cell_type": "code",
   "execution_count": 90,
   "metadata": {},
   "outputs": [],
   "source": [
    "param_lgbm  = {\n",
    "    'learning_rate': [0.5],\n",
    "    'max_depth': [3, 5, 7]}"
   ]
  },
  {
   "cell_type": "code",
   "execution_count": 91,
   "metadata": {},
   "outputs": [],
   "source": [
    "lgbm = LGBMRegressor(n_estimators=50, random_state=42)"
   ]
  },
  {
   "cell_type": "code",
   "execution_count": 92,
   "metadata": {},
   "outputs": [
    {
     "name": "stdout",
     "output_type": "stream",
     "text": [
      "CPU times: user 3.26 s, sys: 0 ns, total: 3.26 s\n",
      "Wall time: 3.26 s\n"
     ]
    },
    {
     "data": {
      "text/plain": [
       "LGBMRegressor(n_estimators=50, random_state=42)"
      ]
     },
     "execution_count": 92,
     "metadata": {},
     "output_type": "execute_result"
    }
   ],
   "source": [
    "%%time\n",
    "lgbm.fit(X_train_preprocessed, y_train) # Время обучения"
   ]
  },
  {
   "cell_type": "code",
   "execution_count": 93,
   "metadata": {},
   "outputs": [],
   "source": [
    "lgbm = LGBMRegressor(n_estimators=50, random_state=42)"
   ]
  },
  {
   "cell_type": "code",
   "execution_count": 94,
   "metadata": {},
   "outputs": [],
   "source": [
    "random_search_lgbm = RandomizedSearchCV(\n",
    "    lgbm,\n",
    "    param_lgbm,\n",
    "    scoring='neg_mean_squared_error',\n",
    "    cv=2,\n",
    "    n_iter=3,\n",
    "    verbose=10,\n",
    "    n_jobs=-1\n",
    ")"
   ]
  },
  {
   "cell_type": "code",
   "execution_count": 95,
   "metadata": {
    "scrolled": true
   },
   "outputs": [
    {
     "name": "stdout",
     "output_type": "stream",
     "text": [
      "Fitting 2 folds for each of 3 candidates, totalling 6 fits\n",
      "[CV 1/2; 1/3] START learning_rate=0.5, max_depth=3..............................\n",
      "[CV 1/2; 1/3] END ............learning_rate=0.5, max_depth=3; total time=   1.2s\n",
      "[CV 2/2; 1/3] START learning_rate=0.5, max_depth=3..............................\n",
      "[CV 2/2; 1/3] END ............learning_rate=0.5, max_depth=3; total time=   1.3s\n",
      "[CV 1/2; 2/3] START learning_rate=0.5, max_depth=5..............................\n",
      "[CV 1/2; 2/3] END ............learning_rate=0.5, max_depth=5; total time=   1.7s\n",
      "[CV 2/2; 2/3] START learning_rate=0.5, max_depth=5..............................\n",
      "[CV 2/2; 2/3] END ............learning_rate=0.5, max_depth=5; total time=   1.7s\n",
      "[CV 1/2; 3/3] START learning_rate=0.5, max_depth=7..............................\n",
      "[CV 1/2; 3/3] END ............learning_rate=0.5, max_depth=7; total time=   2.1s\n",
      "[CV 2/2; 3/3] START learning_rate=0.5, max_depth=7..............................\n",
      "[CV 2/2; 3/3] END ............learning_rate=0.5, max_depth=7; total time=   1.8s\n"
     ]
    },
    {
     "data": {
      "text/plain": [
       "RandomizedSearchCV(cv=2,\n",
       "                   estimator=LGBMRegressor(n_estimators=50, random_state=42),\n",
       "                   n_iter=3, n_jobs=-1,\n",
       "                   param_distributions={'learning_rate': [0.5],\n",
       "                                        'max_depth': [3, 5, 7]},\n",
       "                   scoring='neg_mean_squared_error', verbose=10)"
      ]
     },
     "execution_count": 95,
     "metadata": {},
     "output_type": "execute_result"
    }
   ],
   "source": [
    "random_search_lgbm.fit(X_train_preprocessed, y_train)"
   ]
  },
  {
   "cell_type": "code",
   "execution_count": 96,
   "metadata": {},
   "outputs": [
    {
     "data": {
      "text/html": [
       "<div>\n",
       "<style scoped>\n",
       "    .dataframe tbody tr th:only-of-type {\n",
       "        vertical-align: middle;\n",
       "    }\n",
       "\n",
       "    .dataframe tbody tr th {\n",
       "        vertical-align: top;\n",
       "    }\n",
       "\n",
       "    .dataframe thead th {\n",
       "        text-align: right;\n",
       "    }\n",
       "</style>\n",
       "<table border=\"1\" class=\"dataframe\">\n",
       "  <thead>\n",
       "    <tr style=\"text-align: right;\">\n",
       "      <th></th>\n",
       "      <th>params</th>\n",
       "      <th>std_test_score</th>\n",
       "      <th>mean_test_score</th>\n",
       "      <th>mean_fit_time</th>\n",
       "    </tr>\n",
       "  </thead>\n",
       "  <tbody>\n",
       "    <tr>\n",
       "      <th>2</th>\n",
       "      <td>{'max_depth': 7, 'learning_rate': 0.5}</td>\n",
       "      <td>15268.349723</td>\n",
       "      <td>-2.827123e+06</td>\n",
       "      <td>1.542045</td>\n",
       "    </tr>\n",
       "    <tr>\n",
       "      <th>1</th>\n",
       "      <td>{'max_depth': 5, 'learning_rate': 0.5}</td>\n",
       "      <td>7002.393250</td>\n",
       "      <td>-2.922512e+06</td>\n",
       "      <td>1.248772</td>\n",
       "    </tr>\n",
       "    <tr>\n",
       "      <th>0</th>\n",
       "      <td>{'max_depth': 3, 'learning_rate': 0.5}</td>\n",
       "      <td>47031.347801</td>\n",
       "      <td>-3.430451e+06</td>\n",
       "      <td>0.893694</td>\n",
       "    </tr>\n",
       "  </tbody>\n",
       "</table>\n",
       "</div>"
      ],
      "text/plain": [
       "                                   params  std_test_score  mean_test_score  \\\n",
       "2  {'max_depth': 7, 'learning_rate': 0.5}    15268.349723    -2.827123e+06   \n",
       "1  {'max_depth': 5, 'learning_rate': 0.5}     7002.393250    -2.922512e+06   \n",
       "0  {'max_depth': 3, 'learning_rate': 0.5}    47031.347801    -3.430451e+06   \n",
       "\n",
       "   mean_fit_time  \n",
       "2       1.542045  \n",
       "1       1.248772  \n",
       "0       0.893694  "
      ]
     },
     "execution_count": 96,
     "metadata": {},
     "output_type": "execute_result"
    }
   ],
   "source": [
    "pd.set_option('display.max_colwidth', None)\n",
    "pd.DataFrame(random_search_lgbm.cv_results_)[\n",
    "    ['params', 'std_test_score', 'mean_test_score','mean_fit_time']\n",
    "].sort_values('mean_test_score', ascending=False).head(3)"
   ]
  },
  {
   "cell_type": "code",
   "execution_count": 97,
   "metadata": {
    "scrolled": true
   },
   "outputs": [
    {
     "name": "stdout",
     "output_type": "stream",
     "text": [
      "RMSE для LGBMRegressor = 1681.405152706044\n"
     ]
    }
   ],
   "source": [
    "# RMSE модели\n",
    "mse = -(random_search_lgbm.best_score_)\n",
    "print('RMSE для LGBMRegressor =', mse**0.5)"
   ]
  },
  {
   "cell_type": "code",
   "execution_count": 98,
   "metadata": {},
   "outputs": [
    {
     "name": "stdout",
     "output_type": "stream",
     "text": [
      "CPU times: user 769 ms, sys: 0 ns, total: 769 ms\n",
      "Wall time: 745 ms\n"
     ]
    }
   ],
   "source": [
    "%%time\n",
    "y_pred_lgbm = random_search_lgbm.best_estimator_.predict(X_train_preprocessed) # Время предсказания"
   ]
  },
  {
   "cell_type": "markdown",
   "metadata": {},
   "source": [
    "## Анализ моделей"
   ]
  },
  {
   "cell_type": "markdown",
   "metadata": {},
   "source": [
    "Вывод\n",
    "LinearRegression:  \n",
    "Время обучения = 18.6 s   \n",
    "Время предсказания = 194 ms  \n",
    "RMSE = 2621\n",
    "DecisionTreeRegressor:  \n",
    "RMSE = 1940 \n",
    "Время обучения модели = 826 ms   \n",
    "Время предсказания = 28.4 ms \n",
    "LightGBM:  \n",
    "RMSE = 1681  \n",
    "Время обучения = 3.26 s  \n",
    "Время предсказания = 745 ms  \n",
    "По времени предсказаний все модели справились быстро. Долгое обучение LinearRegression скорее всего связано с большим кол-вом признаков после OneHotEncoding. Лучшей моделью я выбираю LightGBM ее результаты на кросс-валидации получились более точными, хотя модель обучается и работает немного дольше"
   ]
  },
  {
   "cell_type": "code",
   "execution_count": 99,
   "metadata": {
    "scrolled": true
   },
   "outputs": [
    {
     "name": "stdout",
     "output_type": "stream",
     "text": [
      "LightGBM RMSE: 1668.441702497427\n"
     ]
    }
   ],
   "source": [
    "y_pred = random_search_lgbm.best_estimator_.predict(X_test_preprocessed)\n",
    "rmse_lgbm = mean_squared_error(y_test, y_pred,squared=False)\n",
    "print(f'LightGBM RMSE: {rmse_lgbm}')"
   ]
  },
  {
   "cell_type": "markdown",
   "metadata": {},
   "source": [
    "LightGBM справилась с задачей(RMSE<2500)."
   ]
  }
 ],
 "metadata": {
  "ExecuteTimeLog": [
   {
    "duration": 2269,
    "start_time": "2025-04-17T19:53:49.424Z"
   },
   {
    "duration": 208,
    "start_time": "2025-04-17T20:10:17.807Z"
   },
   {
    "duration": 1014,
    "start_time": "2025-04-17T20:35:58.388Z"
   },
   {
    "duration": 18,
    "start_time": "2025-04-17T20:36:08.080Z"
   },
   {
    "duration": 16,
    "start_time": "2025-04-17T20:36:12.634Z"
   },
   {
    "duration": 4,
    "start_time": "2025-04-17T20:36:33.791Z"
   },
   {
    "duration": 5,
    "start_time": "2025-04-17T20:36:44.476Z"
   },
   {
    "duration": 77,
    "start_time": "2025-04-17T20:36:51.257Z"
   },
   {
    "duration": 7,
    "start_time": "2025-04-17T20:36:55.852Z"
   },
   {
    "duration": 18,
    "start_time": "2025-04-17T20:36:59.553Z"
   },
   {
    "duration": 10,
    "start_time": "2025-04-17T20:37:08.204Z"
   },
   {
    "duration": 4,
    "start_time": "2025-04-17T20:37:20.860Z"
   },
   {
    "duration": 8,
    "start_time": "2025-04-17T20:37:24.205Z"
   },
   {
    "duration": 699,
    "start_time": "2025-04-17T20:37:41.064Z"
   },
   {
    "duration": 1024,
    "start_time": "2025-04-17T20:37:41.765Z"
   },
   {
    "duration": 19,
    "start_time": "2025-04-17T20:37:42.791Z"
   },
   {
    "duration": 17,
    "start_time": "2025-04-17T20:37:42.812Z"
   },
   {
    "duration": 15,
    "start_time": "2025-04-17T20:37:48.405Z"
   },
   {
    "duration": 160,
    "start_time": "2025-04-17T20:38:14.379Z"
   },
   {
    "duration": 181,
    "start_time": "2025-04-17T20:38:31.907Z"
   },
   {
    "duration": 650,
    "start_time": "2025-04-17T20:40:21.859Z"
   },
   {
    "duration": 608,
    "start_time": "2025-04-17T20:41:47.656Z"
   },
   {
    "duration": 579,
    "start_time": "2025-04-17T20:41:50.210Z"
   },
   {
    "duration": 89,
    "start_time": "2025-04-17T20:43:15.291Z"
   },
   {
    "duration": 409,
    "start_time": "2025-04-17T20:43:21.189Z"
   },
   {
    "duration": 76,
    "start_time": "2025-04-17T20:49:05.288Z"
   },
   {
    "duration": 3806,
    "start_time": "2025-04-17T20:49:20.630Z"
   },
   {
    "duration": 597,
    "start_time": "2025-04-17T20:49:24.439Z"
   },
   {
    "duration": 2935,
    "start_time": "2025-04-17T20:52:43.209Z"
   },
   {
    "duration": 1289,
    "start_time": "2025-04-17T20:52:46.146Z"
   },
   {
    "duration": 1090,
    "start_time": "2025-04-17T20:52:47.437Z"
   },
   {
    "duration": 22,
    "start_time": "2025-04-17T20:52:48.529Z"
   },
   {
    "duration": 207,
    "start_time": "2025-04-17T20:52:48.554Z"
   },
   {
    "duration": 25,
    "start_time": "2025-04-17T20:52:48.762Z"
   },
   {
    "duration": 174,
    "start_time": "2025-04-17T20:52:48.794Z"
   },
   {
    "duration": 636,
    "start_time": "2025-04-17T20:52:48.970Z"
   },
   {
    "duration": 680,
    "start_time": "2025-04-17T20:52:49.608Z"
   },
   {
    "duration": 78,
    "start_time": "2025-04-17T20:52:50.291Z"
   },
   {
    "duration": 95,
    "start_time": "2025-04-17T20:52:57.732Z"
   },
   {
    "duration": 2735,
    "start_time": "2025-04-17T20:57:47.189Z"
   },
   {
    "duration": 1280,
    "start_time": "2025-04-17T20:57:49.927Z"
   },
   {
    "duration": 1142,
    "start_time": "2025-04-17T20:57:51.209Z"
   },
   {
    "duration": 46,
    "start_time": "2025-04-17T20:57:52.353Z"
   },
   {
    "duration": 172,
    "start_time": "2025-04-17T20:57:52.403Z"
   },
   {
    "duration": 5,
    "start_time": "2025-04-17T20:57:52.581Z"
   },
   {
    "duration": 184,
    "start_time": "2025-04-17T20:57:52.588Z"
   },
   {
    "duration": 621,
    "start_time": "2025-04-17T20:57:52.774Z"
   },
   {
    "duration": 657,
    "start_time": "2025-04-17T20:57:53.398Z"
   },
   {
    "duration": 147,
    "start_time": "2025-04-17T20:57:54.057Z"
   },
   {
    "duration": 0,
    "start_time": "2025-04-17T20:57:54.206Z"
   },
   {
    "duration": 96,
    "start_time": "2025-04-17T20:58:00.532Z"
   },
   {
    "duration": 58,
    "start_time": "2025-04-17T21:03:07.252Z"
   },
   {
    "duration": 2851,
    "start_time": "2025-04-17T21:03:15.892Z"
   },
   {
    "duration": 1289,
    "start_time": "2025-04-17T21:03:18.746Z"
   },
   {
    "duration": 1004,
    "start_time": "2025-04-17T21:03:20.037Z"
   },
   {
    "duration": 21,
    "start_time": "2025-04-17T21:03:21.043Z"
   },
   {
    "duration": 210,
    "start_time": "2025-04-17T21:03:21.066Z"
   },
   {
    "duration": 82,
    "start_time": "2025-04-17T21:03:21.278Z"
   },
   {
    "duration": 174,
    "start_time": "2025-04-17T21:03:21.362Z"
   },
   {
    "duration": 629,
    "start_time": "2025-04-17T21:03:21.538Z"
   },
   {
    "duration": 601,
    "start_time": "2025-04-17T21:03:22.169Z"
   },
   {
    "duration": 43,
    "start_time": "2025-04-17T21:03:22.772Z"
   },
   {
    "duration": 108,
    "start_time": "2025-04-17T21:03:39.258Z"
   },
   {
    "duration": 130,
    "start_time": "2025-04-17T21:04:46.814Z"
   },
   {
    "duration": 15,
    "start_time": "2025-04-17T21:04:52.765Z"
   },
   {
    "duration": 2882,
    "start_time": "2025-04-17T21:05:20.525Z"
   },
   {
    "duration": 1246,
    "start_time": "2025-04-17T21:05:23.410Z"
   },
   {
    "duration": 1047,
    "start_time": "2025-04-17T21:05:24.658Z"
   },
   {
    "duration": 75,
    "start_time": "2025-04-17T21:05:25.707Z"
   },
   {
    "duration": 419,
    "start_time": "2025-04-17T21:05:25.786Z"
   },
   {
    "duration": 3,
    "start_time": "2025-04-17T21:05:26.207Z"
   },
   {
    "duration": 398,
    "start_time": "2025-04-17T21:05:26.212Z"
   },
   {
    "duration": 1295,
    "start_time": "2025-04-17T21:05:26.611Z"
   },
   {
    "duration": 692,
    "start_time": "2025-04-17T21:05:27.908Z"
   },
   {
    "duration": 47,
    "start_time": "2025-04-17T21:05:28.603Z"
   },
   {
    "duration": 71,
    "start_time": "2025-04-17T21:10:54.574Z"
   },
   {
    "duration": 5,
    "start_time": "2025-04-17T21:11:23.045Z"
   },
   {
    "duration": 138,
    "start_time": "2025-04-17T21:12:06.834Z"
   },
   {
    "duration": 27,
    "start_time": "2025-04-17T21:12:16.905Z"
   },
   {
    "duration": 22,
    "start_time": "2025-04-17T21:12:26.176Z"
   },
   {
    "duration": 13,
    "start_time": "2025-04-17T21:12:36.561Z"
   },
   {
    "duration": 39,
    "start_time": "2025-04-17T21:13:43.158Z"
   },
   {
    "duration": 114,
    "start_time": "2025-04-17T21:13:51.646Z"
   },
   {
    "duration": 9,
    "start_time": "2025-04-17T21:14:07.695Z"
   },
   {
    "duration": 2830,
    "start_time": "2025-04-17T21:14:49.264Z"
   },
   {
    "duration": 1334,
    "start_time": "2025-04-17T21:14:52.097Z"
   },
   {
    "duration": 1121,
    "start_time": "2025-04-17T21:14:53.433Z"
   },
   {
    "duration": 32,
    "start_time": "2025-04-17T21:14:54.556Z"
   },
   {
    "duration": 194,
    "start_time": "2025-04-17T21:14:54.593Z"
   },
   {
    "duration": 133,
    "start_time": "2025-04-17T21:14:54.789Z"
   },
   {
    "duration": 3,
    "start_time": "2025-04-17T21:14:54.924Z"
   },
   {
    "duration": 234,
    "start_time": "2025-04-17T21:14:54.929Z"
   },
   {
    "duration": 595,
    "start_time": "2025-04-17T21:14:55.165Z"
   },
   {
    "duration": 641,
    "start_time": "2025-04-17T21:14:55.762Z"
   },
   {
    "duration": 36,
    "start_time": "2025-04-17T21:14:56.405Z"
   },
   {
    "duration": 49,
    "start_time": "2025-04-17T21:14:56.443Z"
   },
   {
    "duration": 37,
    "start_time": "2025-04-17T21:14:56.495Z"
   },
   {
    "duration": 70,
    "start_time": "2025-04-17T21:15:13.202Z"
   },
   {
    "duration": 22,
    "start_time": "2025-04-17T21:15:43.632Z"
   },
   {
    "duration": 26,
    "start_time": "2025-04-17T21:15:49.168Z"
   },
   {
    "duration": 26,
    "start_time": "2025-04-17T21:15:54.066Z"
   },
   {
    "duration": 29,
    "start_time": "2025-04-17T21:18:31.844Z"
   },
   {
    "duration": 45,
    "start_time": "2025-04-17T21:18:39.049Z"
   },
   {
    "duration": 29,
    "start_time": "2025-04-17T21:18:46.190Z"
   },
   {
    "duration": 44,
    "start_time": "2025-04-17T21:19:27.357Z"
   },
   {
    "duration": 108,
    "start_time": "2025-04-17T21:19:36.054Z"
   },
   {
    "duration": 116,
    "start_time": "2025-04-17T21:21:16.901Z"
   },
   {
    "duration": 2872,
    "start_time": "2025-04-17T21:21:27.150Z"
   },
   {
    "duration": 1239,
    "start_time": "2025-04-17T21:21:30.025Z"
   },
   {
    "duration": 1065,
    "start_time": "2025-04-17T21:21:31.266Z"
   },
   {
    "duration": 19,
    "start_time": "2025-04-17T21:21:32.333Z"
   },
   {
    "duration": 275,
    "start_time": "2025-04-17T21:21:32.353Z"
   },
   {
    "duration": 118,
    "start_time": "2025-04-17T21:21:32.630Z"
   },
   {
    "duration": 4,
    "start_time": "2025-04-17T21:21:32.749Z"
   },
   {
    "duration": 179,
    "start_time": "2025-04-17T21:21:32.754Z"
   },
   {
    "duration": 620,
    "start_time": "2025-04-17T21:21:32.934Z"
   },
   {
    "duration": 624,
    "start_time": "2025-04-17T21:21:33.557Z"
   },
   {
    "duration": 40,
    "start_time": "2025-04-17T21:21:34.189Z"
   },
   {
    "duration": 16,
    "start_time": "2025-04-17T21:21:34.231Z"
   },
   {
    "duration": 54,
    "start_time": "2025-04-17T21:21:34.249Z"
   },
   {
    "duration": 29,
    "start_time": "2025-04-17T21:21:34.305Z"
   },
   {
    "duration": 118,
    "start_time": "2025-04-17T21:21:34.336Z"
   },
   {
    "duration": 79,
    "start_time": "2025-04-17T21:21:34.455Z"
   },
   {
    "duration": 108,
    "start_time": "2025-04-17T21:21:43.722Z"
   },
   {
    "duration": 106,
    "start_time": "2025-04-17T21:21:50.399Z"
   },
   {
    "duration": 17,
    "start_time": "2025-04-17T21:24:58.154Z"
   },
   {
    "duration": 5,
    "start_time": "2025-04-17T21:25:05.322Z"
   },
   {
    "duration": 113,
    "start_time": "2025-04-17T21:26:09.750Z"
   },
   {
    "duration": 5217,
    "start_time": "2025-04-17T21:26:20.028Z"
   },
   {
    "duration": 5,
    "start_time": "2025-04-17T21:26:56.828Z"
   },
   {
    "duration": 37,
    "start_time": "2025-04-17T21:28:48.429Z"
   },
   {
    "duration": 44,
    "start_time": "2025-04-17T21:29:00.956Z"
   },
   {
    "duration": 38,
    "start_time": "2025-04-17T21:29:06.601Z"
   },
   {
    "duration": 39,
    "start_time": "2025-04-17T21:29:34.716Z"
   },
   {
    "duration": 40,
    "start_time": "2025-04-17T21:29:55.576Z"
   },
   {
    "duration": 8,
    "start_time": "2025-04-17T21:31:05.963Z"
   },
   {
    "duration": 5,
    "start_time": "2025-04-17T21:31:10.510Z"
   },
   {
    "duration": 14,
    "start_time": "2025-04-17T21:32:57.222Z"
   },
   {
    "duration": 8,
    "start_time": "2025-04-17T21:33:03.941Z"
   },
   {
    "duration": 233,
    "start_time": "2025-04-17T21:33:04.489Z"
   },
   {
    "duration": 74,
    "start_time": "2025-04-17T21:33:20.757Z"
   },
   {
    "duration": 7560,
    "start_time": "2025-04-17T21:33:24.299Z"
   },
   {
    "duration": 2617,
    "start_time": "2025-04-17T21:33:41.069Z"
   },
   {
    "duration": 1285,
    "start_time": "2025-04-17T21:33:43.689Z"
   },
   {
    "duration": 1025,
    "start_time": "2025-04-17T21:33:44.976Z"
   },
   {
    "duration": 22,
    "start_time": "2025-04-17T21:33:46.002Z"
   },
   {
    "duration": 176,
    "start_time": "2025-04-17T21:33:46.028Z"
   },
   {
    "duration": 114,
    "start_time": "2025-04-17T21:33:46.205Z"
   },
   {
    "duration": 4,
    "start_time": "2025-04-17T21:33:46.320Z"
   },
   {
    "duration": 177,
    "start_time": "2025-04-17T21:33:46.325Z"
   },
   {
    "duration": 19,
    "start_time": "2025-04-17T21:33:46.505Z"
   },
   {
    "duration": 8073,
    "start_time": "2025-04-17T21:33:46.527Z"
   },
   {
    "duration": 109,
    "start_time": "2025-04-17T21:33:54.602Z"
   },
   {
    "duration": 245,
    "start_time": "2025-04-17T21:33:54.713Z"
   },
   {
    "duration": 275,
    "start_time": "2025-04-17T21:33:54.960Z"
   },
   {
    "duration": 12,
    "start_time": "2025-04-17T21:33:55.238Z"
   },
   {
    "duration": 47,
    "start_time": "2025-04-17T21:33:55.251Z"
   },
   {
    "duration": 122,
    "start_time": "2025-04-17T21:33:55.299Z"
   },
   {
    "duration": 36,
    "start_time": "2025-04-17T21:33:55.423Z"
   },
   {
    "duration": 22,
    "start_time": "2025-04-17T21:33:55.461Z"
   },
   {
    "duration": 2606,
    "start_time": "2025-04-17T21:37:37.579Z"
   },
   {
    "duration": 1288,
    "start_time": "2025-04-17T21:37:40.188Z"
   },
   {
    "duration": 974,
    "start_time": "2025-04-17T21:37:41.478Z"
   },
   {
    "duration": 30,
    "start_time": "2025-04-17T21:37:42.453Z"
   },
   {
    "duration": 179,
    "start_time": "2025-04-17T21:37:42.485Z"
   },
   {
    "duration": 123,
    "start_time": "2025-04-17T21:37:42.666Z"
   },
   {
    "duration": 4,
    "start_time": "2025-04-17T21:37:42.792Z"
   },
   {
    "duration": 30,
    "start_time": "2025-04-17T21:37:42.798Z"
   },
   {
    "duration": 17,
    "start_time": "2025-04-17T21:37:42.830Z"
   },
   {
    "duration": 8156,
    "start_time": "2025-04-17T21:37:42.849Z"
   },
   {
    "duration": 139,
    "start_time": "2025-04-17T21:37:56.673Z"
   },
   {
    "duration": 61,
    "start_time": "2025-04-17T21:37:57.374Z"
   },
   {
    "duration": 107,
    "start_time": "2025-04-17T21:38:19.374Z"
   },
   {
    "duration": 8,
    "start_time": "2025-04-17T21:38:48.791Z"
   },
   {
    "duration": 12,
    "start_time": "2025-04-17T21:39:38.657Z"
   },
   {
    "duration": 13,
    "start_time": "2025-04-17T21:39:44.413Z"
   },
   {
    "duration": 8,
    "start_time": "2025-04-17T21:41:43.635Z"
   },
   {
    "duration": 36,
    "start_time": "2025-04-17T21:43:14.371Z"
   },
   {
    "duration": 14,
    "start_time": "2025-04-17T21:43:18.203Z"
   },
   {
    "duration": 17,
    "start_time": "2025-04-17T21:43:21.719Z"
   },
   {
    "duration": 16,
    "start_time": "2025-04-17T21:46:57.626Z"
   },
   {
    "duration": 12,
    "start_time": "2025-04-17T21:47:01.705Z"
   },
   {
    "duration": 15,
    "start_time": "2025-04-17T21:47:09.326Z"
   },
   {
    "duration": 12,
    "start_time": "2025-04-17T21:47:20.447Z"
   },
   {
    "duration": 23,
    "start_time": "2025-04-17T21:47:23.419Z"
   },
   {
    "duration": 9,
    "start_time": "2025-04-17T21:47:24.920Z"
   },
   {
    "duration": 43,
    "start_time": "2025-04-17T21:47:27.689Z"
   },
   {
    "duration": 20,
    "start_time": "2025-04-17T21:47:28.582Z"
   },
   {
    "duration": 61,
    "start_time": "2025-04-17T21:48:02.808Z"
   },
   {
    "duration": 6,
    "start_time": "2025-04-17T21:49:00.947Z"
   },
   {
    "duration": 8249,
    "start_time": "2025-04-17T21:49:07.147Z"
   },
   {
    "duration": 8,
    "start_time": "2025-04-17T21:49:58.041Z"
   },
   {
    "duration": 98,
    "start_time": "2025-04-17T21:50:18.112Z"
   },
   {
    "duration": 20,
    "start_time": "2025-04-17T21:50:22.594Z"
   },
   {
    "duration": 25,
    "start_time": "2025-04-17T21:50:45.099Z"
   },
   {
    "duration": 25,
    "start_time": "2025-04-17T21:52:03.162Z"
   },
   {
    "duration": 23,
    "start_time": "2025-04-17T21:52:17.097Z"
   },
   {
    "duration": 32,
    "start_time": "2025-04-17T21:52:31.765Z"
   },
   {
    "duration": 19,
    "start_time": "2025-04-17T21:52:38.616Z"
   },
   {
    "duration": 30,
    "start_time": "2025-04-17T21:52:47.427Z"
   },
   {
    "duration": 34,
    "start_time": "2025-04-17T21:53:06.262Z"
   },
   {
    "duration": 11,
    "start_time": "2025-04-17T21:53:17.418Z"
   },
   {
    "duration": 8164,
    "start_time": "2025-04-17T21:53:37.632Z"
   },
   {
    "duration": 30,
    "start_time": "2025-04-17T21:54:09.133Z"
   },
   {
    "duration": 41,
    "start_time": "2025-04-17T21:54:49.307Z"
   },
   {
    "duration": 103,
    "start_time": "2025-04-17T21:54:53.456Z"
   },
   {
    "duration": 195,
    "start_time": "2025-04-17T21:55:06.527Z"
   },
   {
    "duration": 2668,
    "start_time": "2025-04-17T21:56:26.949Z"
   },
   {
    "duration": 1305,
    "start_time": "2025-04-17T21:56:29.621Z"
   },
   {
    "duration": 1000,
    "start_time": "2025-04-17T21:56:30.928Z"
   },
   {
    "duration": 21,
    "start_time": "2025-04-17T21:56:31.930Z"
   },
   {
    "duration": 211,
    "start_time": "2025-04-17T21:56:31.953Z"
   },
   {
    "duration": 563,
    "start_time": "2025-04-17T21:56:32.177Z"
   },
   {
    "duration": 618,
    "start_time": "2025-04-17T21:56:32.743Z"
   },
   {
    "duration": 146,
    "start_time": "2025-04-17T21:56:33.363Z"
   },
   {
    "duration": 0,
    "start_time": "2025-04-17T21:56:33.511Z"
   },
   {
    "duration": 0,
    "start_time": "2025-04-17T21:56:33.512Z"
   },
   {
    "duration": 0,
    "start_time": "2025-04-17T21:56:33.512Z"
   },
   {
    "duration": 0,
    "start_time": "2025-04-17T21:56:33.514Z"
   },
   {
    "duration": 0,
    "start_time": "2025-04-17T21:56:33.515Z"
   },
   {
    "duration": 0,
    "start_time": "2025-04-17T21:56:33.516Z"
   },
   {
    "duration": 0,
    "start_time": "2025-04-17T21:56:33.517Z"
   },
   {
    "duration": 0,
    "start_time": "2025-04-17T21:56:33.518Z"
   },
   {
    "duration": 0,
    "start_time": "2025-04-17T21:56:33.519Z"
   },
   {
    "duration": 0,
    "start_time": "2025-04-17T21:56:33.520Z"
   },
   {
    "duration": 0,
    "start_time": "2025-04-17T21:56:33.521Z"
   },
   {
    "duration": 0,
    "start_time": "2025-04-17T21:56:33.522Z"
   },
   {
    "duration": 0,
    "start_time": "2025-04-17T21:56:33.524Z"
   },
   {
    "duration": 601,
    "start_time": "2025-04-17T21:56:53.109Z"
   },
   {
    "duration": 652,
    "start_time": "2025-04-17T21:56:53.713Z"
   },
   {
    "duration": 10,
    "start_time": "2025-04-17T21:56:54.367Z"
   },
   {
    "duration": 45,
    "start_time": "2025-04-17T21:56:54.379Z"
   },
   {
    "duration": 85,
    "start_time": "2025-04-17T21:56:54.426Z"
   },
   {
    "duration": 7,
    "start_time": "2025-04-17T21:56:54.512Z"
   },
   {
    "duration": 8700,
    "start_time": "2025-04-17T21:56:54.521Z"
   },
   {
    "duration": 13,
    "start_time": "2025-04-17T21:57:03.223Z"
   },
   {
    "duration": 81,
    "start_time": "2025-04-17T21:57:03.237Z"
   },
   {
    "duration": 19,
    "start_time": "2025-04-17T21:57:03.320Z"
   },
   {
    "duration": 68,
    "start_time": "2025-04-17T21:57:03.341Z"
   },
   {
    "duration": 15,
    "start_time": "2025-04-17T21:57:03.410Z"
   },
   {
    "duration": 29,
    "start_time": "2025-04-17T21:57:03.427Z"
   },
   {
    "duration": 55,
    "start_time": "2025-04-17T21:57:03.460Z"
   },
   {
    "duration": 66,
    "start_time": "2025-04-17T21:57:03.517Z"
   },
   {
    "duration": 111,
    "start_time": "2025-04-17T21:57:03.596Z"
   },
   {
    "duration": 8275,
    "start_time": "2025-04-17T21:57:28.836Z"
   },
   {
    "duration": 103,
    "start_time": "2025-04-17T21:57:49.962Z"
   },
   {
    "duration": 91,
    "start_time": "2025-04-17T21:58:01.389Z"
   },
   {
    "duration": 69,
    "start_time": "2025-04-17T21:58:16.946Z"
   },
   {
    "duration": 10,
    "start_time": "2025-04-17T21:58:33.729Z"
   },
   {
    "duration": 39,
    "start_time": "2025-04-17T21:58:45.288Z"
   },
   {
    "duration": 23,
    "start_time": "2025-04-17T21:58:46.639Z"
   },
   {
    "duration": 42,
    "start_time": "2025-04-17T21:58:49.404Z"
   },
   {
    "duration": 8368,
    "start_time": "2025-04-17T21:58:53.867Z"
   },
   {
    "duration": 98,
    "start_time": "2025-04-17T21:59:40.691Z"
   },
   {
    "duration": 124,
    "start_time": "2025-04-17T21:59:56.432Z"
   },
   {
    "duration": 33,
    "start_time": "2025-04-17T22:01:17.787Z"
   },
   {
    "duration": 93,
    "start_time": "2025-04-17T22:01:23.398Z"
   },
   {
    "duration": 94,
    "start_time": "2025-04-17T22:06:11.090Z"
   },
   {
    "duration": 143,
    "start_time": "2025-04-17T22:06:16.835Z"
   },
   {
    "duration": 137,
    "start_time": "2025-04-17T22:06:43.271Z"
   },
   {
    "duration": 105,
    "start_time": "2025-04-17T22:10:51.344Z"
   },
   {
    "duration": 332,
    "start_time": "2025-04-17T22:11:44.489Z"
   },
   {
    "duration": 313,
    "start_time": "2025-04-17T22:11:45.325Z"
   },
   {
    "duration": 345,
    "start_time": "2025-04-17T22:11:45.798Z"
   },
   {
    "duration": 123,
    "start_time": "2025-04-17T22:11:48.067Z"
   },
   {
    "duration": 109,
    "start_time": "2025-04-17T22:11:59.648Z"
   },
   {
    "duration": 19,
    "start_time": "2025-04-17T22:12:22.566Z"
   },
   {
    "duration": 2932,
    "start_time": "2025-04-17T22:13:45.863Z"
   },
   {
    "duration": 1448,
    "start_time": "2025-04-17T22:13:48.798Z"
   },
   {
    "duration": 1103,
    "start_time": "2025-04-17T22:13:50.247Z"
   },
   {
    "duration": 19,
    "start_time": "2025-04-17T22:13:51.352Z"
   },
   {
    "duration": 244,
    "start_time": "2025-04-17T22:13:51.386Z"
   },
   {
    "duration": 642,
    "start_time": "2025-04-17T22:13:51.631Z"
   },
   {
    "duration": 699,
    "start_time": "2025-04-17T22:13:52.275Z"
   },
   {
    "duration": 6,
    "start_time": "2025-04-17T22:13:52.976Z"
   },
   {
    "duration": 54,
    "start_time": "2025-04-17T22:13:52.990Z"
   },
   {
    "duration": 115,
    "start_time": "2025-04-17T22:13:53.046Z"
   },
   {
    "duration": 82,
    "start_time": "2025-04-17T22:13:53.163Z"
   },
   {
    "duration": 7,
    "start_time": "2025-04-17T22:13:53.247Z"
   },
   {
    "duration": 8791,
    "start_time": "2025-04-17T22:13:53.256Z"
   },
   {
    "duration": 28,
    "start_time": "2025-04-17T22:14:02.052Z"
   },
   {
    "duration": 46,
    "start_time": "2025-04-17T22:14:02.082Z"
   },
   {
    "duration": 11,
    "start_time": "2025-04-17T22:14:02.131Z"
   },
   {
    "duration": 168,
    "start_time": "2025-04-17T22:14:02.144Z"
   },
   {
    "duration": 10,
    "start_time": "2025-04-17T22:14:02.314Z"
   },
   {
    "duration": 29,
    "start_time": "2025-04-17T22:14:02.326Z"
   },
   {
    "duration": 61,
    "start_time": "2025-04-17T22:14:02.356Z"
   },
   {
    "duration": 41,
    "start_time": "2025-04-17T22:14:02.419Z"
   },
   {
    "duration": 45,
    "start_time": "2025-04-17T22:14:02.462Z"
   },
   {
    "duration": 406,
    "start_time": "2025-04-17T22:14:02.509Z"
   },
   {
    "duration": 336,
    "start_time": "2025-04-17T22:14:02.916Z"
   },
   {
    "duration": 337,
    "start_time": "2025-04-17T22:14:03.254Z"
   },
   {
    "duration": 102,
    "start_time": "2025-04-17T22:14:03.594Z"
   },
   {
    "duration": 124,
    "start_time": "2025-04-17T22:14:03.698Z"
   },
   {
    "duration": 13,
    "start_time": "2025-04-17T22:14:03.824Z"
   },
   {
    "duration": 30,
    "start_time": "2025-04-17T22:24:00.477Z"
   },
   {
    "duration": 22,
    "start_time": "2025-04-17T22:24:13.842Z"
   },
   {
    "duration": 25,
    "start_time": "2025-04-17T22:24:20.732Z"
   },
   {
    "duration": 262,
    "start_time": "2025-04-17T22:46:06.003Z"
   },
   {
    "duration": 16,
    "start_time": "2025-04-17T22:47:24.545Z"
   },
   {
    "duration": 22,
    "start_time": "2025-04-17T22:47:29.560Z"
   },
   {
    "duration": 3,
    "start_time": "2025-04-17T22:48:19.348Z"
   },
   {
    "duration": 67,
    "start_time": "2025-04-17T22:48:31.809Z"
   },
   {
    "duration": 5,
    "start_time": "2025-04-17T22:48:37.042Z"
   },
   {
    "duration": 5,
    "start_time": "2025-04-17T22:48:48.082Z"
   },
   {
    "duration": 9,
    "start_time": "2025-04-17T22:48:51.881Z"
   },
   {
    "duration": 6,
    "start_time": "2025-04-17T22:48:59.232Z"
   },
   {
    "duration": 3,
    "start_time": "2025-04-17T22:59:11.367Z"
   },
   {
    "duration": 3,
    "start_time": "2025-04-17T23:00:14.187Z"
   },
   {
    "duration": 1916,
    "start_time": "2025-04-17T23:01:08.722Z"
   },
   {
    "duration": 1949,
    "start_time": "2025-04-17T23:01:48.768Z"
   },
   {
    "duration": 104,
    "start_time": "2025-04-17T23:02:00.219Z"
   },
   {
    "duration": 38,
    "start_time": "2025-04-17T23:03:33.802Z"
   },
   {
    "duration": 4157,
    "start_time": "2025-04-17T23:03:45.194Z"
   },
   {
    "duration": 143,
    "start_time": "2025-04-17T23:03:54.052Z"
   },
   {
    "duration": 34,
    "start_time": "2025-04-17T23:05:51.997Z"
   },
   {
    "duration": 961,
    "start_time": "2025-04-17T23:05:52.033Z"
   },
   {
    "duration": 3,
    "start_time": "2025-04-17T23:06:56.529Z"
   },
   {
    "duration": 52974,
    "start_time": "2025-04-17T23:07:38.714Z"
   },
   {
    "duration": 3,
    "start_time": "2025-04-17T23:09:38.070Z"
   },
   {
    "duration": 48707,
    "start_time": "2025-04-17T23:09:44.380Z"
   },
   {
    "duration": 202,
    "start_time": "2025-04-17T23:11:55.382Z"
   },
   {
    "duration": 12,
    "start_time": "2025-04-17T23:12:38.597Z"
   },
   {
    "duration": 6,
    "start_time": "2025-04-17T23:12:58.804Z"
   },
   {
    "duration": 7,
    "start_time": "2025-04-17T23:13:04.785Z"
   },
   {
    "duration": 5,
    "start_time": "2025-04-17T23:13:08.695Z"
   },
   {
    "duration": 27,
    "start_time": "2025-04-17T23:14:11.029Z"
   },
   {
    "duration": 7,
    "start_time": "2025-04-17T23:14:11.079Z"
   },
   {
    "duration": 4,
    "start_time": "2025-04-17T23:14:12.355Z"
   },
   {
    "duration": 26,
    "start_time": "2025-04-17T23:15:05.950Z"
   },
   {
    "duration": 3,
    "start_time": "2025-04-17T23:15:42.681Z"
   },
   {
    "duration": 4,
    "start_time": "2025-04-17T23:20:40.796Z"
   },
   {
    "duration": 3,
    "start_time": "2025-04-17T23:21:00.433Z"
   },
   {
    "duration": 4,
    "start_time": "2025-04-17T23:22:40.990Z"
   },
   {
    "duration": 1630,
    "start_time": "2025-04-17T23:26:43.543Z"
   },
   {
    "duration": 1077,
    "start_time": "2025-04-17T23:26:45.176Z"
   },
   {
    "duration": 38,
    "start_time": "2025-04-17T23:26:46.255Z"
   },
   {
    "duration": 200,
    "start_time": "2025-04-17T23:26:46.295Z"
   },
   {
    "duration": 640,
    "start_time": "2025-04-17T23:26:46.497Z"
   },
   {
    "duration": 641,
    "start_time": "2025-04-17T23:26:47.139Z"
   },
   {
    "duration": 4,
    "start_time": "2025-04-17T23:26:47.782Z"
   },
   {
    "duration": 136,
    "start_time": "2025-04-17T23:26:47.788Z"
   },
   {
    "duration": 191,
    "start_time": "2025-04-17T23:26:47.926Z"
   },
   {
    "duration": 145,
    "start_time": "2025-04-17T23:26:48.119Z"
   },
   {
    "duration": 7,
    "start_time": "2025-04-17T23:26:48.266Z"
   },
   {
    "duration": 8142,
    "start_time": "2025-04-17T23:26:48.275Z"
   },
   {
    "duration": 14,
    "start_time": "2025-04-17T23:26:56.418Z"
   },
   {
    "duration": 57,
    "start_time": "2025-04-17T23:26:56.436Z"
   },
   {
    "duration": 12,
    "start_time": "2025-04-17T23:26:56.495Z"
   },
   {
    "duration": 46,
    "start_time": "2025-04-17T23:26:56.509Z"
   },
   {
    "duration": 29,
    "start_time": "2025-04-17T23:26:56.556Z"
   },
   {
    "duration": 31,
    "start_time": "2025-04-17T23:26:56.587Z"
   },
   {
    "duration": 60,
    "start_time": "2025-04-17T23:26:56.620Z"
   },
   {
    "duration": 52,
    "start_time": "2025-04-17T23:26:56.682Z"
   },
   {
    "duration": 24,
    "start_time": "2025-04-17T23:26:56.735Z"
   },
   {
    "duration": 597,
    "start_time": "2025-04-17T23:26:56.780Z"
   },
   {
    "duration": 700,
    "start_time": "2025-04-17T23:26:57.379Z"
   },
   {
    "duration": 689,
    "start_time": "2025-04-17T23:26:58.082Z"
   },
   {
    "duration": 119,
    "start_time": "2025-04-17T23:26:58.773Z"
   },
   {
    "duration": 116,
    "start_time": "2025-04-17T23:26:58.894Z"
   },
   {
    "duration": 100,
    "start_time": "2025-04-17T23:26:59.012Z"
   },
   {
    "duration": 76,
    "start_time": "2025-04-17T23:26:59.114Z"
   },
   {
    "duration": 3,
    "start_time": "2025-04-17T23:26:59.192Z"
   },
   {
    "duration": 1819,
    "start_time": "2025-04-17T23:26:59.197Z"
   },
   {
    "duration": 35,
    "start_time": "2025-04-17T23:27:01.018Z"
   },
   {
    "duration": 5177,
    "start_time": "2025-04-17T23:27:01.055Z"
   },
   {
    "duration": 3,
    "start_time": "2025-04-17T23:27:06.233Z"
   },
   {
    "duration": 43145,
    "start_time": "2025-04-17T23:27:06.238Z"
   },
   {
    "duration": 303,
    "start_time": "2025-04-17T23:27:49.384Z"
   },
   {
    "duration": 87,
    "start_time": "2025-04-17T23:27:49.694Z"
   },
   {
    "duration": 7,
    "start_time": "2025-04-17T23:27:49.783Z"
   },
   {
    "duration": 46,
    "start_time": "2025-04-17T23:27:49.793Z"
   },
   {
    "duration": 11,
    "start_time": "2025-04-17T23:27:49.841Z"
   },
   {
    "duration": 5,
    "start_time": "2025-04-17T23:27:49.854Z"
   },
   {
    "duration": 74469,
    "start_time": "2025-04-17T23:27:49.864Z"
   },
   {
    "duration": 198,
    "start_time": "2025-04-17T23:29:04.335Z"
   },
   {
    "duration": 0,
    "start_time": "2025-04-17T23:29:04.535Z"
   },
   {
    "duration": 0,
    "start_time": "2025-04-17T23:29:04.536Z"
   },
   {
    "duration": 0,
    "start_time": "2025-04-17T23:29:04.537Z"
   },
   {
    "duration": 5,
    "start_time": "2025-04-17T23:30:37.628Z"
   },
   {
    "duration": 5,
    "start_time": "2025-04-17T23:31:04.726Z"
   },
   {
    "duration": 76,
    "start_time": "2025-04-17T23:31:11.721Z"
   },
   {
    "duration": 69,
    "start_time": "2025-04-17T23:32:02.491Z"
   },
   {
    "duration": 4,
    "start_time": "2025-04-17T23:32:08.360Z"
   },
   {
    "duration": 4,
    "start_time": "2025-04-17T23:32:09.614Z"
   },
   {
    "duration": 3,
    "start_time": "2025-04-17T23:32:48.959Z"
   },
   {
    "duration": 3,
    "start_time": "2025-04-17T23:32:53.188Z"
   },
   {
    "duration": 91,
    "start_time": "2025-04-17T23:32:54.340Z"
   },
   {
    "duration": 11,
    "start_time": "2025-04-17T23:34:17.623Z"
   },
   {
    "duration": 98,
    "start_time": "2025-04-17T23:34:21.902Z"
   },
   {
    "duration": 4,
    "start_time": "2025-04-17T23:34:29.702Z"
   },
   {
    "duration": 78690,
    "start_time": "2025-04-17T23:34:31.223Z"
   },
   {
    "duration": 5,
    "start_time": "2025-04-17T23:35:49.915Z"
   },
   {
    "duration": 3,
    "start_time": "2025-04-17T23:36:41.689Z"
   },
   {
    "duration": 4,
    "start_time": "2025-04-17T23:36:43.115Z"
   },
   {
    "duration": 3,
    "start_time": "2025-04-17T23:36:44.069Z"
   },
   {
    "duration": 85947,
    "start_time": "2025-04-17T23:36:45.543Z"
   },
   {
    "duration": 6,
    "start_time": "2025-04-17T23:38:11.493Z"
   },
   {
    "duration": 86,
    "start_time": "2025-04-17T23:38:21.814Z"
   },
   {
    "duration": 5,
    "start_time": "2025-04-17T23:38:23.080Z"
   },
   {
    "duration": 4,
    "start_time": "2025-04-17T23:38:24.100Z"
   },
   {
    "duration": 28,
    "start_time": "2025-04-17T23:41:28.393Z"
   },
   {
    "duration": 4,
    "start_time": "2025-04-17T23:46:26.302Z"
   },
   {
    "duration": 3,
    "start_time": "2025-04-17T23:46:29.809Z"
   },
   {
    "duration": 4,
    "start_time": "2025-04-17T23:47:23.390Z"
   },
   {
    "duration": 910,
    "start_time": "2025-04-17T23:47:45.707Z"
   },
   {
    "duration": 16,
    "start_time": "2025-04-17T23:47:46.620Z"
   },
   {
    "duration": 1669,
    "start_time": "2025-04-17T23:55:01.089Z"
   },
   {
    "duration": 1010,
    "start_time": "2025-04-17T23:55:02.760Z"
   },
   {
    "duration": 19,
    "start_time": "2025-04-17T23:55:03.776Z"
   },
   {
    "duration": 227,
    "start_time": "2025-04-17T23:55:03.797Z"
   },
   {
    "duration": 594,
    "start_time": "2025-04-17T23:55:04.028Z"
   },
   {
    "duration": 616,
    "start_time": "2025-04-17T23:55:04.624Z"
   },
   {
    "duration": 3,
    "start_time": "2025-04-17T23:55:05.242Z"
   },
   {
    "duration": 107,
    "start_time": "2025-04-17T23:55:05.247Z"
   },
   {
    "duration": 124,
    "start_time": "2025-04-17T23:55:05.356Z"
   },
   {
    "duration": 78,
    "start_time": "2025-04-17T23:55:05.482Z"
   },
   {
    "duration": 7,
    "start_time": "2025-04-17T23:55:05.562Z"
   },
   {
    "duration": 8211,
    "start_time": "2025-04-17T23:55:05.570Z"
   },
   {
    "duration": 16,
    "start_time": "2025-04-17T23:55:13.783Z"
   },
   {
    "duration": 36,
    "start_time": "2025-04-17T23:55:13.802Z"
   },
   {
    "duration": 38,
    "start_time": "2025-04-17T23:55:13.840Z"
   },
   {
    "duration": 35,
    "start_time": "2025-04-17T23:55:13.880Z"
   },
   {
    "duration": 10,
    "start_time": "2025-04-17T23:55:13.917Z"
   },
   {
    "duration": 57,
    "start_time": "2025-04-17T23:55:13.929Z"
   },
   {
    "duration": 30,
    "start_time": "2025-04-17T23:55:13.988Z"
   },
   {
    "duration": 180,
    "start_time": "2025-04-17T23:55:14.019Z"
   },
   {
    "duration": 28,
    "start_time": "2025-04-17T23:55:14.201Z"
   },
   {
    "duration": 357,
    "start_time": "2025-04-17T23:55:14.231Z"
   },
   {
    "duration": 280,
    "start_time": "2025-04-17T23:55:14.590Z"
   },
   {
    "duration": 281,
    "start_time": "2025-04-17T23:55:14.876Z"
   },
   {
    "duration": 93,
    "start_time": "2025-04-17T23:55:15.159Z"
   },
   {
    "duration": 203,
    "start_time": "2025-04-17T23:55:15.255Z"
   },
   {
    "duration": 46,
    "start_time": "2025-04-17T23:55:15.461Z"
   },
   {
    "duration": 150,
    "start_time": "2025-04-17T23:55:15.509Z"
   },
   {
    "duration": 3,
    "start_time": "2025-04-17T23:55:15.661Z"
   },
   {
    "duration": 1841,
    "start_time": "2025-04-17T23:55:15.666Z"
   },
   {
    "duration": 33,
    "start_time": "2025-04-17T23:55:17.509Z"
   },
   {
    "duration": 4349,
    "start_time": "2025-04-17T23:55:17.544Z"
   },
   {
    "duration": 3,
    "start_time": "2025-04-17T23:55:21.895Z"
   },
   {
    "duration": 49585,
    "start_time": "2025-04-17T23:55:21.899Z"
   },
   {
    "duration": 225,
    "start_time": "2025-04-17T23:56:11.486Z"
   },
   {
    "duration": 5,
    "start_time": "2025-04-17T23:56:11.782Z"
   },
   {
    "duration": 89,
    "start_time": "2025-04-17T23:56:11.789Z"
   },
   {
    "duration": 15,
    "start_time": "2025-04-17T23:56:11.882Z"
   },
   {
    "duration": 8,
    "start_time": "2025-04-17T23:56:11.899Z"
   },
   {
    "duration": 36,
    "start_time": "2025-04-17T23:56:11.909Z"
   },
   {
    "duration": 80132,
    "start_time": "2025-04-17T23:56:11.950Z"
   },
   {
    "duration": 5,
    "start_time": "2025-04-17T23:57:32.085Z"
   },
   {
    "duration": 92,
    "start_time": "2025-04-17T23:57:32.092Z"
   },
   {
    "duration": 5,
    "start_time": "2025-04-17T23:57:32.186Z"
   },
   {
    "duration": 34,
    "start_time": "2025-04-17T23:57:32.192Z"
   },
   {
    "duration": 123,
    "start_time": "2025-04-17T23:57:32.228Z"
   },
   {
    "duration": 15,
    "start_time": "2025-04-17T23:57:32.353Z"
   },
   {
    "duration": 9,
    "start_time": "2025-04-17T23:57:32.370Z"
   },
   {
    "duration": 8,
    "start_time": "2025-04-18T00:02:06.918Z"
   },
   {
    "duration": 2111,
    "start_time": "2025-04-18T00:04:32.541Z"
   },
   {
    "duration": 1011,
    "start_time": "2025-04-18T00:04:34.653Z"
   },
   {
    "duration": 26,
    "start_time": "2025-04-18T00:04:35.665Z"
   },
   {
    "duration": 233,
    "start_time": "2025-04-18T00:04:35.693Z"
   },
   {
    "duration": 604,
    "start_time": "2025-04-18T00:04:35.929Z"
   },
   {
    "duration": 633,
    "start_time": "2025-04-18T00:04:36.534Z"
   },
   {
    "duration": 3,
    "start_time": "2025-04-18T00:04:37.169Z"
   },
   {
    "duration": 121,
    "start_time": "2025-04-18T00:04:37.179Z"
   },
   {
    "duration": 175,
    "start_time": "2025-04-18T00:04:37.302Z"
   },
   {
    "duration": 94,
    "start_time": "2025-04-18T00:04:37.479Z"
   },
   {
    "duration": 8,
    "start_time": "2025-04-18T00:04:37.575Z"
   },
   {
    "duration": 8134,
    "start_time": "2025-04-18T00:04:37.585Z"
   },
   {
    "duration": 15,
    "start_time": "2025-04-18T00:04:45.721Z"
   },
   {
    "duration": 87,
    "start_time": "2025-04-18T00:04:45.740Z"
   },
   {
    "duration": 11,
    "start_time": "2025-04-18T00:04:45.829Z"
   },
   {
    "duration": 67,
    "start_time": "2025-04-18T00:04:45.842Z"
   },
   {
    "duration": 17,
    "start_time": "2025-04-18T00:04:45.912Z"
   },
   {
    "duration": 31,
    "start_time": "2025-04-18T00:04:45.934Z"
   },
   {
    "duration": 30,
    "start_time": "2025-04-18T00:04:45.976Z"
   },
   {
    "duration": 43,
    "start_time": "2025-04-18T00:04:46.008Z"
   },
   {
    "duration": 43,
    "start_time": "2025-04-18T00:04:46.053Z"
   },
   {
    "duration": 421,
    "start_time": "2025-04-18T00:04:46.098Z"
   },
   {
    "duration": 299,
    "start_time": "2025-04-18T00:04:46.521Z"
   },
   {
    "duration": 302,
    "start_time": "2025-04-18T00:04:46.822Z"
   },
   {
    "duration": 104,
    "start_time": "2025-04-18T00:04:47.126Z"
   },
   {
    "duration": 117,
    "start_time": "2025-04-18T00:04:47.232Z"
   },
   {
    "duration": 74,
    "start_time": "2025-04-18T00:04:47.352Z"
   },
   {
    "duration": 75,
    "start_time": "2025-04-18T00:04:47.427Z"
   },
   {
    "duration": 3,
    "start_time": "2025-04-18T00:04:47.505Z"
   },
   {
    "duration": 1799,
    "start_time": "2025-04-18T00:04:47.510Z"
   },
   {
    "duration": 29,
    "start_time": "2025-04-18T00:04:49.310Z"
   },
   {
    "duration": 4180,
    "start_time": "2025-04-18T00:04:49.341Z"
   },
   {
    "duration": 2,
    "start_time": "2025-04-18T00:04:53.523Z"
   },
   {
    "duration": 45160,
    "start_time": "2025-04-18T00:04:53.527Z"
   },
   {
    "duration": 217,
    "start_time": "2025-04-18T00:05:38.691Z"
   },
   {
    "duration": 79,
    "start_time": "2025-04-18T00:05:38.910Z"
   },
   {
    "duration": 81,
    "start_time": "2025-04-18T00:05:38.998Z"
   },
   {
    "duration": 30,
    "start_time": "2025-04-18T00:05:39.081Z"
   },
   {
    "duration": 19,
    "start_time": "2025-04-18T00:05:39.113Z"
   },
   {
    "duration": 24,
    "start_time": "2025-04-18T00:05:39.134Z"
   },
   {
    "duration": 103070,
    "start_time": "2025-04-18T00:05:39.162Z"
   },
   {
    "duration": 4,
    "start_time": "2025-04-18T00:07:22.233Z"
   },
   {
    "duration": 114,
    "start_time": "2025-04-18T00:07:22.239Z"
   },
   {
    "duration": 4,
    "start_time": "2025-04-18T00:07:22.354Z"
   },
   {
    "duration": 25,
    "start_time": "2025-04-18T00:07:22.360Z"
   },
   {
    "duration": 14,
    "start_time": "2025-04-18T00:07:22.387Z"
   },
   {
    "duration": 20,
    "start_time": "2025-04-18T00:07:22.403Z"
   },
   {
    "duration": 20,
    "start_time": "2025-04-18T00:07:22.425Z"
   },
   {
    "duration": 1511,
    "start_time": "2025-04-18T00:13:57.107Z"
   },
   {
    "duration": 1530,
    "start_time": "2025-04-18T00:15:59.027Z"
   },
   {
    "duration": 4,
    "start_time": "2025-04-18T00:16:20.478Z"
   },
   {
    "duration": 976,
    "start_time": "2025-04-18T00:16:20.484Z"
   },
   {
    "duration": 28,
    "start_time": "2025-04-18T00:16:21.461Z"
   },
   {
    "duration": 165,
    "start_time": "2025-04-18T00:16:21.491Z"
   },
   {
    "duration": 574,
    "start_time": "2025-04-18T00:16:21.659Z"
   },
   {
    "duration": 602,
    "start_time": "2025-04-18T00:16:22.235Z"
   },
   {
    "duration": 4,
    "start_time": "2025-04-18T00:16:22.839Z"
   },
   {
    "duration": 72,
    "start_time": "2025-04-18T00:16:22.845Z"
   },
   {
    "duration": 133,
    "start_time": "2025-04-18T00:16:22.918Z"
   },
   {
    "duration": 79,
    "start_time": "2025-04-18T00:16:23.052Z"
   },
   {
    "duration": 6,
    "start_time": "2025-04-18T00:16:23.133Z"
   },
   {
    "duration": 7966,
    "start_time": "2025-04-18T00:16:23.141Z"
   },
   {
    "duration": 13,
    "start_time": "2025-04-18T00:16:31.109Z"
   },
   {
    "duration": 35,
    "start_time": "2025-04-18T00:16:31.125Z"
   },
   {
    "duration": 9,
    "start_time": "2025-04-18T00:16:31.177Z"
   },
   {
    "duration": 39,
    "start_time": "2025-04-18T00:16:31.188Z"
   },
   {
    "duration": 9,
    "start_time": "2025-04-18T00:16:31.229Z"
   },
   {
    "duration": 55,
    "start_time": "2025-04-18T00:16:31.240Z"
   },
   {
    "duration": 30,
    "start_time": "2025-04-18T00:16:31.297Z"
   },
   {
    "duration": 58,
    "start_time": "2025-04-18T00:16:31.328Z"
   },
   {
    "duration": 75,
    "start_time": "2025-04-18T00:16:31.388Z"
   },
   {
    "duration": 646,
    "start_time": "2025-04-18T00:16:31.465Z"
   },
   {
    "duration": 598,
    "start_time": "2025-04-18T00:16:32.113Z"
   },
   {
    "duration": 505,
    "start_time": "2025-04-18T00:16:32.713Z"
   },
   {
    "duration": 95,
    "start_time": "2025-04-18T00:16:33.220Z"
   },
   {
    "duration": 228,
    "start_time": "2025-04-18T00:16:33.316Z"
   },
   {
    "duration": 15,
    "start_time": "2025-04-18T00:16:33.545Z"
   },
   {
    "duration": 82,
    "start_time": "2025-04-18T00:16:33.562Z"
   },
   {
    "duration": 2,
    "start_time": "2025-04-18T00:16:33.646Z"
   },
   {
    "duration": 1775,
    "start_time": "2025-04-18T00:16:33.650Z"
   },
   {
    "duration": 31,
    "start_time": "2025-04-18T00:16:35.427Z"
   },
   {
    "duration": 5073,
    "start_time": "2025-04-18T00:16:35.460Z"
   },
   {
    "duration": 3,
    "start_time": "2025-04-18T00:16:40.535Z"
   },
   {
    "duration": 41948,
    "start_time": "2025-04-18T00:16:40.539Z"
   },
   {
    "duration": 288,
    "start_time": "2025-04-18T00:17:22.489Z"
   },
   {
    "duration": 7,
    "start_time": "2025-04-18T00:17:22.780Z"
   },
   {
    "duration": 41,
    "start_time": "2025-04-18T00:17:22.879Z"
   },
   {
    "duration": 34,
    "start_time": "2025-04-18T00:17:22.921Z"
   },
   {
    "duration": 31,
    "start_time": "2025-04-18T00:17:22.957Z"
   },
   {
    "duration": 29,
    "start_time": "2025-04-18T00:17:22.991Z"
   },
   {
    "duration": 83756,
    "start_time": "2025-04-18T00:17:23.025Z"
   },
   {
    "duration": 5,
    "start_time": "2025-04-18T00:18:46.783Z"
   },
   {
    "duration": 149,
    "start_time": "2025-04-18T00:18:46.789Z"
   },
   {
    "duration": 3,
    "start_time": "2025-04-18T00:18:46.940Z"
   },
   {
    "duration": 26,
    "start_time": "2025-04-18T00:18:46.945Z"
   },
   {
    "duration": 51,
    "start_time": "2025-04-18T00:21:05.263Z"
   },
   {
    "duration": 1562,
    "start_time": "2025-04-18T00:21:55.665Z"
   },
   {
    "duration": 971,
    "start_time": "2025-04-18T00:21:57.229Z"
   },
   {
    "duration": 20,
    "start_time": "2025-04-18T00:21:58.202Z"
   },
   {
    "duration": 207,
    "start_time": "2025-04-18T00:21:58.223Z"
   },
   {
    "duration": 4,
    "start_time": "2025-04-18T00:23:10.135Z"
   },
   {
    "duration": 1005,
    "start_time": "2025-04-18T00:23:10.141Z"
   },
   {
    "duration": 16,
    "start_time": "2025-04-18T00:23:11.148Z"
   },
   {
    "duration": 172,
    "start_time": "2025-04-18T00:23:11.176Z"
   },
   {
    "duration": 471,
    "start_time": "2025-04-18T00:23:11.350Z"
   },
   {
    "duration": 973,
    "start_time": "2025-04-18T00:23:11.823Z"
   },
   {
    "duration": 3,
    "start_time": "2025-04-18T00:23:12.799Z"
   },
   {
    "duration": 120,
    "start_time": "2025-04-18T00:23:12.804Z"
   },
   {
    "duration": 284,
    "start_time": "2025-04-18T00:23:12.925Z"
   },
   {
    "duration": 194,
    "start_time": "2025-04-18T00:23:13.210Z"
   },
   {
    "duration": 6,
    "start_time": "2025-04-18T00:23:13.406Z"
   },
   {
    "duration": 8005,
    "start_time": "2025-04-18T00:23:13.414Z"
   },
   {
    "duration": 13,
    "start_time": "2025-04-18T00:23:21.421Z"
   },
   {
    "duration": 72,
    "start_time": "2025-04-18T00:23:21.437Z"
   },
   {
    "duration": 8,
    "start_time": "2025-04-18T00:23:21.511Z"
   },
   {
    "duration": 26,
    "start_time": "2025-04-18T00:23:21.521Z"
   },
   {
    "duration": 10,
    "start_time": "2025-04-18T00:23:21.549Z"
   },
   {
    "duration": 40,
    "start_time": "2025-04-18T00:23:21.561Z"
   },
   {
    "duration": 29,
    "start_time": "2025-04-18T00:23:21.603Z"
   },
   {
    "duration": 65,
    "start_time": "2025-04-18T00:23:21.634Z"
   },
   {
    "duration": 24,
    "start_time": "2025-04-18T00:23:21.700Z"
   },
   {
    "duration": 307,
    "start_time": "2025-04-18T00:23:21.726Z"
   },
   {
    "duration": 286,
    "start_time": "2025-04-18T00:23:22.034Z"
   },
   {
    "duration": 294,
    "start_time": "2025-04-18T00:23:22.322Z"
   },
   {
    "duration": 95,
    "start_time": "2025-04-18T00:23:22.618Z"
   },
   {
    "duration": 108,
    "start_time": "2025-04-18T00:23:22.715Z"
   },
   {
    "duration": 79,
    "start_time": "2025-04-18T00:23:22.825Z"
   },
   {
    "duration": 81,
    "start_time": "2025-04-18T00:23:22.906Z"
   },
   {
    "duration": 4,
    "start_time": "2025-04-18T00:23:22.989Z"
   },
   {
    "duration": 1781,
    "start_time": "2025-04-18T00:23:22.995Z"
   },
   {
    "duration": 28,
    "start_time": "2025-04-18T00:23:24.779Z"
   },
   {
    "duration": 3933,
    "start_time": "2025-04-18T00:23:24.809Z"
   },
   {
    "duration": 29,
    "start_time": "2025-04-18T00:23:39.763Z"
   },
   {
    "duration": 645,
    "start_time": "2025-04-18T00:27:30.031Z"
   },
   {
    "duration": 523,
    "start_time": "2025-04-18T00:28:38.648Z"
   },
   {
    "duration": 490,
    "start_time": "2025-04-18T00:28:45.205Z"
   },
   {
    "duration": 16,
    "start_time": "2025-04-18T00:28:54.793Z"
   },
   {
    "duration": 16,
    "start_time": "2025-04-18T00:29:35.045Z"
   },
   {
    "duration": 20,
    "start_time": "2025-04-18T00:29:41.208Z"
   },
   {
    "duration": 4,
    "start_time": "2025-04-18T00:30:42.521Z"
   },
   {
    "duration": 989,
    "start_time": "2025-04-18T00:30:42.527Z"
   },
   {
    "duration": 22,
    "start_time": "2025-04-18T00:30:43.518Z"
   },
   {
    "duration": 193,
    "start_time": "2025-04-18T00:30:43.542Z"
   },
   {
    "duration": 520,
    "start_time": "2025-04-18T00:30:43.738Z"
   },
   {
    "duration": 554,
    "start_time": "2025-04-18T00:30:44.260Z"
   },
   {
    "duration": 3,
    "start_time": "2025-04-18T00:30:44.816Z"
   },
   {
    "duration": 109,
    "start_time": "2025-04-18T00:30:44.821Z"
   },
   {
    "duration": 163,
    "start_time": "2025-04-18T00:30:44.932Z"
   },
   {
    "duration": 144,
    "start_time": "2025-04-18T00:30:45.097Z"
   },
   {
    "duration": 53,
    "start_time": "2025-04-18T00:30:45.242Z"
   },
   {
    "duration": 8616,
    "start_time": "2025-04-18T00:30:45.298Z"
   },
   {
    "duration": 15,
    "start_time": "2025-04-18T00:30:53.917Z"
   },
   {
    "duration": 49,
    "start_time": "2025-04-18T00:30:53.936Z"
   },
   {
    "duration": 10,
    "start_time": "2025-04-18T00:30:53.988Z"
   },
   {
    "duration": 36,
    "start_time": "2025-04-18T00:30:54.000Z"
   },
   {
    "duration": 11,
    "start_time": "2025-04-18T00:30:54.038Z"
   },
   {
    "duration": 60,
    "start_time": "2025-04-18T00:30:54.052Z"
   },
   {
    "duration": 167,
    "start_time": "2025-04-18T00:30:54.114Z"
   },
   {
    "duration": 43,
    "start_time": "2025-04-18T00:30:54.283Z"
   },
   {
    "duration": 24,
    "start_time": "2025-04-18T00:30:54.328Z"
   },
   {
    "duration": 398,
    "start_time": "2025-04-18T00:30:54.353Z"
   },
   {
    "duration": 315,
    "start_time": "2025-04-18T00:30:54.753Z"
   },
   {
    "duration": 315,
    "start_time": "2025-04-18T00:30:55.070Z"
   },
   {
    "duration": 125,
    "start_time": "2025-04-18T00:30:55.387Z"
   },
   {
    "duration": 110,
    "start_time": "2025-04-18T00:30:55.514Z"
   },
   {
    "duration": 22,
    "start_time": "2025-04-18T00:30:55.626Z"
   },
   {
    "duration": 85,
    "start_time": "2025-04-18T00:30:55.653Z"
   },
   {
    "duration": 4,
    "start_time": "2025-04-18T00:30:55.739Z"
   },
   {
    "duration": 1946,
    "start_time": "2025-04-18T00:30:55.745Z"
   },
   {
    "duration": 27,
    "start_time": "2025-04-18T00:30:57.694Z"
   },
   {
    "duration": 4097,
    "start_time": "2025-04-18T00:30:57.723Z"
   },
   {
    "duration": 3,
    "start_time": "2025-04-18T00:31:01.822Z"
   },
   {
    "duration": 55771,
    "start_time": "2025-04-18T00:31:01.826Z"
   },
   {
    "duration": 226,
    "start_time": "2025-04-18T00:31:57.678Z"
   },
   {
    "duration": 9,
    "start_time": "2025-04-18T00:31:57.981Z"
   },
   {
    "duration": 4,
    "start_time": "2025-04-18T00:31:58.002Z"
   },
   {
    "duration": 685,
    "start_time": "2025-04-18T00:31:58.008Z"
   },
   {
    "duration": 16,
    "start_time": "2025-04-18T00:31:58.696Z"
   },
   {
    "duration": 3,
    "start_time": "2025-04-18T00:31:58.714Z"
   },
   {
    "duration": 3,
    "start_time": "2025-04-18T00:31:58.722Z"
   },
   {
    "duration": 11,
    "start_time": "2025-04-18T00:31:58.728Z"
   },
   {
    "duration": 9515,
    "start_time": "2025-04-18T00:31:58.740Z"
   },
   {
    "duration": 4,
    "start_time": "2025-04-18T00:32:08.257Z"
   },
   {
    "duration": 58,
    "start_time": "2025-04-18T00:32:08.263Z"
   },
   {
    "duration": 4,
    "start_time": "2025-04-18T00:32:08.324Z"
   },
   {
    "duration": 69,
    "start_time": "2025-04-18T00:32:08.329Z"
   },
   {
    "duration": 99,
    "start_time": "2025-04-18T00:32:08.400Z"
   },
   {
    "duration": 9,
    "start_time": "2025-04-18T00:32:08.502Z"
   },
   {
    "duration": 3,
    "start_time": "2025-04-18T00:32:08.514Z"
   },
   {
    "duration": 1622,
    "start_time": "2025-04-18T00:36:51.449Z"
   },
   {
    "duration": 1021,
    "start_time": "2025-04-18T00:36:53.073Z"
   },
   {
    "duration": 24,
    "start_time": "2025-04-18T00:36:54.096Z"
   },
   {
    "duration": 186,
    "start_time": "2025-04-18T00:36:54.122Z"
   },
   {
    "duration": 612,
    "start_time": "2025-04-18T00:36:54.311Z"
   },
   {
    "duration": 624,
    "start_time": "2025-04-18T00:36:54.924Z"
   },
   {
    "duration": 3,
    "start_time": "2025-04-18T00:36:55.550Z"
   },
   {
    "duration": 77,
    "start_time": "2025-04-18T00:36:55.555Z"
   },
   {
    "duration": 122,
    "start_time": "2025-04-18T00:36:55.634Z"
   },
   {
    "duration": 92,
    "start_time": "2025-04-18T00:36:55.758Z"
   },
   {
    "duration": 7,
    "start_time": "2025-04-18T00:36:55.852Z"
   },
   {
    "duration": 7981,
    "start_time": "2025-04-18T00:36:55.861Z"
   },
   {
    "duration": 14,
    "start_time": "2025-04-18T00:37:03.844Z"
   },
   {
    "duration": 33,
    "start_time": "2025-04-18T00:37:03.878Z"
   },
   {
    "duration": 8,
    "start_time": "2025-04-18T00:37:03.913Z"
   },
   {
    "duration": 57,
    "start_time": "2025-04-18T00:37:03.923Z"
   },
   {
    "duration": 10,
    "start_time": "2025-04-18T00:37:03.981Z"
   },
   {
    "duration": 34,
    "start_time": "2025-04-18T00:37:03.993Z"
   },
   {
    "duration": 60,
    "start_time": "2025-04-18T00:37:04.029Z"
   },
   {
    "duration": 51,
    "start_time": "2025-04-18T00:37:04.092Z"
   },
   {
    "duration": 46,
    "start_time": "2025-04-18T00:37:04.146Z"
   },
   {
    "duration": 290,
    "start_time": "2025-04-18T00:37:04.194Z"
   },
   {
    "duration": 292,
    "start_time": "2025-04-18T00:37:04.485Z"
   },
   {
    "duration": 286,
    "start_time": "2025-04-18T00:37:04.779Z"
   },
   {
    "duration": 99,
    "start_time": "2025-04-18T00:37:05.067Z"
   },
   {
    "duration": 141,
    "start_time": "2025-04-18T00:37:05.168Z"
   },
   {
    "duration": 38,
    "start_time": "2025-04-18T00:37:05.311Z"
   },
   {
    "duration": 149,
    "start_time": "2025-04-18T00:37:05.350Z"
   },
   {
    "duration": 47,
    "start_time": "2025-04-18T00:37:05.501Z"
   },
   {
    "duration": 1808,
    "start_time": "2025-04-18T00:37:05.550Z"
   },
   {
    "duration": 39,
    "start_time": "2025-04-18T00:37:07.360Z"
   },
   {
    "duration": 4130,
    "start_time": "2025-04-18T00:37:07.401Z"
   },
   {
    "duration": 3,
    "start_time": "2025-04-18T00:37:11.533Z"
   },
   {
    "duration": 54355,
    "start_time": "2025-04-18T00:37:11.538Z"
   },
   {
    "duration": 304,
    "start_time": "2025-04-18T00:38:05.977Z"
   },
   {
    "duration": 93,
    "start_time": "2025-04-18T00:38:06.290Z"
   },
   {
    "duration": 84,
    "start_time": "2025-04-18T00:38:06.386Z"
   },
   {
    "duration": 620,
    "start_time": "2025-04-18T00:38:06.472Z"
   },
   {
    "duration": 20,
    "start_time": "2025-04-18T00:38:07.094Z"
   },
   {
    "duration": 4,
    "start_time": "2025-04-18T00:38:07.116Z"
   },
   {
    "duration": 3,
    "start_time": "2025-04-18T00:38:07.125Z"
   },
   {
    "duration": 23,
    "start_time": "2025-04-18T00:38:07.130Z"
   },
   {
    "duration": 10458,
    "start_time": "2025-04-18T00:38:07.154Z"
   },
   {
    "duration": 5,
    "start_time": "2025-04-18T00:38:17.613Z"
   },
   {
    "duration": 21,
    "start_time": "2025-04-18T00:38:17.620Z"
   },
   {
    "duration": 6,
    "start_time": "2025-04-18T00:38:17.643Z"
   },
   {
    "duration": 29,
    "start_time": "2025-04-18T00:38:17.650Z"
   },
   {
    "duration": 25,
    "start_time": "2025-04-18T00:38:23.285Z"
   },
   {
    "duration": 90,
    "start_time": "2025-04-18T00:39:35.705Z"
   },
   {
    "duration": 87,
    "start_time": "2025-04-18T00:39:44.266Z"
   },
   {
    "duration": 126,
    "start_time": "2025-04-18T00:40:28.423Z"
   },
   {
    "duration": 3,
    "start_time": "2025-04-18T00:40:46.603Z"
   },
   {
    "duration": 3,
    "start_time": "2025-04-18T00:40:48.420Z"
   },
   {
    "duration": 3,
    "start_time": "2025-04-18T00:40:49.253Z"
   },
   {
    "duration": 9,
    "start_time": "2025-04-18T00:40:49.979Z"
   },
   {
    "duration": 108,
    "start_time": "2025-04-18T00:40:51.800Z"
   },
   {
    "duration": 4,
    "start_time": "2025-04-18T00:41:20.090Z"
   },
   {
    "duration": 1581,
    "start_time": "2025-04-18T00:45:54.476Z"
   },
   {
    "duration": 998,
    "start_time": "2025-04-18T00:45:56.059Z"
   },
   {
    "duration": 30,
    "start_time": "2025-04-18T00:45:57.058Z"
   },
   {
    "duration": 198,
    "start_time": "2025-04-18T00:45:57.090Z"
   },
   {
    "duration": 558,
    "start_time": "2025-04-18T00:45:57.291Z"
   },
   {
    "duration": 625,
    "start_time": "2025-04-18T00:45:57.851Z"
   },
   {
    "duration": 3,
    "start_time": "2025-04-18T00:45:58.478Z"
   },
   {
    "duration": 105,
    "start_time": "2025-04-18T00:45:58.483Z"
   },
   {
    "duration": 109,
    "start_time": "2025-04-18T00:45:58.591Z"
   },
   {
    "duration": 62,
    "start_time": "2025-04-18T00:45:58.702Z"
   },
   {
    "duration": 18,
    "start_time": "2025-04-18T00:45:58.766Z"
   },
   {
    "duration": 8002,
    "start_time": "2025-04-18T00:45:58.786Z"
   },
   {
    "duration": 14,
    "start_time": "2025-04-18T00:46:06.790Z"
   },
   {
    "duration": 49,
    "start_time": "2025-04-18T00:46:06.807Z"
   },
   {
    "duration": 21,
    "start_time": "2025-04-18T00:46:06.858Z"
   },
   {
    "duration": 96,
    "start_time": "2025-04-18T00:46:06.881Z"
   },
   {
    "duration": 10,
    "start_time": "2025-04-18T00:46:06.979Z"
   },
   {
    "duration": 54,
    "start_time": "2025-04-18T00:46:06.991Z"
   },
   {
    "duration": 55,
    "start_time": "2025-04-18T00:46:07.047Z"
   },
   {
    "duration": 43,
    "start_time": "2025-04-18T00:46:07.104Z"
   },
   {
    "duration": 48,
    "start_time": "2025-04-18T00:46:07.149Z"
   },
   {
    "duration": 327,
    "start_time": "2025-04-18T00:46:07.200Z"
   },
   {
    "duration": 295,
    "start_time": "2025-04-18T00:46:07.529Z"
   },
   {
    "duration": 283,
    "start_time": "2025-04-18T00:46:07.826Z"
   },
   {
    "duration": 115,
    "start_time": "2025-04-18T00:46:08.112Z"
   },
   {
    "duration": 168,
    "start_time": "2025-04-18T00:46:08.228Z"
   },
   {
    "duration": 21,
    "start_time": "2025-04-18T00:46:08.398Z"
   },
   {
    "duration": 93,
    "start_time": "2025-04-18T00:46:08.421Z"
   },
   {
    "duration": 67,
    "start_time": "2025-04-18T00:46:08.516Z"
   },
   {
    "duration": 1771,
    "start_time": "2025-04-18T00:46:08.584Z"
   },
   {
    "duration": 41,
    "start_time": "2025-04-18T00:46:10.357Z"
   },
   {
    "duration": 4187,
    "start_time": "2025-04-18T00:46:10.400Z"
   },
   {
    "duration": 2,
    "start_time": "2025-04-18T00:46:14.589Z"
   },
   {
    "duration": 51785,
    "start_time": "2025-04-18T00:46:14.594Z"
   },
   {
    "duration": 308,
    "start_time": "2025-04-18T00:47:06.382Z"
   },
   {
    "duration": 78,
    "start_time": "2025-04-18T00:47:06.708Z"
   },
   {
    "duration": 4,
    "start_time": "2025-04-18T00:47:06.789Z"
   },
   {
    "duration": 538,
    "start_time": "2025-04-18T00:47:06.795Z"
   },
   {
    "duration": 16,
    "start_time": "2025-04-18T00:47:07.335Z"
   },
   {
    "duration": 24,
    "start_time": "2025-04-18T00:47:07.352Z"
   },
   {
    "duration": 3,
    "start_time": "2025-04-18T00:47:07.382Z"
   },
   {
    "duration": 26,
    "start_time": "2025-04-18T00:47:07.387Z"
   },
   {
    "duration": 7985,
    "start_time": "2025-04-18T00:47:07.414Z"
   },
   {
    "duration": 5,
    "start_time": "2025-04-18T00:47:15.400Z"
   },
   {
    "duration": 69,
    "start_time": "2025-04-18T00:47:15.407Z"
   },
   {
    "duration": 21,
    "start_time": "2025-04-18T00:47:15.485Z"
   },
   {
    "duration": 33,
    "start_time": "2025-04-18T00:47:15.508Z"
   },
   {
    "duration": 3,
    "start_time": "2025-04-18T00:47:37.150Z"
   },
   {
    "duration": 971,
    "start_time": "2025-04-18T00:47:37.155Z"
   },
   {
    "duration": 16,
    "start_time": "2025-04-18T00:47:38.128Z"
   },
   {
    "duration": 184,
    "start_time": "2025-04-18T00:47:38.146Z"
   },
   {
    "duration": 461,
    "start_time": "2025-04-18T00:47:38.332Z"
   },
   {
    "duration": 553,
    "start_time": "2025-04-18T00:47:38.794Z"
   },
   {
    "duration": 4,
    "start_time": "2025-04-18T00:47:39.349Z"
   },
   {
    "duration": 73,
    "start_time": "2025-04-18T00:47:39.355Z"
   },
   {
    "duration": 108,
    "start_time": "2025-04-18T00:47:39.430Z"
   },
   {
    "duration": 143,
    "start_time": "2025-04-18T00:47:39.540Z"
   },
   {
    "duration": 8,
    "start_time": "2025-04-18T00:47:39.685Z"
   },
   {
    "duration": 9375,
    "start_time": "2025-04-18T00:47:39.695Z"
   },
   {
    "duration": 18,
    "start_time": "2025-04-18T00:47:49.079Z"
   },
   {
    "duration": 26,
    "start_time": "2025-04-18T00:47:49.101Z"
   },
   {
    "duration": 9,
    "start_time": "2025-04-18T00:47:49.129Z"
   },
   {
    "duration": 56,
    "start_time": "2025-04-18T00:47:49.139Z"
   },
   {
    "duration": 11,
    "start_time": "2025-04-18T00:47:49.196Z"
   },
   {
    "duration": 33,
    "start_time": "2025-04-18T00:47:49.209Z"
   },
   {
    "duration": 57,
    "start_time": "2025-04-18T00:47:49.243Z"
   },
   {
    "duration": 41,
    "start_time": "2025-04-18T00:47:49.302Z"
   },
   {
    "duration": 37,
    "start_time": "2025-04-18T00:47:49.345Z"
   },
   {
    "duration": 284,
    "start_time": "2025-04-18T00:47:49.383Z"
   },
   {
    "duration": 314,
    "start_time": "2025-04-18T00:47:49.669Z"
   },
   {
    "duration": 292,
    "start_time": "2025-04-18T00:47:49.985Z"
   },
   {
    "duration": 103,
    "start_time": "2025-04-18T00:47:50.278Z"
   },
   {
    "duration": 141,
    "start_time": "2025-04-18T00:47:50.383Z"
   },
   {
    "duration": 54,
    "start_time": "2025-04-18T00:47:50.525Z"
   },
   {
    "duration": 73,
    "start_time": "2025-04-18T00:47:50.581Z"
   },
   {
    "duration": 3,
    "start_time": "2025-04-18T00:47:50.656Z"
   },
   {
    "duration": 2857,
    "start_time": "2025-04-18T00:47:50.660Z"
   },
   {
    "duration": 27,
    "start_time": "2025-04-18T00:47:53.519Z"
   },
   {
    "duration": 3732,
    "start_time": "2025-04-18T00:47:53.548Z"
   },
   {
    "duration": 3,
    "start_time": "2025-04-18T00:47:57.282Z"
   },
   {
    "duration": 52398,
    "start_time": "2025-04-18T00:47:57.287Z"
   },
   {
    "duration": 308,
    "start_time": "2025-04-18T00:48:49.688Z"
   },
   {
    "duration": 92,
    "start_time": "2025-04-18T00:48:49.999Z"
   },
   {
    "duration": 10,
    "start_time": "2025-04-18T00:48:50.093Z"
   },
   {
    "duration": 549,
    "start_time": "2025-04-18T00:48:50.105Z"
   },
   {
    "duration": 26,
    "start_time": "2025-04-18T00:48:50.656Z"
   },
   {
    "duration": 7,
    "start_time": "2025-04-18T00:48:50.684Z"
   },
   {
    "duration": 14,
    "start_time": "2025-04-18T00:48:50.696Z"
   },
   {
    "duration": 6,
    "start_time": "2025-04-18T00:48:50.713Z"
   },
   {
    "duration": 12114,
    "start_time": "2025-04-18T00:48:50.721Z"
   },
   {
    "duration": 5,
    "start_time": "2025-04-18T00:49:02.837Z"
   },
   {
    "duration": 144,
    "start_time": "2025-04-18T00:49:02.844Z"
   },
   {
    "duration": 3,
    "start_time": "2025-04-18T00:49:02.991Z"
   },
   {
    "duration": 16,
    "start_time": "2025-04-18T00:49:02.996Z"
   },
   {
    "duration": 7,
    "start_time": "2025-04-18T00:49:13.103Z"
   },
   {
    "duration": 6,
    "start_time": "2025-04-18T00:49:53.554Z"
   },
   {
    "duration": 4,
    "start_time": "2025-04-18T00:50:39.179Z"
   },
   {
    "duration": 3,
    "start_time": "2025-04-18T00:51:12.323Z"
   },
   {
    "duration": 3,
    "start_time": "2025-04-18T00:51:15.118Z"
   },
   {
    "duration": 3,
    "start_time": "2025-04-18T00:51:21.223Z"
   },
   {
    "duration": 224121,
    "start_time": "2025-04-18T00:51:24.457Z"
   },
   {
    "duration": 5,
    "start_time": "2025-04-18T00:55:08.581Z"
   },
   {
    "duration": 592,
    "start_time": "2025-04-18T00:55:08.588Z"
   },
   {
    "duration": 4,
    "start_time": "2025-04-18T00:55:38.108Z"
   },
   {
    "duration": 3,
    "start_time": "2025-04-18T00:56:23.126Z"
   },
   {
    "duration": 71725,
    "start_time": "2025-04-18T00:56:36.557Z"
   },
   {
    "duration": 3,
    "start_time": "2025-04-18T00:59:46.480Z"
   },
   {
    "duration": 3,
    "start_time": "2025-04-18T00:59:54.142Z"
   },
   {
    "duration": 4,
    "start_time": "2025-04-18T00:59:54.889Z"
   },
   {
    "duration": 3,
    "start_time": "2025-04-18T00:59:56.526Z"
   },
   {
    "duration": 171992,
    "start_time": "2025-04-18T00:59:57.910Z"
   },
   {
    "duration": 481,
    "start_time": "2025-04-18T01:02:49.904Z"
   },
   {
    "duration": 6,
    "start_time": "2025-04-18T01:02:50.387Z"
   },
   {
    "duration": 3,
    "start_time": "2025-04-18T01:03:09.116Z"
   },
   {
    "duration": 3,
    "start_time": "2025-04-18T01:03:09.776Z"
   },
   {
    "duration": 3,
    "start_time": "2025-04-18T01:03:11.408Z"
   },
   {
    "duration": 2678,
    "start_time": "2025-04-18T01:05:29.539Z"
   },
   {
    "duration": 1009,
    "start_time": "2025-04-18T01:05:32.219Z"
   },
   {
    "duration": 20,
    "start_time": "2025-04-18T01:05:33.229Z"
   },
   {
    "duration": 181,
    "start_time": "2025-04-18T01:05:33.251Z"
   },
   {
    "duration": 570,
    "start_time": "2025-04-18T01:05:33.434Z"
   },
   {
    "duration": 608,
    "start_time": "2025-04-18T01:05:34.006Z"
   },
   {
    "duration": 4,
    "start_time": "2025-04-18T01:05:34.615Z"
   },
   {
    "duration": 96,
    "start_time": "2025-04-18T01:05:34.621Z"
   },
   {
    "duration": 111,
    "start_time": "2025-04-18T01:05:34.719Z"
   },
   {
    "duration": 88,
    "start_time": "2025-04-18T01:05:34.833Z"
   },
   {
    "duration": 6,
    "start_time": "2025-04-18T01:05:34.923Z"
   },
   {
    "duration": 7983,
    "start_time": "2025-04-18T01:05:34.931Z"
   },
   {
    "duration": 13,
    "start_time": "2025-04-18T01:05:42.916Z"
   },
   {
    "duration": 118,
    "start_time": "2025-04-18T01:05:42.931Z"
   },
   {
    "duration": 8,
    "start_time": "2025-04-18T01:05:43.051Z"
   },
   {
    "duration": 35,
    "start_time": "2025-04-18T01:05:43.061Z"
   },
   {
    "duration": 10,
    "start_time": "2025-04-18T01:05:43.098Z"
   },
   {
    "duration": 43,
    "start_time": "2025-04-18T01:05:43.109Z"
   },
   {
    "duration": 33,
    "start_time": "2025-04-18T01:05:43.153Z"
   },
   {
    "duration": 41,
    "start_time": "2025-04-18T01:05:43.188Z"
   },
   {
    "duration": 24,
    "start_time": "2025-04-18T01:05:43.230Z"
   },
   {
    "duration": 302,
    "start_time": "2025-04-18T01:05:43.256Z"
   },
   {
    "duration": 295,
    "start_time": "2025-04-18T01:05:43.560Z"
   },
   {
    "duration": 300,
    "start_time": "2025-04-18T01:05:43.857Z"
   },
   {
    "duration": 118,
    "start_time": "2025-04-18T01:05:44.159Z"
   },
   {
    "duration": 118,
    "start_time": "2025-04-18T01:05:44.279Z"
   },
   {
    "duration": 66,
    "start_time": "2025-04-18T01:05:44.399Z"
   },
   {
    "duration": 89,
    "start_time": "2025-04-18T01:05:44.470Z"
   },
   {
    "duration": 3,
    "start_time": "2025-04-18T01:05:44.561Z"
   },
   {
    "duration": 1962,
    "start_time": "2025-04-18T01:05:44.566Z"
   },
   {
    "duration": 33,
    "start_time": "2025-04-18T01:05:46.530Z"
   },
   {
    "duration": 4229,
    "start_time": "2025-04-18T01:05:46.565Z"
   },
   {
    "duration": 3,
    "start_time": "2025-04-18T01:05:50.796Z"
   },
   {
    "duration": 42987,
    "start_time": "2025-04-18T01:05:50.800Z"
   },
   {
    "duration": 298,
    "start_time": "2025-04-18T01:06:33.790Z"
   },
   {
    "duration": 6,
    "start_time": "2025-04-18T01:06:34.091Z"
   },
   {
    "duration": 90,
    "start_time": "2025-04-18T01:06:34.098Z"
   },
   {
    "duration": 590,
    "start_time": "2025-04-18T01:06:34.197Z"
   },
   {
    "duration": 18,
    "start_time": "2025-04-18T01:06:34.789Z"
   },
   {
    "duration": 4,
    "start_time": "2025-04-18T01:06:34.808Z"
   },
   {
    "duration": 41,
    "start_time": "2025-04-18T01:06:34.814Z"
   },
   {
    "duration": 17,
    "start_time": "2025-04-18T01:06:34.857Z"
   },
   {
    "duration": 11038,
    "start_time": "2025-04-18T01:06:34.876Z"
   },
   {
    "duration": 6,
    "start_time": "2025-04-18T01:06:45.918Z"
   },
   {
    "duration": 54,
    "start_time": "2025-04-18T01:06:45.927Z"
   },
   {
    "duration": 4,
    "start_time": "2025-04-18T01:06:45.983Z"
   },
   {
    "duration": 6,
    "start_time": "2025-04-18T01:06:45.989Z"
   },
   {
    "duration": 3,
    "start_time": "2025-04-18T01:06:50.783Z"
   },
   {
    "duration": 4,
    "start_time": "2025-04-18T01:06:51.933Z"
   },
   {
    "duration": 3,
    "start_time": "2025-04-18T01:07:07.722Z"
   },
   {
    "duration": 278,
    "start_time": "2025-04-18T01:07:14.047Z"
   },
   {
    "duration": 3,
    "start_time": "2025-04-18T01:07:26.400Z"
   },
   {
    "duration": 104402,
    "start_time": "2025-04-18T01:07:39.680Z"
   },
   {
    "duration": 5,
    "start_time": "2025-04-18T01:09:35.307Z"
   },
   {
    "duration": 184,
    "start_time": "2025-04-18T01:09:42.115Z"
   },
   {
    "duration": 6,
    "start_time": "2025-04-18T01:09:45.288Z"
   },
   {
    "duration": 3,
    "start_time": "2025-04-18T01:09:51.708Z"
   },
   {
    "duration": 3,
    "start_time": "2025-04-18T01:09:52.730Z"
   },
   {
    "duration": 3,
    "start_time": "2025-04-18T01:10:02.430Z"
   },
   {
    "duration": 3,
    "start_time": "2025-04-18T01:10:18.847Z"
   },
   {
    "duration": 101453,
    "start_time": "2025-04-18T01:10:20.227Z"
   },
   {
    "duration": 309,
    "start_time": "2025-04-18T01:12:01.683Z"
   },
   {
    "duration": 9,
    "start_time": "2025-04-18T01:12:01.994Z"
   },
   {
    "duration": 34,
    "start_time": "2025-04-18T01:12:16.843Z"
   },
   {
    "duration": 14,
    "start_time": "2025-04-18T01:12:38.188Z"
   },
   {
    "duration": 2254,
    "start_time": "2025-04-18T01:13:59.465Z"
   },
   {
    "duration": 994,
    "start_time": "2025-04-18T01:14:01.721Z"
   },
   {
    "duration": 22,
    "start_time": "2025-04-18T01:14:02.717Z"
   },
   {
    "duration": 216,
    "start_time": "2025-04-18T01:14:02.741Z"
   },
   {
    "duration": 554,
    "start_time": "2025-04-18T01:14:02.959Z"
   },
   {
    "duration": 590,
    "start_time": "2025-04-18T01:14:03.515Z"
   },
   {
    "duration": 3,
    "start_time": "2025-04-18T01:14:04.108Z"
   },
   {
    "duration": 114,
    "start_time": "2025-04-18T01:14:04.113Z"
   },
   {
    "duration": 116,
    "start_time": "2025-04-18T01:14:04.229Z"
   },
   {
    "duration": 83,
    "start_time": "2025-04-18T01:14:04.346Z"
   },
   {
    "duration": 8,
    "start_time": "2025-04-18T01:14:04.430Z"
   },
   {
    "duration": 7758,
    "start_time": "2025-04-18T01:14:04.439Z"
   },
   {
    "duration": 14,
    "start_time": "2025-04-18T01:14:12.199Z"
   },
   {
    "duration": 33,
    "start_time": "2025-04-18T01:14:12.216Z"
   },
   {
    "duration": 31,
    "start_time": "2025-04-18T01:14:12.250Z"
   },
   {
    "duration": 33,
    "start_time": "2025-04-18T01:14:12.282Z"
   },
   {
    "duration": 10,
    "start_time": "2025-04-18T01:14:12.317Z"
   },
   {
    "duration": 55,
    "start_time": "2025-04-18T01:14:12.329Z"
   },
   {
    "duration": 29,
    "start_time": "2025-04-18T01:14:12.385Z"
   },
   {
    "duration": 74,
    "start_time": "2025-04-18T01:14:12.416Z"
   },
   {
    "duration": 22,
    "start_time": "2025-04-18T01:14:12.492Z"
   },
   {
    "duration": 373,
    "start_time": "2025-04-18T01:14:12.516Z"
   },
   {
    "duration": 271,
    "start_time": "2025-04-18T01:14:12.891Z"
   },
   {
    "duration": 275,
    "start_time": "2025-04-18T01:14:13.164Z"
   },
   {
    "duration": 94,
    "start_time": "2025-04-18T01:14:13.441Z"
   },
   {
    "duration": 103,
    "start_time": "2025-04-18T01:14:13.537Z"
   },
   {
    "duration": 79,
    "start_time": "2025-04-18T01:14:13.643Z"
   },
   {
    "duration": 118,
    "start_time": "2025-04-18T01:14:13.724Z"
   },
   {
    "duration": 4,
    "start_time": "2025-04-18T01:14:13.844Z"
   },
   {
    "duration": 1721,
    "start_time": "2025-04-18T01:14:13.849Z"
   },
   {
    "duration": 32,
    "start_time": "2025-04-18T01:14:15.572Z"
   },
   {
    "duration": 4046,
    "start_time": "2025-04-18T01:14:15.606Z"
   },
   {
    "duration": 3,
    "start_time": "2025-04-18T01:14:19.654Z"
   },
   {
    "duration": 39828,
    "start_time": "2025-04-18T01:14:19.659Z"
   },
   {
    "duration": 292,
    "start_time": "2025-04-18T01:14:59.489Z"
   },
   {
    "duration": 93,
    "start_time": "2025-04-18T01:14:59.784Z"
   },
   {
    "duration": 6,
    "start_time": "2025-04-18T01:14:59.878Z"
   },
   {
    "duration": 638,
    "start_time": "2025-04-18T01:14:59.886Z"
   },
   {
    "duration": 17,
    "start_time": "2025-04-18T01:15:00.527Z"
   },
   {
    "duration": 57,
    "start_time": "2025-04-18T01:15:00.546Z"
   },
   {
    "duration": 190,
    "start_time": "2025-04-18T01:15:00.608Z"
   },
   {
    "duration": 8,
    "start_time": "2025-04-18T01:15:00.800Z"
   },
   {
    "duration": 8741,
    "start_time": "2025-04-18T01:15:00.809Z"
   },
   {
    "duration": 4,
    "start_time": "2025-04-18T01:15:09.552Z"
   },
   {
    "duration": 32,
    "start_time": "2025-04-18T01:15:09.558Z"
   },
   {
    "duration": 4,
    "start_time": "2025-04-18T01:15:09.592Z"
   },
   {
    "duration": 4,
    "start_time": "2025-04-18T01:15:09.598Z"
   },
   {
    "duration": 3,
    "start_time": "2025-04-18T01:15:09.604Z"
   },
   {
    "duration": 9,
    "start_time": "2025-04-18T01:15:09.609Z"
   },
   {
    "duration": 5,
    "start_time": "2025-04-18T01:15:09.620Z"
   },
   {
    "duration": 98672,
    "start_time": "2025-04-18T01:15:09.626Z"
   },
   {
    "duration": 4,
    "start_time": "2025-04-18T01:16:48.299Z"
   },
   {
    "duration": 275,
    "start_time": "2025-04-18T01:16:48.305Z"
   },
   {
    "duration": 4,
    "start_time": "2025-04-18T01:16:48.582Z"
   },
   {
    "duration": 1583,
    "start_time": "2025-04-18T01:18:33.460Z"
   },
   {
    "duration": 1017,
    "start_time": "2025-04-18T01:18:35.045Z"
   },
   {
    "duration": 29,
    "start_time": "2025-04-18T01:18:36.064Z"
   },
   {
    "duration": 198,
    "start_time": "2025-04-18T01:18:36.096Z"
   },
   {
    "duration": 574,
    "start_time": "2025-04-18T01:18:36.297Z"
   },
   {
    "duration": 645,
    "start_time": "2025-04-18T01:18:36.872Z"
   },
   {
    "duration": 4,
    "start_time": "2025-04-18T01:18:37.519Z"
   },
   {
    "duration": 52,
    "start_time": "2025-04-18T01:18:37.525Z"
   },
   {
    "duration": 112,
    "start_time": "2025-04-18T01:18:37.579Z"
   },
   {
    "duration": 173,
    "start_time": "2025-04-18T01:18:37.692Z"
   },
   {
    "duration": 6,
    "start_time": "2025-04-18T01:18:37.867Z"
   },
   {
    "duration": 7810,
    "start_time": "2025-04-18T01:18:37.874Z"
   },
   {
    "duration": 13,
    "start_time": "2025-04-18T01:18:45.686Z"
   },
   {
    "duration": 37,
    "start_time": "2025-04-18T01:18:45.702Z"
   },
   {
    "duration": 9,
    "start_time": "2025-04-18T01:18:45.741Z"
   },
   {
    "duration": 37,
    "start_time": "2025-04-18T01:18:45.776Z"
   },
   {
    "duration": 13,
    "start_time": "2025-04-18T01:18:45.814Z"
   },
   {
    "duration": 62,
    "start_time": "2025-04-18T01:18:45.829Z"
   },
   {
    "duration": 44,
    "start_time": "2025-04-18T01:18:45.893Z"
   },
   {
    "duration": 76,
    "start_time": "2025-04-18T01:18:45.939Z"
   },
   {
    "duration": 23,
    "start_time": "2025-04-18T01:18:46.017Z"
   },
   {
    "duration": 319,
    "start_time": "2025-04-18T01:18:46.042Z"
   },
   {
    "duration": 291,
    "start_time": "2025-04-18T01:18:46.363Z"
   },
   {
    "duration": 277,
    "start_time": "2025-04-18T01:18:46.656Z"
   },
   {
    "duration": 89,
    "start_time": "2025-04-18T01:18:46.935Z"
   },
   {
    "duration": 135,
    "start_time": "2025-04-18T01:18:47.026Z"
   },
   {
    "duration": 21,
    "start_time": "2025-04-18T01:18:47.163Z"
   },
   {
    "duration": 77,
    "start_time": "2025-04-18T01:18:47.186Z"
   },
   {
    "duration": 3,
    "start_time": "2025-04-18T01:18:47.265Z"
   },
   {
    "duration": 1772,
    "start_time": "2025-04-18T01:18:47.276Z"
   },
   {
    "duration": 39,
    "start_time": "2025-04-18T01:18:49.050Z"
   },
   {
    "duration": 4109,
    "start_time": "2025-04-18T01:18:49.091Z"
   },
   {
    "duration": 4,
    "start_time": "2025-04-18T01:18:53.202Z"
   },
   {
    "duration": 43582,
    "start_time": "2025-04-18T01:18:53.208Z"
   },
   {
    "duration": 295,
    "start_time": "2025-04-18T01:19:36.792Z"
   },
   {
    "duration": 90,
    "start_time": "2025-04-18T01:19:37.089Z"
   },
   {
    "duration": 9,
    "start_time": "2025-04-18T01:19:37.182Z"
   },
   {
    "duration": 606,
    "start_time": "2025-04-18T01:19:37.196Z"
   },
   {
    "duration": 15,
    "start_time": "2025-04-18T01:19:37.804Z"
   },
   {
    "duration": 12,
    "start_time": "2025-04-18T01:19:37.821Z"
   },
   {
    "duration": 20,
    "start_time": "2025-04-18T01:19:37.838Z"
   },
   {
    "duration": 27,
    "start_time": "2025-04-18T01:19:37.860Z"
   },
   {
    "duration": 8357,
    "start_time": "2025-04-18T01:19:37.890Z"
   },
   {
    "duration": 4,
    "start_time": "2025-04-18T01:19:46.249Z"
   },
   {
    "duration": 32,
    "start_time": "2025-04-18T01:19:46.255Z"
   },
   {
    "duration": 5,
    "start_time": "2025-04-18T01:19:46.289Z"
   },
   {
    "duration": 12,
    "start_time": "2025-04-18T01:19:46.295Z"
   },
   {
    "duration": 7,
    "start_time": "2025-04-18T01:19:46.309Z"
   },
   {
    "duration": 3,
    "start_time": "2025-04-18T01:19:46.318Z"
   },
   {
    "duration": 4,
    "start_time": "2025-04-18T01:19:46.323Z"
   },
   {
    "duration": 102769,
    "start_time": "2025-04-18T01:19:46.328Z"
   },
   {
    "duration": 5,
    "start_time": "2025-04-18T01:21:29.098Z"
   },
   {
    "duration": 278,
    "start_time": "2025-04-18T01:21:29.104Z"
   },
   {
    "duration": 4,
    "start_time": "2025-04-18T01:21:29.384Z"
   },
   {
    "duration": 5,
    "start_time": "2025-04-18T01:21:37.128Z"
   },
   {
    "duration": 42,
    "start_time": "2025-04-18T01:21:48.050Z"
   },
   {
    "duration": 3,
    "start_time": "2025-04-18T01:21:49.139Z"
   },
   {
    "duration": 38693,
    "start_time": "2025-04-18T01:21:50.320Z"
   },
   {
    "duration": 96,
    "start_time": "2025-04-18T01:24:11.537Z"
   },
   {
    "duration": 97,
    "start_time": "2025-04-18T01:25:01.710Z"
   },
   {
    "duration": 186,
    "start_time": "2025-04-18T01:25:51.715Z"
   },
   {
    "duration": 87,
    "start_time": "2025-04-18T01:26:10.533Z"
   },
   {
    "duration": 72,
    "start_time": "2025-04-18T01:26:19.775Z"
   },
   {
    "duration": 63,
    "start_time": "2025-04-18T01:27:40.243Z"
   },
   {
    "duration": 112056,
    "start_time": "2025-04-18T01:27:52.319Z"
   },
   {
    "duration": 66492,
    "start_time": "2025-04-18T01:30:16.712Z"
   },
   {
    "duration": 161989,
    "start_time": "2025-04-18T01:32:07.769Z"
   },
   {
    "duration": 1609,
    "start_time": "2025-04-18T01:39:46.461Z"
   },
   {
    "duration": 990,
    "start_time": "2025-04-18T01:39:48.072Z"
   },
   {
    "duration": 23,
    "start_time": "2025-04-18T01:39:49.064Z"
   },
   {
    "duration": 181,
    "start_time": "2025-04-18T01:39:49.089Z"
   },
   {
    "duration": 615,
    "start_time": "2025-04-18T01:39:49.277Z"
   },
   {
    "duration": 1220,
    "start_time": "2025-04-18T01:39:49.894Z"
   },
   {
    "duration": 3,
    "start_time": "2025-04-18T01:39:51.117Z"
   },
   {
    "duration": 93,
    "start_time": "2025-04-18T01:39:51.122Z"
   },
   {
    "duration": 201,
    "start_time": "2025-04-18T01:39:51.217Z"
   },
   {
    "duration": 173,
    "start_time": "2025-04-18T01:39:51.420Z"
   },
   {
    "duration": 7,
    "start_time": "2025-04-18T01:39:51.595Z"
   },
   {
    "duration": 7874,
    "start_time": "2025-04-18T01:39:51.604Z"
   },
   {
    "duration": 14,
    "start_time": "2025-04-18T01:39:59.480Z"
   },
   {
    "duration": 40,
    "start_time": "2025-04-18T01:39:59.498Z"
   },
   {
    "duration": 8,
    "start_time": "2025-04-18T01:39:59.540Z"
   },
   {
    "duration": 58,
    "start_time": "2025-04-18T01:39:59.550Z"
   },
   {
    "duration": 10,
    "start_time": "2025-04-18T01:39:59.610Z"
   },
   {
    "duration": 28,
    "start_time": "2025-04-18T01:39:59.621Z"
   },
   {
    "duration": 54,
    "start_time": "2025-04-18T01:39:59.650Z"
   },
   {
    "duration": 42,
    "start_time": "2025-04-18T01:39:59.705Z"
   },
   {
    "duration": 34,
    "start_time": "2025-04-18T01:39:59.749Z"
   },
   {
    "duration": 318,
    "start_time": "2025-04-18T01:39:59.785Z"
   },
   {
    "duration": 300,
    "start_time": "2025-04-18T01:40:00.105Z"
   },
   {
    "duration": 286,
    "start_time": "2025-04-18T01:40:00.406Z"
   },
   {
    "duration": 97,
    "start_time": "2025-04-18T01:40:00.693Z"
   },
   {
    "duration": 112,
    "start_time": "2025-04-18T01:40:00.792Z"
   },
   {
    "duration": 90,
    "start_time": "2025-04-18T01:40:00.906Z"
   },
   {
    "duration": 79,
    "start_time": "2025-04-18T01:40:00.998Z"
   },
   {
    "duration": 3,
    "start_time": "2025-04-18T01:40:01.079Z"
   },
   {
    "duration": 1793,
    "start_time": "2025-04-18T01:40:01.084Z"
   },
   {
    "duration": 32,
    "start_time": "2025-04-18T01:40:02.879Z"
   },
   {
    "duration": 4289,
    "start_time": "2025-04-18T01:40:02.912Z"
   },
   {
    "duration": 4,
    "start_time": "2025-04-18T01:40:07.203Z"
   },
   {
    "duration": 40878,
    "start_time": "2025-04-18T01:40:07.209Z"
   },
   {
    "duration": 290,
    "start_time": "2025-04-18T01:40:48.089Z"
   },
   {
    "duration": 93,
    "start_time": "2025-04-18T01:40:48.384Z"
   },
   {
    "duration": 48,
    "start_time": "2025-04-18T01:40:48.478Z"
   },
   {
    "duration": 544,
    "start_time": "2025-04-18T01:40:48.528Z"
   },
   {
    "duration": 18,
    "start_time": "2025-04-18T01:40:49.078Z"
   },
   {
    "duration": 4,
    "start_time": "2025-04-18T01:40:49.098Z"
   },
   {
    "duration": 3,
    "start_time": "2025-04-18T01:40:49.108Z"
   },
   {
    "duration": 3,
    "start_time": "2025-04-18T01:40:49.113Z"
   },
   {
    "duration": 9659,
    "start_time": "2025-04-18T01:40:49.118Z"
   },
   {
    "duration": 4,
    "start_time": "2025-04-18T01:40:58.779Z"
   },
   {
    "duration": 41,
    "start_time": "2025-04-18T01:40:58.785Z"
   },
   {
    "duration": 4,
    "start_time": "2025-04-18T01:40:58.828Z"
   },
   {
    "duration": 20,
    "start_time": "2025-04-18T01:40:58.834Z"
   },
   {
    "duration": 21,
    "start_time": "2025-04-18T01:40:58.856Z"
   },
   {
    "duration": 17,
    "start_time": "2025-04-18T01:40:58.879Z"
   },
   {
    "duration": 25,
    "start_time": "2025-04-18T01:40:58.898Z"
   },
   {
    "duration": 94258,
    "start_time": "2025-04-18T01:40:58.924Z"
   },
   {
    "duration": 5,
    "start_time": "2025-04-18T01:42:33.183Z"
   },
   {
    "duration": 306,
    "start_time": "2025-04-18T01:42:33.189Z"
   },
   {
    "duration": 5,
    "start_time": "2025-04-18T01:42:33.497Z"
   },
   {
    "duration": 1594,
    "start_time": "2025-04-18T10:16:30.984Z"
   },
   {
    "duration": 908,
    "start_time": "2025-04-18T10:16:32.579Z"
   },
   {
    "duration": 19,
    "start_time": "2025-04-18T10:16:33.488Z"
   },
   {
    "duration": 158,
    "start_time": "2025-04-18T10:16:33.509Z"
   },
   {
    "duration": 487,
    "start_time": "2025-04-18T10:16:33.668Z"
   },
   {
    "duration": 511,
    "start_time": "2025-04-18T10:16:34.157Z"
   },
   {
    "duration": 3,
    "start_time": "2025-04-18T10:16:34.670Z"
   },
   {
    "duration": 40,
    "start_time": "2025-04-18T10:16:34.674Z"
   },
   {
    "duration": 106,
    "start_time": "2025-04-18T10:16:34.716Z"
   },
   {
    "duration": 66,
    "start_time": "2025-04-18T10:16:34.825Z"
   },
   {
    "duration": 6,
    "start_time": "2025-04-18T10:16:34.893Z"
   },
   {
    "duration": 7387,
    "start_time": "2025-04-18T10:16:34.901Z"
   },
   {
    "duration": 12,
    "start_time": "2025-04-18T10:16:42.290Z"
   },
   {
    "duration": 29,
    "start_time": "2025-04-18T10:16:42.303Z"
   },
   {
    "duration": 8,
    "start_time": "2025-04-18T10:16:42.334Z"
   },
   {
    "duration": 34,
    "start_time": "2025-04-18T10:16:42.362Z"
   },
   {
    "duration": 9,
    "start_time": "2025-04-18T10:16:42.398Z"
   },
   {
    "duration": 25,
    "start_time": "2025-04-18T10:16:42.408Z"
   },
   {
    "duration": 51,
    "start_time": "2025-04-18T10:16:42.435Z"
   },
   {
    "duration": 39,
    "start_time": "2025-04-18T10:16:42.487Z"
   },
   {
    "duration": 34,
    "start_time": "2025-04-18T10:16:42.528Z"
   },
   {
    "duration": 269,
    "start_time": "2025-04-18T10:16:42.564Z"
   },
   {
    "duration": 259,
    "start_time": "2025-04-18T10:16:42.835Z"
   },
   {
    "duration": 259,
    "start_time": "2025-04-18T10:16:43.096Z"
   },
   {
    "duration": 86,
    "start_time": "2025-04-18T10:16:43.356Z"
   },
   {
    "duration": 109,
    "start_time": "2025-04-18T10:16:43.444Z"
   },
   {
    "duration": 16,
    "start_time": "2025-04-18T10:16:43.555Z"
   },
   {
    "duration": 66,
    "start_time": "2025-04-18T10:16:43.575Z"
   },
   {
    "duration": 3,
    "start_time": "2025-04-18T10:16:43.643Z"
   },
   {
    "duration": 1657,
    "start_time": "2025-04-18T10:16:43.662Z"
   },
   {
    "duration": 29,
    "start_time": "2025-04-18T10:16:45.321Z"
   },
   {
    "duration": 2660,
    "start_time": "2025-04-18T10:16:45.352Z"
   },
   {
    "duration": 3,
    "start_time": "2025-04-18T10:16:48.014Z"
   },
   {
    "duration": 23350,
    "start_time": "2025-04-18T10:16:48.018Z"
   },
   {
    "duration": 207,
    "start_time": "2025-04-18T10:17:11.370Z"
   },
   {
    "duration": 89,
    "start_time": "2025-04-18T10:17:11.579Z"
   },
   {
    "duration": 94,
    "start_time": "2025-04-18T10:17:11.670Z"
   },
   {
    "duration": 501,
    "start_time": "2025-04-18T10:17:11.766Z"
   },
   {
    "duration": 16,
    "start_time": "2025-04-18T10:17:12.269Z"
   },
   {
    "duration": 4,
    "start_time": "2025-04-18T10:17:12.286Z"
   },
   {
    "duration": 4,
    "start_time": "2025-04-18T10:17:12.291Z"
   },
   {
    "duration": 5,
    "start_time": "2025-04-18T10:17:12.296Z"
   },
   {
    "duration": 9489,
    "start_time": "2025-04-18T10:17:12.302Z"
   },
   {
    "duration": 4,
    "start_time": "2025-04-18T10:17:21.793Z"
   },
   {
    "duration": 44,
    "start_time": "2025-04-18T10:17:21.799Z"
   },
   {
    "duration": 5,
    "start_time": "2025-04-18T10:17:21.844Z"
   },
   {
    "duration": 28,
    "start_time": "2025-04-18T10:17:21.851Z"
   },
   {
    "duration": 14,
    "start_time": "2025-04-18T10:17:21.880Z"
   },
   {
    "duration": 28,
    "start_time": "2025-04-18T10:17:21.895Z"
   },
   {
    "duration": 21,
    "start_time": "2025-04-18T10:17:21.924Z"
   },
   {
    "duration": 12830,
    "start_time": "2025-04-18T10:17:21.947Z"
   },
   {
    "duration": 86,
    "start_time": "2025-04-18T10:17:34.778Z"
   },
   {
    "duration": 297,
    "start_time": "2025-04-18T10:17:34.866Z"
   },
   {
    "duration": 5,
    "start_time": "2025-04-18T10:17:35.165Z"
   },
   {
    "duration": 13853,
    "start_time": "2025-04-18T10:20:50.924Z"
   },
   {
    "duration": 86,
    "start_time": "2025-04-18T10:21:04.778Z"
   },
   {
    "duration": 7,
    "start_time": "2025-04-18T10:27:27.052Z"
   },
   {
    "duration": 13,
    "start_time": "2025-04-18T10:29:05.467Z"
   },
   {
    "duration": 13,
    "start_time": "2025-04-18T10:29:21.632Z"
   },
   {
    "duration": 12,
    "start_time": "2025-04-18T10:29:26.537Z"
   },
   {
    "duration": 118,
    "start_time": "2025-04-18T10:31:50.599Z"
   },
   {
    "duration": 101,
    "start_time": "2025-04-18T10:31:54.704Z"
   },
   {
    "duration": 101,
    "start_time": "2025-04-18T10:32:01.115Z"
   },
   {
    "duration": 16,
    "start_time": "2025-04-18T10:32:11.039Z"
   },
   {
    "duration": 23,
    "start_time": "2025-04-18T10:32:55.505Z"
   },
   {
    "duration": 1441,
    "start_time": "2025-04-18T10:37:53.635Z"
   },
   {
    "duration": 911,
    "start_time": "2025-04-18T10:37:55.078Z"
   },
   {
    "duration": 17,
    "start_time": "2025-04-18T10:37:55.991Z"
   },
   {
    "duration": 159,
    "start_time": "2025-04-18T10:37:56.010Z"
   },
   {
    "duration": 503,
    "start_time": "2025-04-18T10:37:56.171Z"
   },
   {
    "duration": 533,
    "start_time": "2025-04-18T10:37:56.676Z"
   },
   {
    "duration": 4,
    "start_time": "2025-04-18T10:37:57.210Z"
   },
   {
    "duration": 47,
    "start_time": "2025-04-18T10:37:57.215Z"
   },
   {
    "duration": 152,
    "start_time": "2025-04-18T10:37:57.264Z"
   },
   {
    "duration": 68,
    "start_time": "2025-04-18T10:37:57.419Z"
   },
   {
    "duration": 6,
    "start_time": "2025-04-18T10:37:57.488Z"
   },
   {
    "duration": 7461,
    "start_time": "2025-04-18T10:37:57.495Z"
   },
   {
    "duration": 19,
    "start_time": "2025-04-18T10:38:04.957Z"
   },
   {
    "duration": 17,
    "start_time": "2025-04-18T10:38:04.977Z"
   },
   {
    "duration": 9,
    "start_time": "2025-04-18T10:38:04.996Z"
   },
   {
    "duration": 13,
    "start_time": "2025-04-18T10:38:05.007Z"
   },
   {
    "duration": 8,
    "start_time": "2025-04-18T10:38:05.022Z"
   },
   {
    "duration": 7,
    "start_time": "2025-04-18T10:38:05.062Z"
   },
   {
    "duration": 22,
    "start_time": "2025-04-18T10:38:05.071Z"
   },
   {
    "duration": 17,
    "start_time": "2025-04-18T10:38:05.095Z"
   },
   {
    "duration": 16,
    "start_time": "2025-04-18T10:38:05.114Z"
   },
   {
    "duration": 214,
    "start_time": "2025-04-18T10:38:05.132Z"
   },
   {
    "duration": 0,
    "start_time": "2025-04-18T10:38:05.348Z"
   },
   {
    "duration": 0,
    "start_time": "2025-04-18T10:38:05.350Z"
   },
   {
    "duration": 0,
    "start_time": "2025-04-18T10:38:05.351Z"
   },
   {
    "duration": 0,
    "start_time": "2025-04-18T10:38:05.352Z"
   },
   {
    "duration": 0,
    "start_time": "2025-04-18T10:38:05.363Z"
   },
   {
    "duration": 0,
    "start_time": "2025-04-18T10:38:05.364Z"
   },
   {
    "duration": 0,
    "start_time": "2025-04-18T10:38:05.365Z"
   },
   {
    "duration": 0,
    "start_time": "2025-04-18T10:38:05.366Z"
   },
   {
    "duration": 0,
    "start_time": "2025-04-18T10:38:05.368Z"
   },
   {
    "duration": 0,
    "start_time": "2025-04-18T10:38:05.369Z"
   },
   {
    "duration": 0,
    "start_time": "2025-04-18T10:38:05.370Z"
   },
   {
    "duration": 0,
    "start_time": "2025-04-18T10:38:05.372Z"
   },
   {
    "duration": 1,
    "start_time": "2025-04-18T10:38:05.373Z"
   },
   {
    "duration": 0,
    "start_time": "2025-04-18T10:38:05.376Z"
   },
   {
    "duration": 0,
    "start_time": "2025-04-18T10:38:05.377Z"
   },
   {
    "duration": 0,
    "start_time": "2025-04-18T10:38:05.379Z"
   },
   {
    "duration": 0,
    "start_time": "2025-04-18T10:38:05.380Z"
   },
   {
    "duration": 0,
    "start_time": "2025-04-18T10:38:05.382Z"
   },
   {
    "duration": 0,
    "start_time": "2025-04-18T10:38:05.383Z"
   },
   {
    "duration": 0,
    "start_time": "2025-04-18T10:38:05.384Z"
   },
   {
    "duration": 0,
    "start_time": "2025-04-18T10:38:05.385Z"
   },
   {
    "duration": 0,
    "start_time": "2025-04-18T10:38:05.386Z"
   },
   {
    "duration": 0,
    "start_time": "2025-04-18T10:38:05.387Z"
   },
   {
    "duration": 0,
    "start_time": "2025-04-18T10:38:05.388Z"
   },
   {
    "duration": 0,
    "start_time": "2025-04-18T10:38:05.389Z"
   },
   {
    "duration": 0,
    "start_time": "2025-04-18T10:38:05.391Z"
   },
   {
    "duration": 0,
    "start_time": "2025-04-18T10:38:05.393Z"
   },
   {
    "duration": 0,
    "start_time": "2025-04-18T10:38:05.393Z"
   },
   {
    "duration": 0,
    "start_time": "2025-04-18T10:38:05.395Z"
   },
   {
    "duration": 0,
    "start_time": "2025-04-18T10:38:05.396Z"
   },
   {
    "duration": 0,
    "start_time": "2025-04-18T10:38:05.397Z"
   },
   {
    "duration": 0,
    "start_time": "2025-04-18T10:38:05.398Z"
   },
   {
    "duration": 13,
    "start_time": "2025-04-18T10:39:03.171Z"
   },
   {
    "duration": 82,
    "start_time": "2025-04-18T10:39:32.866Z"
   },
   {
    "duration": 17,
    "start_time": "2025-04-18T10:39:37.799Z"
   },
   {
    "duration": 1510,
    "start_time": "2025-04-18T10:40:55.572Z"
   },
   {
    "duration": 988,
    "start_time": "2025-04-18T10:40:57.084Z"
   },
   {
    "duration": 19,
    "start_time": "2025-04-18T10:40:58.074Z"
   },
   {
    "duration": 181,
    "start_time": "2025-04-18T10:40:58.095Z"
   },
   {
    "duration": 528,
    "start_time": "2025-04-18T10:40:58.278Z"
   },
   {
    "duration": 531,
    "start_time": "2025-04-18T10:40:58.807Z"
   },
   {
    "duration": 3,
    "start_time": "2025-04-18T10:40:59.339Z"
   },
   {
    "duration": 47,
    "start_time": "2025-04-18T10:40:59.344Z"
   },
   {
    "duration": 96,
    "start_time": "2025-04-18T10:40:59.393Z"
   },
   {
    "duration": 72,
    "start_time": "2025-04-18T10:40:59.491Z"
   },
   {
    "duration": 6,
    "start_time": "2025-04-18T10:40:59.565Z"
   },
   {
    "duration": 7421,
    "start_time": "2025-04-18T10:40:59.573Z"
   },
   {
    "duration": 13,
    "start_time": "2025-04-18T10:41:06.996Z"
   },
   {
    "duration": 40,
    "start_time": "2025-04-18T10:41:07.010Z"
   },
   {
    "duration": 18,
    "start_time": "2025-04-18T10:41:07.052Z"
   },
   {
    "duration": 30,
    "start_time": "2025-04-18T10:41:07.071Z"
   },
   {
    "duration": 9,
    "start_time": "2025-04-18T10:41:07.103Z"
   },
   {
    "duration": 46,
    "start_time": "2025-04-18T10:41:07.113Z"
   },
   {
    "duration": 25,
    "start_time": "2025-04-18T10:41:07.160Z"
   },
   {
    "duration": 59,
    "start_time": "2025-04-18T10:41:07.187Z"
   },
   {
    "duration": 31,
    "start_time": "2025-04-18T10:41:07.249Z"
   },
   {
    "duration": 300,
    "start_time": "2025-04-18T10:41:07.284Z"
   },
   {
    "duration": 245,
    "start_time": "2025-04-18T10:41:07.586Z"
   },
   {
    "duration": 246,
    "start_time": "2025-04-18T10:41:07.832Z"
   },
   {
    "duration": 84,
    "start_time": "2025-04-18T10:41:08.080Z"
   },
   {
    "duration": 80,
    "start_time": "2025-04-18T10:41:08.166Z"
   },
   {
    "duration": 25,
    "start_time": "2025-04-18T10:41:08.248Z"
   },
   {
    "duration": 60,
    "start_time": "2025-04-18T10:41:08.277Z"
   },
   {
    "duration": 3,
    "start_time": "2025-04-18T10:41:08.338Z"
   },
   {
    "duration": 1276,
    "start_time": "2025-04-18T10:41:08.342Z"
   },
   {
    "duration": 0,
    "start_time": "2025-04-18T10:41:09.620Z"
   },
   {
    "duration": 0,
    "start_time": "2025-04-18T10:41:09.621Z"
   },
   {
    "duration": 0,
    "start_time": "2025-04-18T10:41:09.622Z"
   },
   {
    "duration": 0,
    "start_time": "2025-04-18T10:41:09.623Z"
   },
   {
    "duration": 0,
    "start_time": "2025-04-18T10:41:09.624Z"
   },
   {
    "duration": 0,
    "start_time": "2025-04-18T10:41:09.625Z"
   },
   {
    "duration": 0,
    "start_time": "2025-04-18T10:41:09.625Z"
   },
   {
    "duration": 0,
    "start_time": "2025-04-18T10:41:09.626Z"
   },
   {
    "duration": 0,
    "start_time": "2025-04-18T10:41:09.627Z"
   },
   {
    "duration": 0,
    "start_time": "2025-04-18T10:41:09.628Z"
   },
   {
    "duration": 0,
    "start_time": "2025-04-18T10:41:09.629Z"
   },
   {
    "duration": 0,
    "start_time": "2025-04-18T10:41:09.631Z"
   },
   {
    "duration": 0,
    "start_time": "2025-04-18T10:41:09.632Z"
   },
   {
    "duration": 0,
    "start_time": "2025-04-18T10:41:09.633Z"
   },
   {
    "duration": 0,
    "start_time": "2025-04-18T10:41:09.635Z"
   },
   {
    "duration": 0,
    "start_time": "2025-04-18T10:41:09.636Z"
   },
   {
    "duration": 0,
    "start_time": "2025-04-18T10:41:09.663Z"
   },
   {
    "duration": 0,
    "start_time": "2025-04-18T10:41:09.664Z"
   },
   {
    "duration": 0,
    "start_time": "2025-04-18T10:41:09.665Z"
   },
   {
    "duration": 0,
    "start_time": "2025-04-18T10:41:09.666Z"
   },
   {
    "duration": 0,
    "start_time": "2025-04-18T10:41:09.667Z"
   },
   {
    "duration": 0,
    "start_time": "2025-04-18T10:41:09.668Z"
   },
   {
    "duration": 0,
    "start_time": "2025-04-18T10:41:09.668Z"
   },
   {
    "duration": 0,
    "start_time": "2025-04-18T10:41:09.669Z"
   },
   {
    "duration": 1178,
    "start_time": "2025-04-18T10:41:45.336Z"
   },
   {
    "duration": 14,
    "start_time": "2025-04-18T10:42:56.812Z"
   },
   {
    "duration": 51,
    "start_time": "2025-04-18T10:42:57.384Z"
   },
   {
    "duration": 3,
    "start_time": "2025-04-18T10:42:58.200Z"
   },
   {
    "duration": 1369,
    "start_time": "2025-04-18T10:42:58.952Z"
   },
   {
    "duration": 22,
    "start_time": "2025-04-18T10:43:06.056Z"
   },
   {
    "duration": 2236,
    "start_time": "2025-04-18T10:43:07.593Z"
   },
   {
    "duration": 3,
    "start_time": "2025-04-18T10:43:10.524Z"
   },
   {
    "duration": 18985,
    "start_time": "2025-04-18T10:43:12.780Z"
   },
   {
    "duration": 201,
    "start_time": "2025-04-18T10:43:31.768Z"
   },
   {
    "duration": 6,
    "start_time": "2025-04-18T10:43:32.062Z"
   },
   {
    "duration": 92,
    "start_time": "2025-04-18T10:43:32.071Z"
   },
   {
    "duration": 428,
    "start_time": "2025-04-18T10:43:56.596Z"
   },
   {
    "duration": 14,
    "start_time": "2025-04-18T10:43:57.770Z"
   },
   {
    "duration": 3,
    "start_time": "2025-04-18T10:43:58.919Z"
   },
   {
    "duration": 2,
    "start_time": "2025-04-18T10:43:58.944Z"
   },
   {
    "duration": 3,
    "start_time": "2025-04-18T10:43:59.509Z"
   },
   {
    "duration": 8331,
    "start_time": "2025-04-18T10:44:00.757Z"
   },
   {
    "duration": 4,
    "start_time": "2025-04-18T10:44:11.271Z"
   },
   {
    "duration": 16,
    "start_time": "2025-04-18T10:44:14.392Z"
   },
   {
    "duration": 4,
    "start_time": "2025-04-18T10:44:18.094Z"
   },
   {
    "duration": 3,
    "start_time": "2025-04-18T10:44:18.772Z"
   },
   {
    "duration": 3,
    "start_time": "2025-04-18T10:44:25.508Z"
   },
   {
    "duration": 3,
    "start_time": "2025-04-18T10:44:25.996Z"
   },
   {
    "duration": 3,
    "start_time": "2025-04-18T10:44:26.476Z"
   },
   {
    "duration": 12113,
    "start_time": "2025-04-18T10:44:27.056Z"
   },
   {
    "duration": 5,
    "start_time": "2025-04-18T10:44:39.170Z"
   },
   {
    "duration": 198,
    "start_time": "2025-04-18T10:44:39.176Z"
   },
   {
    "duration": 4,
    "start_time": "2025-04-18T10:44:39.376Z"
   },
   {
    "duration": 108,
    "start_time": "2025-04-18T10:47:03.553Z"
   },
   {
    "duration": 1444,
    "start_time": "2025-04-18T10:47:22.635Z"
   },
   {
    "duration": 908,
    "start_time": "2025-04-18T10:47:24.081Z"
   },
   {
    "duration": 17,
    "start_time": "2025-04-18T10:47:24.991Z"
   },
   {
    "duration": 166,
    "start_time": "2025-04-18T10:47:25.011Z"
   },
   {
    "duration": 516,
    "start_time": "2025-04-18T10:47:25.179Z"
   },
   {
    "duration": 527,
    "start_time": "2025-04-18T10:47:25.697Z"
   },
   {
    "duration": 3,
    "start_time": "2025-04-18T10:47:26.226Z"
   },
   {
    "duration": 43,
    "start_time": "2025-04-18T10:47:26.230Z"
   },
   {
    "duration": 94,
    "start_time": "2025-04-18T10:47:26.275Z"
   },
   {
    "duration": 103,
    "start_time": "2025-04-18T10:47:26.372Z"
   },
   {
    "duration": 7,
    "start_time": "2025-04-18T10:47:26.476Z"
   },
   {
    "duration": 7365,
    "start_time": "2025-04-18T10:47:26.484Z"
   },
   {
    "duration": 17,
    "start_time": "2025-04-18T10:47:33.851Z"
   },
   {
    "duration": 30,
    "start_time": "2025-04-18T10:47:33.869Z"
   },
   {
    "duration": 14,
    "start_time": "2025-04-18T10:47:33.900Z"
   },
   {
    "duration": 46,
    "start_time": "2025-04-18T10:47:33.916Z"
   },
   {
    "duration": 8,
    "start_time": "2025-04-18T10:47:33.964Z"
   },
   {
    "duration": 24,
    "start_time": "2025-04-18T10:47:33.973Z"
   },
   {
    "duration": 23,
    "start_time": "2025-04-18T10:47:33.999Z"
   },
   {
    "duration": 57,
    "start_time": "2025-04-18T10:47:34.023Z"
   },
   {
    "duration": 18,
    "start_time": "2025-04-18T10:47:34.082Z"
   },
   {
    "duration": 306,
    "start_time": "2025-04-18T10:47:34.101Z"
   },
   {
    "duration": 249,
    "start_time": "2025-04-18T10:47:34.409Z"
   },
   {
    "duration": 273,
    "start_time": "2025-04-18T10:47:34.659Z"
   },
   {
    "duration": 87,
    "start_time": "2025-04-18T10:47:34.933Z"
   },
   {
    "duration": 88,
    "start_time": "2025-04-18T10:47:35.021Z"
   },
   {
    "duration": 22,
    "start_time": "2025-04-18T10:47:35.111Z"
   },
   {
    "duration": 68,
    "start_time": "2025-04-18T10:47:35.138Z"
   },
   {
    "duration": 4,
    "start_time": "2025-04-18T10:47:35.207Z"
   },
   {
    "duration": 1394,
    "start_time": "2025-04-18T10:47:35.213Z"
   },
   {
    "duration": 22,
    "start_time": "2025-04-18T10:47:36.609Z"
   },
   {
    "duration": 2165,
    "start_time": "2025-04-18T10:47:36.633Z"
   },
   {
    "duration": 3,
    "start_time": "2025-04-18T10:47:38.799Z"
   },
   {
    "duration": 18661,
    "start_time": "2025-04-18T10:47:38.803Z"
   },
   {
    "duration": 199,
    "start_time": "2025-04-18T10:47:57.466Z"
   },
   {
    "duration": 221,
    "start_time": "2025-04-18T10:47:57.667Z"
   },
   {
    "duration": 0,
    "start_time": "2025-04-18T10:47:57.890Z"
   },
   {
    "duration": 0,
    "start_time": "2025-04-18T10:47:57.892Z"
   },
   {
    "duration": 0,
    "start_time": "2025-04-18T10:47:57.893Z"
   },
   {
    "duration": 0,
    "start_time": "2025-04-18T10:47:57.895Z"
   },
   {
    "duration": 0,
    "start_time": "2025-04-18T10:47:57.897Z"
   },
   {
    "duration": 0,
    "start_time": "2025-04-18T10:47:57.898Z"
   },
   {
    "duration": 0,
    "start_time": "2025-04-18T10:47:57.900Z"
   },
   {
    "duration": 0,
    "start_time": "2025-04-18T10:47:57.901Z"
   },
   {
    "duration": 0,
    "start_time": "2025-04-18T10:47:57.902Z"
   },
   {
    "duration": 0,
    "start_time": "2025-04-18T10:47:57.904Z"
   },
   {
    "duration": 0,
    "start_time": "2025-04-18T10:47:57.905Z"
   },
   {
    "duration": 0,
    "start_time": "2025-04-18T10:47:57.907Z"
   },
   {
    "duration": 0,
    "start_time": "2025-04-18T10:47:57.908Z"
   },
   {
    "duration": 0,
    "start_time": "2025-04-18T10:47:57.909Z"
   },
   {
    "duration": 1,
    "start_time": "2025-04-18T10:47:57.911Z"
   },
   {
    "duration": 0,
    "start_time": "2025-04-18T10:47:57.913Z"
   },
   {
    "duration": 0,
    "start_time": "2025-04-18T10:47:57.914Z"
   },
   {
    "duration": 0,
    "start_time": "2025-04-18T10:47:57.916Z"
   },
   {
    "duration": 424,
    "start_time": "2025-04-18T10:49:33.347Z"
   },
   {
    "duration": 13,
    "start_time": "2025-04-18T10:49:34.736Z"
   },
   {
    "duration": 3,
    "start_time": "2025-04-18T10:49:40.918Z"
   },
   {
    "duration": 3,
    "start_time": "2025-04-18T10:49:46.031Z"
   },
   {
    "duration": 3,
    "start_time": "2025-04-18T10:50:22.357Z"
   },
   {
    "duration": 5853,
    "start_time": "2025-04-18T10:50:37.319Z"
   },
   {
    "duration": 5,
    "start_time": "2025-04-18T10:50:55.151Z"
   },
   {
    "duration": 10,
    "start_time": "2025-04-18T10:51:07.871Z"
   },
   {
    "duration": 4,
    "start_time": "2025-04-18T10:51:15.405Z"
   },
   {
    "duration": 8,
    "start_time": "2025-04-18T10:51:28.587Z"
   },
   {
    "duration": 19,
    "start_time": "2025-04-18T10:52:41.057Z"
   },
   {
    "duration": 12,
    "start_time": "2025-04-18T10:53:10.510Z"
   },
   {
    "duration": 13,
    "start_time": "2025-04-18T10:55:00.306Z"
   },
   {
    "duration": 4,
    "start_time": "2025-04-18T10:55:50.025Z"
   },
   {
    "duration": 4,
    "start_time": "2025-04-18T10:56:40.971Z"
   },
   {
    "duration": 6,
    "start_time": "2025-04-18T10:56:52.695Z"
   },
   {
    "duration": 4,
    "start_time": "2025-04-18T10:57:01.231Z"
   },
   {
    "duration": 4,
    "start_time": "2025-04-18T10:57:09.320Z"
   },
   {
    "duration": 30,
    "start_time": "2025-04-18T10:58:03.902Z"
   },
   {
    "duration": 3,
    "start_time": "2025-04-18T11:00:04.489Z"
   },
   {
    "duration": 4,
    "start_time": "2025-04-18T11:00:04.987Z"
   },
   {
    "duration": 3,
    "start_time": "2025-04-18T11:00:10.222Z"
   },
   {
    "duration": 16063,
    "start_time": "2025-04-18T11:00:15.312Z"
   },
   {
    "duration": 13,
    "start_time": "2025-04-18T11:00:49.031Z"
   },
   {
    "duration": 3,
    "start_time": "2025-04-18T11:01:17.649Z"
   },
   {
    "duration": 4,
    "start_time": "2025-04-18T11:03:10.326Z"
   },
   {
    "duration": 714,
    "start_time": "2025-04-18T11:03:31.258Z"
   },
   {
    "duration": 91,
    "start_time": "2025-04-18T11:04:55.735Z"
   },
   {
    "duration": 127,
    "start_time": "2025-04-18T11:05:03.139Z"
   },
   {
    "duration": 168,
    "start_time": "2025-04-18T11:22:09.997Z"
   },
   {
    "duration": 1517,
    "start_time": "2025-04-18T11:22:55.360Z"
   },
   {
    "duration": 911,
    "start_time": "2025-04-18T11:22:56.880Z"
   },
   {
    "duration": 19,
    "start_time": "2025-04-18T11:22:57.793Z"
   },
   {
    "duration": 173,
    "start_time": "2025-04-18T11:22:57.813Z"
   },
   {
    "duration": 511,
    "start_time": "2025-04-18T11:22:57.988Z"
   },
   {
    "duration": 545,
    "start_time": "2025-04-18T11:22:58.501Z"
   },
   {
    "duration": 4,
    "start_time": "2025-04-18T11:22:59.048Z"
   },
   {
    "duration": 42,
    "start_time": "2025-04-18T11:22:59.053Z"
   },
   {
    "duration": 107,
    "start_time": "2025-04-18T11:22:59.096Z"
   },
   {
    "duration": 68,
    "start_time": "2025-04-18T11:22:59.205Z"
   },
   {
    "duration": 7,
    "start_time": "2025-04-18T11:22:59.274Z"
   },
   {
    "duration": 7308,
    "start_time": "2025-04-18T11:22:59.282Z"
   },
   {
    "duration": 13,
    "start_time": "2025-04-18T11:23:06.591Z"
   },
   {
    "duration": 46,
    "start_time": "2025-04-18T11:23:06.607Z"
   },
   {
    "duration": 14,
    "start_time": "2025-04-18T11:23:06.655Z"
   },
   {
    "duration": 30,
    "start_time": "2025-04-18T11:23:06.670Z"
   },
   {
    "duration": 8,
    "start_time": "2025-04-18T11:23:06.702Z"
   },
   {
    "duration": 54,
    "start_time": "2025-04-18T11:23:06.711Z"
   },
   {
    "duration": 23,
    "start_time": "2025-04-18T11:23:06.767Z"
   },
   {
    "duration": 54,
    "start_time": "2025-04-18T11:23:06.792Z"
   },
   {
    "duration": 21,
    "start_time": "2025-04-18T11:23:06.848Z"
   },
   {
    "duration": 259,
    "start_time": "2025-04-18T11:23:06.870Z"
   },
   {
    "duration": 268,
    "start_time": "2025-04-18T11:23:07.131Z"
   },
   {
    "duration": 247,
    "start_time": "2025-04-18T11:23:07.400Z"
   },
   {
    "duration": 75,
    "start_time": "2025-04-18T11:23:07.649Z"
   },
   {
    "duration": 92,
    "start_time": "2025-04-18T11:23:07.725Z"
   },
   {
    "duration": 16,
    "start_time": "2025-04-18T11:23:07.818Z"
   },
   {
    "duration": 66,
    "start_time": "2025-04-18T11:23:07.835Z"
   },
   {
    "duration": 2,
    "start_time": "2025-04-18T11:23:07.903Z"
   },
   {
    "duration": 1369,
    "start_time": "2025-04-18T11:23:07.907Z"
   },
   {
    "duration": 21,
    "start_time": "2025-04-18T11:23:09.278Z"
   },
   {
    "duration": 2090,
    "start_time": "2025-04-18T11:23:09.301Z"
   },
   {
    "duration": 3,
    "start_time": "2025-04-18T11:23:11.392Z"
   },
   {
    "duration": 18674,
    "start_time": "2025-04-18T11:23:11.396Z"
   },
   {
    "duration": 198,
    "start_time": "2025-04-18T11:23:30.072Z"
   },
   {
    "duration": 483,
    "start_time": "2025-04-18T11:23:30.363Z"
   },
   {
    "duration": 16,
    "start_time": "2025-04-18T11:23:30.848Z"
   },
   {
    "duration": 3,
    "start_time": "2025-04-18T11:23:30.865Z"
   },
   {
    "duration": 15,
    "start_time": "2025-04-18T11:23:30.869Z"
   },
   {
    "duration": 5,
    "start_time": "2025-04-18T11:23:30.885Z"
   },
   {
    "duration": 9550,
    "start_time": "2025-04-18T11:23:30.894Z"
   },
   {
    "duration": 21,
    "start_time": "2025-04-18T11:23:40.446Z"
   },
   {
    "duration": 17,
    "start_time": "2025-04-18T11:23:40.468Z"
   },
   {
    "duration": 48,
    "start_time": "2025-04-18T11:23:40.486Z"
   },
   {
    "duration": 3,
    "start_time": "2025-04-18T11:23:40.535Z"
   },
   {
    "duration": 28,
    "start_time": "2025-04-18T11:23:40.539Z"
   },
   {
    "duration": 20,
    "start_time": "2025-04-18T11:23:40.568Z"
   },
   {
    "duration": 11774,
    "start_time": "2025-04-18T11:23:40.590Z"
   },
   {
    "duration": 17,
    "start_time": "2025-04-18T11:23:52.366Z"
   },
   {
    "duration": 30,
    "start_time": "2025-04-18T11:23:52.385Z"
   },
   {
    "duration": 756,
    "start_time": "2025-04-18T11:23:52.417Z"
   },
   {
    "duration": 201,
    "start_time": "2025-04-18T11:23:53.175Z"
   },
   {
    "duration": 1521,
    "start_time": "2025-04-18T11:30:43.171Z"
   },
   {
    "duration": 989,
    "start_time": "2025-04-18T11:30:44.694Z"
   },
   {
    "duration": 19,
    "start_time": "2025-04-18T11:30:45.684Z"
   },
   {
    "duration": 175,
    "start_time": "2025-04-18T11:30:45.705Z"
   },
   {
    "duration": 522,
    "start_time": "2025-04-18T11:30:45.881Z"
   },
   {
    "duration": 548,
    "start_time": "2025-04-18T11:30:46.404Z"
   },
   {
    "duration": 19,
    "start_time": "2025-04-18T11:30:46.954Z"
   },
   {
    "duration": 43,
    "start_time": "2025-04-18T11:30:46.975Z"
   },
   {
    "duration": 114,
    "start_time": "2025-04-18T11:30:47.020Z"
   },
   {
    "duration": 70,
    "start_time": "2025-04-18T11:30:47.137Z"
   },
   {
    "duration": 6,
    "start_time": "2025-04-18T11:30:47.209Z"
   },
   {
    "duration": 9211,
    "start_time": "2025-04-18T11:30:47.217Z"
   },
   {
    "duration": 13,
    "start_time": "2025-04-18T11:30:56.430Z"
   },
   {
    "duration": 47,
    "start_time": "2025-04-18T11:30:56.444Z"
   },
   {
    "duration": 14,
    "start_time": "2025-04-18T11:30:56.493Z"
   },
   {
    "duration": 27,
    "start_time": "2025-04-18T11:30:56.508Z"
   },
   {
    "duration": 31,
    "start_time": "2025-04-18T11:30:56.537Z"
   },
   {
    "duration": 27,
    "start_time": "2025-04-18T11:30:56.572Z"
   },
   {
    "duration": 26,
    "start_time": "2025-04-18T11:30:56.600Z"
   },
   {
    "duration": 68,
    "start_time": "2025-04-18T11:30:56.627Z"
   },
   {
    "duration": 18,
    "start_time": "2025-04-18T11:30:56.697Z"
   },
   {
    "duration": 288,
    "start_time": "2025-04-18T11:30:56.717Z"
   },
   {
    "duration": 294,
    "start_time": "2025-04-18T11:30:57.007Z"
   },
   {
    "duration": 297,
    "start_time": "2025-04-18T11:30:57.303Z"
   },
   {
    "duration": 92,
    "start_time": "2025-04-18T11:30:57.601Z"
   },
   {
    "duration": 108,
    "start_time": "2025-04-18T11:30:57.695Z"
   },
   {
    "duration": 13,
    "start_time": "2025-04-18T11:30:57.805Z"
   },
   {
    "duration": 96,
    "start_time": "2025-04-18T11:30:57.822Z"
   },
   {
    "duration": 3,
    "start_time": "2025-04-18T11:30:57.920Z"
   },
   {
    "duration": 1534,
    "start_time": "2025-04-18T11:30:57.925Z"
   },
   {
    "duration": 29,
    "start_time": "2025-04-18T11:30:59.463Z"
   },
   {
    "duration": 2199,
    "start_time": "2025-04-18T11:30:59.494Z"
   },
   {
    "duration": 3,
    "start_time": "2025-04-18T11:31:01.696Z"
   },
   {
    "duration": 32098,
    "start_time": "2025-04-18T11:31:01.701Z"
   },
   {
    "duration": 197,
    "start_time": "2025-04-18T11:31:33.876Z"
   },
   {
    "duration": 622,
    "start_time": "2025-04-18T11:31:34.076Z"
   },
   {
    "duration": 12,
    "start_time": "2025-04-18T11:31:34.700Z"
   },
   {
    "duration": 5,
    "start_time": "2025-04-18T11:31:34.714Z"
   },
   {
    "duration": 14,
    "start_time": "2025-04-18T11:31:34.720Z"
   },
   {
    "duration": 4,
    "start_time": "2025-04-18T11:31:34.735Z"
   },
   {
    "duration": 9207,
    "start_time": "2025-04-18T11:31:34.740Z"
   },
   {
    "duration": 39,
    "start_time": "2025-04-18T11:31:43.949Z"
   },
   {
    "duration": 5,
    "start_time": "2025-04-18T11:31:43.989Z"
   },
   {
    "duration": 44,
    "start_time": "2025-04-18T11:31:43.996Z"
   },
   {
    "duration": 4,
    "start_time": "2025-04-18T11:31:44.042Z"
   },
   {
    "duration": 12,
    "start_time": "2025-04-18T11:31:44.047Z"
   },
   {
    "duration": 25,
    "start_time": "2025-04-18T11:31:44.060Z"
   },
   {
    "duration": 2461,
    "start_time": "2025-04-18T11:34:21.337Z"
   },
   {
    "duration": 998,
    "start_time": "2025-04-18T11:34:23.800Z"
   },
   {
    "duration": 25,
    "start_time": "2025-04-18T11:34:24.799Z"
   },
   {
    "duration": 209,
    "start_time": "2025-04-18T11:34:24.826Z"
   },
   {
    "duration": 578,
    "start_time": "2025-04-18T11:34:25.037Z"
   },
   {
    "duration": 598,
    "start_time": "2025-04-18T11:34:25.617Z"
   },
   {
    "duration": 4,
    "start_time": "2025-04-18T11:34:26.216Z"
   },
   {
    "duration": 53,
    "start_time": "2025-04-18T11:34:26.222Z"
   },
   {
    "duration": 112,
    "start_time": "2025-04-18T11:34:26.285Z"
   },
   {
    "duration": 74,
    "start_time": "2025-04-18T11:34:26.399Z"
   },
   {
    "duration": 9,
    "start_time": "2025-04-18T11:34:26.475Z"
   },
   {
    "duration": 10417,
    "start_time": "2025-04-18T11:34:26.487Z"
   },
   {
    "duration": 66,
    "start_time": "2025-04-18T11:34:36.906Z"
   },
   {
    "duration": 32,
    "start_time": "2025-04-18T11:34:36.978Z"
   },
   {
    "duration": 70,
    "start_time": "2025-04-18T11:34:37.011Z"
   },
   {
    "duration": 85,
    "start_time": "2025-04-18T11:34:37.083Z"
   },
   {
    "duration": 16,
    "start_time": "2025-04-18T11:34:37.170Z"
   },
   {
    "duration": 27,
    "start_time": "2025-04-18T11:34:37.188Z"
   },
   {
    "duration": 84,
    "start_time": "2025-04-18T11:34:37.217Z"
   },
   {
    "duration": 49,
    "start_time": "2025-04-18T11:34:37.304Z"
   },
   {
    "duration": 46,
    "start_time": "2025-04-18T11:34:37.355Z"
   },
   {
    "duration": 293,
    "start_time": "2025-04-18T11:34:37.403Z"
   },
   {
    "duration": 259,
    "start_time": "2025-04-18T11:34:37.698Z"
   },
   {
    "duration": 270,
    "start_time": "2025-04-18T11:34:37.965Z"
   },
   {
    "duration": 94,
    "start_time": "2025-04-18T11:34:38.236Z"
   },
   {
    "duration": 99,
    "start_time": "2025-04-18T11:34:38.332Z"
   },
   {
    "duration": 16,
    "start_time": "2025-04-18T11:34:38.432Z"
   },
   {
    "duration": 70,
    "start_time": "2025-04-18T11:34:38.463Z"
   },
   {
    "duration": 3,
    "start_time": "2025-04-18T11:34:38.535Z"
   },
   {
    "duration": 1533,
    "start_time": "2025-04-18T11:35:50.093Z"
   },
   {
    "duration": 993,
    "start_time": "2025-04-18T11:35:51.627Z"
   },
   {
    "duration": 18,
    "start_time": "2025-04-18T11:35:52.621Z"
   },
   {
    "duration": 196,
    "start_time": "2025-04-18T11:35:52.641Z"
   },
   {
    "duration": 1331,
    "start_time": "2025-04-18T11:35:52.838Z"
   },
   {
    "duration": 1030,
    "start_time": "2025-04-18T11:35:54.172Z"
   },
   {
    "duration": 3,
    "start_time": "2025-04-18T11:35:55.204Z"
   },
   {
    "duration": 48,
    "start_time": "2025-04-18T11:35:55.209Z"
   },
   {
    "duration": 122,
    "start_time": "2025-04-18T11:35:55.270Z"
   },
   {
    "duration": 74,
    "start_time": "2025-04-18T11:35:55.396Z"
   },
   {
    "duration": 11,
    "start_time": "2025-04-18T11:35:55.472Z"
   },
   {
    "duration": 9315,
    "start_time": "2025-04-18T11:35:55.485Z"
   },
   {
    "duration": 13,
    "start_time": "2025-04-18T11:36:04.801Z"
   },
   {
    "duration": 55,
    "start_time": "2025-04-18T11:36:04.816Z"
   },
   {
    "duration": 17,
    "start_time": "2025-04-18T11:36:04.877Z"
   },
   {
    "duration": 33,
    "start_time": "2025-04-18T11:36:04.895Z"
   },
   {
    "duration": 9,
    "start_time": "2025-04-18T11:36:04.930Z"
   },
   {
    "duration": 53,
    "start_time": "2025-04-18T11:36:04.943Z"
   },
   {
    "duration": 23,
    "start_time": "2025-04-18T11:36:04.997Z"
   },
   {
    "duration": 55,
    "start_time": "2025-04-18T11:36:05.022Z"
   },
   {
    "duration": 23,
    "start_time": "2025-04-18T11:36:05.080Z"
   },
   {
    "duration": 300,
    "start_time": "2025-04-18T11:36:05.105Z"
   },
   {
    "duration": 289,
    "start_time": "2025-04-18T11:36:05.407Z"
   },
   {
    "duration": 284,
    "start_time": "2025-04-18T11:36:05.698Z"
   },
   {
    "duration": 82,
    "start_time": "2025-04-18T11:36:05.988Z"
   },
   {
    "duration": 102,
    "start_time": "2025-04-18T11:36:06.075Z"
   },
   {
    "duration": 42,
    "start_time": "2025-04-18T11:36:06.179Z"
   },
   {
    "duration": 71,
    "start_time": "2025-04-18T11:36:06.225Z"
   },
   {
    "duration": 4,
    "start_time": "2025-04-18T11:36:06.298Z"
   },
   {
    "duration": 1541,
    "start_time": "2025-04-18T11:36:06.303Z"
   },
   {
    "duration": 41,
    "start_time": "2025-04-18T11:36:07.846Z"
   },
   {
    "duration": 2048,
    "start_time": "2025-04-18T11:36:07.890Z"
   },
   {
    "duration": 2,
    "start_time": "2025-04-18T11:36:09.940Z"
   },
   {
    "duration": 30322,
    "start_time": "2025-04-18T11:36:09.944Z"
   },
   {
    "duration": 212,
    "start_time": "2025-04-18T11:36:40.268Z"
   },
   {
    "duration": 573,
    "start_time": "2025-04-18T11:36:40.484Z"
   },
   {
    "duration": 22,
    "start_time": "2025-04-18T11:36:41.058Z"
   },
   {
    "duration": 3,
    "start_time": "2025-04-18T11:36:41.082Z"
   },
   {
    "duration": 8,
    "start_time": "2025-04-18T11:36:41.087Z"
   },
   {
    "duration": 4,
    "start_time": "2025-04-18T11:36:41.097Z"
   },
   {
    "duration": 9299,
    "start_time": "2025-04-18T11:36:41.103Z"
   },
   {
    "duration": 13,
    "start_time": "2025-04-18T11:36:50.404Z"
   },
   {
    "duration": 9,
    "start_time": "2025-04-18T11:36:50.419Z"
   },
   {
    "duration": 61,
    "start_time": "2025-04-18T11:36:50.429Z"
   },
   {
    "duration": 3,
    "start_time": "2025-04-18T11:36:50.492Z"
   },
   {
    "duration": 9,
    "start_time": "2025-04-18T11:36:50.496Z"
   },
   {
    "duration": 14,
    "start_time": "2025-04-18T11:36:50.506Z"
   },
   {
    "duration": 1541,
    "start_time": "2025-04-18T11:37:34.419Z"
   },
   {
    "duration": 1003,
    "start_time": "2025-04-18T11:37:35.962Z"
   },
   {
    "duration": 26,
    "start_time": "2025-04-18T11:37:36.967Z"
   },
   {
    "duration": 184,
    "start_time": "2025-04-18T11:37:36.995Z"
   },
   {
    "duration": 619,
    "start_time": "2025-04-18T11:37:37.184Z"
   },
   {
    "duration": 602,
    "start_time": "2025-04-18T11:37:37.804Z"
   },
   {
    "duration": 4,
    "start_time": "2025-04-18T11:37:38.407Z"
   },
   {
    "duration": 41,
    "start_time": "2025-04-18T11:37:38.412Z"
   },
   {
    "duration": 129,
    "start_time": "2025-04-18T11:37:38.462Z"
   },
   {
    "duration": 75,
    "start_time": "2025-04-18T11:37:38.594Z"
   },
   {
    "duration": 7,
    "start_time": "2025-04-18T11:37:38.671Z"
   },
   {
    "duration": 8278,
    "start_time": "2025-04-18T11:37:38.680Z"
   },
   {
    "duration": 22,
    "start_time": "2025-04-18T11:37:46.960Z"
   },
   {
    "duration": 29,
    "start_time": "2025-04-18T11:37:46.984Z"
   },
   {
    "duration": 14,
    "start_time": "2025-04-18T11:37:47.015Z"
   },
   {
    "duration": 62,
    "start_time": "2025-04-18T11:37:47.031Z"
   },
   {
    "duration": 11,
    "start_time": "2025-04-18T11:37:47.095Z"
   },
   {
    "duration": 23,
    "start_time": "2025-04-18T11:37:47.108Z"
   },
   {
    "duration": 46,
    "start_time": "2025-04-18T11:37:47.133Z"
   },
   {
    "duration": 35,
    "start_time": "2025-04-18T11:37:47.181Z"
   },
   {
    "duration": 20,
    "start_time": "2025-04-18T11:37:47.217Z"
   },
   {
    "duration": 364,
    "start_time": "2025-04-18T11:37:47.239Z"
   },
   {
    "duration": 285,
    "start_time": "2025-04-18T11:37:47.604Z"
   },
   {
    "duration": 251,
    "start_time": "2025-04-18T11:37:47.891Z"
   },
   {
    "duration": 89,
    "start_time": "2025-04-18T11:37:48.143Z"
   },
   {
    "duration": 102,
    "start_time": "2025-04-18T11:37:48.233Z"
   },
   {
    "duration": 12,
    "start_time": "2025-04-18T11:37:48.337Z"
   },
   {
    "duration": 68,
    "start_time": "2025-04-18T11:37:48.362Z"
   },
   {
    "duration": 4,
    "start_time": "2025-04-18T11:37:48.432Z"
   },
   {
    "duration": 1517,
    "start_time": "2025-04-18T11:37:48.438Z"
   },
   {
    "duration": 35,
    "start_time": "2025-04-18T11:37:49.957Z"
   },
   {
    "duration": 1920,
    "start_time": "2025-04-18T11:37:49.994Z"
   },
   {
    "duration": 3,
    "start_time": "2025-04-18T11:37:51.916Z"
   },
   {
    "duration": 33753,
    "start_time": "2025-04-18T11:37:51.920Z"
   },
   {
    "duration": 204,
    "start_time": "2025-04-18T11:38:25.681Z"
   },
   {
    "duration": 1143,
    "start_time": "2025-04-18T11:38:25.967Z"
   },
   {
    "duration": 31,
    "start_time": "2025-04-18T11:38:27.162Z"
   },
   {
    "duration": 3,
    "start_time": "2025-04-18T11:38:27.195Z"
   },
   {
    "duration": 16,
    "start_time": "2025-04-18T11:38:27.199Z"
   },
   {
    "duration": 3,
    "start_time": "2025-04-18T11:38:27.216Z"
   },
   {
    "duration": 12266,
    "start_time": "2025-04-18T11:38:27.221Z"
   },
   {
    "duration": 14,
    "start_time": "2025-04-18T11:38:39.489Z"
   },
   {
    "duration": 15,
    "start_time": "2025-04-18T11:38:39.505Z"
   },
   {
    "duration": 49,
    "start_time": "2025-04-18T11:38:39.522Z"
   },
   {
    "duration": 6,
    "start_time": "2025-04-18T11:38:39.572Z"
   },
   {
    "duration": 10,
    "start_time": "2025-04-18T11:38:39.580Z"
   },
   {
    "duration": 15,
    "start_time": "2025-04-18T11:38:39.593Z"
   },
   {
    "duration": 345867,
    "start_time": "2025-04-18T11:38:39.609Z"
   },
   {
    "duration": 14,
    "start_time": "2025-04-18T11:44:25.484Z"
   },
   {
    "duration": 11,
    "start_time": "2025-04-18T11:44:25.500Z"
   },
   {
    "duration": 785,
    "start_time": "2025-04-18T11:44:25.513Z"
   },
   {
    "duration": 276,
    "start_time": "2025-04-18T11:44:26.299Z"
   },
   {
    "duration": 1542,
    "start_time": "2025-04-18T11:45:45.324Z"
   },
   {
    "duration": 1128,
    "start_time": "2025-04-18T11:45:46.868Z"
   },
   {
    "duration": 68,
    "start_time": "2025-04-18T11:45:47.997Z"
   },
   {
    "duration": 315,
    "start_time": "2025-04-18T11:45:48.067Z"
   },
   {
    "duration": 895,
    "start_time": "2025-04-18T11:45:48.385Z"
   },
   {
    "duration": 555,
    "start_time": "2025-04-18T11:45:49.282Z"
   },
   {
    "duration": 4,
    "start_time": "2025-04-18T11:45:49.839Z"
   },
   {
    "duration": 61,
    "start_time": "2025-04-18T11:45:49.844Z"
   },
   {
    "duration": 106,
    "start_time": "2025-04-18T11:45:49.907Z"
   },
   {
    "duration": 75,
    "start_time": "2025-04-18T11:45:50.015Z"
   },
   {
    "duration": 7,
    "start_time": "2025-04-18T11:45:50.092Z"
   },
   {
    "duration": 7661,
    "start_time": "2025-04-18T11:45:50.101Z"
   },
   {
    "duration": 13,
    "start_time": "2025-04-18T11:45:57.764Z"
   },
   {
    "duration": 30,
    "start_time": "2025-04-18T11:45:57.779Z"
   },
   {
    "duration": 14,
    "start_time": "2025-04-18T11:45:57.811Z"
   },
   {
    "duration": 56,
    "start_time": "2025-04-18T11:45:57.827Z"
   },
   {
    "duration": 9,
    "start_time": "2025-04-18T11:45:57.884Z"
   },
   {
    "duration": 23,
    "start_time": "2025-04-18T11:45:57.895Z"
   },
   {
    "duration": 44,
    "start_time": "2025-04-18T11:45:57.920Z"
   },
   {
    "duration": 45,
    "start_time": "2025-04-18T11:45:57.966Z"
   },
   {
    "duration": 19,
    "start_time": "2025-04-18T11:45:58.013Z"
   },
   {
    "duration": 266,
    "start_time": "2025-04-18T11:45:58.034Z"
   },
   {
    "duration": 263,
    "start_time": "2025-04-18T11:45:58.302Z"
   },
   {
    "duration": 252,
    "start_time": "2025-04-18T11:45:58.567Z"
   },
   {
    "duration": 79,
    "start_time": "2025-04-18T11:45:58.821Z"
   },
   {
    "duration": 92,
    "start_time": "2025-04-18T11:45:58.902Z"
   },
   {
    "duration": 20,
    "start_time": "2025-04-18T11:45:58.996Z"
   },
   {
    "duration": 67,
    "start_time": "2025-04-18T11:45:59.018Z"
   },
   {
    "duration": 2,
    "start_time": "2025-04-18T11:45:59.087Z"
   },
   {
    "duration": 1382,
    "start_time": "2025-04-18T11:45:59.091Z"
   },
   {
    "duration": 22,
    "start_time": "2025-04-18T11:46:00.475Z"
   },
   {
    "duration": 2286,
    "start_time": "2025-04-18T11:46:00.499Z"
   },
   {
    "duration": 3,
    "start_time": "2025-04-18T11:46:02.787Z"
   },
   {
    "duration": 25471,
    "start_time": "2025-04-18T11:46:02.791Z"
   },
   {
    "duration": 207,
    "start_time": "2025-04-18T11:46:28.264Z"
   },
   {
    "duration": 589,
    "start_time": "2025-04-18T11:46:28.473Z"
   },
   {
    "duration": 13,
    "start_time": "2025-04-18T11:46:29.064Z"
   },
   {
    "duration": 3,
    "start_time": "2025-04-18T11:46:29.078Z"
   },
   {
    "duration": 3,
    "start_time": "2025-04-18T11:46:29.083Z"
   },
   {
    "duration": 4,
    "start_time": "2025-04-18T11:46:29.088Z"
   },
   {
    "duration": 7866,
    "start_time": "2025-04-18T11:46:29.096Z"
   },
   {
    "duration": 13,
    "start_time": "2025-04-18T11:46:36.964Z"
   },
   {
    "duration": 5,
    "start_time": "2025-04-18T11:46:36.979Z"
   },
   {
    "duration": 38,
    "start_time": "2025-04-18T11:46:36.987Z"
   },
   {
    "duration": 3,
    "start_time": "2025-04-18T11:46:37.027Z"
   },
   {
    "duration": 31,
    "start_time": "2025-04-18T11:46:37.031Z"
   },
   {
    "duration": 18,
    "start_time": "2025-04-18T11:46:37.064Z"
   },
   {
    "duration": 1831,
    "start_time": "2025-04-18T21:11:24.336Z"
   },
   {
    "duration": 1190,
    "start_time": "2025-04-18T21:11:26.170Z"
   },
   {
    "duration": 19,
    "start_time": "2025-04-18T21:11:27.362Z"
   },
   {
    "duration": 199,
    "start_time": "2025-04-18T21:11:27.383Z"
   },
   {
    "duration": 570,
    "start_time": "2025-04-18T21:11:27.584Z"
   },
   {
    "duration": 610,
    "start_time": "2025-04-18T21:11:28.156Z"
   },
   {
    "duration": 4,
    "start_time": "2025-04-18T21:11:28.767Z"
   },
   {
    "duration": 61,
    "start_time": "2025-04-18T21:11:28.772Z"
   },
   {
    "duration": 122,
    "start_time": "2025-04-18T21:11:28.835Z"
   },
   {
    "duration": 77,
    "start_time": "2025-04-18T21:11:28.959Z"
   },
   {
    "duration": 8,
    "start_time": "2025-04-18T21:11:29.038Z"
   },
   {
    "duration": 8925,
    "start_time": "2025-04-18T21:11:29.047Z"
   },
   {
    "duration": 14,
    "start_time": "2025-04-18T21:11:37.974Z"
   },
   {
    "duration": 47,
    "start_time": "2025-04-18T21:11:37.991Z"
   },
   {
    "duration": 14,
    "start_time": "2025-04-18T21:11:38.040Z"
   },
   {
    "duration": 79,
    "start_time": "2025-04-18T21:11:38.056Z"
   },
   {
    "duration": 8,
    "start_time": "2025-04-18T21:11:38.138Z"
   },
   {
    "duration": 78,
    "start_time": "2025-04-18T21:11:38.148Z"
   },
   {
    "duration": 25,
    "start_time": "2025-04-18T21:11:38.230Z"
   },
   {
    "duration": 34,
    "start_time": "2025-04-18T21:11:38.256Z"
   },
   {
    "duration": 44,
    "start_time": "2025-04-18T21:11:38.292Z"
   },
   {
    "duration": 307,
    "start_time": "2025-04-18T21:11:38.337Z"
   },
   {
    "duration": 287,
    "start_time": "2025-04-18T21:11:38.646Z"
   },
   {
    "duration": 280,
    "start_time": "2025-04-18T21:11:38.934Z"
   },
   {
    "duration": 101,
    "start_time": "2025-04-18T21:11:39.215Z"
   },
   {
    "duration": 111,
    "start_time": "2025-04-18T21:11:39.323Z"
   },
   {
    "duration": 13,
    "start_time": "2025-04-18T21:21:04.649Z"
   },
   {
    "duration": 66,
    "start_time": "2025-04-18T21:21:05.325Z"
   },
   {
    "duration": 3,
    "start_time": "2025-04-18T21:21:05.628Z"
   },
   {
    "duration": 1569,
    "start_time": "2025-04-18T21:21:05.790Z"
   },
   {
    "duration": 24,
    "start_time": "2025-04-18T21:21:07.361Z"
   },
   {
    "duration": 2229,
    "start_time": "2025-04-18T21:21:07.387Z"
   },
   {
    "duration": 7,
    "start_time": "2025-04-18T21:21:09.629Z"
   },
   {
    "duration": 49058,
    "start_time": "2025-04-18T21:21:10.084Z"
   },
   {
    "duration": 179,
    "start_time": "2025-04-18T21:21:59.143Z"
   },
   {
    "duration": 234,
    "start_time": "2025-04-18T21:21:59.405Z"
   },
   {
    "duration": 10,
    "start_time": "2025-04-18T21:24:20.542Z"
   },
   {
    "duration": 6,
    "start_time": "2025-04-18T21:24:39.418Z"
   },
   {
    "duration": 286,
    "start_time": "2025-04-18T21:26:37.283Z"
   },
   {
    "duration": 1604,
    "start_time": "2025-04-18T21:27:11.129Z"
   },
   {
    "duration": 1023,
    "start_time": "2025-04-18T21:27:12.735Z"
   },
   {
    "duration": 19,
    "start_time": "2025-04-18T21:27:13.759Z"
   },
   {
    "duration": 221,
    "start_time": "2025-04-18T21:27:13.780Z"
   },
   {
    "duration": 588,
    "start_time": "2025-04-18T21:27:14.006Z"
   },
   {
    "duration": 663,
    "start_time": "2025-04-18T21:27:14.596Z"
   },
   {
    "duration": 3,
    "start_time": "2025-04-18T21:27:15.261Z"
   },
   {
    "duration": 71,
    "start_time": "2025-04-18T21:27:15.266Z"
   },
   {
    "duration": 158,
    "start_time": "2025-04-18T21:27:15.339Z"
   },
   {
    "duration": 96,
    "start_time": "2025-04-18T21:27:15.498Z"
   },
   {
    "duration": 6,
    "start_time": "2025-04-18T21:27:15.596Z"
   },
   {
    "duration": 8645,
    "start_time": "2025-04-18T21:27:15.603Z"
   },
   {
    "duration": 14,
    "start_time": "2025-04-18T21:27:24.249Z"
   },
   {
    "duration": 93,
    "start_time": "2025-04-18T21:27:24.266Z"
   },
   {
    "duration": 17,
    "start_time": "2025-04-18T21:27:24.361Z"
   },
   {
    "duration": 45,
    "start_time": "2025-04-18T21:27:24.379Z"
   },
   {
    "duration": 11,
    "start_time": "2025-04-18T21:27:24.433Z"
   },
   {
    "duration": 24,
    "start_time": "2025-04-18T21:27:24.446Z"
   },
   {
    "duration": 39,
    "start_time": "2025-04-18T21:27:24.473Z"
   },
   {
    "duration": 46,
    "start_time": "2025-04-18T21:27:24.516Z"
   },
   {
    "duration": 21,
    "start_time": "2025-04-18T21:27:24.564Z"
   },
   {
    "duration": 329,
    "start_time": "2025-04-18T21:27:24.587Z"
   },
   {
    "duration": 320,
    "start_time": "2025-04-18T21:27:24.922Z"
   },
   {
    "duration": 292,
    "start_time": "2025-04-18T21:27:25.243Z"
   },
   {
    "duration": 109,
    "start_time": "2025-04-18T21:27:25.537Z"
   },
   {
    "duration": 106,
    "start_time": "2025-04-18T21:27:25.648Z"
   },
   {
    "duration": 78,
    "start_time": "2025-04-18T21:27:25.757Z"
   },
   {
    "duration": 67,
    "start_time": "2025-04-18T21:27:25.837Z"
   },
   {
    "duration": 31,
    "start_time": "2025-04-18T21:27:25.916Z"
   },
   {
    "duration": 1650,
    "start_time": "2025-04-18T21:27:25.949Z"
   },
   {
    "duration": 36,
    "start_time": "2025-04-18T21:27:27.601Z"
   },
   {
    "duration": 2341,
    "start_time": "2025-04-18T21:27:27.639Z"
   },
   {
    "duration": 4,
    "start_time": "2025-04-18T21:27:29.982Z"
   },
   {
    "duration": 211434,
    "start_time": "2025-04-18T21:27:29.987Z"
   },
   {
    "duration": 5,
    "start_time": "2025-04-18T21:31:37.688Z"
   },
   {
    "duration": 228,
    "start_time": "2025-04-18T21:31:49.699Z"
   },
   {
    "duration": 4,
    "start_time": "2025-04-18T21:32:05.781Z"
   },
   {
    "duration": 5,
    "start_time": "2025-04-18T21:32:18.029Z"
   },
   {
    "duration": 6,
    "start_time": "2025-04-18T21:32:47.341Z"
   },
   {
    "duration": 5,
    "start_time": "2025-04-18T21:32:53.975Z"
   },
   {
    "duration": 4,
    "start_time": "2025-04-18T21:34:11.479Z"
   },
   {
    "duration": 6,
    "start_time": "2025-04-18T21:34:17.228Z"
   },
   {
    "duration": 3,
    "start_time": "2025-04-18T21:34:21.434Z"
   },
   {
    "duration": 73,
    "start_time": "2025-04-18T21:35:15.066Z"
   },
   {
    "duration": 55848,
    "start_time": "2025-04-18T21:35:55.072Z"
   },
   {
    "duration": 99,
    "start_time": "2025-04-18T21:37:30.023Z"
   },
   {
    "duration": 517,
    "start_time": "2025-04-18T21:37:47.845Z"
   },
   {
    "duration": 19,
    "start_time": "2025-04-18T21:37:48.719Z"
   },
   {
    "duration": 3,
    "start_time": "2025-04-18T21:38:02.595Z"
   },
   {
    "duration": 3,
    "start_time": "2025-04-18T21:38:05.285Z"
   },
   {
    "duration": 23,
    "start_time": "2025-04-18T21:38:25.691Z"
   },
   {
    "duration": 3647,
    "start_time": "2025-04-18T21:39:01.901Z"
   },
   {
    "duration": 3705,
    "start_time": "2025-04-18T21:39:30.362Z"
   },
   {
    "duration": 3640,
    "start_time": "2025-04-18T21:41:19.024Z"
   },
   {
    "duration": 913,
    "start_time": "2025-04-18T21:44:47.334Z"
   },
   {
    "duration": 10,
    "start_time": "2025-04-18T21:46:25.622Z"
   },
   {
    "duration": 3,
    "start_time": "2025-04-18T21:46:40.294Z"
   },
   {
    "duration": 15,
    "start_time": "2025-04-18T21:47:23.966Z"
   },
   {
    "duration": 3,
    "start_time": "2025-04-18T21:47:36.842Z"
   },
   {
    "duration": 3,
    "start_time": "2025-04-18T21:48:12.543Z"
   },
   {
    "duration": 9036,
    "start_time": "2025-04-18T21:48:14.088Z"
   },
   {
    "duration": 17,
    "start_time": "2025-04-18T21:49:01.296Z"
   },
   {
    "duration": 4,
    "start_time": "2025-04-18T21:49:05.291Z"
   },
   {
    "duration": 5,
    "start_time": "2025-04-18T21:49:13.768Z"
   },
   {
    "duration": 6,
    "start_time": "2025-04-18T21:49:26.623Z"
   },
   {
    "duration": 4,
    "start_time": "2025-04-18T21:49:32.266Z"
   },
   {
    "duration": 4,
    "start_time": "2025-04-18T21:50:17.168Z"
   },
   {
    "duration": 3,
    "start_time": "2025-04-18T21:50:23.314Z"
   },
   {
    "duration": 5,
    "start_time": "2025-04-18T21:50:38.016Z"
   },
   {
    "duration": 3,
    "start_time": "2025-04-18T21:50:46.417Z"
   },
   {
    "duration": 12,
    "start_time": "2025-04-18T21:51:47.582Z"
   },
   {
    "duration": 4,
    "start_time": "2025-04-18T21:51:59.425Z"
   },
   {
    "duration": 38,
    "start_time": "2025-04-18T21:54:09.462Z"
   },
   {
    "duration": 3,
    "start_time": "2025-04-18T21:55:01.144Z"
   },
   {
    "duration": 37132,
    "start_time": "2025-04-18T21:55:03.682Z"
   },
   {
    "duration": 3,
    "start_time": "2025-04-18T21:56:14.593Z"
   },
   {
    "duration": 10,
    "start_time": "2025-04-18T21:56:24.718Z"
   },
   {
    "duration": 4,
    "start_time": "2025-04-18T21:56:29.624Z"
   },
   {
    "duration": 3,
    "start_time": "2025-04-18T21:56:32.081Z"
   },
   {
    "duration": 92534,
    "start_time": "2025-04-18T21:56:39.182Z"
   },
   {
    "duration": 13,
    "start_time": "2025-04-18T21:58:17.421Z"
   },
   {
    "duration": 4,
    "start_time": "2025-04-18T21:58:21.758Z"
   },
   {
    "duration": 748,
    "start_time": "2025-04-18T21:58:42.061Z"
   },
   {
    "duration": 153,
    "start_time": "2025-04-18T21:59:01.575Z"
   },
   {
    "duration": 1541,
    "start_time": "2025-04-18T22:06:50.227Z"
   },
   {
    "duration": 1000,
    "start_time": "2025-04-18T22:06:51.770Z"
   },
   {
    "duration": 19,
    "start_time": "2025-04-18T22:06:52.771Z"
   },
   {
    "duration": 179,
    "start_time": "2025-04-18T22:06:52.808Z"
   },
   {
    "duration": 566,
    "start_time": "2025-04-18T22:06:52.988Z"
   },
   {
    "duration": 621,
    "start_time": "2025-04-18T22:06:53.556Z"
   },
   {
    "duration": 4,
    "start_time": "2025-04-18T22:06:54.178Z"
   },
   {
    "duration": 55,
    "start_time": "2025-04-18T22:06:54.184Z"
   },
   {
    "duration": 118,
    "start_time": "2025-04-18T22:06:54.241Z"
   },
   {
    "duration": 74,
    "start_time": "2025-04-18T22:06:54.364Z"
   },
   {
    "duration": 7,
    "start_time": "2025-04-18T22:06:54.440Z"
   },
   {
    "duration": 8284,
    "start_time": "2025-04-18T22:06:54.448Z"
   },
   {
    "duration": 14,
    "start_time": "2025-04-18T22:07:02.734Z"
   },
   {
    "duration": 50,
    "start_time": "2025-04-18T22:07:02.749Z"
   },
   {
    "duration": 21,
    "start_time": "2025-04-18T22:07:02.801Z"
   },
   {
    "duration": 31,
    "start_time": "2025-04-18T22:07:02.824Z"
   },
   {
    "duration": 9,
    "start_time": "2025-04-18T22:07:02.857Z"
   },
   {
    "duration": 57,
    "start_time": "2025-04-18T22:07:02.867Z"
   },
   {
    "duration": 25,
    "start_time": "2025-04-18T22:07:02.926Z"
   },
   {
    "duration": 36,
    "start_time": "2025-04-18T22:07:02.952Z"
   },
   {
    "duration": 35,
    "start_time": "2025-04-18T22:07:02.990Z"
   },
   {
    "duration": 293,
    "start_time": "2025-04-18T22:07:03.027Z"
   },
   {
    "duration": 264,
    "start_time": "2025-04-18T22:07:03.325Z"
   },
   {
    "duration": 270,
    "start_time": "2025-04-18T22:07:03.591Z"
   },
   {
    "duration": 87,
    "start_time": "2025-04-18T22:07:03.864Z"
   },
   {
    "duration": 142,
    "start_time": "2025-04-18T22:07:03.953Z"
   },
   {
    "duration": 143,
    "start_time": "2025-04-18T22:07:04.097Z"
   },
   {
    "duration": 65,
    "start_time": "2025-04-18T22:07:04.243Z"
   },
   {
    "duration": 3,
    "start_time": "2025-04-18T22:07:04.318Z"
   },
   {
    "duration": 1625,
    "start_time": "2025-04-18T22:07:04.323Z"
   },
   {
    "duration": 25,
    "start_time": "2025-04-18T22:07:05.950Z"
   },
   {
    "duration": 3307,
    "start_time": "2025-04-18T22:07:05.977Z"
   },
   {
    "duration": 3,
    "start_time": "2025-04-18T22:07:09.285Z"
   },
   {
    "duration": 132334,
    "start_time": "2025-04-18T22:07:09.289Z"
   },
   {
    "duration": 84,
    "start_time": "2025-04-18T22:09:21.625Z"
   },
   {
    "duration": 0,
    "start_time": "2025-04-18T22:09:21.711Z"
   },
   {
    "duration": 0,
    "start_time": "2025-04-18T22:09:21.712Z"
   },
   {
    "duration": 0,
    "start_time": "2025-04-18T22:09:21.713Z"
   },
   {
    "duration": 0,
    "start_time": "2025-04-18T22:09:21.716Z"
   },
   {
    "duration": 1,
    "start_time": "2025-04-18T22:09:21.716Z"
   },
   {
    "duration": 0,
    "start_time": "2025-04-18T22:09:21.717Z"
   },
   {
    "duration": 0,
    "start_time": "2025-04-18T22:09:21.718Z"
   },
   {
    "duration": 0,
    "start_time": "2025-04-18T22:09:21.719Z"
   },
   {
    "duration": 0,
    "start_time": "2025-04-18T22:09:21.719Z"
   },
   {
    "duration": 0,
    "start_time": "2025-04-18T22:09:21.720Z"
   },
   {
    "duration": 0,
    "start_time": "2025-04-18T22:09:21.721Z"
   },
   {
    "duration": 0,
    "start_time": "2025-04-18T22:09:21.722Z"
   },
   {
    "duration": 0,
    "start_time": "2025-04-18T22:09:21.722Z"
   },
   {
    "duration": 0,
    "start_time": "2025-04-18T22:09:21.728Z"
   },
   {
    "duration": 0,
    "start_time": "2025-04-18T22:09:21.805Z"
   },
   {
    "duration": 0,
    "start_time": "2025-04-18T22:09:21.807Z"
   },
   {
    "duration": 0,
    "start_time": "2025-04-18T22:09:21.808Z"
   },
   {
    "duration": 0,
    "start_time": "2025-04-18T22:09:21.809Z"
   },
   {
    "duration": 0,
    "start_time": "2025-04-18T22:09:21.810Z"
   },
   {
    "duration": 0,
    "start_time": "2025-04-18T22:09:21.811Z"
   },
   {
    "duration": 0,
    "start_time": "2025-04-18T22:09:21.812Z"
   },
   {
    "duration": 0,
    "start_time": "2025-04-18T22:09:21.814Z"
   },
   {
    "duration": 4,
    "start_time": "2025-04-18T22:09:42.167Z"
   },
   {
    "duration": 19023,
    "start_time": "2025-04-18T22:09:48.984Z"
   },
   {
    "duration": 19038,
    "start_time": "2025-04-18T22:10:15.572Z"
   },
   {
    "duration": 134,
    "start_time": "2025-04-18T22:10:48.574Z"
   },
   {
    "duration": 439,
    "start_time": "2025-04-18T22:10:51.749Z"
   },
   {
    "duration": 5,
    "start_time": "2025-04-18T22:10:57.947Z"
   },
   {
    "duration": 966,
    "start_time": "2025-04-18T22:10:57.954Z"
   },
   {
    "duration": 16,
    "start_time": "2025-04-18T22:10:58.922Z"
   },
   {
    "duration": 172,
    "start_time": "2025-04-18T22:10:58.941Z"
   },
   {
    "duration": 482,
    "start_time": "2025-04-18T22:10:59.115Z"
   },
   {
    "duration": 484,
    "start_time": "2025-04-18T22:10:59.599Z"
   },
   {
    "duration": 4,
    "start_time": "2025-04-18T22:11:00.085Z"
   },
   {
    "duration": 108,
    "start_time": "2025-04-18T22:11:00.091Z"
   },
   {
    "duration": 264,
    "start_time": "2025-04-18T22:11:00.201Z"
   },
   {
    "duration": 238,
    "start_time": "2025-04-18T22:11:00.469Z"
   },
   {
    "duration": 7,
    "start_time": "2025-04-18T22:11:00.708Z"
   },
   {
    "duration": 8408,
    "start_time": "2025-04-18T22:11:00.717Z"
   },
   {
    "duration": 15,
    "start_time": "2025-04-18T22:11:09.127Z"
   },
   {
    "duration": 26,
    "start_time": "2025-04-18T22:11:09.144Z"
   },
   {
    "duration": 45,
    "start_time": "2025-04-18T22:11:09.172Z"
   },
   {
    "duration": 26,
    "start_time": "2025-04-18T22:11:09.219Z"
   },
   {
    "duration": 10,
    "start_time": "2025-04-18T22:11:09.247Z"
   },
   {
    "duration": 49,
    "start_time": "2025-04-18T22:11:09.259Z"
   },
   {
    "duration": 27,
    "start_time": "2025-04-18T22:11:09.310Z"
   },
   {
    "duration": 43,
    "start_time": "2025-04-18T22:11:09.339Z"
   },
   {
    "duration": 37,
    "start_time": "2025-04-18T22:11:09.384Z"
   },
   {
    "duration": 274,
    "start_time": "2025-04-18T22:11:09.424Z"
   },
   {
    "duration": 258,
    "start_time": "2025-04-18T22:11:09.699Z"
   },
   {
    "duration": 267,
    "start_time": "2025-04-18T22:11:09.959Z"
   },
   {
    "duration": 89,
    "start_time": "2025-04-18T22:11:10.228Z"
   },
   {
    "duration": 146,
    "start_time": "2025-04-18T22:11:10.319Z"
   },
   {
    "duration": 81,
    "start_time": "2025-04-18T22:11:10.467Z"
   },
   {
    "duration": 56,
    "start_time": "2025-04-18T22:11:10.553Z"
   },
   {
    "duration": 3,
    "start_time": "2025-04-18T22:11:10.611Z"
   },
   {
    "duration": 1489,
    "start_time": "2025-04-18T22:11:10.616Z"
   },
   {
    "duration": 24,
    "start_time": "2025-04-18T22:11:12.107Z"
   },
   {
    "duration": 2768,
    "start_time": "2025-04-18T22:11:12.133Z"
   },
   {
    "duration": 3,
    "start_time": "2025-04-18T22:11:14.906Z"
   },
   {
    "duration": 78903,
    "start_time": "2025-04-18T22:11:14.911Z"
   },
   {
    "duration": 18693,
    "start_time": "2025-04-18T22:12:33.815Z"
   },
   {
    "duration": 198,
    "start_time": "2025-04-18T22:12:52.510Z"
   },
   {
    "duration": 542,
    "start_time": "2025-04-18T22:12:52.711Z"
   },
   {
    "duration": 15,
    "start_time": "2025-04-18T22:12:53.255Z"
   },
   {
    "duration": 4,
    "start_time": "2025-04-18T22:12:53.271Z"
   },
   {
    "duration": 28,
    "start_time": "2025-04-18T22:12:53.277Z"
   },
   {
    "duration": 0,
    "start_time": "2025-04-18T22:12:53.307Z"
   },
   {
    "duration": 0,
    "start_time": "2025-04-18T22:12:53.308Z"
   },
   {
    "duration": 0,
    "start_time": "2025-04-18T22:12:53.309Z"
   },
   {
    "duration": 0,
    "start_time": "2025-04-18T22:12:53.311Z"
   },
   {
    "duration": 0,
    "start_time": "2025-04-18T22:12:53.312Z"
   },
   {
    "duration": 0,
    "start_time": "2025-04-18T22:12:53.313Z"
   },
   {
    "duration": 0,
    "start_time": "2025-04-18T22:12:53.314Z"
   },
   {
    "duration": 0,
    "start_time": "2025-04-18T22:12:53.315Z"
   },
   {
    "duration": 0,
    "start_time": "2025-04-18T22:12:53.317Z"
   },
   {
    "duration": 0,
    "start_time": "2025-04-18T22:12:53.318Z"
   },
   {
    "duration": 0,
    "start_time": "2025-04-18T22:12:53.319Z"
   },
   {
    "duration": 0,
    "start_time": "2025-04-18T22:12:53.320Z"
   },
   {
    "duration": 0,
    "start_time": "2025-04-18T22:12:53.321Z"
   },
   {
    "duration": 0,
    "start_time": "2025-04-18T22:12:53.322Z"
   },
   {
    "duration": 0,
    "start_time": "2025-04-18T22:12:53.323Z"
   },
   {
    "duration": 0,
    "start_time": "2025-04-18T22:12:53.324Z"
   },
   {
    "duration": 0,
    "start_time": "2025-04-18T22:12:53.326Z"
   },
   {
    "duration": 3,
    "start_time": "2025-04-18T22:13:44.157Z"
   },
   {
    "duration": 881,
    "start_time": "2025-04-18T22:13:44.162Z"
   },
   {
    "duration": 4,
    "start_time": "2025-04-18T22:13:45.044Z"
   },
   {
    "duration": 29,
    "start_time": "2025-04-18T22:13:45.049Z"
   },
   {
    "duration": 34,
    "start_time": "2025-04-18T22:13:45.081Z"
   },
   {
    "duration": 8090,
    "start_time": "2025-04-18T22:13:45.116Z"
   },
   {
    "duration": 13,
    "start_time": "2025-04-18T22:13:53.208Z"
   },
   {
    "duration": 35,
    "start_time": "2025-04-18T22:13:53.223Z"
   },
   {
    "duration": 35,
    "start_time": "2025-04-18T22:13:53.260Z"
   },
   {
    "duration": 2,
    "start_time": "2025-04-18T22:13:53.297Z"
   },
   {
    "duration": 23,
    "start_time": "2025-04-18T22:13:53.301Z"
   },
   {
    "duration": 3287,
    "start_time": "2025-04-18T22:13:53.325Z"
   },
   {
    "duration": 2,
    "start_time": "2025-04-18T22:13:56.614Z"
   },
   {
    "duration": 3,
    "start_time": "2025-04-18T22:13:56.619Z"
   },
   {
    "duration": 12183,
    "start_time": "2025-04-18T22:13:56.624Z"
   },
   {
    "duration": 14,
    "start_time": "2025-04-18T22:14:08.808Z"
   },
   {
    "duration": 18,
    "start_time": "2025-04-18T22:14:08.823Z"
   },
   {
    "duration": 772,
    "start_time": "2025-04-18T22:14:08.842Z"
   },
   {
    "duration": 200,
    "start_time": "2025-04-18T22:14:09.616Z"
   }
  ],
  "kernelspec": {
   "display_name": "Python 3 (ipykernel)",
   "language": "python",
   "name": "python3"
  },
  "language_info": {
   "codemirror_mode": {
    "name": "ipython",
    "version": 3
   },
   "file_extension": ".py",
   "mimetype": "text/x-python",
   "name": "python",
   "nbconvert_exporter": "python",
   "pygments_lexer": "ipython3",
   "version": "3.12.4"
  },
  "toc": {
   "base_numbering": 1,
   "nav_menu": {},
   "number_sections": true,
   "sideBar": true,
   "skip_h1_title": true,
   "title_cell": "Table of Contents",
   "title_sidebar": "Contents",
   "toc_cell": false,
   "toc_position": {
    "height": "calc(100% - 180px)",
    "left": "10px",
    "top": "150px",
    "width": "294.4px"
   },
   "toc_section_display": true,
   "toc_window_display": true
  }
 },
 "nbformat": 4,
 "nbformat_minor": 4
}
