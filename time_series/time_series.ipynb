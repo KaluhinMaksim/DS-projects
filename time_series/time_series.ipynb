{
 "cells": [
  {
   "cell_type": "markdown",
   "metadata": {},
   "source": [
    "#  Прогнозирование заказов такси"
   ]
  },
  {
   "cell_type": "markdown",
   "metadata": {},
   "source": [
    "Компания «Чётенькое такси» собрала исторические данные о заказах такси в аэропортах. Чтобы привлекать больше водителей в период пиковой нагрузки, нужно спрогнозировать количество заказов такси на следующий час. Постройте модель для такого предсказания.\n",
    "\n",
    "Значение метрики *RMSE* на тестовой выборке должно быть не больше 48.\n",
    "\n",
    "Вам нужно:\n",
    "\n",
    "1. Загрузить данные и выполнить их ресемплирование по одному часу.\n",
    "2. Проанализировать данные.\n",
    "3. Обучить разные модели с различными гиперпараметрами. Сделать тестовую выборку размером 10% от исходных данных.\n",
    "4. Проверить данные на тестовой выборке и сделать выводы.\n",
    "\n",
    "\n",
    "Данные лежат в файле `taxi.csv`. Количество заказов находится в столбце `num_orders` (от англ. *number of orders*, «число заказов»)."
   ]
  },
  {
   "cell_type": "markdown",
   "metadata": {},
   "source": [
    "## Подготовка"
   ]
  },
  {
   "cell_type": "code",
   "execution_count": 1,
   "metadata": {},
   "outputs": [],
   "source": [
    "from statsmodels.tsa.seasonal import seasonal_decompose\n",
    "import pandas as pd\n",
    "import matplotlib.pyplot as plt\n",
    "from sklearn.model_selection import train_test_split, TimeSeriesSplit\n",
    "from sklearn.linear_model import LinearRegression\n",
    "from sklearn.metrics import mean_squared_error\n",
    "from sklearn.model_selection import cross_val_score\n",
    "from lightgbm import LGBMRegressor\n",
    "from sklearn.tree import DecisionTreeRegressor\n",
    "from sklearn.model_selection import RandomizedSearchCV\n",
    "from sklearn.ensemble import RandomForestRegressor\n",
    "from sklearn.preprocessing import OneHotEncoder"
   ]
  },
  {
   "cell_type": "code",
   "execution_count": 2,
   "metadata": {},
   "outputs": [],
   "source": [
    "data = pd.read_csv('/datasets/taxi.csv',index_col=[0], parse_dates=[0])"
   ]
  },
  {
   "cell_type": "code",
   "execution_count": 3,
   "metadata": {},
   "outputs": [
    {
     "name": "stdout",
     "output_type": "stream",
     "text": [
      "<class 'pandas.core.frame.DataFrame'>\n",
      "DatetimeIndex: 26496 entries, 2018-03-01 00:00:00 to 2018-08-31 23:50:00\n",
      "Data columns (total 1 columns):\n",
      " #   Column      Non-Null Count  Dtype\n",
      "---  ------      --------------  -----\n",
      " 0   num_orders  26496 non-null  int64\n",
      "dtypes: int64(1)\n",
      "memory usage: 414.0 KB\n"
     ]
    }
   ],
   "source": [
    "data.info()"
   ]
  },
  {
   "cell_type": "code",
   "execution_count": 4,
   "metadata": {},
   "outputs": [
    {
     "data": {
      "text/plain": [
       "True"
      ]
     },
     "execution_count": 4,
     "metadata": {},
     "output_type": "execute_result"
    }
   ],
   "source": [
    "data.index.is_monotonic"
   ]
  },
  {
   "cell_type": "code",
   "execution_count": 5,
   "metadata": {},
   "outputs": [],
   "source": [
    "data = data.resample('1H').sum()"
   ]
  },
  {
   "cell_type": "code",
   "execution_count": 6,
   "metadata": {},
   "outputs": [
    {
     "data": {
      "text/html": [
       "<div>\n",
       "<style scoped>\n",
       "    .dataframe tbody tr th:only-of-type {\n",
       "        vertical-align: middle;\n",
       "    }\n",
       "\n",
       "    .dataframe tbody tr th {\n",
       "        vertical-align: top;\n",
       "    }\n",
       "\n",
       "    .dataframe thead th {\n",
       "        text-align: right;\n",
       "    }\n",
       "</style>\n",
       "<table border=\"1\" class=\"dataframe\">\n",
       "  <thead>\n",
       "    <tr style=\"text-align: right;\">\n",
       "      <th></th>\n",
       "      <th>num_orders</th>\n",
       "    </tr>\n",
       "    <tr>\n",
       "      <th>datetime</th>\n",
       "      <th></th>\n",
       "    </tr>\n",
       "  </thead>\n",
       "  <tbody>\n",
       "    <tr>\n",
       "      <th>2018-03-01 00:00:00</th>\n",
       "      <td>124</td>\n",
       "    </tr>\n",
       "    <tr>\n",
       "      <th>2018-03-01 01:00:00</th>\n",
       "      <td>85</td>\n",
       "    </tr>\n",
       "    <tr>\n",
       "      <th>2018-03-01 02:00:00</th>\n",
       "      <td>71</td>\n",
       "    </tr>\n",
       "    <tr>\n",
       "      <th>2018-03-01 03:00:00</th>\n",
       "      <td>66</td>\n",
       "    </tr>\n",
       "    <tr>\n",
       "      <th>2018-03-01 04:00:00</th>\n",
       "      <td>43</td>\n",
       "    </tr>\n",
       "    <tr>\n",
       "      <th>2018-03-01 05:00:00</th>\n",
       "      <td>6</td>\n",
       "    </tr>\n",
       "    <tr>\n",
       "      <th>2018-03-01 06:00:00</th>\n",
       "      <td>12</td>\n",
       "    </tr>\n",
       "    <tr>\n",
       "      <th>2018-03-01 07:00:00</th>\n",
       "      <td>15</td>\n",
       "    </tr>\n",
       "    <tr>\n",
       "      <th>2018-03-01 08:00:00</th>\n",
       "      <td>34</td>\n",
       "    </tr>\n",
       "    <tr>\n",
       "      <th>2018-03-01 09:00:00</th>\n",
       "      <td>69</td>\n",
       "    </tr>\n",
       "  </tbody>\n",
       "</table>\n",
       "</div>"
      ],
      "text/plain": [
       "                     num_orders\n",
       "datetime                       \n",
       "2018-03-01 00:00:00         124\n",
       "2018-03-01 01:00:00          85\n",
       "2018-03-01 02:00:00          71\n",
       "2018-03-01 03:00:00          66\n",
       "2018-03-01 04:00:00          43\n",
       "2018-03-01 05:00:00           6\n",
       "2018-03-01 06:00:00          12\n",
       "2018-03-01 07:00:00          15\n",
       "2018-03-01 08:00:00          34\n",
       "2018-03-01 09:00:00          69"
      ]
     },
     "execution_count": 6,
     "metadata": {},
     "output_type": "execute_result"
    }
   ],
   "source": [
    "data.head(10)"
   ]
  },
  {
   "cell_type": "markdown",
   "metadata": {},
   "source": [
    "## Анализ"
   ]
  },
  {
   "cell_type": "code",
   "execution_count": 7,
   "metadata": {},
   "outputs": [
    {
     "data": {
      "image/png": "[encoded data removed]",
      "text/plain": [
       "<Figure size 1080x576 with 1 Axes>"
      ]
     },
     "metadata": {
      "needs_background": "light"
     },
     "output_type": "display_data"
    }
   ],
   "source": [
    "plt.figure(figsize=(15, 8))\n",
    "plt.plot(data['num_orders'])\n",
    "plt.title('Количество заказов по часам')\n",
    "plt.xlabel('Дата')\n",
    "plt.ylabel('Число заказов')\n",
    "plt.grid(True)\n",
    "plt.show()"
   ]
  },
  {
   "cell_type": "markdown",
   "metadata": {},
   "source": [
    "Наблюдается рост среднего значения заказов, существуют редкие выбросы."
   ]
  },
  {
   "cell_type": "code",
   "execution_count": 8,
   "metadata": {},
   "outputs": [
    {
     "data": {
      "text/plain": [
       "(Timestamp('2018-03-01 00:00:00', freq='H'),\n",
       " Timestamp('2018-08-31 23:00:00', freq='H'))"
      ]
     },
     "execution_count": 8,
     "metadata": {},
     "output_type": "execute_result"
    }
   ],
   "source": [
    "data.index.min(), data.index.max()"
   ]
  },
  {
   "cell_type": "code",
   "execution_count": 9,
   "metadata": {},
   "outputs": [],
   "source": [
    "decomposed = seasonal_decompose(data)"
   ]
  },
  {
   "cell_type": "code",
   "execution_count": 10,
   "metadata": {},
   "outputs": [
    {
     "data": {
      "image/png": "[encoded data removed]",
      "text/plain": [
       "<Figure size 720x1080 with 3 Axes>"
      ]
     },
     "metadata": {
      "needs_background": "light"
     },
     "output_type": "display_data"
    }
   ],
   "source": [
    "plt.figure(figsize=(10, 15))\n",
    "plt.subplot(311)\n",
    "decomposed.trend.plot(ax=plt.gca())\n",
    "plt.title('Trend')\n",
    "plt.subplot(312)\n",
    "decomposed.seasonal.plot(ax=plt.gca()) \n",
    "plt.title('Seasonality')\n",
    "plt.subplot(313)\n",
    "decomposed.resid.plot(ax=plt.gca())\n",
    "plt.title('Residuals')\n",
    "plt.tight_layout()"
   ]
  },
  {
   "cell_type": "code",
   "execution_count": 11,
   "metadata": {},
   "outputs": [
    {
     "data": {
      "text/plain": [
       "Text(0.5, 1.0, 'Seasonality')"
      ]
     },
     "execution_count": 11,
     "metadata": {},
     "output_type": "execute_result"
    },
    {
     "data": {
      "image/png": "[encoded data removed]",
      "text/plain": [
       "<Figure size 864x720 with 1 Axes>"
      ]
     },
     "metadata": {
      "needs_background": "light"
     },
     "output_type": "display_data"
    }
   ],
   "source": [
    "plt.figure(figsize=(12, 10))\n",
    "decomposed.seasonal['2018-08': '2018-08'].plot(ax=plt.gca())\n",
    "plt.title('Seasonality')"
   ]
  },
  {
   "cell_type": "markdown",
   "metadata": {},
   "source": [
    "Линия тренда показывает рост количества заказов по месяцам.  \n",
    "Наблюдается суточная сезонность, этоо видно по плотному и периодичному повторению значений, которые укладываются в равные интервалы.  \n",
    "Остатки также имеют постоянной среднее значение, но иногда возникают большие всплески (объясняются повышенным спросом на такси по выходным и праздникам)."
   ]
  },
  {
   "cell_type": "markdown",
   "metadata": {},
   "source": [
    "## Обучение"
   ]
  },
  {
   "cell_type": "markdown",
   "metadata": {},
   "source": [
    "### Подготовка данных"
   ]
  },
  {
   "cell_type": "code",
   "execution_count": 12,
   "metadata": {},
   "outputs": [],
   "source": [
    "def make_features(data, max_lag, rolling_mean_size):\n",
    "    data['hour'] = data.index.hour\n",
    "    data['dayofweek'] = data.index.dayofweek\n",
    "    \n",
    "    for lag in range(1, max_lag + 1):\n",
    "        data['lag_{}'.format(lag)] = data['num_orders'].shift(lag)\n",
    "\n",
    "    data['rolling_mean'] = data['num_orders'].shift().rolling(rolling_mean_size).mean()\n",
    "\n",
    "\n",
    "make_features(data, 24, 48)"
   ]
  },
  {
   "cell_type": "code",
   "execution_count": 13,
   "metadata": {},
   "outputs": [],
   "source": [
    "data.dropna(inplace=True)"
   ]
  },
  {
   "cell_type": "code",
   "execution_count": 14,
   "metadata": {},
   "outputs": [],
   "source": [
    "train, test = train_test_split(data, shuffle=False, test_size=0.1)\n",
    "X_train=train.drop('num_orders',axis=1)\n",
    "y_train=train['num_orders']\n",
    "X_test=test.drop('num_orders',axis=1)\n",
    "y_test=test['num_orders']"
   ]
  },
  {
   "cell_type": "markdown",
   "metadata": {},
   "source": [
    "### DecisionTreeRegressor"
   ]
  },
  {
   "cell_type": "code",
   "execution_count": 15,
   "metadata": {},
   "outputs": [],
   "source": [
    "tscv = TimeSeriesSplit(n_splits=3)"
   ]
  },
  {
   "cell_type": "code",
   "execution_count": 16,
   "metadata": {},
   "outputs": [],
   "source": [
    "param_dist_dt = {\n",
    "     'max_depth': range(3, 50),               \n",
    "     'min_samples_split': range(2, 50),       \n",
    "     'min_samples_leaf': range(1, 50)              \n",
    "}"
   ]
  },
  {
   "cell_type": "code",
   "execution_count": 17,
   "metadata": {},
   "outputs": [],
   "source": [
    "dt_model = DecisionTreeRegressor(random_state=71)"
   ]
  },
  {
   "cell_type": "code",
   "execution_count": 18,
   "metadata": {
    "scrolled": true
   },
   "outputs": [
    {
     "name": "stdout",
     "output_type": "stream",
     "text": [
      "Fitting 3 folds for each of 300 candidates, totalling 900 fits\n",
      "[CV 1/3] END max_depth=39, min_samples_leaf=46, min_samples_split=22;, score=-776.988 total time=   0.0s\n",
      "[CV 2/3] END max_depth=39, min_samples_leaf=46, min_samples_split=22;, score=-769.769 total time=   0.0s\n",
      "[CV 3/3] END max_depth=39, min_samples_leaf=46, min_samples_split=22;, score=-1290.131 total time=   0.0s\n",
      "[CV 1/3] END max_depth=22, min_samples_leaf=16, min_samples_split=13;, score=-783.577 total time=   0.0s\n",
      "[CV 2/3] END max_depth=22, min_samples_leaf=16, min_samples_split=13;, score=-814.865 total time=   0.0s\n",
      "[CV 3/3] END max_depth=22, min_samples_leaf=16, min_samples_split=13;, score=-1239.253 total time=   0.0s\n",
      "[CV 1/3] END max_depth=20, min_samples_leaf=29, min_samples_split=48;, score=-807.081 total time=   0.0s\n",
      "[CV 2/3] END max_depth=20, min_samples_leaf=29, min_samples_split=48;, score=-783.605 total time=   0.0s\n",
      "[CV 3/3] END max_depth=20, min_samples_leaf=29, min_samples_split=48;, score=-1215.280 total time=   0.0s\n",
      "[CV 1/3] END max_depth=30, min_samples_leaf=49, min_samples_split=23;, score=-759.734 total time=   0.0s\n",
      "[CV 2/3] END max_depth=30, min_samples_leaf=49, min_samples_split=23;, score=-770.834 total time=   0.0s\n",
      "[CV 3/3] END max_depth=30, min_samples_leaf=49, min_samples_split=23;, score=-1282.151 total time=   0.0s\n",
      "[CV 1/3] END max_depth=44, min_samples_leaf=37, min_samples_split=49;, score=-771.650 total time=   0.0s\n",
      "[CV 2/3] END max_depth=44, min_samples_leaf=37, min_samples_split=49;, score=-798.315 total time=   0.0s\n",
      "[CV 3/3] END max_depth=44, min_samples_leaf=37, min_samples_split=49;, score=-1233.805 total time=   0.0s\n",
      "[CV 1/3] END max_depth=13, min_samples_leaf=16, min_samples_split=39;, score=-774.680 total time=   0.0s\n",
      "[CV 2/3] END max_depth=13, min_samples_leaf=16, min_samples_split=39;, score=-829.336 total time=   0.0s\n",
      "[CV 3/3] END max_depth=13, min_samples_leaf=16, min_samples_split=39;, score=-1233.077 total time=   0.0s\n",
      "[CV 1/3] END max_depth=24, min_samples_leaf=9, min_samples_split=34;, score=-929.523 total time=   0.0s\n",
      "[CV 2/3] END max_depth=24, min_samples_leaf=9, min_samples_split=34;, score=-850.573 total time=   0.0s\n",
      "[CV 3/3] END max_depth=24, min_samples_leaf=9, min_samples_split=34;, score=-1303.880 total time=   0.0s\n",
      "[CV 1/3] END max_depth=32, min_samples_leaf=44, min_samples_split=39;, score=-770.295 total time=   0.0s\n",
      "[CV 2/3] END max_depth=32, min_samples_leaf=44, min_samples_split=39;, score=-785.593 total time=   0.0s\n",
      "[CV 3/3] END max_depth=32, min_samples_leaf=44, min_samples_split=39;, score=-1268.762 total time=   0.0s\n",
      "[CV 1/3] END max_depth=11, min_samples_leaf=45, min_samples_split=18;, score=-770.295 total time=   0.0s\n",
      "[CV 2/3] END max_depth=11, min_samples_leaf=45, min_samples_split=18;, score=-769.686 total time=   0.0s\n",
      "[CV 3/3] END max_depth=11, min_samples_leaf=45, min_samples_split=18;, score=-1255.918 total time=   0.0s\n",
      "[CV 1/3] END max_depth=20, min_samples_leaf=30, min_samples_split=14;, score=-801.682 total time=   0.0s\n",
      "[CV 2/3] END max_depth=20, min_samples_leaf=30, min_samples_split=14;, score=-777.146 total time=   0.0s\n",
      "[CV 3/3] END max_depth=20, min_samples_leaf=30, min_samples_split=14;, score=-1215.389 total time=   0.0s\n",
      "[CV 1/3] END max_depth=37, min_samples_leaf=9, min_samples_split=41;, score=-832.600 total time=   0.0s\n",
      "[CV 2/3] END max_depth=37, min_samples_leaf=9, min_samples_split=41;, score=-859.858 total time=   0.0s\n",
      "[CV 3/3] END max_depth=37, min_samples_leaf=9, min_samples_split=41;, score=-1278.329 total time=   0.0s\n",
      "[CV 1/3] END max_depth=41, min_samples_leaf=28, min_samples_split=41;, score=-814.834 total time=   0.0s\n",
      "[CV 2/3] END max_depth=41, min_samples_leaf=28, min_samples_split=41;, score=-790.595 total time=   0.0s\n",
      "[CV 3/3] END max_depth=41, min_samples_leaf=28, min_samples_split=41;, score=-1203.986 total time=   0.0s\n",
      "[CV 1/3] END max_depth=24, min_samples_leaf=40, min_samples_split=42;, score=-772.649 total time=   0.0s\n",
      "[CV 2/3] END max_depth=24, min_samples_leaf=40, min_samples_split=42;, score=-799.690 total time=   0.0s\n",
      "[CV 3/3] END max_depth=24, min_samples_leaf=40, min_samples_split=42;, score=-1246.006 total time=   0.0s\n",
      "[CV 1/3] END max_depth=26, min_samples_leaf=32, min_samples_split=23;, score=-774.822 total time=   0.0s\n",
      "[CV 2/3] END max_depth=26, min_samples_leaf=32, min_samples_split=23;, score=-780.897 total time=   0.0s\n",
      "[CV 3/3] END max_depth=26, min_samples_leaf=32, min_samples_split=23;, score=-1206.311 total time=   0.0s\n",
      "[CV 1/3] END max_depth=25, min_samples_leaf=26, min_samples_split=3;, score=-813.378 total time=   0.0s\n",
      "[CV 2/3] END max_depth=25, min_samples_leaf=26, min_samples_split=3;, score=-788.524 total time=   0.0s\n",
      "[CV 3/3] END max_depth=25, min_samples_leaf=26, min_samples_split=3;, score=-1214.260 total time=   0.0s\n",
      "[CV 1/3] END max_depth=41, min_samples_leaf=18, min_samples_split=41;, score=-773.683 total time=   0.0s\n",
      "[CV 2/3] END max_depth=41, min_samples_leaf=18, min_samples_split=41;, score=-835.681 total time=   0.0s\n",
      "[CV 3/3] END max_depth=41, min_samples_leaf=18, min_samples_split=41;, score=-1190.690 total time=   0.0s\n",
      "[CV 1/3] END max_depth=28, min_samples_leaf=18, min_samples_split=43;, score=-774.831 total time=   0.0s\n",
      "[CV 2/3] END max_depth=28, min_samples_leaf=18, min_samples_split=43;, score=-830.787 total time=   0.0s\n",
      "[CV 3/3] END max_depth=28, min_samples_leaf=18, min_samples_split=43;, score=-1214.584 total time=   0.0s\n",
      "[CV 1/3] END max_depth=44, min_samples_leaf=16, min_samples_split=45;, score=-773.742 total time=   0.0s\n",
      "[CV 2/3] END max_depth=44, min_samples_leaf=16, min_samples_split=45;, score=-821.445 total time=   0.0s\n",
      "[CV 3/3] END max_depth=44, min_samples_leaf=16, min_samples_split=45;, score=-1219.804 total time=   0.0s\n",
      "[CV 1/3] END max_depth=18, min_samples_leaf=27, min_samples_split=43;, score=-813.639 total time=   0.0s\n",
      "[CV 2/3] END max_depth=18, min_samples_leaf=27, min_samples_split=43;, score=-777.024 total time=   0.0s\n",
      "[CV 3/3] END max_depth=18, min_samples_leaf=27, min_samples_split=43;, score=-1202.296 total time=   0.0s\n",
      "[CV 1/3] END max_depth=42, min_samples_leaf=41, min_samples_split=17;, score=-771.665 total time=   0.0s\n",
      "[CV 2/3] END max_depth=42, min_samples_leaf=41, min_samples_split=17;, score=-799.302 total time=   0.0s\n",
      "[CV 3/3] END max_depth=42, min_samples_leaf=41, min_samples_split=17;, score=-1252.527 total time=   0.0s\n",
      "[CV 1/3] END max_depth=42, min_samples_leaf=7, min_samples_split=5;, score=-954.663 total time=   0.0s\n",
      "[CV 2/3] END max_depth=42, min_samples_leaf=7, min_samples_split=5;, score=-988.133 total time=   0.0s\n",
      "[CV 3/3] END max_depth=42, min_samples_leaf=7, min_samples_split=5;, score=-1430.072 total time=   0.1s\n",
      "[CV 1/3] END max_depth=7, min_samples_leaf=36, min_samples_split=13;, score=-771.813 total time=   0.0s\n",
      "[CV 2/3] END max_depth=7, min_samples_leaf=36, min_samples_split=13;, score=-802.377 total time=   0.0s\n",
      "[CV 3/3] END max_depth=7, min_samples_leaf=36, min_samples_split=13;, score=-1253.389 total time=   0.0s\n",
      "[CV 1/3] END max_depth=33, min_samples_leaf=17, min_samples_split=6;, score=-785.388 total time=   0.0s\n",
      "[CV 2/3] END max_depth=33, min_samples_leaf=17, min_samples_split=6;, score=-839.074 total time=   0.0s\n",
      "[CV 3/3] END max_depth=33, min_samples_leaf=17, min_samples_split=6;, score=-1231.212 total time=   0.0s\n",
      "[CV 1/3] END max_depth=37, min_samples_leaf=5, min_samples_split=43;, score=-845.377 total time=   0.0s\n",
      "[CV 2/3] END max_depth=37, min_samples_leaf=5, min_samples_split=43;, score=-877.897 total time=   0.0s\n",
      "[CV 3/3] END max_depth=37, min_samples_leaf=5, min_samples_split=43;, score=-1282.233 total time=   0.1s\n",
      "[CV 1/3] END max_depth=28, min_samples_leaf=35, min_samples_split=34;, score=-772.651 total time=   0.0s\n",
      "[CV 2/3] END max_depth=28, min_samples_leaf=35, min_samples_split=34;, score=-797.700 total time=   0.0s\n",
      "[CV 3/3] END max_depth=28, min_samples_leaf=35, min_samples_split=34;, score=-1214.176 total time=   0.0s\n",
      "[CV 1/3] END max_depth=49, min_samples_leaf=8, min_samples_split=18;, score=-873.901 total time=   0.0s\n",
      "[CV 2/3] END max_depth=49, min_samples_leaf=8, min_samples_split=18;, score=-920.563 total time=   0.0s\n",
      "[CV 3/3] END max_depth=49, min_samples_leaf=8, min_samples_split=18;, score=-1399.017 total time=   0.1s\n",
      "[CV 1/3] END max_depth=15, min_samples_leaf=47, min_samples_split=12;, score=-777.160 total time=   0.0s\n",
      "[CV 2/3] END max_depth=15, min_samples_leaf=47, min_samples_split=12;, score=-769.769 total time=   0.0s\n",
      "[CV 3/3] END max_depth=15, min_samples_leaf=47, min_samples_split=12;, score=-1287.722 total time=   0.0s\n",
      "[CV 1/3] END max_depth=27, min_samples_leaf=36, min_samples_split=29;, score=-773.848 total time=   0.0s\n",
      "[CV 2/3] END max_depth=27, min_samples_leaf=36, min_samples_split=29;, score=-799.827 total time=   0.0s\n",
      "[CV 3/3] END max_depth=27, min_samples_leaf=36, min_samples_split=29;, score=-1229.333 total time=   0.0s\n",
      "[CV 1/3] END max_depth=35, min_samples_leaf=5, min_samples_split=4;, score=-862.044 total time=   0.0s\n",
      "[CV 2/3] END max_depth=35, min_samples_leaf=5, min_samples_split=4;, score=-1034.742 total time=   0.0s\n",
      "[CV 3/3] END max_depth=35, min_samples_leaf=5, min_samples_split=4;, score=-1477.669 total time=   0.1s\n",
      "[CV 1/3] END max_depth=40, min_samples_leaf=35, min_samples_split=39;, score=-772.651 total time=   0.0s\n",
      "[CV 2/3] END max_depth=40, min_samples_leaf=35, min_samples_split=39;, score=-797.700 total time=   0.0s\n",
      "[CV 3/3] END max_depth=40, min_samples_leaf=35, min_samples_split=39;, score=-1214.176 total time=   0.0s\n",
      "[CV 1/3] END max_depth=20, min_samples_leaf=38, min_samples_split=17;, score=-775.852 total time=   0.0s\n",
      "[CV 2/3] END max_depth=20, min_samples_leaf=38, min_samples_split=17;, score=-802.743 total time=   0.0s\n",
      "[CV 3/3] END max_depth=20, min_samples_leaf=38, min_samples_split=17;, score=-1250.674 total time=   0.0s\n",
      "[CV 1/3] END max_depth=15, min_samples_leaf=16, min_samples_split=45;, score=-773.742 total time=   0.0s\n",
      "[CV 2/3] END max_depth=15, min_samples_leaf=16, min_samples_split=45;, score=-821.445 total time=   0.0s\n",
      "[CV 3/3] END max_depth=15, min_samples_leaf=16, min_samples_split=45;, score=-1219.804 total time=   0.0s\n",
      "[CV 1/3] END max_depth=15, min_samples_leaf=14, min_samples_split=48;, score=-799.392 total time=   0.0s\n",
      "[CV 2/3] END max_depth=15, min_samples_leaf=14, min_samples_split=48;, score=-805.271 total time=   0.0s\n",
      "[CV 3/3] END max_depth=15, min_samples_leaf=14, min_samples_split=48;, score=-1200.970 total time=   0.0s\n",
      "[CV 1/3] END max_depth=34, min_samples_leaf=3, min_samples_split=21;, score=-890.372 total time=   0.0s\n",
      "[CV 2/3] END max_depth=34, min_samples_leaf=3, min_samples_split=21;, score=-992.607 total time=   0.0s\n",
      "[CV 3/3] END max_depth=34, min_samples_leaf=3, min_samples_split=21;, score=-1352.581 total time=   0.1s\n",
      "[CV 1/3] END max_depth=46, min_samples_leaf=28, min_samples_split=20;, score=-814.834 total time=   0.0s\n",
      "[CV 2/3] END max_depth=46, min_samples_leaf=28, min_samples_split=20;, score=-790.595 total time=   0.0s\n",
      "[CV 3/3] END max_depth=46, min_samples_leaf=28, min_samples_split=20;, score=-1203.986 total time=   0.0s\n",
      "[CV 1/3] END max_depth=15, min_samples_leaf=39, min_samples_split=31;, score=-772.649 total time=   0.0s\n",
      "[CV 2/3] END max_depth=15, min_samples_leaf=39, min_samples_split=31;, score=-801.865 total time=   0.0s\n",
      "[CV 3/3] END max_depth=15, min_samples_leaf=39, min_samples_split=31;, score=-1249.782 total time=   0.0s\n",
      "[CV 1/3] END max_depth=20, min_samples_leaf=7, min_samples_split=36;, score=-929.989 total time=   0.0s\n",
      "[CV 2/3] END max_depth=20, min_samples_leaf=7, min_samples_split=36;, score=-850.967 total time=   0.0s\n",
      "[CV 3/3] END max_depth=20, min_samples_leaf=7, min_samples_split=36;, score=-1306.686 total time=   0.1s\n",
      "[CV 1/3] END max_depth=30, min_samples_leaf=49, min_samples_split=37;, score=-759.734 total time=   0.0s\n",
      "[CV 2/3] END max_depth=30, min_samples_leaf=49, min_samples_split=37;, score=-770.834 total time=   0.0s\n",
      "[CV 3/3] END max_depth=30, min_samples_leaf=49, min_samples_split=37;, score=-1282.151 total time=   0.0s\n",
      "[CV 1/3] END max_depth=45, min_samples_leaf=37, min_samples_split=14;, score=-771.650 total time=   0.0s\n",
      "[CV 2/3] END max_depth=45, min_samples_leaf=37, min_samples_split=14;, score=-798.315 total time=   0.0s\n",
      "[CV 3/3] END max_depth=45, min_samples_leaf=37, min_samples_split=14;, score=-1233.805 total time=   0.0s\n",
      "[CV 1/3] END max_depth=11, min_samples_leaf=31, min_samples_split=13;, score=-774.946 total time=   0.0s\n",
      "[CV 2/3] END max_depth=11, min_samples_leaf=31, min_samples_split=13;, score=-772.752 total time=   0.0s\n",
      "[CV 3/3] END max_depth=11, min_samples_leaf=31, min_samples_split=13;, score=-1205.433 total time=   0.0s\n",
      "[CV 1/3] END max_depth=18, min_samples_leaf=36, min_samples_split=30;, score=-773.848 total time=   0.0s\n",
      "[CV 2/3] END max_depth=18, min_samples_leaf=36, min_samples_split=30;, score=-799.827 total time=   0.0s\n",
      "[CV 3/3] END max_depth=18, min_samples_leaf=36, min_samples_split=30;, score=-1229.333 total time=   0.0s\n",
      "[CV 1/3] END max_depth=6, min_samples_leaf=27, min_samples_split=49;, score=-809.271 total time=   0.0s\n",
      "[CV 2/3] END max_depth=6, min_samples_leaf=27, min_samples_split=49;, score=-795.385 total time=   0.0s\n",
      "[CV 3/3] END max_depth=6, min_samples_leaf=27, min_samples_split=49;, score=-1216.080 total time=   0.0s\n",
      "[CV 1/3] END max_depth=17, min_samples_leaf=27, min_samples_split=5;, score=-813.639 total time=   0.0s\n",
      "[CV 2/3] END max_depth=17, min_samples_leaf=27, min_samples_split=5;, score=-777.024 total time=   0.0s\n",
      "[CV 3/3] END max_depth=17, min_samples_leaf=27, min_samples_split=5;, score=-1202.296 total time=   0.0s\n",
      "[CV 1/3] END max_depth=17, min_samples_leaf=20, min_samples_split=5;, score=-766.367 total time=   0.0s\n",
      "[CV 2/3] END max_depth=17, min_samples_leaf=20, min_samples_split=5;, score=-840.794 total time=   0.0s\n",
      "[CV 3/3] END max_depth=17, min_samples_leaf=20, min_samples_split=5;, score=-1183.705 total time=   0.0s\n",
      "[CV 1/3] END max_depth=4, min_samples_leaf=14, min_samples_split=45;, score=-715.627 total time=   0.0s\n",
      "[CV 2/3] END max_depth=4, min_samples_leaf=14, min_samples_split=45;, score=-824.294 total time=   0.0s\n",
      "[CV 3/3] END max_depth=4, min_samples_leaf=14, min_samples_split=45;, score=-1412.899 total time=   0.0s\n",
      "[CV 1/3] END max_depth=24, min_samples_leaf=41, min_samples_split=42;, score=-771.665 total time=   0.0s\n",
      "[CV 2/3] END max_depth=24, min_samples_leaf=41, min_samples_split=42;, score=-799.302 total time=   0.0s\n",
      "[CV 3/3] END max_depth=24, min_samples_leaf=41, min_samples_split=42;, score=-1252.527 total time=   0.0s\n",
      "[CV 1/3] END max_depth=12, min_samples_leaf=9, min_samples_split=17;, score=-868.931 total time=   0.0s\n",
      "[CV 2/3] END max_depth=12, min_samples_leaf=9, min_samples_split=17;, score=-912.519 total time=   0.0s\n",
      "[CV 3/3] END max_depth=12, min_samples_leaf=9, min_samples_split=17;, score=-1374.945 total time=   0.1s\n",
      "[CV 1/3] END max_depth=8, min_samples_leaf=16, min_samples_split=17;, score=-779.776 total time=   0.0s\n",
      "[CV 2/3] END max_depth=8, min_samples_leaf=16, min_samples_split=17;, score=-830.251 total time=   0.0s\n",
      "[CV 3/3] END max_depth=8, min_samples_leaf=16, min_samples_split=17;, score=-1183.701 total time=   0.0s\n",
      "[CV 1/3] END max_depth=48, min_samples_leaf=4, min_samples_split=30;, score=-849.948 total time=   0.0s\n",
      "[CV 2/3] END max_depth=48, min_samples_leaf=4, min_samples_split=30;, score=-964.466 total time=   0.0s\n",
      "[CV 3/3] END max_depth=48, min_samples_leaf=4, min_samples_split=30;, score=-1319.671 total time=   0.1s\n",
      "[CV 1/3] END max_depth=16, min_samples_leaf=43, min_samples_split=29;, score=-770.295 total time=   0.0s\n",
      "[CV 2/3] END max_depth=16, min_samples_leaf=43, min_samples_split=29;, score=-796.308 total time=   0.0s\n",
      "[CV 3/3] END max_depth=16, min_samples_leaf=43, min_samples_split=29;, score=-1255.013 total time=   0.0s\n",
      "[CV 1/3] END max_depth=21, min_samples_leaf=22, min_samples_split=41;, score=-802.286 total time=   0.0s\n",
      "[CV 2/3] END max_depth=21, min_samples_leaf=22, min_samples_split=41;, score=-807.511 total time=   0.0s\n",
      "[CV 3/3] END max_depth=21, min_samples_leaf=22, min_samples_split=41;, score=-1211.954 total time=   0.0s\n",
      "[CV 1/3] END max_depth=35, min_samples_leaf=33, min_samples_split=38;, score=-774.822 total time=   0.0s\n",
      "[CV 2/3] END max_depth=35, min_samples_leaf=33, min_samples_split=38;, score=-790.740 total time=   0.0s\n",
      "[CV 3/3] END max_depth=35, min_samples_leaf=33, min_samples_split=38;, score=-1215.085 total time=   0.0s\n",
      "[CV 1/3] END max_depth=5, min_samples_leaf=18, min_samples_split=45;, score=-770.470 total time=   0.0s\n",
      "[CV 2/3] END max_depth=5, min_samples_leaf=18, min_samples_split=45;, score=-820.441 total time=   0.0s\n",
      "[CV 3/3] END max_depth=5, min_samples_leaf=18, min_samples_split=45;, score=-1296.203 total time=   0.0s\n",
      "[CV 1/3] END max_depth=47, min_samples_leaf=9, min_samples_split=3;, score=-870.125 total time=   0.0s\n",
      "[CV 2/3] END max_depth=47, min_samples_leaf=9, min_samples_split=3;, score=-901.680 total time=   0.0s\n",
      "[CV 3/3] END max_depth=47, min_samples_leaf=9, min_samples_split=3;, score=-1366.252 total time=   0.1s\n",
      "[CV 1/3] END max_depth=36, min_samples_leaf=47, min_samples_split=30;, score=-777.160 total time=   0.0s\n",
      "[CV 2/3] END max_depth=36, min_samples_leaf=47, min_samples_split=30;, score=-769.769 total time=   0.0s\n",
      "[CV 3/3] END max_depth=36, min_samples_leaf=47, min_samples_split=30;, score=-1287.722 total time=   0.0s\n",
      "[CV 1/3] END max_depth=26, min_samples_leaf=5, min_samples_split=13;, score=-838.142 total time=   0.0s\n",
      "[CV 2/3] END max_depth=26, min_samples_leaf=5, min_samples_split=13;, score=-976.607 total time=   0.0s\n",
      "[CV 3/3] END max_depth=26, min_samples_leaf=5, min_samples_split=13;, score=-1470.704 total time=   0.1s\n",
      "[CV 1/3] END max_depth=3, min_samples_leaf=7, min_samples_split=44;, score=-783.717 total time=   0.0s\n",
      "[CV 2/3] END max_depth=3, min_samples_leaf=7, min_samples_split=44;, score=-868.620 total time=   0.0s\n",
      "[CV 3/3] END max_depth=3, min_samples_leaf=7, min_samples_split=44;, score=-1546.060 total time=   0.0s\n",
      "[CV 1/3] END max_depth=31, min_samples_leaf=21, min_samples_split=48;, score=-823.525 total time=   0.0s\n",
      "[CV 2/3] END max_depth=31, min_samples_leaf=21, min_samples_split=48;, score=-799.225 total time=   0.0s\n",
      "[CV 3/3] END max_depth=31, min_samples_leaf=21, min_samples_split=48;, score=-1193.228 total time=   0.0s\n",
      "[CV 1/3] END max_depth=6, min_samples_leaf=1, min_samples_split=18;, score=-887.552 total time=   0.0s\n",
      "[CV 2/3] END max_depth=6, min_samples_leaf=1, min_samples_split=18;, score=-899.086 total time=   0.0s\n",
      "[CV 3/3] END max_depth=6, min_samples_leaf=1, min_samples_split=18;, score=-1253.731 total time=   0.0s\n",
      "[CV 1/3] END max_depth=7, min_samples_leaf=10, min_samples_split=34;, score=-941.708 total time=   0.0s\n",
      "[CV 2/3] END max_depth=7, min_samples_leaf=10, min_samples_split=34;, score=-831.216 total time=   0.0s\n",
      "[CV 3/3] END max_depth=7, min_samples_leaf=10, min_samples_split=34;, score=-1306.665 total time=   0.0s\n",
      "[CV 1/3] END max_depth=23, min_samples_leaf=33, min_samples_split=12;, score=-774.822 total time=   0.0s\n",
      "[CV 2/3] END max_depth=23, min_samples_leaf=33, min_samples_split=12;, score=-790.740 total time=   0.0s\n",
      "[CV 3/3] END max_depth=23, min_samples_leaf=33, min_samples_split=12;, score=-1215.085 total time=   0.0s\n",
      "[CV 1/3] END max_depth=32, min_samples_leaf=30, min_samples_split=2;, score=-801.682 total time=   0.0s\n",
      "[CV 2/3] END max_depth=32, min_samples_leaf=30, min_samples_split=2;, score=-777.146 total time=   0.0s\n",
      "[CV 3/3] END max_depth=32, min_samples_leaf=30, min_samples_split=2;, score=-1215.389 total time=   0.0s\n",
      "[CV 1/3] END max_depth=48, min_samples_leaf=48, min_samples_split=7;, score=-772.008 total time=   0.0s\n",
      "[CV 2/3] END max_depth=48, min_samples_leaf=48, min_samples_split=7;, score=-768.225 total time=   0.0s\n",
      "[CV 3/3] END max_depth=48, min_samples_leaf=48, min_samples_split=7;, score=-1283.627 total time=   0.0s\n",
      "[CV 1/3] END max_depth=38, min_samples_leaf=35, min_samples_split=20;, score=-772.651 total time=   0.0s\n",
      "[CV 2/3] END max_depth=38, min_samples_leaf=35, min_samples_split=20;, score=-797.700 total time=   0.0s\n",
      "[CV 3/3] END max_depth=38, min_samples_leaf=35, min_samples_split=20;, score=-1214.176 total time=   0.0s\n",
      "[CV 1/3] END max_depth=23, min_samples_leaf=41, min_samples_split=9;, score=-771.665 total time=   0.0s\n",
      "[CV 2/3] END max_depth=23, min_samples_leaf=41, min_samples_split=9;, score=-799.302 total time=   0.0s\n",
      "[CV 3/3] END max_depth=23, min_samples_leaf=41, min_samples_split=9;, score=-1252.527 total time=   0.0s\n",
      "[CV 1/3] END max_depth=38, min_samples_leaf=11, min_samples_split=44;, score=-834.144 total time=   0.0s\n",
      "[CV 2/3] END max_depth=38, min_samples_leaf=11, min_samples_split=44;, score=-849.121 total time=   0.0s\n",
      "[CV 3/3] END max_depth=38, min_samples_leaf=11, min_samples_split=44;, score=-1213.463 total time=   0.0s\n",
      "[CV 1/3] END max_depth=36, min_samples_leaf=37, min_samples_split=12;, score=-771.650 total time=   0.0s\n",
      "[CV 2/3] END max_depth=36, min_samples_leaf=37, min_samples_split=12;, score=-798.315 total time=   0.0s\n",
      "[CV 3/3] END max_depth=36, min_samples_leaf=37, min_samples_split=12;, score=-1233.805 total time=   0.0s\n",
      "[CV 1/3] END max_depth=35, min_samples_leaf=30, min_samples_split=17;, score=-801.682 total time=   0.0s\n",
      "[CV 2/3] END max_depth=35, min_samples_leaf=30, min_samples_split=17;, score=-777.146 total time=   0.0s\n",
      "[CV 3/3] END max_depth=35, min_samples_leaf=30, min_samples_split=17;, score=-1215.389 total time=   0.0s\n",
      "[CV 1/3] END max_depth=10, min_samples_leaf=22, min_samples_split=2;, score=-802.286 total time=   0.0s\n",
      "[CV 2/3] END max_depth=10, min_samples_leaf=22, min_samples_split=2;, score=-818.462 total time=   0.0s\n",
      "[CV 3/3] END max_depth=10, min_samples_leaf=22, min_samples_split=2;, score=-1206.699 total time=   0.0s\n",
      "[CV 1/3] END max_depth=30, min_samples_leaf=46, min_samples_split=11;, score=-776.988 total time=   0.0s\n",
      "[CV 2/3] END max_depth=30, min_samples_leaf=46, min_samples_split=11;, score=-769.769 total time=   0.0s\n",
      "[CV 3/3] END max_depth=30, min_samples_leaf=46, min_samples_split=11;, score=-1290.131 total time=   0.0s\n",
      "[CV 1/3] END max_depth=40, min_samples_leaf=39, min_samples_split=9;, score=-772.649 total time=   0.0s\n",
      "[CV 2/3] END max_depth=40, min_samples_leaf=39, min_samples_split=9;, score=-801.865 total time=   0.0s\n",
      "[CV 3/3] END max_depth=40, min_samples_leaf=39, min_samples_split=9;, score=-1249.782 total time=   0.0s\n",
      "[CV 1/3] END max_depth=39, min_samples_leaf=49, min_samples_split=8;, score=-759.734 total time=   0.0s\n",
      "[CV 2/3] END max_depth=39, min_samples_leaf=49, min_samples_split=8;, score=-770.834 total time=   0.0s\n",
      "[CV 3/3] END max_depth=39, min_samples_leaf=49, min_samples_split=8;, score=-1282.151 total time=   0.0s\n",
      "[CV 1/3] END max_depth=36, min_samples_leaf=15, min_samples_split=40;, score=-774.327 total time=   0.0s\n",
      "[CV 2/3] END max_depth=36, min_samples_leaf=15, min_samples_split=40;, score=-805.165 total time=   0.0s\n",
      "[CV 3/3] END max_depth=36, min_samples_leaf=15, min_samples_split=40;, score=-1150.935 total time=   0.0s\n",
      "[CV 1/3] END max_depth=11, min_samples_leaf=13, min_samples_split=22;, score=-780.301 total time=   0.0s\n",
      "[CV 2/3] END max_depth=11, min_samples_leaf=13, min_samples_split=22;, score=-809.833 total time=   0.0s\n",
      "[CV 3/3] END max_depth=11, min_samples_leaf=13, min_samples_split=22;, score=-1258.138 total time=   0.0s\n",
      "[CV 1/3] END max_depth=26, min_samples_leaf=4, min_samples_split=47;, score=-853.672 total time=   0.0s\n",
      "[CV 2/3] END max_depth=26, min_samples_leaf=4, min_samples_split=47;, score=-896.641 total time=   0.0s\n",
      "[CV 3/3] END max_depth=26, min_samples_leaf=4, min_samples_split=47;, score=-1223.163 total time=   0.0s\n",
      "[CV 1/3] END max_depth=36, min_samples_leaf=49, min_samples_split=40;, score=-759.734 total time=   0.0s\n",
      "[CV 2/3] END max_depth=36, min_samples_leaf=49, min_samples_split=40;, score=-770.834 total time=   0.0s\n",
      "[CV 3/3] END max_depth=36, min_samples_leaf=49, min_samples_split=40;, score=-1282.151 total time=   0.0s\n",
      "[CV 1/3] END max_depth=43, min_samples_leaf=29, min_samples_split=34;, score=-807.081 total time=   0.0s\n",
      "[CV 2/3] END max_depth=43, min_samples_leaf=29, min_samples_split=34;, score=-783.605 total time=   0.0s\n",
      "[CV 3/3] END max_depth=43, min_samples_leaf=29, min_samples_split=34;, score=-1215.280 total time=   0.0s\n",
      "[CV 1/3] END max_depth=22, min_samples_leaf=35, min_samples_split=49;, score=-772.651 total time=   0.0s\n",
      "[CV 2/3] END max_depth=22, min_samples_leaf=35, min_samples_split=49;, score=-797.700 total time=   0.0s\n",
      "[CV 3/3] END max_depth=22, min_samples_leaf=35, min_samples_split=49;, score=-1214.176 total time=   0.0s\n",
      "[CV 1/3] END max_depth=3, min_samples_leaf=27, min_samples_split=22;, score=-775.939 total time=   0.0s\n",
      "[CV 2/3] END max_depth=3, min_samples_leaf=27, min_samples_split=22;, score=-868.620 total time=   0.0s\n",
      "[CV 3/3] END max_depth=3, min_samples_leaf=27, min_samples_split=22;, score=-1546.060 total time=   0.0s\n",
      "[CV 1/3] END max_depth=49, min_samples_leaf=39, min_samples_split=29;, score=-772.649 total time=   0.0s\n",
      "[CV 2/3] END max_depth=49, min_samples_leaf=39, min_samples_split=29;, score=-801.865 total time=   0.0s\n",
      "[CV 3/3] END max_depth=49, min_samples_leaf=39, min_samples_split=29;, score=-1249.782 total time=   0.0s\n",
      "[CV 1/3] END max_depth=23, min_samples_leaf=27, min_samples_split=14;, score=-813.639 total time=   0.0s\n",
      "[CV 2/3] END max_depth=23, min_samples_leaf=27, min_samples_split=14;, score=-777.024 total time=   0.0s\n",
      "[CV 3/3] END max_depth=23, min_samples_leaf=27, min_samples_split=14;, score=-1202.296 total time=   0.0s\n",
      "[CV 1/3] END max_depth=29, min_samples_leaf=40, min_samples_split=6;, score=-772.649 total time=   0.0s\n",
      "[CV 2/3] END max_depth=29, min_samples_leaf=40, min_samples_split=6;, score=-799.690 total time=   0.0s\n",
      "[CV 3/3] END max_depth=29, min_samples_leaf=40, min_samples_split=6;, score=-1246.006 total time=   0.0s\n",
      "[CV 1/3] END max_depth=22, min_samples_leaf=30, min_samples_split=36;, score=-801.682 total time=   0.0s\n",
      "[CV 2/3] END max_depth=22, min_samples_leaf=30, min_samples_split=36;, score=-777.146 total time=   0.0s\n",
      "[CV 3/3] END max_depth=22, min_samples_leaf=30, min_samples_split=36;, score=-1215.389 total time=   0.0s\n",
      "[CV 1/3] END max_depth=47, min_samples_leaf=10, min_samples_split=18;, score=-908.669 total time=   0.0s\n",
      "[CV 2/3] END max_depth=47, min_samples_leaf=10, min_samples_split=18;, score=-884.821 total time=   0.0s\n",
      "[CV 3/3] END max_depth=47, min_samples_leaf=10, min_samples_split=18;, score=-1342.590 total time=   0.0s\n",
      "[CV 1/3] END max_depth=15, min_samples_leaf=4, min_samples_split=36;, score=-866.581 total time=   0.0s\n",
      "[CV 2/3] END max_depth=15, min_samples_leaf=4, min_samples_split=36;, score=-929.335 total time=   0.0s\n",
      "[CV 3/3] END max_depth=15, min_samples_leaf=4, min_samples_split=36;, score=-1305.160 total time=   0.0s\n",
      "[CV 1/3] END max_depth=32, min_samples_leaf=14, min_samples_split=22;, score=-798.581 total time=   0.0s\n",
      "[CV 2/3] END max_depth=32, min_samples_leaf=14, min_samples_split=22;, score=-800.904 total time=   0.0s\n",
      "[CV 3/3] END max_depth=32, min_samples_leaf=14, min_samples_split=22;, score=-1200.568 total time=   0.0s\n",
      "[CV 1/3] END max_depth=11, min_samples_leaf=32, min_samples_split=30;, score=-774.822 total time=   0.0s\n",
      "[CV 2/3] END max_depth=11, min_samples_leaf=32, min_samples_split=30;, score=-779.622 total time=   0.0s\n",
      "[CV 3/3] END max_depth=11, min_samples_leaf=32, min_samples_split=30;, score=-1206.311 total time=   0.0s\n",
      "[CV 1/3] END max_depth=8, min_samples_leaf=43, min_samples_split=38;, score=-770.295 total time=   0.0s\n",
      "[CV 2/3] END max_depth=8, min_samples_leaf=43, min_samples_split=38;, score=-802.903 total time=   0.0s\n",
      "[CV 3/3] END max_depth=8, min_samples_leaf=43, min_samples_split=38;, score=-1251.784 total time=   0.0s\n",
      "[CV 1/3] END max_depth=32, min_samples_leaf=34, min_samples_split=16;, score=-769.470 total time=   0.0s\n",
      "[CV 2/3] END max_depth=32, min_samples_leaf=34, min_samples_split=16;, score=-791.722 total time=   0.0s\n",
      "[CV 3/3] END max_depth=32, min_samples_leaf=34, min_samples_split=16;, score=-1214.670 total time=   0.0s\n",
      "[CV 1/3] END max_depth=12, min_samples_leaf=34, min_samples_split=37;, score=-769.470 total time=   0.0s\n",
      "[CV 2/3] END max_depth=12, min_samples_leaf=34, min_samples_split=37;, score=-791.722 total time=   0.0s\n",
      "[CV 3/3] END max_depth=12, min_samples_leaf=34, min_samples_split=37;, score=-1214.670 total time=   0.0s\n",
      "[CV 1/3] END max_depth=47, min_samples_leaf=32, min_samples_split=22;, score=-774.822 total time=   0.0s\n",
      "[CV 2/3] END max_depth=47, min_samples_leaf=32, min_samples_split=22;, score=-780.897 total time=   0.0s\n",
      "[CV 3/3] END max_depth=47, min_samples_leaf=32, min_samples_split=22;, score=-1206.311 total time=   0.0s\n",
      "[CV 1/3] END max_depth=13, min_samples_leaf=6, min_samples_split=3;, score=-836.677 total time=   0.0s\n",
      "[CV 2/3] END max_depth=13, min_samples_leaf=6, min_samples_split=3;, score=-1010.068 total time=   0.0s\n",
      "[CV 3/3] END max_depth=13, min_samples_leaf=6, min_samples_split=3;, score=-1461.260 total time=   0.1s\n",
      "[CV 1/3] END max_depth=37, min_samples_leaf=47, min_samples_split=19;, score=-777.160 total time=   0.0s\n",
      "[CV 2/3] END max_depth=37, min_samples_leaf=47, min_samples_split=19;, score=-769.769 total time=   0.0s\n",
      "[CV 3/3] END max_depth=37, min_samples_leaf=47, min_samples_split=19;, score=-1287.722 total time=   0.0s\n",
      "[CV 1/3] END max_depth=13, min_samples_leaf=28, min_samples_split=7;, score=-814.834 total time=   0.0s\n",
      "[CV 2/3] END max_depth=13, min_samples_leaf=28, min_samples_split=7;, score=-790.243 total time=   0.0s\n",
      "[CV 3/3] END max_depth=13, min_samples_leaf=28, min_samples_split=7;, score=-1203.986 total time=   0.0s\n",
      "[CV 1/3] END max_depth=9, min_samples_leaf=21, min_samples_split=22;, score=-801.847 total time=   0.0s\n",
      "[CV 2/3] END max_depth=9, min_samples_leaf=21, min_samples_split=22;, score=-840.205 total time=   0.0s\n",
      "[CV 3/3] END max_depth=9, min_samples_leaf=21, min_samples_split=22;, score=-1199.460 total time=   0.0s\n",
      "[CV 1/3] END max_depth=40, min_samples_leaf=11, min_samples_split=22;, score=-924.360 total time=   0.0s\n",
      "[CV 2/3] END max_depth=40, min_samples_leaf=11, min_samples_split=22;, score=-910.904 total time=   0.0s\n",
      "[CV 3/3] END max_depth=40, min_samples_leaf=11, min_samples_split=22;, score=-1327.384 total time=   0.1s\n",
      "[CV 1/3] END max_depth=13, min_samples_leaf=44, min_samples_split=42;, score=-770.295 total time=   0.0s\n",
      "[CV 2/3] END max_depth=13, min_samples_leaf=44, min_samples_split=42;, score=-785.593 total time=   0.0s\n",
      "[CV 3/3] END max_depth=13, min_samples_leaf=44, min_samples_split=42;, score=-1268.762 total time=   0.0s\n",
      "[CV 1/3] END max_depth=4, min_samples_leaf=10, min_samples_split=23;, score=-712.870 total time=   0.0s\n",
      "[CV 2/3] END max_depth=4, min_samples_leaf=10, min_samples_split=23;, score=-824.207 total time=   0.0s\n",
      "[CV 3/3] END max_depth=4, min_samples_leaf=10, min_samples_split=23;, score=-1412.899 total time=   0.0s\n",
      "[CV 1/3] END max_depth=37, min_samples_leaf=33, min_samples_split=9;, score=-774.822 total time=   0.0s\n",
      "[CV 2/3] END max_depth=37, min_samples_leaf=33, min_samples_split=9;, score=-790.740 total time=   0.0s\n",
      "[CV 3/3] END max_depth=37, min_samples_leaf=33, min_samples_split=9;, score=-1215.085 total time=   0.0s\n",
      "[CV 1/3] END max_depth=34, min_samples_leaf=20, min_samples_split=6;, score=-766.367 total time=   0.0s\n",
      "[CV 2/3] END max_depth=34, min_samples_leaf=20, min_samples_split=6;, score=-840.794 total time=   0.0s\n",
      "[CV 3/3] END max_depth=34, min_samples_leaf=20, min_samples_split=6;, score=-1183.705 total time=   0.0s\n",
      "[CV 1/3] END max_depth=24, min_samples_leaf=32, min_samples_split=32;, score=-774.822 total time=   0.0s\n",
      "[CV 2/3] END max_depth=24, min_samples_leaf=32, min_samples_split=32;, score=-780.897 total time=   0.0s\n",
      "[CV 3/3] END max_depth=24, min_samples_leaf=32, min_samples_split=32;, score=-1206.311 total time=   0.0s\n",
      "[CV 1/3] END max_depth=35, min_samples_leaf=8, min_samples_split=38;, score=-837.800 total time=   0.0s\n",
      "[CV 2/3] END max_depth=35, min_samples_leaf=8, min_samples_split=38;, score=-852.194 total time=   0.0s\n",
      "[CV 3/3] END max_depth=35, min_samples_leaf=8, min_samples_split=38;, score=-1307.877 total time=   0.1s\n",
      "[CV 1/3] END max_depth=25, min_samples_leaf=2, min_samples_split=10;, score=-921.109 total time=   0.0s\n",
      "[CV 2/3] END max_depth=25, min_samples_leaf=2, min_samples_split=10;, score=-1151.362 total time=   0.1s\n",
      "[CV 3/3] END max_depth=25, min_samples_leaf=2, min_samples_split=10;, score=-1632.156 total time=   0.1s\n",
      "[CV 1/3] END max_depth=38, min_samples_leaf=14, min_samples_split=7;, score=-798.581 total time=   0.0s\n",
      "[CV 2/3] END max_depth=38, min_samples_leaf=14, min_samples_split=7;, score=-800.904 total time=   0.0s\n",
      "[CV 3/3] END max_depth=38, min_samples_leaf=14, min_samples_split=7;, score=-1200.568 total time=   0.1s\n",
      "[CV 1/3] END max_depth=38, min_samples_leaf=2, min_samples_split=32;, score=-840.894 total time=   0.0s\n",
      "[CV 2/3] END max_depth=38, min_samples_leaf=2, min_samples_split=32;, score=-937.248 total time=   0.0s\n",
      "[CV 3/3] END max_depth=38, min_samples_leaf=2, min_samples_split=32;, score=-1390.476 total time=   0.1s\n",
      "[CV 1/3] END max_depth=44, min_samples_leaf=14, min_samples_split=32;, score=-798.403 total time=   0.0s\n",
      "[CV 2/3] END max_depth=44, min_samples_leaf=14, min_samples_split=32;, score=-820.193 total time=   0.0s\n",
      "[CV 3/3] END max_depth=44, min_samples_leaf=14, min_samples_split=32;, score=-1212.994 total time=   0.0s\n",
      "[CV 1/3] END max_depth=13, min_samples_leaf=12, min_samples_split=39;, score=-788.139 total time=   0.0s\n",
      "[CV 2/3] END max_depth=13, min_samples_leaf=12, min_samples_split=39;, score=-847.471 total time=   0.0s\n",
      "[CV 3/3] END max_depth=13, min_samples_leaf=12, min_samples_split=39;, score=-1231.620 total time=   0.1s\n",
      "[CV 1/3] END max_depth=28, min_samples_leaf=46, min_samples_split=17;, score=-776.988 total time=   0.0s\n",
      "[CV 2/3] END max_depth=28, min_samples_leaf=46, min_samples_split=17;, score=-769.769 total time=   0.0s\n",
      "[CV 3/3] END max_depth=28, min_samples_leaf=46, min_samples_split=17;, score=-1290.131 total time=   0.0s\n",
      "[CV 1/3] END max_depth=3, min_samples_leaf=33, min_samples_split=10;, score=-774.182 total time=   0.0s\n",
      "[CV 2/3] END max_depth=3, min_samples_leaf=33, min_samples_split=10;, score=-868.620 total time=   0.0s\n",
      "[CV 3/3] END max_depth=3, min_samples_leaf=33, min_samples_split=10;, score=-1546.060 total time=   0.0s\n",
      "[CV 1/3] END max_depth=41, min_samples_leaf=2, min_samples_split=10;, score=-921.109 total time=   0.0s\n",
      "[CV 2/3] END max_depth=41, min_samples_leaf=2, min_samples_split=10;, score=-1151.362 total time=   0.1s\n",
      "[CV 3/3] END max_depth=41, min_samples_leaf=2, min_samples_split=10;, score=-1632.156 total time=   0.1s\n",
      "[CV 1/3] END max_depth=44, min_samples_leaf=28, min_samples_split=17;, score=-814.834 total time=   0.0s\n",
      "[CV 2/3] END max_depth=44, min_samples_leaf=28, min_samples_split=17;, score=-790.595 total time=   0.0s\n",
      "[CV 3/3] END max_depth=44, min_samples_leaf=28, min_samples_split=17;, score=-1203.986 total time=   0.0s\n",
      "[CV 1/3] END max_depth=35, min_samples_leaf=45, min_samples_split=17;, score=-770.295 total time=   0.0s\n",
      "[CV 2/3] END max_depth=35, min_samples_leaf=45, min_samples_split=17;, score=-769.686 total time=   0.0s\n",
      "[CV 3/3] END max_depth=35, min_samples_leaf=45, min_samples_split=17;, score=-1255.918 total time=   0.0s\n",
      "[CV 1/3] END max_depth=4, min_samples_leaf=36, min_samples_split=25;, score=-705.407 total time=   0.0s\n",
      "[CV 2/3] END max_depth=4, min_samples_leaf=36, min_samples_split=25;, score=-824.294 total time=   0.0s\n",
      "[CV 3/3] END max_depth=4, min_samples_leaf=36, min_samples_split=25;, score=-1419.896 total time=   0.0s\n",
      "[CV 1/3] END max_depth=13, min_samples_leaf=10, min_samples_split=14;, score=-909.546 total time=   0.0s\n",
      "[CV 2/3] END max_depth=13, min_samples_leaf=10, min_samples_split=14;, score=-893.394 total time=   0.0s\n",
      "[CV 3/3] END max_depth=13, min_samples_leaf=10, min_samples_split=14;, score=-1342.795 total time=   0.1s\n",
      "[CV 1/3] END max_depth=40, min_samples_leaf=47, min_samples_split=19;, score=-777.160 total time=   0.0s\n",
      "[CV 2/3] END max_depth=40, min_samples_leaf=47, min_samples_split=19;, score=-769.769 total time=   0.0s\n",
      "[CV 3/3] END max_depth=40, min_samples_leaf=47, min_samples_split=19;, score=-1287.722 total time=   0.0s\n",
      "[CV 1/3] END max_depth=39, min_samples_leaf=17, min_samples_split=7;, score=-785.388 total time=   0.0s\n",
      "[CV 2/3] END max_depth=39, min_samples_leaf=17, min_samples_split=7;, score=-839.074 total time=   0.0s\n",
      "[CV 3/3] END max_depth=39, min_samples_leaf=17, min_samples_split=7;, score=-1231.212 total time=   0.0s\n",
      "[CV 1/3] END max_depth=9, min_samples_leaf=35, min_samples_split=39;, score=-772.651 total time=   0.0s\n",
      "[CV 2/3] END max_depth=9, min_samples_leaf=35, min_samples_split=39;, score=-800.107 total time=   0.0s\n",
      "[CV 3/3] END max_depth=9, min_samples_leaf=35, min_samples_split=39;, score=-1212.113 total time=   0.0s\n",
      "[CV 1/3] END max_depth=14, min_samples_leaf=4, min_samples_split=20;, score=-875.462 total time=   0.0s\n",
      "[CV 2/3] END max_depth=14, min_samples_leaf=4, min_samples_split=20;, score=-1027.859 total time=   0.0s\n",
      "[CV 3/3] END max_depth=14, min_samples_leaf=4, min_samples_split=20;, score=-1311.013 total time=   0.1s\n",
      "[CV 1/3] END max_depth=15, min_samples_leaf=16, min_samples_split=42;, score=-773.025 total time=   0.0s\n",
      "[CV 2/3] END max_depth=15, min_samples_leaf=16, min_samples_split=42;, score=-823.856 total time=   0.0s\n",
      "[CV 3/3] END max_depth=15, min_samples_leaf=16, min_samples_split=42;, score=-1195.969 total time=   0.0s\n",
      "[CV 1/3] END max_depth=37, min_samples_leaf=36, min_samples_split=43;, score=-773.848 total time=   0.0s\n",
      "[CV 2/3] END max_depth=37, min_samples_leaf=36, min_samples_split=43;, score=-799.827 total time=   0.0s\n",
      "[CV 3/3] END max_depth=37, min_samples_leaf=36, min_samples_split=43;, score=-1229.333 total time=   0.0s\n",
      "[CV 1/3] END max_depth=49, min_samples_leaf=24, min_samples_split=20;, score=-817.794 total time=   0.0s\n",
      "[CV 2/3] END max_depth=49, min_samples_leaf=24, min_samples_split=20;, score=-788.786 total time=   0.0s\n",
      "[CV 3/3] END max_depth=49, min_samples_leaf=24, min_samples_split=20;, score=-1208.006 total time=   0.0s\n",
      "[CV 1/3] END max_depth=34, min_samples_leaf=36, min_samples_split=23;, score=-773.848 total time=   0.0s\n",
      "[CV 2/3] END max_depth=34, min_samples_leaf=36, min_samples_split=23;, score=-799.827 total time=   0.0s\n",
      "[CV 3/3] END max_depth=34, min_samples_leaf=36, min_samples_split=23;, score=-1229.333 total time=   0.0s\n",
      "[CV 1/3] END max_depth=26, min_samples_leaf=28, min_samples_split=7;, score=-814.834 total time=   0.0s\n",
      "[CV 2/3] END max_depth=26, min_samples_leaf=28, min_samples_split=7;, score=-790.595 total time=   0.0s\n",
      "[CV 3/3] END max_depth=26, min_samples_leaf=28, min_samples_split=7;, score=-1203.986 total time=   0.0s\n",
      "[CV 1/3] END max_depth=42, min_samples_leaf=36, min_samples_split=31;, score=-773.848 total time=   0.0s\n",
      "[CV 2/3] END max_depth=42, min_samples_leaf=36, min_samples_split=31;, score=-799.827 total time=   0.0s\n",
      "[CV 3/3] END max_depth=42, min_samples_leaf=36, min_samples_split=31;, score=-1229.333 total time=   0.0s\n",
      "[CV 1/3] END max_depth=29, min_samples_leaf=39, min_samples_split=14;, score=-772.649 total time=   0.0s\n",
      "[CV 2/3] END max_depth=29, min_samples_leaf=39, min_samples_split=14;, score=-801.865 total time=   0.0s\n",
      "[CV 3/3] END max_depth=29, min_samples_leaf=39, min_samples_split=14;, score=-1249.782 total time=   0.0s\n",
      "[CV 1/3] END max_depth=34, min_samples_leaf=43, min_samples_split=48;, score=-770.295 total time=   0.0s\n",
      "[CV 2/3] END max_depth=34, min_samples_leaf=43, min_samples_split=48;, score=-796.308 total time=   0.0s\n",
      "[CV 3/3] END max_depth=34, min_samples_leaf=43, min_samples_split=48;, score=-1255.013 total time=   0.0s\n",
      "[CV 1/3] END max_depth=33, min_samples_leaf=12, min_samples_split=4;, score=-806.154 total time=   0.0s\n",
      "[CV 2/3] END max_depth=33, min_samples_leaf=12, min_samples_split=4;, score=-834.925 total time=   0.0s\n",
      "[CV 3/3] END max_depth=33, min_samples_leaf=12, min_samples_split=4;, score=-1268.194 total time=   0.0s\n",
      "[CV 1/3] END max_depth=41, min_samples_leaf=4, min_samples_split=17;, score=-867.674 total time=   0.0s\n",
      "[CV 2/3] END max_depth=41, min_samples_leaf=4, min_samples_split=17;, score=-1068.855 total time=   0.0s\n",
      "[CV 3/3] END max_depth=41, min_samples_leaf=4, min_samples_split=17;, score=-1361.503 total time=   0.1s\n",
      "[CV 1/3] END max_depth=14, min_samples_leaf=28, min_samples_split=8;, score=-814.834 total time=   0.0s\n",
      "[CV 2/3] END max_depth=14, min_samples_leaf=28, min_samples_split=8;, score=-790.595 total time=   0.0s\n",
      "[CV 3/3] END max_depth=14, min_samples_leaf=28, min_samples_split=8;, score=-1203.986 total time=   0.0s\n",
      "[CV 1/3] END max_depth=37, min_samples_leaf=34, min_samples_split=17;, score=-769.470 total time=   0.0s\n",
      "[CV 2/3] END max_depth=37, min_samples_leaf=34, min_samples_split=17;, score=-791.722 total time=   0.0s\n",
      "[CV 3/3] END max_depth=37, min_samples_leaf=34, min_samples_split=17;, score=-1214.670 total time=   0.0s\n",
      "[CV 1/3] END max_depth=38, min_samples_leaf=2, min_samples_split=3;, score=-1006.111 total time=   0.0s\n",
      "[CV 2/3] END max_depth=38, min_samples_leaf=2, min_samples_split=3;, score=-1220.654 total time=   0.0s\n",
      "[CV 3/3] END max_depth=38, min_samples_leaf=2, min_samples_split=3;, score=-1748.494 total time=   0.1s\n",
      "[CV 1/3] END max_depth=44, min_samples_leaf=45, min_samples_split=43;, score=-770.295 total time=   0.0s\n",
      "[CV 2/3] END max_depth=44, min_samples_leaf=45, min_samples_split=43;, score=-769.686 total time=   0.0s\n",
      "[CV 3/3] END max_depth=44, min_samples_leaf=45, min_samples_split=43;, score=-1255.918 total time=   0.0s\n",
      "[CV 1/3] END max_depth=3, min_samples_leaf=14, min_samples_split=14;, score=-783.238 total time=   0.0s\n",
      "[CV 2/3] END max_depth=3, min_samples_leaf=14, min_samples_split=14;, score=-868.620 total time=   0.0s\n",
      "[CV 3/3] END max_depth=3, min_samples_leaf=14, min_samples_split=14;, score=-1546.060 total time=   0.0s\n",
      "[CV 1/3] END max_depth=22, min_samples_leaf=29, min_samples_split=25;, score=-807.081 total time=   0.0s\n",
      "[CV 2/3] END max_depth=22, min_samples_leaf=29, min_samples_split=25;, score=-783.605 total time=   0.0s\n",
      "[CV 3/3] END max_depth=22, min_samples_leaf=29, min_samples_split=25;, score=-1215.280 total time=   0.0s\n",
      "[CV 1/3] END max_depth=19, min_samples_leaf=36, min_samples_split=5;, score=-773.848 total time=   0.0s\n",
      "[CV 2/3] END max_depth=19, min_samples_leaf=36, min_samples_split=5;, score=-799.827 total time=   0.0s\n",
      "[CV 3/3] END max_depth=19, min_samples_leaf=36, min_samples_split=5;, score=-1229.333 total time=   0.0s\n",
      "[CV 1/3] END max_depth=11, min_samples_leaf=46, min_samples_split=40;, score=-776.988 total time=   0.0s\n",
      "[CV 2/3] END max_depth=11, min_samples_leaf=46, min_samples_split=40;, score=-769.769 total time=   0.0s\n",
      "[CV 3/3] END max_depth=11, min_samples_leaf=46, min_samples_split=40;, score=-1290.131 total time=   0.0s\n",
      "[CV 1/3] END max_depth=10, min_samples_leaf=16, min_samples_split=40;, score=-769.003 total time=   0.0s\n",
      "[CV 2/3] END max_depth=10, min_samples_leaf=16, min_samples_split=40;, score=-837.644 total time=   0.0s\n",
      "[CV 3/3] END max_depth=10, min_samples_leaf=16, min_samples_split=40;, score=-1193.396 total time=   0.0s\n",
      "[CV 1/3] END max_depth=33, min_samples_leaf=28, min_samples_split=5;, score=-814.834 total time=   0.0s\n",
      "[CV 2/3] END max_depth=33, min_samples_leaf=28, min_samples_split=5;, score=-790.595 total time=   0.0s\n",
      "[CV 3/3] END max_depth=33, min_samples_leaf=28, min_samples_split=5;, score=-1203.986 total time=   0.0s\n",
      "[CV 1/3] END max_depth=17, min_samples_leaf=37, min_samples_split=18;, score=-771.650 total time=   0.0s\n",
      "[CV 2/3] END max_depth=17, min_samples_leaf=37, min_samples_split=18;, score=-798.315 total time=   0.0s\n",
      "[CV 3/3] END max_depth=17, min_samples_leaf=37, min_samples_split=18;, score=-1233.805 total time=   0.0s\n",
      "[CV 1/3] END max_depth=6, min_samples_leaf=14, min_samples_split=28;, score=-771.915 total time=   0.0s\n",
      "[CV 2/3] END max_depth=6, min_samples_leaf=14, min_samples_split=28;, score=-813.978 total time=   0.0s\n",
      "[CV 3/3] END max_depth=6, min_samples_leaf=14, min_samples_split=28;, score=-1225.868 total time=   0.0s\n",
      "[CV 1/3] END max_depth=11, min_samples_leaf=14, min_samples_split=33;, score=-798.510 total time=   0.0s\n",
      "[CV 2/3] END max_depth=11, min_samples_leaf=14, min_samples_split=33;, score=-824.458 total time=   0.0s\n",
      "[CV 3/3] END max_depth=11, min_samples_leaf=14, min_samples_split=33;, score=-1217.152 total time=   0.0s\n",
      "[CV 1/3] END max_depth=9, min_samples_leaf=24, min_samples_split=37;, score=-816.738 total time=   0.0s\n",
      "[CV 2/3] END max_depth=9, min_samples_leaf=24, min_samples_split=37;, score=-802.346 total time=   0.0s\n",
      "[CV 3/3] END max_depth=9, min_samples_leaf=24, min_samples_split=37;, score=-1218.922 total time=   0.0s\n",
      "[CV 1/3] END max_depth=36, min_samples_leaf=3, min_samples_split=40;, score=-860.280 total time=   0.0s\n",
      "[CV 2/3] END max_depth=36, min_samples_leaf=3, min_samples_split=40;, score=-921.138 total time=   0.0s\n",
      "[CV 3/3] END max_depth=36, min_samples_leaf=3, min_samples_split=40;, score=-1248.383 total time=   0.0s\n",
      "[CV 1/3] END max_depth=6, min_samples_leaf=37, min_samples_split=28;, score=-764.242 total time=   0.0s\n",
      "[CV 2/3] END max_depth=6, min_samples_leaf=37, min_samples_split=28;, score=-799.672 total time=   0.0s\n",
      "[CV 3/3] END max_depth=6, min_samples_leaf=37, min_samples_split=28;, score=-1252.593 total time=   0.0s\n",
      "[CV 1/3] END max_depth=15, min_samples_leaf=46, min_samples_split=14;, score=-776.988 total time=   0.0s\n",
      "[CV 2/3] END max_depth=15, min_samples_leaf=46, min_samples_split=14;, score=-769.769 total time=   0.0s\n",
      "[CV 3/3] END max_depth=15, min_samples_leaf=46, min_samples_split=14;, score=-1290.131 total time=   0.0s\n",
      "[CV 1/3] END max_depth=31, min_samples_leaf=11, min_samples_split=43;, score=-834.144 total time=   0.0s\n",
      "[CV 2/3] END max_depth=31, min_samples_leaf=11, min_samples_split=43;, score=-850.791 total time=   0.0s\n",
      "[CV 3/3] END max_depth=31, min_samples_leaf=11, min_samples_split=43;, score=-1234.355 total time=   0.0s\n",
      "[CV 1/3] END max_depth=12, min_samples_leaf=13, min_samples_split=48;, score=-805.098 total time=   0.0s\n",
      "[CV 2/3] END max_depth=12, min_samples_leaf=13, min_samples_split=48;, score=-817.914 total time=   0.0s\n",
      "[CV 3/3] END max_depth=12, min_samples_leaf=13, min_samples_split=48;, score=-1205.998 total time=   0.0s\n",
      "[CV 1/3] END max_depth=28, min_samples_leaf=37, min_samples_split=4;, score=-771.650 total time=   0.0s\n",
      "[CV 2/3] END max_depth=28, min_samples_leaf=37, min_samples_split=4;, score=-798.315 total time=   0.0s\n",
      "[CV 3/3] END max_depth=28, min_samples_leaf=37, min_samples_split=4;, score=-1233.805 total time=   0.0s\n",
      "[CV 1/3] END max_depth=7, min_samples_leaf=17, min_samples_split=45;, score=-773.219 total time=   0.0s\n",
      "[CV 2/3] END max_depth=7, min_samples_leaf=17, min_samples_split=45;, score=-838.980 total time=   0.0s\n",
      "[CV 3/3] END max_depth=7, min_samples_leaf=17, min_samples_split=45;, score=-1236.943 total time=   0.0s\n",
      "[CV 1/3] END max_depth=19, min_samples_leaf=15, min_samples_split=2;, score=-787.571 total time=   0.0s\n",
      "[CV 2/3] END max_depth=19, min_samples_leaf=15, min_samples_split=2;, score=-779.978 total time=   0.0s\n",
      "[CV 3/3] END max_depth=19, min_samples_leaf=15, min_samples_split=2;, score=-1184.762 total time=   0.0s\n",
      "[CV 1/3] END max_depth=44, min_samples_leaf=11, min_samples_split=24;, score=-924.454 total time=   0.0s\n",
      "[CV 2/3] END max_depth=44, min_samples_leaf=11, min_samples_split=24;, score=-898.981 total time=   0.0s\n",
      "[CV 3/3] END max_depth=44, min_samples_leaf=11, min_samples_split=24;, score=-1332.134 total time=   0.0s\n",
      "[CV 1/3] END max_depth=31, min_samples_leaf=21, min_samples_split=36;, score=-801.833 total time=   0.0s\n",
      "[CV 2/3] END max_depth=31, min_samples_leaf=21, min_samples_split=36;, score=-826.527 total time=   0.0s\n",
      "[CV 3/3] END max_depth=31, min_samples_leaf=21, min_samples_split=36;, score=-1184.630 total time=   0.0s\n",
      "[CV 1/3] END max_depth=4, min_samples_leaf=16, min_samples_split=16;, score=-715.520 total time=   0.0s\n",
      "[CV 2/3] END max_depth=4, min_samples_leaf=16, min_samples_split=16;, score=-824.447 total time=   0.0s\n",
      "[CV 3/3] END max_depth=4, min_samples_leaf=16, min_samples_split=16;, score=-1412.899 total time=   0.0s\n",
      "[CV 1/3] END max_depth=42, min_samples_leaf=44, min_samples_split=41;, score=-770.295 total time=   0.0s\n",
      "[CV 2/3] END max_depth=42, min_samples_leaf=44, min_samples_split=41;, score=-785.593 total time=   0.0s\n",
      "[CV 3/3] END max_depth=42, min_samples_leaf=44, min_samples_split=41;, score=-1268.762 total time=   0.0s\n",
      "[CV 1/3] END max_depth=20, min_samples_leaf=44, min_samples_split=21;, score=-770.295 total time=   0.0s\n",
      "[CV 2/3] END max_depth=20, min_samples_leaf=44, min_samples_split=21;, score=-785.593 total time=   0.0s\n",
      "[CV 3/3] END max_depth=20, min_samples_leaf=44, min_samples_split=21;, score=-1268.762 total time=   0.0s\n",
      "[CV 1/3] END max_depth=40, min_samples_leaf=12, min_samples_split=6;, score=-806.154 total time=   0.0s\n",
      "[CV 2/3] END max_depth=40, min_samples_leaf=12, min_samples_split=6;, score=-834.925 total time=   0.0s\n",
      "[CV 3/3] END max_depth=40, min_samples_leaf=12, min_samples_split=6;, score=-1268.194 total time=   0.0s\n",
      "[CV 1/3] END max_depth=47, min_samples_leaf=11, min_samples_split=26;, score=-926.566 total time=   0.0s\n",
      "[CV 2/3] END max_depth=47, min_samples_leaf=11, min_samples_split=26;, score=-889.417 total time=   0.0s\n",
      "[CV 3/3] END max_depth=47, min_samples_leaf=11, min_samples_split=26;, score=-1319.519 total time=   0.0s\n",
      "[CV 1/3] END max_depth=49, min_samples_leaf=28, min_samples_split=13;, score=-814.834 total time=   0.0s\n",
      "[CV 2/3] END max_depth=49, min_samples_leaf=28, min_samples_split=13;, score=-790.595 total time=   0.0s\n",
      "[CV 3/3] END max_depth=49, min_samples_leaf=28, min_samples_split=13;, score=-1203.986 total time=   0.0s\n",
      "[CV 1/3] END max_depth=19, min_samples_leaf=38, min_samples_split=22;, score=-775.852 total time=   0.0s\n",
      "[CV 2/3] END max_depth=19, min_samples_leaf=38, min_samples_split=22;, score=-802.743 total time=   0.0s\n",
      "[CV 3/3] END max_depth=19, min_samples_leaf=38, min_samples_split=22;, score=-1250.674 total time=   0.0s\n",
      "[CV 1/3] END max_depth=6, min_samples_leaf=23, min_samples_split=15;, score=-793.942 total time=   0.0s\n",
      "[CV 2/3] END max_depth=6, min_samples_leaf=23, min_samples_split=15;, score=-811.612 total time=   0.0s\n",
      "[CV 3/3] END max_depth=6, min_samples_leaf=23, min_samples_split=15;, score=-1214.959 total time=   0.0s\n",
      "[CV 1/3] END max_depth=20, min_samples_leaf=42, min_samples_split=25;, score=-770.295 total time=   0.0s\n",
      "[CV 2/3] END max_depth=20, min_samples_leaf=42, min_samples_split=25;, score=-795.573 total time=   0.0s\n",
      "[CV 3/3] END max_depth=20, min_samples_leaf=42, min_samples_split=25;, score=-1252.809 total time=   0.0s\n",
      "[CV 1/3] END max_depth=31, min_samples_leaf=21, min_samples_split=19;, score=-801.833 total time=   0.0s\n",
      "[CV 2/3] END max_depth=31, min_samples_leaf=21, min_samples_split=19;, score=-826.527 total time=   0.0s\n",
      "[CV 3/3] END max_depth=31, min_samples_leaf=21, min_samples_split=19;, score=-1184.630 total time=   0.0s\n",
      "[CV 1/3] END max_depth=28, min_samples_leaf=38, min_samples_split=21;, score=-775.852 total time=   0.0s\n",
      "[CV 2/3] END max_depth=28, min_samples_leaf=38, min_samples_split=21;, score=-802.743 total time=   0.0s\n",
      "[CV 3/3] END max_depth=28, min_samples_leaf=38, min_samples_split=21;, score=-1250.674 total time=   0.0s\n",
      "[CV 1/3] END max_depth=48, min_samples_leaf=9, min_samples_split=14;, score=-870.125 total time=   0.0s\n",
      "[CV 2/3] END max_depth=48, min_samples_leaf=9, min_samples_split=14;, score=-901.680 total time=   0.0s\n",
      "[CV 3/3] END max_depth=48, min_samples_leaf=9, min_samples_split=14;, score=-1366.252 total time=   0.1s\n",
      "[CV 1/3] END max_depth=23, min_samples_leaf=16, min_samples_split=49;, score=-795.141 total time=   0.0s\n",
      "[CV 2/3] END max_depth=23, min_samples_leaf=16, min_samples_split=49;, score=-791.475 total time=   0.0s\n",
      "[CV 3/3] END max_depth=23, min_samples_leaf=16, min_samples_split=49;, score=-1216.356 total time=   0.0s\n",
      "[CV 1/3] END max_depth=27, min_samples_leaf=20, min_samples_split=49;, score=-798.561 total time=   0.0s\n",
      "[CV 2/3] END max_depth=27, min_samples_leaf=20, min_samples_split=49;, score=-805.290 total time=   0.0s\n",
      "[CV 3/3] END max_depth=27, min_samples_leaf=20, min_samples_split=49;, score=-1193.904 total time=   0.0s\n",
      "[CV 1/3] END max_depth=41, min_samples_leaf=43, min_samples_split=27;, score=-770.295 total time=   0.0s\n",
      "[CV 2/3] END max_depth=41, min_samples_leaf=43, min_samples_split=27;, score=-796.308 total time=   0.0s\n",
      "[CV 3/3] END max_depth=41, min_samples_leaf=43, min_samples_split=27;, score=-1255.013 total time=   0.0s\n",
      "[CV 1/3] END max_depth=23, min_samples_leaf=9, min_samples_split=9;, score=-870.125 total time=   0.0s\n",
      "[CV 2/3] END max_depth=23, min_samples_leaf=9, min_samples_split=9;, score=-901.680 total time=   0.0s\n",
      "[CV 3/3] END max_depth=23, min_samples_leaf=9, min_samples_split=9;, score=-1366.252 total time=   0.1s\n",
      "[CV 1/3] END max_depth=25, min_samples_leaf=20, min_samples_split=49;, score=-798.561 total time=   0.0s\n",
      "[CV 2/3] END max_depth=25, min_samples_leaf=20, min_samples_split=49;, score=-805.290 total time=   0.0s\n",
      "[CV 3/3] END max_depth=25, min_samples_leaf=20, min_samples_split=49;, score=-1193.904 total time=   0.0s\n",
      "[CV 1/3] END max_depth=24, min_samples_leaf=7, min_samples_split=6;, score=-954.663 total time=   0.0s\n",
      "[CV 2/3] END max_depth=24, min_samples_leaf=7, min_samples_split=6;, score=-988.133 total time=   0.0s\n",
      "[CV 3/3] END max_depth=24, min_samples_leaf=7, min_samples_split=6;, score=-1430.072 total time=   0.1s\n",
      "[CV 1/3] END max_depth=44, min_samples_leaf=33, min_samples_split=40;, score=-774.822 total time=   0.0s\n",
      "[CV 2/3] END max_depth=44, min_samples_leaf=33, min_samples_split=40;, score=-790.740 total time=   0.0s\n",
      "[CV 3/3] END max_depth=44, min_samples_leaf=33, min_samples_split=40;, score=-1215.085 total time=   0.0s\n",
      "[CV 1/3] END max_depth=27, min_samples_leaf=20, min_samples_split=9;, score=-766.367 total time=   0.0s\n",
      "[CV 2/3] END max_depth=27, min_samples_leaf=20, min_samples_split=9;, score=-840.794 total time=   0.0s\n",
      "[CV 3/3] END max_depth=27, min_samples_leaf=20, min_samples_split=9;, score=-1183.705 total time=   0.0s\n",
      "[CV 1/3] END max_depth=35, min_samples_leaf=10, min_samples_split=6;, score=-908.669 total time=   0.0s\n",
      "[CV 2/3] END max_depth=35, min_samples_leaf=10, min_samples_split=6;, score=-884.821 total time=   0.0s\n",
      "[CV 3/3] END max_depth=35, min_samples_leaf=10, min_samples_split=6;, score=-1342.590 total time=   0.1s\n",
      "[CV 1/3] END max_depth=48, min_samples_leaf=13, min_samples_split=25;, score=-780.194 total time=   0.0s\n",
      "[CV 2/3] END max_depth=48, min_samples_leaf=13, min_samples_split=25;, score=-809.727 total time=   0.0s\n",
      "[CV 3/3] END max_depth=48, min_samples_leaf=13, min_samples_split=25;, score=-1257.596 total time=   0.1s\n",
      "[CV 1/3] END max_depth=33, min_samples_leaf=4, min_samples_split=26;, score=-856.308 total time=   0.0s\n",
      "[CV 2/3] END max_depth=33, min_samples_leaf=4, min_samples_split=26;, score=-979.144 total time=   0.0s\n",
      "[CV 3/3] END max_depth=33, min_samples_leaf=4, min_samples_split=26;, score=-1330.638 total time=   0.1s\n",
      "[CV 1/3] END max_depth=7, min_samples_leaf=35, min_samples_split=4;, score=-772.083 total time=   0.0s\n",
      "[CV 2/3] END max_depth=7, min_samples_leaf=35, min_samples_split=4;, score=-800.478 total time=   0.0s\n",
      "[CV 3/3] END max_depth=7, min_samples_leaf=35, min_samples_split=4;, score=-1236.556 total time=   0.0s\n",
      "[CV 1/3] END max_depth=48, min_samples_leaf=2, min_samples_split=25;, score=-877.721 total time=   0.0s\n",
      "[CV 2/3] END max_depth=48, min_samples_leaf=2, min_samples_split=25;, score=-962.506 total time=   0.0s\n",
      "[CV 3/3] END max_depth=48, min_samples_leaf=2, min_samples_split=25;, score=-1424.395 total time=   0.1s\n",
      "[CV 1/3] END max_depth=31, min_samples_leaf=45, min_samples_split=2;, score=-770.295 total time=   0.0s\n",
      "[CV 2/3] END max_depth=31, min_samples_leaf=45, min_samples_split=2;, score=-769.686 total time=   0.0s\n",
      "[CV 3/3] END max_depth=31, min_samples_leaf=45, min_samples_split=2;, score=-1255.918 total time=   0.0s\n",
      "[CV 1/3] END max_depth=26, min_samples_leaf=25, min_samples_split=14;, score=-808.321 total time=   0.0s\n",
      "[CV 2/3] END max_depth=26, min_samples_leaf=25, min_samples_split=14;, score=-791.998 total time=   0.0s\n",
      "[CV 3/3] END max_depth=26, min_samples_leaf=25, min_samples_split=14;, score=-1229.155 total time=   0.0s\n",
      "[CV 1/3] END max_depth=30, min_samples_leaf=32, min_samples_split=48;, score=-774.822 total time=   0.0s\n",
      "[CV 2/3] END max_depth=30, min_samples_leaf=32, min_samples_split=48;, score=-780.897 total time=   0.0s\n",
      "[CV 3/3] END max_depth=30, min_samples_leaf=32, min_samples_split=48;, score=-1206.311 total time=   0.0s\n",
      "[CV 1/3] END max_depth=17, min_samples_leaf=35, min_samples_split=18;, score=-772.651 total time=   0.0s\n",
      "[CV 2/3] END max_depth=17, min_samples_leaf=35, min_samples_split=18;, score=-797.700 total time=   0.0s\n",
      "[CV 3/3] END max_depth=17, min_samples_leaf=35, min_samples_split=18;, score=-1214.176 total time=   0.0s\n",
      "[CV 1/3] END max_depth=13, min_samples_leaf=42, min_samples_split=41;, score=-770.295 total time=   0.0s\n",
      "[CV 2/3] END max_depth=13, min_samples_leaf=42, min_samples_split=41;, score=-795.573 total time=   0.0s\n",
      "[CV 3/3] END max_depth=13, min_samples_leaf=42, min_samples_split=41;, score=-1252.809 total time=   0.0s\n",
      "[CV 1/3] END max_depth=48, min_samples_leaf=30, min_samples_split=49;, score=-801.682 total time=   0.0s\n",
      "[CV 2/3] END max_depth=48, min_samples_leaf=30, min_samples_split=49;, score=-777.146 total time=   0.0s\n",
      "[CV 3/3] END max_depth=48, min_samples_leaf=30, min_samples_split=49;, score=-1215.389 total time=   0.0s\n",
      "[CV 1/3] END max_depth=33, min_samples_leaf=36, min_samples_split=48;, score=-773.848 total time=   0.0s\n",
      "[CV 2/3] END max_depth=33, min_samples_leaf=36, min_samples_split=48;, score=-799.827 total time=   0.0s\n",
      "[CV 3/3] END max_depth=33, min_samples_leaf=36, min_samples_split=48;, score=-1229.333 total time=   0.0s\n",
      "[CV 1/3] END max_depth=45, min_samples_leaf=27, min_samples_split=39;, score=-813.639 total time=   0.0s\n",
      "[CV 2/3] END max_depth=45, min_samples_leaf=27, min_samples_split=39;, score=-777.024 total time=   0.0s\n",
      "[CV 3/3] END max_depth=45, min_samples_leaf=27, min_samples_split=39;, score=-1202.296 total time=   0.0s\n",
      "[CV 1/3] END max_depth=28, min_samples_leaf=47, min_samples_split=12;, score=-777.160 total time=   0.0s\n",
      "[CV 2/3] END max_depth=28, min_samples_leaf=47, min_samples_split=12;, score=-769.769 total time=   0.0s\n",
      "[CV 3/3] END max_depth=28, min_samples_leaf=47, min_samples_split=12;, score=-1287.722 total time=   0.0s\n",
      "[CV 1/3] END max_depth=8, min_samples_leaf=24, min_samples_split=14;, score=-815.180 total time=   0.0s\n",
      "[CV 2/3] END max_depth=8, min_samples_leaf=24, min_samples_split=14;, score=-808.821 total time=   0.0s\n",
      "[CV 3/3] END max_depth=8, min_samples_leaf=24, min_samples_split=14;, score=-1197.632 total time=   0.0s\n",
      "[CV 1/3] END max_depth=6, min_samples_leaf=9, min_samples_split=22;, score=-820.823 total time=   0.0s\n",
      "[CV 2/3] END max_depth=6, min_samples_leaf=9, min_samples_split=22;, score=-833.647 total time=   0.0s\n",
      "[CV 3/3] END max_depth=6, min_samples_leaf=9, min_samples_split=22;, score=-1231.936 total time=   0.0s\n",
      "[CV 1/3] END max_depth=34, min_samples_leaf=17, min_samples_split=5;, score=-785.388 total time=   0.0s\n",
      "[CV 2/3] END max_depth=34, min_samples_leaf=17, min_samples_split=5;, score=-839.074 total time=   0.0s\n",
      "[CV 3/3] END max_depth=34, min_samples_leaf=17, min_samples_split=5;, score=-1231.212 total time=   0.0s\n",
      "[CV 1/3] END max_depth=41, min_samples_leaf=19, min_samples_split=34;, score=-775.423 total time=   0.0s\n",
      "[CV 2/3] END max_depth=41, min_samples_leaf=19, min_samples_split=34;, score=-830.865 total time=   0.0s\n",
      "[CV 3/3] END max_depth=41, min_samples_leaf=19, min_samples_split=34;, score=-1233.385 total time=   0.0s\n",
      "[CV 1/3] END max_depth=46, min_samples_leaf=11, min_samples_split=32;, score=-941.240 total time=   0.0s\n",
      "[CV 2/3] END max_depth=46, min_samples_leaf=11, min_samples_split=32;, score=-856.482 total time=   0.0s\n",
      "[CV 3/3] END max_depth=46, min_samples_leaf=11, min_samples_split=32;, score=-1309.716 total time=   0.0s\n",
      "[CV 1/3] END max_depth=49, min_samples_leaf=37, min_samples_split=47;, score=-771.650 total time=   0.0s\n",
      "[CV 2/3] END max_depth=49, min_samples_leaf=37, min_samples_split=47;, score=-798.315 total time=   0.0s\n",
      "[CV 3/3] END max_depth=49, min_samples_leaf=37, min_samples_split=47;, score=-1233.805 total time=   0.0s\n",
      "[CV 1/3] END max_depth=40, min_samples_leaf=19, min_samples_split=33;, score=-775.423 total time=   0.0s\n",
      "[CV 2/3] END max_depth=40, min_samples_leaf=19, min_samples_split=33;, score=-830.865 total time=   0.0s\n",
      "[CV 3/3] END max_depth=40, min_samples_leaf=19, min_samples_split=33;, score=-1233.385 total time=   0.0s\n",
      "[CV 1/3] END max_depth=32, min_samples_leaf=45, min_samples_split=43;, score=-770.295 total time=   0.0s\n",
      "[CV 2/3] END max_depth=32, min_samples_leaf=45, min_samples_split=43;, score=-769.686 total time=   0.0s\n",
      "[CV 3/3] END max_depth=32, min_samples_leaf=45, min_samples_split=43;, score=-1255.918 total time=   0.0s\n",
      "[CV 1/3] END max_depth=13, min_samples_leaf=49, min_samples_split=41;, score=-759.734 total time=   0.0s\n",
      "[CV 2/3] END max_depth=13, min_samples_leaf=49, min_samples_split=41;, score=-770.834 total time=   0.0s\n",
      "[CV 3/3] END max_depth=13, min_samples_leaf=49, min_samples_split=41;, score=-1282.151 total time=   0.0s\n",
      "[CV 1/3] END max_depth=49, min_samples_leaf=40, min_samples_split=42;, score=-772.649 total time=   0.0s\n",
      "[CV 2/3] END max_depth=49, min_samples_leaf=40, min_samples_split=42;, score=-799.690 total time=   0.0s\n",
      "[CV 3/3] END max_depth=49, min_samples_leaf=40, min_samples_split=42;, score=-1246.006 total time=   0.0s\n",
      "[CV 1/3] END max_depth=27, min_samples_leaf=31, min_samples_split=40;, score=-774.946 total time=   0.0s\n",
      "[CV 2/3] END max_depth=27, min_samples_leaf=31, min_samples_split=40;, score=-771.802 total time=   0.0s\n",
      "[CV 3/3] END max_depth=27, min_samples_leaf=31, min_samples_split=40;, score=-1205.433 total time=   0.0s\n",
      "[CV 1/3] END max_depth=4, min_samples_leaf=24, min_samples_split=26;, score=-741.873 total time=   0.0s\n",
      "[CV 2/3] END max_depth=4, min_samples_leaf=24, min_samples_split=26;, score=-824.294 total time=   0.0s\n",
      "[CV 3/3] END max_depth=4, min_samples_leaf=24, min_samples_split=26;, score=-1410.598 total time=   0.0s\n",
      "[CV 1/3] END max_depth=38, min_samples_leaf=8, min_samples_split=16;, score=-926.176 total time=   0.0s\n",
      "[CV 2/3] END max_depth=38, min_samples_leaf=8, min_samples_split=16;, score=-940.864 total time=   0.0s\n",
      "[CV 3/3] END max_depth=38, min_samples_leaf=8, min_samples_split=16;, score=-1411.563 total time=   0.1s\n",
      "[CV 1/3] END max_depth=22, min_samples_leaf=3, min_samples_split=39;, score=-863.925 total time=   0.0s\n",
      "[CV 2/3] END max_depth=22, min_samples_leaf=3, min_samples_split=39;, score=-922.589 total time=   0.0s\n",
      "[CV 3/3] END max_depth=22, min_samples_leaf=3, min_samples_split=39;, score=-1292.598 total time=   0.1s\n",
      "[CV 1/3] END max_depth=23, min_samples_leaf=35, min_samples_split=33;, score=-772.651 total time=   0.0s\n",
      "[CV 2/3] END max_depth=23, min_samples_leaf=35, min_samples_split=33;, score=-797.700 total time=   0.0s\n",
      "[CV 3/3] END max_depth=23, min_samples_leaf=35, min_samples_split=33;, score=-1214.176 total time=   0.0s\n",
      "[CV 1/3] END max_depth=22, min_samples_leaf=1, min_samples_split=28;, score=-920.359 total time=   0.0s\n",
      "[CV 2/3] END max_depth=22, min_samples_leaf=1, min_samples_split=28;, score=-938.007 total time=   0.0s\n",
      "[CV 3/3] END max_depth=22, min_samples_leaf=1, min_samples_split=28;, score=-1520.513 total time=   0.1s\n",
      "[CV 1/3] END max_depth=45, min_samples_leaf=25, min_samples_split=15;, score=-808.321 total time=   0.0s\n",
      "[CV 2/3] END max_depth=45, min_samples_leaf=25, min_samples_split=15;, score=-791.998 total time=   0.0s\n",
      "[CV 3/3] END max_depth=45, min_samples_leaf=25, min_samples_split=15;, score=-1229.155 total time=   0.0s\n",
      "[CV 1/3] END max_depth=37, min_samples_leaf=47, min_samples_split=30;, score=-777.160 total time=   0.0s\n",
      "[CV 2/3] END max_depth=37, min_samples_leaf=47, min_samples_split=30;, score=-769.769 total time=   0.0s\n",
      "[CV 3/3] END max_depth=37, min_samples_leaf=47, min_samples_split=30;, score=-1287.722 total time=   0.0s\n",
      "[CV 1/3] END max_depth=14, min_samples_leaf=35, min_samples_split=49;, score=-772.651 total time=   0.0s\n",
      "[CV 2/3] END max_depth=14, min_samples_leaf=35, min_samples_split=49;, score=-797.700 total time=   0.0s\n",
      "[CV 3/3] END max_depth=14, min_samples_leaf=35, min_samples_split=49;, score=-1214.176 total time=   0.0s\n",
      "[CV 1/3] END max_depth=21, min_samples_leaf=21, min_samples_split=4;, score=-801.833 total time=   0.0s\n",
      "[CV 2/3] END max_depth=21, min_samples_leaf=21, min_samples_split=4;, score=-826.527 total time=   0.0s\n",
      "[CV 3/3] END max_depth=21, min_samples_leaf=21, min_samples_split=4;, score=-1184.630 total time=   0.0s\n",
      "[CV 1/3] END max_depth=38, min_samples_leaf=6, min_samples_split=26;, score=-805.472 total time=   0.0s\n",
      "[CV 2/3] END max_depth=38, min_samples_leaf=6, min_samples_split=26;, score=-874.383 total time=   0.0s\n",
      "[CV 3/3] END max_depth=38, min_samples_leaf=6, min_samples_split=26;, score=-1381.178 total time=   0.1s\n",
      "[CV 1/3] END max_depth=35, min_samples_leaf=23, min_samples_split=6;, score=-799.763 total time=   0.0s\n",
      "[CV 2/3] END max_depth=35, min_samples_leaf=23, min_samples_split=6;, score=-804.268 total time=   0.0s\n",
      "[CV 3/3] END max_depth=35, min_samples_leaf=23, min_samples_split=6;, score=-1201.531 total time=   0.0s\n",
      "[CV 1/3] END max_depth=45, min_samples_leaf=44, min_samples_split=46;, score=-770.295 total time=   0.0s\n",
      "[CV 2/3] END max_depth=45, min_samples_leaf=44, min_samples_split=46;, score=-785.593 total time=   0.0s\n",
      "[CV 3/3] END max_depth=45, min_samples_leaf=44, min_samples_split=46;, score=-1268.762 total time=   0.0s\n",
      "[CV 1/3] END max_depth=3, min_samples_leaf=41, min_samples_split=43;, score=-771.259 total time=   0.0s\n",
      "[CV 2/3] END max_depth=3, min_samples_leaf=41, min_samples_split=43;, score=-868.620 total time=   0.0s\n",
      "[CV 3/3] END max_depth=3, min_samples_leaf=41, min_samples_split=43;, score=-1546.060 total time=   0.0s\n",
      "[CV 1/3] END max_depth=43, min_samples_leaf=15, min_samples_split=37;, score=-782.569 total time=   0.0s\n",
      "[CV 2/3] END max_depth=43, min_samples_leaf=15, min_samples_split=37;, score=-796.128 total time=   0.0s\n",
      "[CV 3/3] END max_depth=43, min_samples_leaf=15, min_samples_split=37;, score=-1177.682 total time=   0.0s\n",
      "[CV 1/3] END max_depth=30, min_samples_leaf=33, min_samples_split=19;, score=-774.822 total time=   0.0s\n",
      "[CV 2/3] END max_depth=30, min_samples_leaf=33, min_samples_split=19;, score=-790.740 total time=   0.0s\n",
      "[CV 3/3] END max_depth=30, min_samples_leaf=33, min_samples_split=19;, score=-1215.085 total time=   0.0s\n",
      "[CV 1/3] END max_depth=46, min_samples_leaf=30, min_samples_split=41;, score=-801.682 total time=   0.0s\n",
      "[CV 2/3] END max_depth=46, min_samples_leaf=30, min_samples_split=41;, score=-777.146 total time=   0.0s\n",
      "[CV 3/3] END max_depth=46, min_samples_leaf=30, min_samples_split=41;, score=-1215.389 total time=   0.0s\n",
      "[CV 1/3] END max_depth=11, min_samples_leaf=15, min_samples_split=33;, score=-787.012 total time=   0.0s\n",
      "[CV 2/3] END max_depth=11, min_samples_leaf=15, min_samples_split=33;, score=-800.131 total time=   0.0s\n",
      "[CV 3/3] END max_depth=11, min_samples_leaf=15, min_samples_split=33;, score=-1189.024 total time=   0.0s\n",
      "[CV 1/3] END max_depth=36, min_samples_leaf=42, min_samples_split=22;, score=-770.295 total time=   0.0s\n",
      "[CV 2/3] END max_depth=36, min_samples_leaf=42, min_samples_split=22;, score=-795.573 total time=   0.0s\n",
      "[CV 3/3] END max_depth=36, min_samples_leaf=42, min_samples_split=22;, score=-1252.809 total time=   0.0s\n",
      "[CV 1/3] END max_depth=21, min_samples_leaf=43, min_samples_split=24;, score=-770.295 total time=   0.0s\n",
      "[CV 2/3] END max_depth=21, min_samples_leaf=43, min_samples_split=24;, score=-796.308 total time=   0.0s\n",
      "[CV 3/3] END max_depth=21, min_samples_leaf=43, min_samples_split=24;, score=-1255.013 total time=   0.0s\n",
      "[CV 1/3] END max_depth=37, min_samples_leaf=39, min_samples_split=37;, score=-772.649 total time=   0.0s\n",
      "[CV 2/3] END max_depth=37, min_samples_leaf=39, min_samples_split=37;, score=-801.865 total time=   0.0s\n",
      "[CV 3/3] END max_depth=37, min_samples_leaf=39, min_samples_split=37;, score=-1249.782 total time=   0.0s\n",
      "[CV 1/3] END max_depth=31, min_samples_leaf=18, min_samples_split=7;, score=-780.806 total time=   0.0s\n",
      "[CV 2/3] END max_depth=31, min_samples_leaf=18, min_samples_split=7;, score=-844.751 total time=   0.0s\n",
      "[CV 3/3] END max_depth=31, min_samples_leaf=18, min_samples_split=7;, score=-1250.796 total time=   0.0s\n",
      "[CV 1/3] END max_depth=9, min_samples_leaf=30, min_samples_split=11;, score=-801.956 total time=   0.0s\n",
      "[CV 2/3] END max_depth=9, min_samples_leaf=30, min_samples_split=11;, score=-787.540 total time=   0.0s\n",
      "[CV 3/3] END max_depth=9, min_samples_leaf=30, min_samples_split=11;, score=-1213.388 total time=   0.0s\n",
      "[CV 1/3] END max_depth=29, min_samples_leaf=19, min_samples_split=14;, score=-775.423 total time=   0.0s\n",
      "[CV 2/3] END max_depth=29, min_samples_leaf=19, min_samples_split=14;, score=-830.865 total time=   0.0s\n",
      "[CV 3/3] END max_depth=29, min_samples_leaf=19, min_samples_split=14;, score=-1233.385 total time=   0.0s\n",
      "[CV 1/3] END max_depth=13, min_samples_leaf=14, min_samples_split=41;, score=-783.600 total time=   0.0s\n",
      "[CV 2/3] END max_depth=13, min_samples_leaf=14, min_samples_split=41;, score=-829.029 total time=   0.0s\n",
      "[CV 3/3] END max_depth=13, min_samples_leaf=14, min_samples_split=41;, score=-1177.808 total time=   0.0s\n",
      "[CV 1/3] END max_depth=39, min_samples_leaf=48, min_samples_split=48;, score=-772.008 total time=   0.0s\n",
      "[CV 2/3] END max_depth=39, min_samples_leaf=48, min_samples_split=48;, score=-768.225 total time=   0.0s\n",
      "[CV 3/3] END max_depth=39, min_samples_leaf=48, min_samples_split=48;, score=-1283.627 total time=   0.0s\n",
      "[CV 1/3] END max_depth=48, min_samples_leaf=26, min_samples_split=41;, score=-813.378 total time=   0.0s\n",
      "[CV 2/3] END max_depth=48, min_samples_leaf=26, min_samples_split=41;, score=-788.524 total time=   0.0s\n",
      "[CV 3/3] END max_depth=48, min_samples_leaf=26, min_samples_split=41;, score=-1214.260 total time=   0.0s\n",
      "[CV 1/3] END max_depth=9, min_samples_leaf=45, min_samples_split=21;, score=-770.295 total time=   0.0s\n",
      "[CV 2/3] END max_depth=9, min_samples_leaf=45, min_samples_split=21;, score=-772.560 total time=   0.0s\n",
      "[CV 3/3] END max_depth=9, min_samples_leaf=45, min_samples_split=21;, score=-1255.918 total time=   0.0s\n",
      "[CV 1/3] END max_depth=24, min_samples_leaf=9, min_samples_split=26;, score=-928.140 total time=   0.0s\n",
      "[CV 2/3] END max_depth=24, min_samples_leaf=9, min_samples_split=26;, score=-852.005 total time=   0.0s\n",
      "[CV 3/3] END max_depth=24, min_samples_leaf=9, min_samples_split=26;, score=-1323.889 total time=   0.1s\n",
      "[CV 1/3] END max_depth=4, min_samples_leaf=31, min_samples_split=26;, score=-709.598 total time=   0.0s\n",
      "[CV 2/3] END max_depth=4, min_samples_leaf=31, min_samples_split=26;, score=-824.294 total time=   0.0s\n",
      "[CV 3/3] END max_depth=4, min_samples_leaf=31, min_samples_split=26;, score=-1410.308 total time=   0.0s\n",
      "[CV 1/3] END max_depth=39, min_samples_leaf=28, min_samples_split=6;, score=-814.834 total time=   0.0s\n",
      "[CV 2/3] END max_depth=39, min_samples_leaf=28, min_samples_split=6;, score=-790.595 total time=   0.0s\n",
      "[CV 3/3] END max_depth=39, min_samples_leaf=28, min_samples_split=6;, score=-1203.986 total time=   0.0s\n",
      "[CV 1/3] END max_depth=21, min_samples_leaf=9, min_samples_split=18;, score=-870.125 total time=   0.0s\n",
      "[CV 2/3] END max_depth=21, min_samples_leaf=9, min_samples_split=18;, score=-901.680 total time=   0.0s\n",
      "[CV 3/3] END max_depth=21, min_samples_leaf=9, min_samples_split=18;, score=-1366.252 total time=   0.1s\n",
      "[CV 1/3] END max_depth=9, min_samples_leaf=1, min_samples_split=16;, score=-963.387 total time=   0.0s\n",
      "[CV 2/3] END max_depth=9, min_samples_leaf=1, min_samples_split=16;, score=-1063.264 total time=   0.0s\n",
      "[CV 3/3] END max_depth=9, min_samples_leaf=1, min_samples_split=16;, score=-1394.201 total time=   0.0s\n",
      "[CV 1/3] END max_depth=47, min_samples_leaf=29, min_samples_split=28;, score=-807.081 total time=   0.0s\n",
      "[CV 2/3] END max_depth=47, min_samples_leaf=29, min_samples_split=28;, score=-783.605 total time=   0.0s\n",
      "[CV 3/3] END max_depth=47, min_samples_leaf=29, min_samples_split=28;, score=-1215.280 total time=   0.0s\n",
      "[CV 1/3] END max_depth=27, min_samples_leaf=9, min_samples_split=18;, score=-870.125 total time=   0.0s\n",
      "[CV 2/3] END max_depth=27, min_samples_leaf=9, min_samples_split=18;, score=-901.680 total time=   0.0s\n",
      "[CV 3/3] END max_depth=27, min_samples_leaf=9, min_samples_split=18;, score=-1366.252 total time=   0.1s\n",
      "[CV 1/3] END max_depth=44, min_samples_leaf=15, min_samples_split=15;, score=-787.571 total time=   0.0s\n",
      "[CV 2/3] END max_depth=44, min_samples_leaf=15, min_samples_split=15;, score=-779.978 total time=   0.0s\n",
      "[CV 3/3] END max_depth=44, min_samples_leaf=15, min_samples_split=15;, score=-1184.762 total time=   0.1s\n",
      "[CV 1/3] END max_depth=9, min_samples_leaf=18, min_samples_split=29;, score=-783.071 total time=   0.0s\n",
      "[CV 2/3] END max_depth=9, min_samples_leaf=18, min_samples_split=29;, score=-854.581 total time=   0.0s\n",
      "[CV 3/3] END max_depth=9, min_samples_leaf=18, min_samples_split=29;, score=-1226.905 total time=   0.0s\n",
      "[CV 1/3] END max_depth=35, min_samples_leaf=34, min_samples_split=26;, score=-769.470 total time=   0.0s\n",
      "[CV 2/3] END max_depth=35, min_samples_leaf=34, min_samples_split=26;, score=-791.722 total time=   0.0s\n",
      "[CV 3/3] END max_depth=35, min_samples_leaf=34, min_samples_split=26;, score=-1214.670 total time=   0.0s\n",
      "[CV 1/3] END max_depth=4, min_samples_leaf=6, min_samples_split=17;, score=-727.969 total time=   0.0s\n",
      "[CV 2/3] END max_depth=4, min_samples_leaf=6, min_samples_split=17;, score=-826.461 total time=   0.0s\n",
      "[CV 3/3] END max_depth=4, min_samples_leaf=6, min_samples_split=17;, score=-1412.899 total time=   0.0s\n",
      "[CV 1/3] END max_depth=12, min_samples_leaf=9, min_samples_split=18;, score=-868.931 total time=   0.0s\n",
      "[CV 2/3] END max_depth=12, min_samples_leaf=9, min_samples_split=18;, score=-912.519 total time=   0.0s\n",
      "[CV 3/3] END max_depth=12, min_samples_leaf=9, min_samples_split=18;, score=-1374.945 total time=   0.1s\n",
      "[CV 1/3] END max_depth=8, min_samples_leaf=25, min_samples_split=47;, score=-806.104 total time=   0.0s\n",
      "[CV 2/3] END max_depth=8, min_samples_leaf=25, min_samples_split=47;, score=-811.819 total time=   0.0s\n",
      "[CV 3/3] END max_depth=8, min_samples_leaf=25, min_samples_split=47;, score=-1215.333 total time=   0.0s\n",
      "[CV 1/3] END max_depth=14, min_samples_leaf=11, min_samples_split=20;, score=-924.360 total time=   0.0s\n",
      "[CV 2/3] END max_depth=14, min_samples_leaf=11, min_samples_split=20;, score=-915.473 total time=   0.0s\n",
      "[CV 3/3] END max_depth=14, min_samples_leaf=11, min_samples_split=20;, score=-1327.384 total time=   0.1s\n",
      "[CV 1/3] END max_depth=42, min_samples_leaf=42, min_samples_split=43;, score=-770.295 total time=   0.0s\n",
      "[CV 2/3] END max_depth=42, min_samples_leaf=42, min_samples_split=43;, score=-795.573 total time=   0.0s\n",
      "[CV 3/3] END max_depth=42, min_samples_leaf=42, min_samples_split=43;, score=-1252.809 total time=   0.0s\n",
      "[CV 1/3] END max_depth=28, min_samples_leaf=24, min_samples_split=43;, score=-817.794 total time=   0.0s\n",
      "[CV 2/3] END max_depth=28, min_samples_leaf=24, min_samples_split=43;, score=-788.786 total time=   0.0s\n",
      "[CV 3/3] END max_depth=28, min_samples_leaf=24, min_samples_split=43;, score=-1208.006 total time=   0.1s\n",
      "[CV 1/3] END max_depth=12, min_samples_leaf=34, min_samples_split=46;, score=-769.470 total time=   0.0s\n",
      "[CV 2/3] END max_depth=12, min_samples_leaf=34, min_samples_split=46;, score=-791.722 total time=   0.0s\n",
      "[CV 3/3] END max_depth=12, min_samples_leaf=34, min_samples_split=46;, score=-1214.670 total time=   0.0s\n",
      "[CV 1/3] END max_depth=18, min_samples_leaf=27, min_samples_split=36;, score=-813.639 total time=   0.0s\n",
      "[CV 2/3] END max_depth=18, min_samples_leaf=27, min_samples_split=36;, score=-777.024 total time=   0.0s\n",
      "[CV 3/3] END max_depth=18, min_samples_leaf=27, min_samples_split=36;, score=-1202.296 total time=   0.0s\n",
      "[CV 1/3] END max_depth=22, min_samples_leaf=14, min_samples_split=46;, score=-775.542 total time=   0.0s\n",
      "[CV 2/3] END max_depth=22, min_samples_leaf=14, min_samples_split=46;, score=-829.483 total time=   0.0s\n",
      "[CV 3/3] END max_depth=22, min_samples_leaf=14, min_samples_split=46;, score=-1200.652 total time=   0.0s\n",
      "[CV 1/3] END max_depth=22, min_samples_leaf=8, min_samples_split=4;, score=-926.176 total time=   0.0s\n",
      "[CV 2/3] END max_depth=22, min_samples_leaf=8, min_samples_split=4;, score=-940.864 total time=   0.0s\n",
      "[CV 3/3] END max_depth=22, min_samples_leaf=8, min_samples_split=4;, score=-1411.563 total time=   0.1s\n",
      "[CV 1/3] END max_depth=34, min_samples_leaf=2, min_samples_split=15;, score=-897.964 total time=   0.0s\n",
      "[CV 2/3] END max_depth=34, min_samples_leaf=2, min_samples_split=15;, score=-1097.889 total time=   0.0s\n",
      "[CV 3/3] END max_depth=34, min_samples_leaf=2, min_samples_split=15;, score=-1549.133 total time=   0.1s\n",
      "[CV 1/3] END max_depth=42, min_samples_leaf=43, min_samples_split=29;, score=-770.295 total time=   0.0s\n",
      "[CV 2/3] END max_depth=42, min_samples_leaf=43, min_samples_split=29;, score=-796.308 total time=   0.0s\n",
      "[CV 3/3] END max_depth=42, min_samples_leaf=43, min_samples_split=29;, score=-1255.013 total time=   0.0s\n",
      "[CV 1/3] END max_depth=20, min_samples_leaf=48, min_samples_split=44;, score=-772.008 total time=   0.0s\n",
      "[CV 2/3] END max_depth=20, min_samples_leaf=48, min_samples_split=44;, score=-768.225 total time=   0.0s\n",
      "[CV 3/3] END max_depth=20, min_samples_leaf=48, min_samples_split=44;, score=-1283.627 total time=   0.0s\n",
      "[CV 1/3] END max_depth=18, min_samples_leaf=13, min_samples_split=48;, score=-805.098 total time=   0.0s\n",
      "[CV 2/3] END max_depth=18, min_samples_leaf=13, min_samples_split=48;, score=-818.989 total time=   0.0s\n",
      "[CV 3/3] END max_depth=18, min_samples_leaf=13, min_samples_split=48;, score=-1205.998 total time=   0.0s\n",
      "[CV 1/3] END max_depth=12, min_samples_leaf=39, min_samples_split=39;, score=-772.649 total time=   0.0s\n",
      "[CV 2/3] END max_depth=12, min_samples_leaf=39, min_samples_split=39;, score=-801.865 total time=   0.0s\n",
      "[CV 3/3] END max_depth=12, min_samples_leaf=39, min_samples_split=39;, score=-1249.782 total time=   0.0s\n",
      "[CV 1/3] END max_depth=23, min_samples_leaf=20, min_samples_split=22;, score=-766.367 total time=   0.0s\n",
      "[CV 2/3] END max_depth=23, min_samples_leaf=20, min_samples_split=22;, score=-840.794 total time=   0.0s\n",
      "[CV 3/3] END max_depth=23, min_samples_leaf=20, min_samples_split=22;, score=-1183.705 total time=   0.0s\n",
      "[CV 1/3] END max_depth=39, min_samples_leaf=39, min_samples_split=3;, score=-772.649 total time=   0.0s\n",
      "[CV 2/3] END max_depth=39, min_samples_leaf=39, min_samples_split=3;, score=-801.865 total time=   0.0s\n",
      "[CV 3/3] END max_depth=39, min_samples_leaf=39, min_samples_split=3;, score=-1249.782 total time=   0.0s\n",
      "[CV 1/3] END max_depth=11, min_samples_leaf=44, min_samples_split=7;, score=-770.295 total time=   0.0s\n",
      "[CV 2/3] END max_depth=11, min_samples_leaf=44, min_samples_split=7;, score=-785.593 total time=   0.0s\n",
      "[CV 3/3] END max_depth=11, min_samples_leaf=44, min_samples_split=7;, score=-1268.762 total time=   0.0s\n",
      "[CV 1/3] END max_depth=41, min_samples_leaf=22, min_samples_split=33;, score=-802.286 total time=   0.0s\n",
      "[CV 2/3] END max_depth=41, min_samples_leaf=22, min_samples_split=33;, score=-807.511 total time=   0.0s\n",
      "[CV 3/3] END max_depth=41, min_samples_leaf=22, min_samples_split=33;, score=-1211.954 total time=   0.0s\n",
      "[CV 1/3] END max_depth=38, min_samples_leaf=29, min_samples_split=31;, score=-807.081 total time=   0.0s\n",
      "[CV 2/3] END max_depth=38, min_samples_leaf=29, min_samples_split=31;, score=-783.605 total time=   0.0s\n",
      "[CV 3/3] END max_depth=38, min_samples_leaf=29, min_samples_split=31;, score=-1215.280 total time=   0.0s\n",
      "[CV 1/3] END max_depth=35, min_samples_leaf=6, min_samples_split=48;, score=-797.583 total time=   0.0s\n",
      "[CV 2/3] END max_depth=35, min_samples_leaf=6, min_samples_split=48;, score=-834.376 total time=   0.0s\n",
      "[CV 3/3] END max_depth=35, min_samples_leaf=6, min_samples_split=48;, score=-1214.389 total time=   0.0s\n",
      "[CV 1/3] END max_depth=44, min_samples_leaf=40, min_samples_split=41;, score=-772.649 total time=   0.0s\n",
      "[CV 2/3] END max_depth=44, min_samples_leaf=40, min_samples_split=41;, score=-799.690 total time=   0.0s\n",
      "[CV 3/3] END max_depth=44, min_samples_leaf=40, min_samples_split=41;, score=-1246.006 total time=   0.0s\n",
      "[CV 1/3] END max_depth=38, min_samples_leaf=42, min_samples_split=8;, score=-770.295 total time=   0.0s\n",
      "[CV 2/3] END max_depth=38, min_samples_leaf=42, min_samples_split=8;, score=-795.573 total time=   0.0s\n",
      "[CV 3/3] END max_depth=38, min_samples_leaf=42, min_samples_split=8;, score=-1252.809 total time=   0.0s\n",
      "[CV 1/3] END max_depth=41, min_samples_leaf=49, min_samples_split=14;, score=-759.734 total time=   0.0s\n",
      "[CV 2/3] END max_depth=41, min_samples_leaf=49, min_samples_split=14;, score=-770.834 total time=   0.0s\n",
      "[CV 3/3] END max_depth=41, min_samples_leaf=49, min_samples_split=14;, score=-1282.151 total time=   0.0s\n",
      "[CV 1/3] END max_depth=30, min_samples_leaf=38, min_samples_split=11;, score=-775.852 total time=   0.0s\n",
      "[CV 2/3] END max_depth=30, min_samples_leaf=38, min_samples_split=11;, score=-802.743 total time=   0.0s\n",
      "[CV 3/3] END max_depth=30, min_samples_leaf=38, min_samples_split=11;, score=-1250.674 total time=   0.0s\n",
      "[CV 1/3] END max_depth=26, min_samples_leaf=20, min_samples_split=16;, score=-766.367 total time=   0.0s\n",
      "[CV 2/3] END max_depth=26, min_samples_leaf=20, min_samples_split=16;, score=-840.794 total time=   0.0s\n",
      "[CV 3/3] END max_depth=26, min_samples_leaf=20, min_samples_split=16;, score=-1183.705 total time=   0.0s\n",
      "[CV 1/3] END max_depth=8, min_samples_leaf=32, min_samples_split=12;, score=-773.318 total time=   0.0s\n",
      "[CV 2/3] END max_depth=8, min_samples_leaf=32, min_samples_split=12;, score=-788.196 total time=   0.0s\n",
      "[CV 3/3] END max_depth=8, min_samples_leaf=32, min_samples_split=12;, score=-1202.661 total time=   0.0s\n",
      "[CV 1/3] END max_depth=34, min_samples_leaf=46, min_samples_split=12;, score=-776.988 total time=   0.0s\n",
      "[CV 2/3] END max_depth=34, min_samples_leaf=46, min_samples_split=12;, score=-769.769 total time=   0.0s\n",
      "[CV 3/3] END max_depth=34, min_samples_leaf=46, min_samples_split=12;, score=-1290.131 total time=   0.0s\n",
      "[CV 1/3] END max_depth=10, min_samples_leaf=5, min_samples_split=12;, score=-829.091 total time=   0.0s\n",
      "[CV 2/3] END max_depth=10, min_samples_leaf=5, min_samples_split=12;, score=-972.115 total time=   0.0s\n",
      "[CV 3/3] END max_depth=10, min_samples_leaf=5, min_samples_split=12;, score=-1466.207 total time=   0.1s\n",
      "[CV 1/3] END max_depth=46, min_samples_leaf=24, min_samples_split=45;, score=-817.794 total time=   0.0s\n",
      "[CV 2/3] END max_depth=46, min_samples_leaf=24, min_samples_split=45;, score=-788.786 total time=   0.0s\n",
      "[CV 3/3] END max_depth=46, min_samples_leaf=24, min_samples_split=45;, score=-1208.006 total time=   0.0s\n",
      "[CV 1/3] END max_depth=16, min_samples_leaf=28, min_samples_split=40;, score=-814.834 total time=   0.0s\n",
      "[CV 2/3] END max_depth=16, min_samples_leaf=28, min_samples_split=40;, score=-790.595 total time=   0.0s\n",
      "[CV 3/3] END max_depth=16, min_samples_leaf=28, min_samples_split=40;, score=-1203.986 total time=   0.0s\n",
      "[CV 1/3] END max_depth=25, min_samples_leaf=7, min_samples_split=37;, score=-922.396 total time=   0.0s\n",
      "[CV 2/3] END max_depth=25, min_samples_leaf=7, min_samples_split=37;, score=-852.704 total time=   0.0s\n",
      "[CV 3/3] END max_depth=25, min_samples_leaf=7, min_samples_split=37;, score=-1307.093 total time=   0.0s\n",
      "[CV 1/3] END max_depth=14, min_samples_leaf=22, min_samples_split=45;, score=-802.286 total time=   0.0s\n",
      "[CV 2/3] END max_depth=14, min_samples_leaf=22, min_samples_split=45;, score=-808.429 total time=   0.0s\n",
      "[CV 3/3] END max_depth=14, min_samples_leaf=22, min_samples_split=45;, score=-1211.670 total time=   0.0s\n",
      "[CV 1/3] END max_depth=49, min_samples_leaf=47, min_samples_split=18;, score=-777.160 total time=   0.0s\n",
      "[CV 2/3] END max_depth=49, min_samples_leaf=47, min_samples_split=18;, score=-769.769 total time=   0.0s\n",
      "[CV 3/3] END max_depth=49, min_samples_leaf=47, min_samples_split=18;, score=-1287.722 total time=   0.0s\n",
      "[CV 1/3] END max_depth=20, min_samples_leaf=15, min_samples_split=6;, score=-787.571 total time=   0.0s\n",
      "[CV 2/3] END max_depth=20, min_samples_leaf=15, min_samples_split=6;, score=-779.978 total time=   0.0s\n",
      "[CV 3/3] END max_depth=20, min_samples_leaf=15, min_samples_split=6;, score=-1184.762 total time=   0.0s\n",
      "[CV 1/3] END max_depth=22, min_samples_leaf=40, min_samples_split=3;, score=-772.649 total time=   0.0s\n",
      "[CV 2/3] END max_depth=22, min_samples_leaf=40, min_samples_split=3;, score=-799.690 total time=   0.0s\n",
      "[CV 3/3] END max_depth=22, min_samples_leaf=40, min_samples_split=3;, score=-1246.006 total time=   0.0s\n",
      "[CV 1/3] END max_depth=5, min_samples_leaf=27, min_samples_split=32;, score=-798.911 total time=   0.0s\n",
      "[CV 2/3] END max_depth=5, min_samples_leaf=27, min_samples_split=32;, score=-798.108 total time=   0.0s\n",
      "[CV 3/3] END max_depth=5, min_samples_leaf=27, min_samples_split=32;, score=-1290.906 total time=   0.0s\n",
      "[CV 1/3] END max_depth=5, min_samples_leaf=5, min_samples_split=34;, score=-756.698 total time=   0.0s\n",
      "[CV 2/3] END max_depth=5, min_samples_leaf=5, min_samples_split=34;, score=-830.337 total time=   0.0s\n",
      "[CV 3/3] END max_depth=5, min_samples_leaf=5, min_samples_split=34;, score=-1337.463 total time=   0.0s\n",
      "[CV 1/3] END max_depth=31, min_samples_leaf=27, min_samples_split=37;, score=-813.639 total time=   0.0s\n",
      "[CV 2/3] END max_depth=31, min_samples_leaf=27, min_samples_split=37;, score=-777.024 total time=   0.0s\n",
      "[CV 3/3] END max_depth=31, min_samples_leaf=27, min_samples_split=37;, score=-1202.296 total time=   0.0s\n",
      "[CV 1/3] END max_depth=48, min_samples_leaf=13, min_samples_split=7;, score=-780.194 total time=   0.0s\n",
      "[CV 2/3] END max_depth=48, min_samples_leaf=13, min_samples_split=7;, score=-809.727 total time=   0.0s\n",
      "[CV 3/3] END max_depth=48, min_samples_leaf=13, min_samples_split=7;, score=-1257.596 total time=   0.1s\n",
      "[CV 1/3] END max_depth=37, min_samples_leaf=4, min_samples_split=39;, score=-851.258 total time=   0.0s\n",
      "[CV 2/3] END max_depth=37, min_samples_leaf=4, min_samples_split=39;, score=-916.633 total time=   0.0s\n",
      "[CV 3/3] END max_depth=37, min_samples_leaf=4, min_samples_split=39;, score=-1296.033 total time=   0.1s\n",
      "[CV 1/3] END max_depth=45, min_samples_leaf=30, min_samples_split=23;, score=-801.682 total time=   0.0s\n",
      "[CV 2/3] END max_depth=45, min_samples_leaf=30, min_samples_split=23;, score=-777.146 total time=   0.0s\n",
      "[CV 3/3] END max_depth=45, min_samples_leaf=30, min_samples_split=23;, score=-1215.389 total time=   0.0s\n",
      "[CV 1/3] END max_depth=42, min_samples_leaf=7, min_samples_split=7;, score=-954.663 total time=   0.0s\n",
      "[CV 2/3] END max_depth=42, min_samples_leaf=7, min_samples_split=7;, score=-988.133 total time=   0.0s\n",
      "[CV 3/3] END max_depth=42, min_samples_leaf=7, min_samples_split=7;, score=-1430.072 total time=   0.1s\n",
      "[CV 1/3] END max_depth=12, min_samples_leaf=1, min_samples_split=5;, score=-1050.755 total time=   0.0s\n",
      "[CV 2/3] END max_depth=12, min_samples_leaf=1, min_samples_split=5;, score=-1165.647 total time=   0.0s\n",
      "[CV 3/3] END max_depth=12, min_samples_leaf=1, min_samples_split=5;, score=-1811.457 total time=   0.1s\n",
      "[CV 1/3] END max_depth=45, min_samples_leaf=9, min_samples_split=3;, score=-870.125 total time=   0.0s\n",
      "[CV 2/3] END max_depth=45, min_samples_leaf=9, min_samples_split=3;, score=-901.680 total time=   0.0s\n",
      "[CV 3/3] END max_depth=45, min_samples_leaf=9, min_samples_split=3;, score=-1366.252 total time=   0.1s\n",
      "[CV 1/3] END max_depth=20, min_samples_leaf=47, min_samples_split=29;, score=-777.160 total time=   0.0s\n",
      "[CV 2/3] END max_depth=20, min_samples_leaf=47, min_samples_split=29;, score=-769.769 total time=   0.0s\n",
      "[CV 3/3] END max_depth=20, min_samples_leaf=47, min_samples_split=29;, score=-1287.722 total time=   0.0s\n",
      "[CV 1/3] END max_depth=38, min_samples_leaf=28, min_samples_split=8;, score=-814.834 total time=   0.0s\n",
      "[CV 2/3] END max_depth=38, min_samples_leaf=28, min_samples_split=8;, score=-790.595 total time=   0.0s\n",
      "[CV 3/3] END max_depth=38, min_samples_leaf=28, min_samples_split=8;, score=-1203.986 total time=   0.0s\n",
      "[CV 1/3] END max_depth=25, min_samples_leaf=40, min_samples_split=25;, score=-772.649 total time=   0.0s\n",
      "[CV 2/3] END max_depth=25, min_samples_leaf=40, min_samples_split=25;, score=-799.690 total time=   0.0s\n",
      "[CV 3/3] END max_depth=25, min_samples_leaf=40, min_samples_split=25;, score=-1246.006 total time=   0.0s\n",
      "[CV 1/3] END max_depth=30, min_samples_leaf=8, min_samples_split=37;, score=-918.732 total time=   0.0s\n",
      "[CV 2/3] END max_depth=30, min_samples_leaf=8, min_samples_split=37;, score=-852.477 total time=   0.0s\n",
      "[CV 3/3] END max_depth=30, min_samples_leaf=8, min_samples_split=37;, score=-1307.877 total time=   0.0s\n",
      "[CV 1/3] END max_depth=5, min_samples_leaf=14, min_samples_split=8;, score=-778.381 total time=   0.0s\n",
      "[CV 2/3] END max_depth=5, min_samples_leaf=14, min_samples_split=8;, score=-822.442 total time=   0.0s\n",
      "[CV 3/3] END max_depth=5, min_samples_leaf=14, min_samples_split=8;, score=-1296.241 total time=   0.0s\n",
      "[CV 1/3] END max_depth=10, min_samples_leaf=18, min_samples_split=19;, score=-779.376 total time=   0.0s\n",
      "[CV 2/3] END max_depth=10, min_samples_leaf=18, min_samples_split=19;, score=-851.854 total time=   0.0s\n",
      "[CV 3/3] END max_depth=10, min_samples_leaf=18, min_samples_split=19;, score=-1247.068 total time=   0.0s\n",
      "[CV 1/3] END max_depth=48, min_samples_leaf=29, min_samples_split=32;, score=-807.081 total time=   0.0s\n",
      "[CV 2/3] END max_depth=48, min_samples_leaf=29, min_samples_split=32;, score=-783.605 total time=   0.0s\n",
      "[CV 3/3] END max_depth=48, min_samples_leaf=29, min_samples_split=32;, score=-1215.280 total time=   0.0s\n",
      "[CV 1/3] END max_depth=4, min_samples_leaf=49, min_samples_split=21;, score=-712.768 total time=   0.0s\n",
      "[CV 2/3] END max_depth=4, min_samples_leaf=49, min_samples_split=21;, score=-820.530 total time=   0.0s\n",
      "[CV 3/3] END max_depth=4, min_samples_leaf=49, min_samples_split=21;, score=-1440.415 total time=   0.0s\n",
      "[CV 1/3] END max_depth=37, min_samples_leaf=6, min_samples_split=11;, score=-828.905 total time=   0.0s\n",
      "[CV 2/3] END max_depth=37, min_samples_leaf=6, min_samples_split=11;, score=-977.171 total time=   0.0s\n",
      "[CV 3/3] END max_depth=37, min_samples_leaf=6, min_samples_split=11;, score=-1469.338 total time=   0.1s\n",
      "[CV 1/3] END max_depth=38, min_samples_leaf=39, min_samples_split=7;, score=-772.649 total time=   0.0s\n",
      "[CV 2/3] END max_depth=38, min_samples_leaf=39, min_samples_split=7;, score=-801.865 total time=   0.0s\n",
      "[CV 3/3] END max_depth=38, min_samples_leaf=39, min_samples_split=7;, score=-1249.782 total time=   0.0s\n",
      "[CV 1/3] END max_depth=41, min_samples_leaf=46, min_samples_split=20;, score=-776.988 total time=   0.0s\n",
      "[CV 2/3] END max_depth=41, min_samples_leaf=46, min_samples_split=20;, score=-769.769 total time=   0.0s\n",
      "[CV 3/3] END max_depth=41, min_samples_leaf=46, min_samples_split=20;, score=-1290.131 total time=   0.0s\n",
      "[CV 1/3] END max_depth=39, min_samples_leaf=46, min_samples_split=30;, score=-776.988 total time=   0.0s\n",
      "[CV 2/3] END max_depth=39, min_samples_leaf=46, min_samples_split=30;, score=-769.769 total time=   0.0s\n",
      "[CV 3/3] END max_depth=39, min_samples_leaf=46, min_samples_split=30;, score=-1290.131 total time=   0.0s\n",
      "[CV 1/3] END max_depth=26, min_samples_leaf=14, min_samples_split=24;, score=-798.581 total time=   0.0s\n",
      "[CV 2/3] END max_depth=26, min_samples_leaf=14, min_samples_split=24;, score=-800.904 total time=   0.0s\n",
      "[CV 3/3] END max_depth=26, min_samples_leaf=14, min_samples_split=24;, score=-1200.568 total time=   0.0s\n",
      "[CV 1/3] END max_depth=48, min_samples_leaf=39, min_samples_split=2;, score=-772.649 total time=   0.0s\n",
      "[CV 2/3] END max_depth=48, min_samples_leaf=39, min_samples_split=2;, score=-801.865 total time=   0.0s\n",
      "[CV 3/3] END max_depth=48, min_samples_leaf=39, min_samples_split=2;, score=-1249.782 total time=   0.0s\n",
      "[CV 1/3] END max_depth=3, min_samples_leaf=33, min_samples_split=33;, score=-774.182 total time=   0.0s\n",
      "[CV 2/3] END max_depth=3, min_samples_leaf=33, min_samples_split=33;, score=-868.620 total time=   0.0s\n",
      "[CV 3/3] END max_depth=3, min_samples_leaf=33, min_samples_split=33;, score=-1546.060 total time=   0.0s\n",
      "[CV 1/3] END max_depth=31, min_samples_leaf=10, min_samples_split=26;, score=-929.494 total time=   0.0s\n",
      "[CV 2/3] END max_depth=31, min_samples_leaf=10, min_samples_split=26;, score=-859.808 total time=   0.0s\n",
      "[CV 3/3] END max_depth=31, min_samples_leaf=10, min_samples_split=26;, score=-1326.346 total time=   0.1s\n",
      "[CV 1/3] END max_depth=18, min_samples_leaf=37, min_samples_split=14;, score=-771.650 total time=   0.0s\n",
      "[CV 2/3] END max_depth=18, min_samples_leaf=37, min_samples_split=14;, score=-798.315 total time=   0.0s\n",
      "[CV 3/3] END max_depth=18, min_samples_leaf=37, min_samples_split=14;, score=-1233.805 total time=   0.0s\n",
      "[CV 1/3] END max_depth=42, min_samples_leaf=46, min_samples_split=5;, score=-776.988 total time=   0.0s\n",
      "[CV 2/3] END max_depth=42, min_samples_leaf=46, min_samples_split=5;, score=-769.769 total time=   0.0s\n",
      "[CV 3/3] END max_depth=42, min_samples_leaf=46, min_samples_split=5;, score=-1290.131 total time=   0.0s\n",
      "[CV 1/3] END max_depth=21, min_samples_leaf=6, min_samples_split=32;, score=-789.906 total time=   0.0s\n",
      "[CV 2/3] END max_depth=21, min_samples_leaf=6, min_samples_split=32;, score=-857.122 total time=   0.0s\n",
      "[CV 3/3] END max_depth=21, min_samples_leaf=6, min_samples_split=32;, score=-1353.764 total time=   0.1s\n",
      "[CV 1/3] END max_depth=45, min_samples_leaf=5, min_samples_split=25;, score=-799.622 total time=   0.0s\n",
      "[CV 2/3] END max_depth=45, min_samples_leaf=5, min_samples_split=25;, score=-909.739 total time=   0.0s\n",
      "[CV 3/3] END max_depth=45, min_samples_leaf=5, min_samples_split=25;, score=-1394.193 total time=   0.1s\n",
      "[CV 1/3] END max_depth=49, min_samples_leaf=19, min_samples_split=9;, score=-775.423 total time=   0.0s\n",
      "[CV 2/3] END max_depth=49, min_samples_leaf=19, min_samples_split=9;, score=-830.865 total time=   0.0s\n",
      "[CV 3/3] END max_depth=49, min_samples_leaf=19, min_samples_split=9;, score=-1233.385 total time=   0.0s\n",
      "CPU times: user 26.1 s, sys: 260 ms, total: 26.4 s\n",
      "Wall time: 26.7 s\n"
     ]
    },
    {
     "data": {
      "text/html": [
       "<style>#sk-container-id-1 {\n",
       "  /* Definition of color scheme common for light and dark mode */\n",
       "  --sklearn-color-text: #000;\n",
       "  --sklearn-color-text-muted: #666;\n",
       "  --sklearn-color-line: gray;\n",
       "  /* Definition of color scheme for unfitted estimators */\n",
       "  --sklearn-color-unfitted-level-0: #fff5e6;\n",
       "  --sklearn-color-unfitted-level-1: #f6e4d2;\n",
       "  --sklearn-color-unfitted-level-2: #ffe0b3;\n",
       "  --sklearn-color-unfitted-level-3: chocolate;\n",
       "  /* Definition of color scheme for fitted estimators */\n",
       "  --sklearn-color-fitted-level-0: #f0f8ff;\n",
       "  --sklearn-color-fitted-level-1: #d4ebff;\n",
       "  --sklearn-color-fitted-level-2: #b3dbfd;\n",
       "  --sklearn-color-fitted-level-3: cornflowerblue;\n",
       "\n",
       "  /* Specific color for light theme */\n",
       "  --sklearn-color-text-on-default-background: var(--sg-text-color, var(--theme-code-foreground, var(--jp-content-font-color1, black)));\n",
       "  --sklearn-color-background: var(--sg-background-color, var(--theme-background, var(--jp-layout-color0, white)));\n",
       "  --sklearn-color-border-box: var(--sg-text-color, var(--theme-code-foreground, var(--jp-content-font-color1, black)));\n",
       "  --sklearn-color-icon: #696969;\n",
       "\n",
       "  @media (prefers-color-scheme: dark) {\n",
       "    /* Redefinition of color scheme for dark theme */\n",
       "    --sklearn-color-text-on-default-background: var(--sg-text-color, var(--theme-code-foreground, var(--jp-content-font-color1, white)));\n",
       "    --sklearn-color-background: var(--sg-background-color, var(--theme-background, var(--jp-layout-color0, #111)));\n",
       "    --sklearn-color-border-box: var(--sg-text-color, var(--theme-code-foreground, var(--jp-content-font-color1, white)));\n",
       "    --sklearn-color-icon: #878787;\n",
       "  }\n",
       "}\n",
       "\n",
       "#sk-container-id-1 {\n",
       "  color: var(--sklearn-color-text);\n",
       "}\n",
       "\n",
       "#sk-container-id-1 pre {\n",
       "  padding: 0;\n",
       "}\n",
       "\n",
       "#sk-container-id-1 input.sk-hidden--visually {\n",
       "  border: 0;\n",
       "  clip: rect(1px 1px 1px 1px);\n",
       "  clip: rect(1px, 1px, 1px, 1px);\n",
       "  height: 1px;\n",
       "  margin: -1px;\n",
       "  overflow: hidden;\n",
       "  padding: 0;\n",
       "  position: absolute;\n",
       "  width: 1px;\n",
       "}\n",
       "\n",
       "#sk-container-id-1 div.sk-dashed-wrapped {\n",
       "  border: 1px dashed var(--sklearn-color-line);\n",
       "  margin: 0 0.4em 0.5em 0.4em;\n",
       "  box-sizing: border-box;\n",
       "  padding-bottom: 0.4em;\n",
       "  background-color: var(--sklearn-color-background);\n",
       "}\n",
       "\n",
       "#sk-container-id-1 div.sk-container {\n",
       "  /* jupyter's `normalize.less` sets `[hidden] { display: none; }`\n",
       "     but bootstrap.min.css set `[hidden] { display: none !important; }`\n",
       "     so we also need the `!important` here to be able to override the\n",
       "     default hidden behavior on the sphinx rendered scikit-learn.org.\n",
       "     See: https://github.com/scikit-learn/scikit-learn/issues/21755 */\n",
       "  display: inline-block !important;\n",
       "  position: relative;\n",
       "}\n",
       "\n",
       "#sk-container-id-1 div.sk-text-repr-fallback {\n",
       "  display: none;\n",
       "}\n",
       "\n",
       "div.sk-parallel-item,\n",
       "div.sk-serial,\n",
       "div.sk-item {\n",
       "  /* draw centered vertical line to link estimators */\n",
       "  background-image: linear-gradient(var(--sklearn-color-text-on-default-background), var(--sklearn-color-text-on-default-background));\n",
       "  background-size: 2px 100%;\n",
       "  background-repeat: no-repeat;\n",
       "  background-position: center center;\n",
       "}\n",
       "\n",
       "/* Parallel-specific style estimator block */\n",
       "\n",
       "#sk-container-id-1 div.sk-parallel-item::after {\n",
       "  content: \"\";\n",
       "  width: 100%;\n",
       "  border-bottom: 2px solid var(--sklearn-color-text-on-default-background);\n",
       "  flex-grow: 1;\n",
       "}\n",
       "\n",
       "#sk-container-id-1 div.sk-parallel {\n",
       "  display: flex;\n",
       "  align-items: stretch;\n",
       "  justify-content: center;\n",
       "  background-color: var(--sklearn-color-background);\n",
       "  position: relative;\n",
       "}\n",
       "\n",
       "#sk-container-id-1 div.sk-parallel-item {\n",
       "  display: flex;\n",
       "  flex-direction: column;\n",
       "}\n",
       "\n",
       "#sk-container-id-1 div.sk-parallel-item:first-child::after {\n",
       "  align-self: flex-end;\n",
       "  width: 50%;\n",
       "}\n",
       "\n",
       "#sk-container-id-1 div.sk-parallel-item:last-child::after {\n",
       "  align-self: flex-start;\n",
       "  width: 50%;\n",
       "}\n",
       "\n",
       "#sk-container-id-1 div.sk-parallel-item:only-child::after {\n",
       "  width: 0;\n",
       "}\n",
       "\n",
       "/* Serial-specific style estimator block */\n",
       "\n",
       "#sk-container-id-1 div.sk-serial {\n",
       "  display: flex;\n",
       "  flex-direction: column;\n",
       "  align-items: center;\n",
       "  background-color: var(--sklearn-color-background);\n",
       "  padding-right: 1em;\n",
       "  padding-left: 1em;\n",
       "}\n",
       "\n",
       "\n",
       "/* Toggleable style: style used for estimator/Pipeline/ColumnTransformer box that is\n",
       "clickable and can be expanded/collapsed.\n",
       "- Pipeline and ColumnTransformer use this feature and define the default style\n",
       "- Estimators will overwrite some part of the style using the `sk-estimator` class\n",
       "*/\n",
       "\n",
       "/* Pipeline and ColumnTransformer style (default) */\n",
       "\n",
       "#sk-container-id-1 div.sk-toggleable {\n",
       "  /* Default theme specific background. It is overwritten whether we have a\n",
       "  specific estimator or a Pipeline/ColumnTransformer */\n",
       "  background-color: var(--sklearn-color-background);\n",
       "}\n",
       "\n",
       "/* Toggleable label */\n",
       "#sk-container-id-1 label.sk-toggleable__label {\n",
       "  cursor: pointer;\n",
       "  display: flex;\n",
       "  width: 100%;\n",
       "  margin-bottom: 0;\n",
       "  padding: 0.5em;\n",
       "  box-sizing: border-box;\n",
       "  text-align: center;\n",
       "  align-items: start;\n",
       "  justify-content: space-between;\n",
       "  gap: 0.5em;\n",
       "}\n",
       "\n",
       "#sk-container-id-1 label.sk-toggleable__label .caption {\n",
       "  font-size: 0.6rem;\n",
       "  font-weight: lighter;\n",
       "  color: var(--sklearn-color-text-muted);\n",
       "}\n",
       "\n",
       "#sk-container-id-1 label.sk-toggleable__label-arrow:before {\n",
       "  /* Arrow on the left of the label */\n",
       "  content: \"▸\";\n",
       "  float: left;\n",
       "  margin-right: 0.25em;\n",
       "  color: var(--sklearn-color-icon);\n",
       "}\n",
       "\n",
       "#sk-container-id-1 label.sk-toggleable__label-arrow:hover:before {\n",
       "  color: var(--sklearn-color-text);\n",
       "}\n",
       "\n",
       "/* Toggleable content - dropdown */\n",
       "\n",
       "#sk-container-id-1 div.sk-toggleable__content {\n",
       "  max-height: 0;\n",
       "  max-width: 0;\n",
       "  overflow: hidden;\n",
       "  text-align: left;\n",
       "  /* unfitted */\n",
       "  background-color: var(--sklearn-color-unfitted-level-0);\n",
       "}\n",
       "\n",
       "#sk-container-id-1 div.sk-toggleable__content.fitted {\n",
       "  /* fitted */\n",
       "  background-color: var(--sklearn-color-fitted-level-0);\n",
       "}\n",
       "\n",
       "#sk-container-id-1 div.sk-toggleable__content pre {\n",
       "  margin: 0.2em;\n",
       "  border-radius: 0.25em;\n",
       "  color: var(--sklearn-color-text);\n",
       "  /* unfitted */\n",
       "  background-color: var(--sklearn-color-unfitted-level-0);\n",
       "}\n",
       "\n",
       "#sk-container-id-1 div.sk-toggleable__content.fitted pre {\n",
       "  /* unfitted */\n",
       "  background-color: var(--sklearn-color-fitted-level-0);\n",
       "}\n",
       "\n",
       "#sk-container-id-1 input.sk-toggleable__control:checked~div.sk-toggleable__content {\n",
       "  /* Expand drop-down */\n",
       "  max-height: 200px;\n",
       "  max-width: 100%;\n",
       "  overflow: auto;\n",
       "}\n",
       "\n",
       "#sk-container-id-1 input.sk-toggleable__control:checked~label.sk-toggleable__label-arrow:before {\n",
       "  content: \"▾\";\n",
       "}\n",
       "\n",
       "/* Pipeline/ColumnTransformer-specific style */\n",
       "\n",
       "#sk-container-id-1 div.sk-label input.sk-toggleable__control:checked~label.sk-toggleable__label {\n",
       "  color: var(--sklearn-color-text);\n",
       "  background-color: var(--sklearn-color-unfitted-level-2);\n",
       "}\n",
       "\n",
       "#sk-container-id-1 div.sk-label.fitted input.sk-toggleable__control:checked~label.sk-toggleable__label {\n",
       "  background-color: var(--sklearn-color-fitted-level-2);\n",
       "}\n",
       "\n",
       "/* Estimator-specific style */\n",
       "\n",
       "/* Colorize estimator box */\n",
       "#sk-container-id-1 div.sk-estimator input.sk-toggleable__control:checked~label.sk-toggleable__label {\n",
       "  /* unfitted */\n",
       "  background-color: var(--sklearn-color-unfitted-level-2);\n",
       "}\n",
       "\n",
       "#sk-container-id-1 div.sk-estimator.fitted input.sk-toggleable__control:checked~label.sk-toggleable__label {\n",
       "  /* fitted */\n",
       "  background-color: var(--sklearn-color-fitted-level-2);\n",
       "}\n",
       "\n",
       "#sk-container-id-1 div.sk-label label.sk-toggleable__label,\n",
       "#sk-container-id-1 div.sk-label label {\n",
       "  /* The background is the default theme color */\n",
       "  color: var(--sklearn-color-text-on-default-background);\n",
       "}\n",
       "\n",
       "/* On hover, darken the color of the background */\n",
       "#sk-container-id-1 div.sk-label:hover label.sk-toggleable__label {\n",
       "  color: var(--sklearn-color-text);\n",
       "  background-color: var(--sklearn-color-unfitted-level-2);\n",
       "}\n",
       "\n",
       "/* Label box, darken color on hover, fitted */\n",
       "#sk-container-id-1 div.sk-label.fitted:hover label.sk-toggleable__label.fitted {\n",
       "  color: var(--sklearn-color-text);\n",
       "  background-color: var(--sklearn-color-fitted-level-2);\n",
       "}\n",
       "\n",
       "/* Estimator label */\n",
       "\n",
       "#sk-container-id-1 div.sk-label label {\n",
       "  font-family: monospace;\n",
       "  font-weight: bold;\n",
       "  display: inline-block;\n",
       "  line-height: 1.2em;\n",
       "}\n",
       "\n",
       "#sk-container-id-1 div.sk-label-container {\n",
       "  text-align: center;\n",
       "}\n",
       "\n",
       "/* Estimator-specific */\n",
       "#sk-container-id-1 div.sk-estimator {\n",
       "  font-family: monospace;\n",
       "  border: 1px dotted var(--sklearn-color-border-box);\n",
       "  border-radius: 0.25em;\n",
       "  box-sizing: border-box;\n",
       "  margin-bottom: 0.5em;\n",
       "  /* unfitted */\n",
       "  background-color: var(--sklearn-color-unfitted-level-0);\n",
       "}\n",
       "\n",
       "#sk-container-id-1 div.sk-estimator.fitted {\n",
       "  /* fitted */\n",
       "  background-color: var(--sklearn-color-fitted-level-0);\n",
       "}\n",
       "\n",
       "/* on hover */\n",
       "#sk-container-id-1 div.sk-estimator:hover {\n",
       "  /* unfitted */\n",
       "  background-color: var(--sklearn-color-unfitted-level-2);\n",
       "}\n",
       "\n",
       "#sk-container-id-1 div.sk-estimator.fitted:hover {\n",
       "  /* fitted */\n",
       "  background-color: var(--sklearn-color-fitted-level-2);\n",
       "}\n",
       "\n",
       "/* Specification for estimator info (e.g. \"i\" and \"?\") */\n",
       "\n",
       "/* Common style for \"i\" and \"?\" */\n",
       "\n",
       ".sk-estimator-doc-link,\n",
       "a:link.sk-estimator-doc-link,\n",
       "a:visited.sk-estimator-doc-link {\n",
       "  float: right;\n",
       "  font-size: smaller;\n",
       "  line-height: 1em;\n",
       "  font-family: monospace;\n",
       "  background-color: var(--sklearn-color-background);\n",
       "  border-radius: 1em;\n",
       "  height: 1em;\n",
       "  width: 1em;\n",
       "  text-decoration: none !important;\n",
       "  margin-left: 0.5em;\n",
       "  text-align: center;\n",
       "  /* unfitted */\n",
       "  border: var(--sklearn-color-unfitted-level-1) 1pt solid;\n",
       "  color: var(--sklearn-color-unfitted-level-1);\n",
       "}\n",
       "\n",
       ".sk-estimator-doc-link.fitted,\n",
       "a:link.sk-estimator-doc-link.fitted,\n",
       "a:visited.sk-estimator-doc-link.fitted {\n",
       "  /* fitted */\n",
       "  border: var(--sklearn-color-fitted-level-1) 1pt solid;\n",
       "  color: var(--sklearn-color-fitted-level-1);\n",
       "}\n",
       "\n",
       "/* On hover */\n",
       "div.sk-estimator:hover .sk-estimator-doc-link:hover,\n",
       ".sk-estimator-doc-link:hover,\n",
       "div.sk-label-container:hover .sk-estimator-doc-link:hover,\n",
       ".sk-estimator-doc-link:hover {\n",
       "  /* unfitted */\n",
       "  background-color: var(--sklearn-color-unfitted-level-3);\n",
       "  color: var(--sklearn-color-background);\n",
       "  text-decoration: none;\n",
       "}\n",
       "\n",
       "div.sk-estimator.fitted:hover .sk-estimator-doc-link.fitted:hover,\n",
       ".sk-estimator-doc-link.fitted:hover,\n",
       "div.sk-label-container:hover .sk-estimator-doc-link.fitted:hover,\n",
       ".sk-estimator-doc-link.fitted:hover {\n",
       "  /* fitted */\n",
       "  background-color: var(--sklearn-color-fitted-level-3);\n",
       "  color: var(--sklearn-color-background);\n",
       "  text-decoration: none;\n",
       "}\n",
       "\n",
       "/* Span, style for the box shown on hovering the info icon */\n",
       ".sk-estimator-doc-link span {\n",
       "  display: none;\n",
       "  z-index: 9999;\n",
       "  position: relative;\n",
       "  font-weight: normal;\n",
       "  right: .2ex;\n",
       "  padding: .5ex;\n",
       "  margin: .5ex;\n",
       "  width: min-content;\n",
       "  min-width: 20ex;\n",
       "  max-width: 50ex;\n",
       "  color: var(--sklearn-color-text);\n",
       "  box-shadow: 2pt 2pt 4pt #999;\n",
       "  /* unfitted */\n",
       "  background: var(--sklearn-color-unfitted-level-0);\n",
       "  border: .5pt solid var(--sklearn-color-unfitted-level-3);\n",
       "}\n",
       "\n",
       ".sk-estimator-doc-link.fitted span {\n",
       "  /* fitted */\n",
       "  background: var(--sklearn-color-fitted-level-0);\n",
       "  border: var(--sklearn-color-fitted-level-3);\n",
       "}\n",
       "\n",
       ".sk-estimator-doc-link:hover span {\n",
       "  display: block;\n",
       "}\n",
       "\n",
       "/* \"?\"-specific style due to the `<a>` HTML tag */\n",
       "\n",
       "#sk-container-id-1 a.estimator_doc_link {\n",
       "  float: right;\n",
       "  font-size: 1rem;\n",
       "  line-height: 1em;\n",
       "  font-family: monospace;\n",
       "  background-color: var(--sklearn-color-background);\n",
       "  border-radius: 1rem;\n",
       "  height: 1rem;\n",
       "  width: 1rem;\n",
       "  text-decoration: none;\n",
       "  /* unfitted */\n",
       "  color: var(--sklearn-color-unfitted-level-1);\n",
       "  border: var(--sklearn-color-unfitted-level-1) 1pt solid;\n",
       "}\n",
       "\n",
       "#sk-container-id-1 a.estimator_doc_link.fitted {\n",
       "  /* fitted */\n",
       "  border: var(--sklearn-color-fitted-level-1) 1pt solid;\n",
       "  color: var(--sklearn-color-fitted-level-1);\n",
       "}\n",
       "\n",
       "/* On hover */\n",
       "#sk-container-id-1 a.estimator_doc_link:hover {\n",
       "  /* unfitted */\n",
       "  background-color: var(--sklearn-color-unfitted-level-3);\n",
       "  color: var(--sklearn-color-background);\n",
       "  text-decoration: none;\n",
       "}\n",
       "\n",
       "#sk-container-id-1 a.estimator_doc_link.fitted:hover {\n",
       "  /* fitted */\n",
       "  background-color: var(--sklearn-color-fitted-level-3);\n",
       "}\n",
       "</style><div id=\"sk-container-id-1\" class=\"sk-top-container\"><div class=\"sk-text-repr-fallback\"><pre>RandomizedSearchCV(cv=TimeSeriesSplit(gap=0, max_train_size=None, n_splits=3, test_size=None),\n",
       "                   estimator=DecisionTreeRegressor(random_state=71), n_iter=300,\n",
       "                   n_jobs=-1,\n",
       "                   param_distributions={&#x27;max_depth&#x27;: range(3, 50),\n",
       "                                        &#x27;min_samples_leaf&#x27;: range(1, 50),\n",
       "                                        &#x27;min_samples_split&#x27;: range(2, 50)},\n",
       "                   scoring=&#x27;neg_mean_squared_error&#x27;, verbose=3)</pre><b>In a Jupyter environment, please rerun this cell to show the HTML representation or trust the notebook. <br />On GitHub, the HTML representation is unable to render, please try loading this page with nbviewer.org.</b></div><div class=\"sk-container\" hidden><div class=\"sk-item sk-dashed-wrapped\"><div class=\"sk-label-container\"><div class=\"sk-label fitted sk-toggleable\"><input class=\"sk-toggleable__control sk-hidden--visually\" id=\"sk-estimator-id-1\" type=\"checkbox\" ><label for=\"sk-estimator-id-1\" class=\"sk-toggleable__label fitted sk-toggleable__label-arrow\"><div><div>RandomizedSearchCV</div></div><div><a class=\"sk-estimator-doc-link fitted\" rel=\"noreferrer\" target=\"_blank\" href=\"https://scikit-learn.org/1.6/modules/generated/sklearn.model_selection.RandomizedSearchCV.html\">?<span>Documentation for RandomizedSearchCV</span></a><span class=\"sk-estimator-doc-link fitted\">i<span>Fitted</span></span></div></label><div class=\"sk-toggleable__content fitted\"><pre>RandomizedSearchCV(cv=TimeSeriesSplit(gap=0, max_train_size=None, n_splits=3, test_size=None),\n",
       "                   estimator=DecisionTreeRegressor(random_state=71), n_iter=300,\n",
       "                   n_jobs=-1,\n",
       "                   param_distributions={&#x27;max_depth&#x27;: range(3, 50),\n",
       "                                        &#x27;min_samples_leaf&#x27;: range(1, 50),\n",
       "                                        &#x27;min_samples_split&#x27;: range(2, 50)},\n",
       "                   scoring=&#x27;neg_mean_squared_error&#x27;, verbose=3)</pre></div> </div></div><div class=\"sk-parallel\"><div class=\"sk-parallel-item\"><div class=\"sk-item\"><div class=\"sk-label-container\"><div class=\"sk-label fitted sk-toggleable\"><input class=\"sk-toggleable__control sk-hidden--visually\" id=\"sk-estimator-id-2\" type=\"checkbox\" ><label for=\"sk-estimator-id-2\" class=\"sk-toggleable__label fitted sk-toggleable__label-arrow\"><div><div>best_estimator_: DecisionTreeRegressor</div></div></label><div class=\"sk-toggleable__content fitted\"><pre>DecisionTreeRegressor(max_depth=36, min_samples_leaf=15, min_samples_split=40,\n",
       "                      random_state=71)</pre></div> </div></div><div class=\"sk-serial\"><div class=\"sk-item\"><div class=\"sk-estimator fitted sk-toggleable\"><input class=\"sk-toggleable__control sk-hidden--visually\" id=\"sk-estimator-id-3\" type=\"checkbox\" ><label for=\"sk-estimator-id-3\" class=\"sk-toggleable__label fitted sk-toggleable__label-arrow\"><div><div>DecisionTreeRegressor</div></div><div><a class=\"sk-estimator-doc-link fitted\" rel=\"noreferrer\" target=\"_blank\" href=\"https://scikit-learn.org/1.6/modules/generated/sklearn.tree.DecisionTreeRegressor.html\">?<span>Documentation for DecisionTreeRegressor</span></a></div></label><div class=\"sk-toggleable__content fitted\"><pre>DecisionTreeRegressor(max_depth=36, min_samples_leaf=15, min_samples_split=40,\n",
       "                      random_state=71)</pre></div> </div></div></div></div></div></div></div></div></div>"
      ],
      "text/plain": [
       "RandomizedSearchCV(cv=TimeSeriesSplit(gap=0, max_train_size=None, n_splits=3, test_size=None),\n",
       "                   estimator=DecisionTreeRegressor(random_state=71), n_iter=300,\n",
       "                   n_jobs=-1,\n",
       "                   param_distributions={'max_depth': range(3, 50),\n",
       "                                        'min_samples_leaf': range(1, 50),\n",
       "                                        'min_samples_split': range(2, 50)},\n",
       "                   scoring='neg_mean_squared_error', verbose=3)"
      ]
     },
     "execution_count": 18,
     "metadata": {},
     "output_type": "execute_result"
    }
   ],
   "source": [
    "%%time\n",
    "random_search_dt = RandomizedSearchCV(\n",
    "    dt_model,\n",
    "    param_dist_dt,\n",
    "    n_iter=300, \n",
    "    cv=tscv,\n",
    "    scoring='neg_mean_squared_error',\n",
    "    verbose=3,\n",
    "    n_jobs=-1\n",
    ")\n",
    "\n",
    "random_search_dt.fit(X_train, y_train)"
   ]
  },
  {
   "cell_type": "code",
   "execution_count": 19,
   "metadata": {},
   "outputs": [
    {
     "name": "stdout",
     "output_type": "stream",
     "text": [
      "RMSE для DecisionTreeRegressor = 30.168569405701852\n"
     ]
    }
   ],
   "source": [
    "mse = -(random_search_dt.best_score_)\n",
    "print('RMSE для DecisionTreeRegressor =', mse**0.5)"
   ]
  },
  {
   "cell_type": "markdown",
   "metadata": {},
   "source": [
    "### LightGBM"
   ]
  },
  {
   "cell_type": "code",
   "execution_count": 20,
   "metadata": {},
   "outputs": [],
   "source": [
    "lgb_model = LGBMRegressor(random_state=42)"
   ]
  },
  {
   "cell_type": "code",
   "execution_count": 21,
   "metadata": {},
   "outputs": [],
   "source": [
    "param_dist_lgb = {\n",
    "    'num_leaves': range(20, 50),\n",
    "    'max_depth': range(3, 10),\n",
    "    'learning_rate': [0.5, 0.1, 1]\n",
    "}"
   ]
  },
  {
   "cell_type": "code",
   "execution_count": 22,
   "metadata": {},
   "outputs": [],
   "source": [
    "random_search_lgb = RandomizedSearchCV(\n",
    "    lgb_model,\n",
    "    param_dist_lgb,\n",
    "    n_iter=50,\n",
    "    scoring='neg_mean_squared_error',\n",
    "    cv=tscv,\n",
    "    verbose=10,\n",
    "    random_state=42,\n",
    "    n_jobs=-1\n",
    ")"
   ]
  },
  {
   "cell_type": "code",
   "execution_count": 23,
   "metadata": {
    "scrolled": true
   },
   "outputs": [
    {
     "name": "stdout",
     "output_type": "stream",
     "text": [
      "Fitting 3 folds for each of 50 candidates, totalling 150 fits\n",
      "[CV 1/3; 1/50] START learning_rate=1, max_depth=5, num_leaves=37................\n",
      "[CV 1/3; 1/50] END learning_rate=1, max_depth=5, num_leaves=37;, score=-954.328 total time=   0.4s\n",
      "[CV 2/3; 1/50] START learning_rate=1, max_depth=5, num_leaves=37................\n",
      "[CV 2/3; 1/50] END learning_rate=1, max_depth=5, num_leaves=37;, score=-1052.030 total time=   0.6s\n",
      "[CV 3/3; 1/50] START learning_rate=1, max_depth=5, num_leaves=37................\n",
      "[CV 3/3; 1/50] END learning_rate=1, max_depth=5, num_leaves=37;, score=-1441.710 total time=   0.7s\n",
      "[CV 1/3; 2/50] START learning_rate=0.1, max_depth=4, num_leaves=24..............\n",
      "[CV 1/3; 2/50] END learning_rate=0.1, max_depth=4, num_leaves=24;, score=-582.545 total time=   0.3s\n",
      "[CV 2/3; 2/50] START learning_rate=0.1, max_depth=4, num_leaves=24..............\n",
      "[CV 2/3; 2/50] END learning_rate=0.1, max_depth=4, num_leaves=24;, score=-569.434 total time=   0.5s\n",
      "[CV 3/3; 2/50] START learning_rate=0.1, max_depth=4, num_leaves=24..............\n",
      "[CV 3/3; 2/50] END learning_rate=0.1, max_depth=4, num_leaves=24;, score=-983.338 total time=   0.5s\n",
      "[CV 1/3; 3/50] START learning_rate=1, max_depth=7, num_leaves=32................\n",
      "[CV 1/3; 3/50] END learning_rate=1, max_depth=7, num_leaves=32;, score=-921.945 total time=   0.7s\n",
      "[CV 2/3; 3/50] START learning_rate=1, max_depth=7, num_leaves=32................\n",
      "[CV 2/3; 3/50] END learning_rate=1, max_depth=7, num_leaves=32;, score=-1176.639 total time=   0.9s\n",
      "[CV 3/3; 3/50] START learning_rate=1, max_depth=7, num_leaves=32................\n",
      "[CV 3/3; 3/50] END learning_rate=1, max_depth=7, num_leaves=32;, score=-1427.916 total time=   1.0s\n",
      "[CV 1/3; 4/50] START learning_rate=0.1, max_depth=3, num_leaves=23..............\n",
      "[CV 1/3; 4/50] END learning_rate=0.1, max_depth=3, num_leaves=23;, score=-591.108 total time=   0.3s\n",
      "[CV 2/3; 4/50] START learning_rate=0.1, max_depth=3, num_leaves=23..............\n",
      "[CV 2/3; 4/50] END learning_rate=0.1, max_depth=3, num_leaves=23;, score=-578.533 total time=   0.4s\n",
      "[CV 3/3; 4/50] START learning_rate=0.1, max_depth=3, num_leaves=23..............\n",
      "[CV 3/3; 4/50] END learning_rate=0.1, max_depth=3, num_leaves=23;, score=-981.427 total time=   0.3s\n",
      "[CV 1/3; 5/50] START learning_rate=1, max_depth=7, num_leaves=29................\n",
      "[CV 1/3; 5/50] END learning_rate=1, max_depth=7, num_leaves=29;, score=-941.623 total time=   0.6s\n",
      "[CV 2/3; 5/50] START learning_rate=1, max_depth=7, num_leaves=29................\n",
      "[CV 2/3; 5/50] END learning_rate=1, max_depth=7, num_leaves=29;, score=-1166.133 total time=   0.9s\n",
      "[CV 3/3; 5/50] START learning_rate=1, max_depth=7, num_leaves=29................\n",
      "[CV 3/3; 5/50] END learning_rate=1, max_depth=7, num_leaves=29;, score=-1569.896 total time=   0.8s\n",
      "[CV 1/3; 6/50] START learning_rate=1, max_depth=5, num_leaves=46................\n",
      "[CV 1/3; 6/50] END learning_rate=1, max_depth=5, num_leaves=46;, score=-954.328 total time=   0.5s\n",
      "[CV 2/3; 6/50] START learning_rate=1, max_depth=5, num_leaves=46................\n",
      "[CV 2/3; 6/50] END learning_rate=1, max_depth=5, num_leaves=46;, score=-1052.030 total time=   0.5s\n",
      "[CV 3/3; 6/50] START learning_rate=1, max_depth=5, num_leaves=46................\n",
      "[CV 3/3; 6/50] END learning_rate=1, max_depth=5, num_leaves=46;, score=-1441.710 total time=   0.6s\n",
      "[CV 1/3; 7/50] START learning_rate=1, max_depth=9, num_leaves=25................\n",
      "[CV 1/3; 7/50] END learning_rate=1, max_depth=9, num_leaves=25;, score=-985.318 total time=   0.8s\n",
      "[CV 2/3; 7/50] START learning_rate=1, max_depth=9, num_leaves=25................\n",
      "[CV 2/3; 7/50] END learning_rate=1, max_depth=9, num_leaves=25;, score=-1206.792 total time=   0.9s\n",
      "[CV 3/3; 7/50] START learning_rate=1, max_depth=9, num_leaves=25................\n",
      "[CV 3/3; 7/50] END learning_rate=1, max_depth=9, num_leaves=25;, score=-1800.956 total time=   0.9s\n",
      "[CV 1/3; 8/50] START learning_rate=0.5, max_depth=5, num_leaves=37..............\n",
      "[CV 1/3; 8/50] END learning_rate=0.5, max_depth=5, num_leaves=37;, score=-728.337 total time=   0.5s\n",
      "[CV 2/3; 8/50] START learning_rate=0.5, max_depth=5, num_leaves=37..............\n",
      "[CV 2/3; 8/50] END learning_rate=0.5, max_depth=5, num_leaves=37;, score=-693.419 total time=   0.5s\n",
      "[CV 3/3; 8/50] START learning_rate=0.5, max_depth=5, num_leaves=37..............\n",
      "[CV 3/3; 8/50] END learning_rate=0.5, max_depth=5, num_leaves=37;, score=-1166.832 total time=   0.8s\n",
      "[CV 1/3; 9/50] START learning_rate=1, max_depth=6, num_leaves=41................\n",
      "[CV 1/3; 9/50] END learning_rate=1, max_depth=6, num_leaves=41;, score=-915.065 total time=   0.6s\n",
      "[CV 2/3; 9/50] START learning_rate=1, max_depth=6, num_leaves=41................\n",
      "[CV 2/3; 9/50] END learning_rate=1, max_depth=6, num_leaves=41;, score=-1082.413 total time=   0.7s\n",
      "[CV 3/3; 9/50] START learning_rate=1, max_depth=6, num_leaves=41................\n",
      "[CV 3/3; 9/50] END learning_rate=1, max_depth=6, num_leaves=41;, score=-1364.117 total time=   0.8s\n",
      "[CV 1/3; 10/50] START learning_rate=0.5, max_depth=7, num_leaves=45.............\n",
      "[CV 1/3; 10/50] END learning_rate=0.5, max_depth=7, num_leaves=45;, score=-711.198 total time=   0.6s\n",
      "[CV 2/3; 10/50] START learning_rate=0.5, max_depth=7, num_leaves=45.............\n",
      "[CV 2/3; 10/50] END learning_rate=0.5, max_depth=7, num_leaves=45;, score=-722.664 total time=   0.8s\n",
      "[CV 3/3; 10/50] START learning_rate=0.5, max_depth=7, num_leaves=45.............\n",
      "[CV 3/3; 10/50] END learning_rate=0.5, max_depth=7, num_leaves=45;, score=-1121.230 total time=   0.9s\n",
      "[CV 1/3; 11/50] START learning_rate=0.1, max_depth=4, num_leaves=48.............\n",
      "[CV 1/3; 11/50] END learning_rate=0.1, max_depth=4, num_leaves=48;, score=-582.545 total time=   0.4s\n",
      "[CV 2/3; 11/50] START learning_rate=0.1, max_depth=4, num_leaves=48.............\n",
      "[CV 2/3; 11/50] END learning_rate=0.1, max_depth=4, num_leaves=48;, score=-569.434 total time=   0.4s\n",
      "[CV 3/3; 11/50] START learning_rate=0.1, max_depth=4, num_leaves=48.............\n",
      "[CV 3/3; 11/50] END learning_rate=0.1, max_depth=4, num_leaves=48;, score=-983.338 total time=   0.4s\n",
      "[CV 1/3; 12/50] START learning_rate=0.5, max_depth=4, num_leaves=21.............\n",
      "[CV 1/3; 12/50] END learning_rate=0.5, max_depth=4, num_leaves=21;, score=-709.431 total time=   0.4s\n",
      "[CV 2/3; 12/50] START learning_rate=0.5, max_depth=4, num_leaves=21.............\n",
      "[CV 2/3; 12/50] END learning_rate=0.5, max_depth=4, num_leaves=21;, score=-679.689 total time=   0.5s\n",
      "[CV 3/3; 12/50] START learning_rate=0.5, max_depth=4, num_leaves=21.............\n",
      "[CV 3/3; 12/50] END learning_rate=0.5, max_depth=4, num_leaves=21;, score=-1116.750 total time=   0.4s\n",
      "[CV 1/3; 13/50] START learning_rate=0.5, max_depth=4, num_leaves=45.............\n",
      "[CV 1/3; 13/50] END learning_rate=0.5, max_depth=4, num_leaves=45;, score=-709.431 total time=   0.4s\n",
      "[CV 2/3; 13/50] START learning_rate=0.5, max_depth=4, num_leaves=45.............\n",
      "[CV 2/3; 13/50] END learning_rate=0.5, max_depth=4, num_leaves=45;, score=-679.689 total time=   0.4s\n",
      "[CV 3/3; 13/50] START learning_rate=0.5, max_depth=4, num_leaves=45.............\n",
      "[CV 3/3; 13/50] END learning_rate=0.5, max_depth=4, num_leaves=45;, score=-1116.750 total time=   0.5s\n",
      "[CV 1/3; 14/50] START learning_rate=0.5, max_depth=6, num_leaves=20.............\n",
      "[CV 1/3; 14/50] END learning_rate=0.5, max_depth=6, num_leaves=20;, score=-682.636 total time=   0.6s\n",
      "[CV 2/3; 14/50] START learning_rate=0.5, max_depth=6, num_leaves=20.............\n",
      "[CV 2/3; 14/50] END learning_rate=0.5, max_depth=6, num_leaves=20;, score=-717.487 total time=   0.7s\n",
      "[CV 3/3; 14/50] START learning_rate=0.5, max_depth=6, num_leaves=20.............\n",
      "[CV 3/3; 14/50] END learning_rate=0.5, max_depth=6, num_leaves=20;, score=-1165.198 total time=   0.7s\n",
      "[CV 1/3; 15/50] START learning_rate=0.1, max_depth=9, num_leaves=44.............\n",
      "[CV 1/3; 15/50] END learning_rate=0.1, max_depth=9, num_leaves=44;, score=-619.358 total time=   0.9s\n",
      "[CV 2/3; 15/50] START learning_rate=0.1, max_depth=9, num_leaves=44.............\n",
      "[CV 2/3; 15/50] END learning_rate=0.1, max_depth=9, num_leaves=44;, score=-588.592 total time=   1.0s\n",
      "[CV 3/3; 15/50] START learning_rate=0.1, max_depth=9, num_leaves=44.............\n",
      "[CV 3/3; 15/50] END learning_rate=0.1, max_depth=9, num_leaves=44;, score=-992.216 total time=   1.3s\n",
      "[CV 1/3; 16/50] START learning_rate=0.5, max_depth=5, num_leaves=36.............\n",
      "[CV 1/3; 16/50] END learning_rate=0.5, max_depth=5, num_leaves=36;, score=-728.337 total time=   0.5s\n",
      "[CV 2/3; 16/50] START learning_rate=0.5, max_depth=5, num_leaves=36.............\n",
      "[CV 2/3; 16/50] END learning_rate=0.5, max_depth=5, num_leaves=36;, score=-693.419 total time=   0.5s\n",
      "[CV 3/3; 16/50] START learning_rate=0.5, max_depth=5, num_leaves=36.............\n",
      "[CV 3/3; 16/50] END learning_rate=0.5, max_depth=5, num_leaves=36;, score=-1166.832 total time=   0.7s\n",
      "[CV 1/3; 17/50] START learning_rate=0.5, max_depth=3, num_leaves=22.............\n",
      "[CV 1/3; 17/50] END learning_rate=0.5, max_depth=3, num_leaves=22;, score=-698.112 total time=   0.2s\n",
      "[CV 2/3; 17/50] START learning_rate=0.5, max_depth=3, num_leaves=22.............\n",
      "[CV 2/3; 17/50] END learning_rate=0.5, max_depth=3, num_leaves=22;, score=-626.048 total time=   0.7s\n",
      "[CV 3/3; 17/50] START learning_rate=0.5, max_depth=3, num_leaves=22.............\n",
      "[CV 3/3; 17/50] END learning_rate=0.5, max_depth=3, num_leaves=22;, score=-1044.851 total time=   0.5s\n",
      "[CV 1/3; 18/50] START learning_rate=1, max_depth=4, num_leaves=49...............\n",
      "[CV 1/3; 18/50] END learning_rate=1, max_depth=4, num_leaves=49;, score=-854.440 total time=   1.4s\n",
      "[CV 2/3; 18/50] START learning_rate=1, max_depth=4, num_leaves=49...............\n",
      "[CV 2/3; 18/50] END learning_rate=1, max_depth=4, num_leaves=49;, score=-968.022 total time=   0.4s\n",
      "[CV 3/3; 18/50] START learning_rate=1, max_depth=4, num_leaves=49...............\n",
      "[CV 3/3; 18/50] END learning_rate=1, max_depth=4, num_leaves=49;, score=-1397.353 total time=   0.4s\n",
      "[CV 1/3; 19/50] START learning_rate=0.5, max_depth=9, num_leaves=28.............\n",
      "[CV 1/3; 19/50] END learning_rate=0.5, max_depth=9, num_leaves=28;, score=-712.085 total time=   0.7s\n",
      "[CV 2/3; 19/50] START learning_rate=0.5, max_depth=9, num_leaves=28.............\n",
      "[CV 2/3; 19/50] END learning_rate=0.5, max_depth=9, num_leaves=28;, score=-731.397 total time=   1.0s\n",
      "[CV 3/3; 19/50] START learning_rate=0.5, max_depth=9, num_leaves=28.............\n",
      "[CV 3/3; 19/50] END learning_rate=0.5, max_depth=9, num_leaves=28;, score=-1203.463 total time=   1.0s\n",
      "[CV 1/3; 20/50] START learning_rate=1, max_depth=9, num_leaves=33...............\n",
      "[CV 1/3; 20/50] END learning_rate=1, max_depth=9, num_leaves=33;, score=-959.681 total time=   0.8s\n",
      "[CV 2/3; 20/50] START learning_rate=1, max_depth=9, num_leaves=33...............\n",
      "[CV 2/3; 20/50] END learning_rate=1, max_depth=9, num_leaves=33;, score=-1174.047 total time=   1.1s\n",
      "[CV 3/3; 20/50] START learning_rate=1, max_depth=9, num_leaves=33...............\n",
      "[CV 3/3; 20/50] END learning_rate=1, max_depth=9, num_leaves=33;, score=-1432.819 total time=   1.1s\n",
      "[CV 1/3; 21/50] START learning_rate=0.5, max_depth=7, num_leaves=31.............\n",
      "[CV 1/3; 21/50] END learning_rate=0.5, max_depth=7, num_leaves=31;, score=-680.298 total time=   0.7s\n",
      "[CV 2/3; 21/50] START learning_rate=0.5, max_depth=7, num_leaves=31.............\n",
      "[CV 2/3; 21/50] END learning_rate=0.5, max_depth=7, num_leaves=31;, score=-736.464 total time=   0.8s\n",
      "[CV 3/3; 21/50] START learning_rate=0.5, max_depth=7, num_leaves=31.............\n",
      "[CV 3/3; 21/50] END learning_rate=0.5, max_depth=7, num_leaves=31;, score=-1106.970 total time=   0.9s\n",
      "[CV 1/3; 22/50] START learning_rate=0.5, max_depth=7, num_leaves=48.............\n",
      "[CV 1/3; 22/50] END learning_rate=0.5, max_depth=7, num_leaves=48;, score=-711.198 total time=   0.7s\n",
      "[CV 2/3; 22/50] START learning_rate=0.5, max_depth=7, num_leaves=48.............\n",
      "[CV 2/3; 22/50] END learning_rate=0.5, max_depth=7, num_leaves=48;, score=-735.811 total time=   0.9s\n",
      "[CV 3/3; 22/50] START learning_rate=0.5, max_depth=7, num_leaves=48.............\n",
      "[CV 3/3; 22/50] END learning_rate=0.5, max_depth=7, num_leaves=48;, score=-1138.365 total time=   1.2s\n",
      "[CV 1/3; 23/50] START learning_rate=0.5, max_depth=4, num_leaves=39.............\n",
      "[CV 1/3; 23/50] END learning_rate=0.5, max_depth=4, num_leaves=39;, score=-709.431 total time=   0.4s\n",
      "[CV 2/3; 23/50] START learning_rate=0.5, max_depth=4, num_leaves=39.............\n",
      "[CV 2/3; 23/50] END learning_rate=0.5, max_depth=4, num_leaves=39;, score=-679.689 total time=   0.4s\n",
      "[CV 3/3; 23/50] START learning_rate=0.5, max_depth=4, num_leaves=39.............\n",
      "[CV 3/3; 23/50] END learning_rate=0.5, max_depth=4, num_leaves=39;, score=-1116.750 total time=   0.5s\n",
      "[CV 1/3; 24/50] START learning_rate=1, max_depth=9, num_leaves=46...............\n",
      "[CV 1/3; 24/50] END learning_rate=1, max_depth=9, num_leaves=46;, score=-998.009 total time=   0.9s\n",
      "[CV 2/3; 24/50] START learning_rate=1, max_depth=9, num_leaves=46...............\n",
      "[CV 2/3; 24/50] END learning_rate=1, max_depth=9, num_leaves=46;, score=-1121.681 total time=   1.2s\n",
      "[CV 3/3; 24/50] START learning_rate=1, max_depth=9, num_leaves=46...............\n",
      "[CV 3/3; 24/50] END learning_rate=1, max_depth=9, num_leaves=46;, score=-1514.180 total time=   1.3s\n",
      "[CV 1/3; 25/50] START learning_rate=1, max_depth=4, num_leaves=47...............\n",
      "[CV 1/3; 25/50] END learning_rate=1, max_depth=4, num_leaves=47;, score=-854.440 total time=   0.3s\n",
      "[CV 2/3; 25/50] START learning_rate=1, max_depth=4, num_leaves=47...............\n",
      "[CV 2/3; 25/50] END learning_rate=1, max_depth=4, num_leaves=47;, score=-968.022 total time=   0.5s\n",
      "[CV 3/3; 25/50] START learning_rate=1, max_depth=4, num_leaves=47...............\n",
      "[CV 3/3; 25/50] END learning_rate=1, max_depth=4, num_leaves=47;, score=-1397.353 total time=   0.4s\n",
      "[CV 1/3; 26/50] START learning_rate=0.5, max_depth=6, num_leaves=40.............\n",
      "[CV 1/3; 26/50] END learning_rate=0.5, max_depth=6, num_leaves=40;, score=-704.656 total time=   0.6s\n",
      "[CV 2/3; 26/50] START learning_rate=0.5, max_depth=6, num_leaves=40.............\n",
      "[CV 2/3; 26/50] END learning_rate=0.5, max_depth=6, num_leaves=40;, score=-720.703 total time=   0.7s\n",
      "[CV 3/3; 26/50] START learning_rate=0.5, max_depth=6, num_leaves=40.............\n",
      "[CV 3/3; 26/50] END learning_rate=0.5, max_depth=6, num_leaves=40;, score=-1197.922 total time=   0.8s\n",
      "[CV 1/3; 27/50] START learning_rate=0.5, max_depth=8, num_leaves=28.............\n",
      "[CV 1/3; 27/50] END learning_rate=0.5, max_depth=8, num_leaves=28;, score=-784.922 total time=   0.6s\n",
      "[CV 2/3; 27/50] START learning_rate=0.5, max_depth=8, num_leaves=28.............\n",
      "[CV 2/3; 27/50] END learning_rate=0.5, max_depth=8, num_leaves=28;, score=-717.202 total time=   1.0s\n",
      "[CV 3/3; 27/50] START learning_rate=0.5, max_depth=8, num_leaves=28.............\n",
      "[CV 3/3; 27/50] END learning_rate=0.5, max_depth=8, num_leaves=28;, score=-1098.785 total time=   1.0s\n",
      "[CV 1/3; 28/50] START learning_rate=1, max_depth=8, num_leaves=43...............\n",
      "[CV 1/3; 28/50] END learning_rate=1, max_depth=8, num_leaves=43;, score=-915.973 total time=   0.8s\n",
      "[CV 2/3; 28/50] START learning_rate=1, max_depth=8, num_leaves=43...............\n",
      "[CV 2/3; 28/50] END learning_rate=1, max_depth=8, num_leaves=43;, score=-1177.454 total time=   1.0s\n",
      "[CV 3/3; 28/50] START learning_rate=1, max_depth=8, num_leaves=43...............\n",
      "[CV 3/3; 28/50] END learning_rate=1, max_depth=8, num_leaves=43;, score=-1441.950 total time=   1.3s\n",
      "[CV 1/3; 29/50] START learning_rate=1, max_depth=9, num_leaves=45...............\n",
      "[CV 1/3; 29/50] END learning_rate=1, max_depth=9, num_leaves=45;, score=-998.009 total time=   0.8s\n",
      "[CV 2/3; 29/50] START learning_rate=1, max_depth=9, num_leaves=45...............\n",
      "[CV 2/3; 29/50] END learning_rate=1, max_depth=9, num_leaves=45;, score=-1052.992 total time=   1.2s\n",
      "[CV 3/3; 29/50] START learning_rate=1, max_depth=9, num_leaves=45...............\n",
      "[CV 3/3; 29/50] END learning_rate=1, max_depth=9, num_leaves=45;, score=-1343.694 total time=   2.4s\n",
      "[CV 1/3; 30/50] START learning_rate=0.1, max_depth=9, num_leaves=33.............\n",
      "[CV 1/3; 30/50] END learning_rate=0.1, max_depth=9, num_leaves=33;, score=-597.518 total time=   1.4s\n",
      "[CV 2/3; 30/50] START learning_rate=0.1, max_depth=9, num_leaves=33.............\n",
      "[CV 2/3; 30/50] END learning_rate=0.1, max_depth=9, num_leaves=33;, score=-588.599 total time=   9.5s\n",
      "[CV 3/3; 30/50] START learning_rate=0.1, max_depth=9, num_leaves=33.............\n",
      "[CV 3/3; 30/50] END learning_rate=0.1, max_depth=9, num_leaves=33;, score=-965.899 total time=   1.4s\n",
      "[CV 1/3; 31/50] START learning_rate=0.5, max_depth=8, num_leaves=33.............\n",
      "[CV 1/3; 31/50] END learning_rate=0.5, max_depth=8, num_leaves=33;, score=-665.707 total time=   1.5s\n",
      "[CV 2/3; 31/50] START learning_rate=0.5, max_depth=8, num_leaves=33.............\n",
      "[CV 2/3; 31/50] END learning_rate=0.5, max_depth=8, num_leaves=33;, score=-742.001 total time=   0.9s\n",
      "[CV 3/3; 31/50] START learning_rate=0.5, max_depth=8, num_leaves=33.............\n",
      "[CV 3/3; 31/50] END learning_rate=0.5, max_depth=8, num_leaves=33;, score=-1254.874 total time=   1.0s\n",
      "[CV 1/3; 32/50] START learning_rate=0.1, max_depth=4, num_leaves=44.............\n",
      "[CV 1/3; 32/50] END learning_rate=0.1, max_depth=4, num_leaves=44;, score=-582.545 total time=   0.4s\n",
      "[CV 2/3; 32/50] START learning_rate=0.1, max_depth=4, num_leaves=44.............\n",
      "[CV 2/3; 32/50] END learning_rate=0.1, max_depth=4, num_leaves=44;, score=-569.434 total time=   0.4s\n",
      "[CV 3/3; 32/50] START learning_rate=0.1, max_depth=4, num_leaves=44.............\n",
      "[CV 3/3; 32/50] END learning_rate=0.1, max_depth=4, num_leaves=44;, score=-983.338 total time=   0.5s\n",
      "[CV 1/3; 33/50] START learning_rate=0.1, max_depth=4, num_leaves=36.............\n",
      "[CV 1/3; 33/50] END learning_rate=0.1, max_depth=4, num_leaves=36;, score=-582.545 total time=   0.3s\n",
      "[CV 2/3; 33/50] START learning_rate=0.1, max_depth=4, num_leaves=36.............\n",
      "[CV 2/3; 33/50] END learning_rate=0.1, max_depth=4, num_leaves=36;, score=-569.434 total time=   0.5s\n",
      "[CV 3/3; 33/50] START learning_rate=0.1, max_depth=4, num_leaves=36.............\n",
      "[CV 3/3; 33/50] END learning_rate=0.1, max_depth=4, num_leaves=36;, score=-983.338 total time=   0.5s\n",
      "[CV 1/3; 34/50] START learning_rate=0.1, max_depth=5, num_leaves=39.............\n",
      "[CV 1/3; 34/50] END learning_rate=0.1, max_depth=5, num_leaves=39;, score=-581.894 total time=   1.0s\n",
      "[CV 2/3; 34/50] START learning_rate=0.1, max_depth=5, num_leaves=39.............\n",
      "[CV 2/3; 34/50] END learning_rate=0.1, max_depth=5, num_leaves=39;, score=-580.354 total time=   4.3s\n",
      "[CV 3/3; 34/50] START learning_rate=0.1, max_depth=5, num_leaves=39.............\n",
      "[CV 3/3; 34/50] END learning_rate=0.1, max_depth=5, num_leaves=39;, score=-977.663 total time=   1.0s\n",
      "[CV 1/3; 35/50] START learning_rate=0.5, max_depth=7, num_leaves=32.............\n",
      "[CV 1/3; 35/50] END learning_rate=0.5, max_depth=7, num_leaves=32;, score=-699.920 total time=   0.6s\n",
      "[CV 2/3; 35/50] START learning_rate=0.5, max_depth=7, num_leaves=32.............\n",
      "[CV 2/3; 35/50] END learning_rate=0.5, max_depth=7, num_leaves=32;, score=-732.806 total time=   0.8s\n",
      "[CV 3/3; 35/50] START learning_rate=0.5, max_depth=7, num_leaves=32.............\n",
      "[CV 3/3; 35/50] END learning_rate=0.5, max_depth=7, num_leaves=32;, score=-1133.312 total time=   0.9s\n",
      "[CV 1/3; 36/50] START learning_rate=0.1, max_depth=7, num_leaves=21.............\n",
      "[CV 1/3; 36/50] END learning_rate=0.1, max_depth=7, num_leaves=21;, score=-593.909 total time=   0.6s\n",
      "[CV 2/3; 36/50] START learning_rate=0.1, max_depth=7, num_leaves=21.............\n",
      "[CV 2/3; 36/50] END learning_rate=0.1, max_depth=7, num_leaves=21;, score=-577.702 total time=   0.8s\n",
      "[CV 3/3; 36/50] START learning_rate=0.1, max_depth=7, num_leaves=21.............\n",
      "[CV 3/3; 36/50] END learning_rate=0.1, max_depth=7, num_leaves=21;, score=-983.215 total time=   0.7s\n",
      "[CV 1/3; 37/50] START learning_rate=1, max_depth=4, num_leaves=23...............\n",
      "[CV 1/3; 37/50] END learning_rate=1, max_depth=4, num_leaves=23;, score=-854.440 total time=   0.4s\n",
      "[CV 2/3; 37/50] START learning_rate=1, max_depth=4, num_leaves=23...............\n",
      "[CV 2/3; 37/50] END learning_rate=1, max_depth=4, num_leaves=23;, score=-968.022 total time=   0.4s\n",
      "[CV 3/3; 37/50] START learning_rate=1, max_depth=4, num_leaves=23...............\n",
      "[CV 3/3; 37/50] END learning_rate=1, max_depth=4, num_leaves=23;, score=-1397.353 total time=   0.5s\n",
      "[CV 1/3; 38/50] START learning_rate=1, max_depth=9, num_leaves=37...............\n",
      "[CV 1/3; 38/50] END learning_rate=1, max_depth=9, num_leaves=37;, score=-985.741 total time=   0.9s\n",
      "[CV 2/3; 38/50] START learning_rate=1, max_depth=9, num_leaves=37...............\n",
      "[CV 2/3; 38/50] END learning_rate=1, max_depth=9, num_leaves=37;, score=-1202.404 total time=   1.1s\n",
      "[CV 3/3; 38/50] START learning_rate=1, max_depth=9, num_leaves=37...............\n",
      "[CV 3/3; 38/50] END learning_rate=1, max_depth=9, num_leaves=37;, score=-1480.122 total time=   1.3s\n",
      "[CV 1/3; 39/50] START learning_rate=0.1, max_depth=6, num_leaves=36.............\n",
      "[CV 1/3; 39/50] END learning_rate=0.1, max_depth=6, num_leaves=36;, score=-577.197 total time=   0.5s\n",
      "[CV 2/3; 39/50] START learning_rate=0.1, max_depth=6, num_leaves=36.............\n",
      "[CV 2/3; 39/50] END learning_rate=0.1, max_depth=6, num_leaves=36;, score=-583.206 total time=   0.8s\n",
      "[CV 3/3; 39/50] START learning_rate=0.1, max_depth=6, num_leaves=36.............\n",
      "[CV 3/3; 39/50] END learning_rate=0.1, max_depth=6, num_leaves=36;, score=-986.135 total time=   0.8s\n",
      "[CV 1/3; 40/50] START learning_rate=0.1, max_depth=6, num_leaves=38.............\n",
      "[CV 1/3; 40/50] END learning_rate=0.1, max_depth=6, num_leaves=38;, score=-577.197 total time=   0.6s\n",
      "[CV 2/3; 40/50] START learning_rate=0.1, max_depth=6, num_leaves=38.............\n",
      "[CV 2/3; 40/50] END learning_rate=0.1, max_depth=6, num_leaves=38;, score=-586.475 total time=   0.7s\n",
      "[CV 3/3; 40/50] START learning_rate=0.1, max_depth=6, num_leaves=38.............\n",
      "[CV 3/3; 40/50] END learning_rate=0.1, max_depth=6, num_leaves=38;, score=-932.673 total time=   0.9s\n",
      "[CV 1/3; 41/50] START learning_rate=0.1, max_depth=7, num_leaves=47.............\n",
      "[CV 1/3; 41/50] END learning_rate=0.1, max_depth=7, num_leaves=47;, score=-590.158 total time=   0.6s\n",
      "[CV 2/3; 41/50] START learning_rate=0.1, max_depth=7, num_leaves=47.............\n",
      "[CV 2/3; 41/50] END learning_rate=0.1, max_depth=7, num_leaves=47;, score=-581.504 total time=   0.9s\n",
      "[CV 3/3; 41/50] START learning_rate=0.1, max_depth=7, num_leaves=47.............\n",
      "[CV 3/3; 41/50] END learning_rate=0.1, max_depth=7, num_leaves=47;, score=-973.570 total time=   1.1s\n",
      "[CV 1/3; 42/50] START learning_rate=0.5, max_depth=4, num_leaves=29.............\n",
      "[CV 1/3; 42/50] END learning_rate=0.5, max_depth=4, num_leaves=29;, score=-709.431 total time=   0.3s\n",
      "[CV 2/3; 42/50] START learning_rate=0.5, max_depth=4, num_leaves=29.............\n",
      "[CV 2/3; 42/50] END learning_rate=0.5, max_depth=4, num_leaves=29;, score=-679.689 total time=   0.4s\n",
      "[CV 3/3; 42/50] START learning_rate=0.5, max_depth=4, num_leaves=29.............\n",
      "[CV 3/3; 42/50] END learning_rate=0.5, max_depth=4, num_leaves=29;, score=-1116.750 total time=   0.6s\n",
      "[CV 1/3; 43/50] START learning_rate=0.5, max_depth=5, num_leaves=46.............\n",
      "[CV 1/3; 43/50] END learning_rate=0.5, max_depth=5, num_leaves=46;, score=-728.337 total time=   0.5s\n",
      "[CV 2/3; 43/50] START learning_rate=0.5, max_depth=5, num_leaves=46.............\n",
      "[CV 2/3; 43/50] END learning_rate=0.5, max_depth=5, num_leaves=46;, score=-693.419 total time=   0.6s\n",
      "[CV 3/3; 43/50] START learning_rate=0.5, max_depth=5, num_leaves=46.............\n",
      "[CV 3/3; 43/50] END learning_rate=0.5, max_depth=5, num_leaves=46;, score=-1166.832 total time=   0.6s\n",
      "[CV 1/3; 44/50] START learning_rate=0.1, max_depth=7, num_leaves=28.............\n",
      "[CV 1/3; 44/50] END learning_rate=0.1, max_depth=7, num_leaves=28;, score=-597.296 total time=   0.7s\n",
      "[CV 2/3; 44/50] START learning_rate=0.1, max_depth=7, num_leaves=28.............\n",
      "[CV 2/3; 44/50] END learning_rate=0.1, max_depth=7, num_leaves=28;, score=-591.858 total time=   0.7s\n",
      "[CV 3/3; 44/50] START learning_rate=0.1, max_depth=7, num_leaves=28.............\n",
      "[CV 3/3; 44/50] END learning_rate=0.1, max_depth=7, num_leaves=28;, score=-953.918 total time=   0.9s\n",
      "[CV 1/3; 45/50] START learning_rate=0.1, max_depth=9, num_leaves=47.............\n",
      "[CV 1/3; 45/50] END learning_rate=0.1, max_depth=9, num_leaves=47;, score=-619.358 total time=   0.8s\n",
      "[CV 2/3; 45/50] START learning_rate=0.1, max_depth=9, num_leaves=47.............\n",
      "[CV 2/3; 45/50] END learning_rate=0.1, max_depth=9, num_leaves=47;, score=-591.496 total time=   1.1s\n",
      "[CV 3/3; 45/50] START learning_rate=0.1, max_depth=9, num_leaves=47.............\n",
      "[CV 3/3; 45/50] END learning_rate=0.1, max_depth=9, num_leaves=47;, score=-988.744 total time=   1.3s\n",
      "[CV 1/3; 46/50] START learning_rate=0.5, max_depth=9, num_leaves=49.............\n",
      "[CV 1/3; 46/50] END learning_rate=0.5, max_depth=9, num_leaves=49;, score=-714.658 total time=   0.8s\n",
      "[CV 2/3; 46/50] START learning_rate=0.5, max_depth=9, num_leaves=49.............\n",
      "[CV 2/3; 46/50] END learning_rate=0.5, max_depth=9, num_leaves=49;, score=-785.120 total time=   1.1s\n",
      "[CV 3/3; 46/50] START learning_rate=0.5, max_depth=9, num_leaves=49.............\n",
      "[CV 3/3; 46/50] END learning_rate=0.5, max_depth=9, num_leaves=49;, score=-1167.701 total time=   1.4s\n",
      "[CV 1/3; 47/50] START learning_rate=1, max_depth=4, num_leaves=43...............\n",
      "[CV 1/3; 47/50] END learning_rate=1, max_depth=4, num_leaves=43;, score=-854.440 total time=   0.4s\n",
      "[CV 2/3; 47/50] START learning_rate=1, max_depth=4, num_leaves=43...............\n",
      "[CV 2/3; 47/50] END learning_rate=1, max_depth=4, num_leaves=43;, score=-968.022 total time=   0.4s\n",
      "[CV 3/3; 47/50] START learning_rate=1, max_depth=4, num_leaves=43...............\n",
      "[CV 3/3; 47/50] END learning_rate=1, max_depth=4, num_leaves=43;, score=-1397.353 total time=   0.5s\n",
      "[CV 1/3; 48/50] START learning_rate=1, max_depth=8, num_leaves=21...............\n",
      "[CV 1/3; 48/50] END learning_rate=1, max_depth=8, num_leaves=21;, score=-1019.389 total time=   0.6s\n",
      "[CV 2/3; 48/50] START learning_rate=1, max_depth=8, num_leaves=21...............\n",
      "[CV 2/3; 48/50] END learning_rate=1, max_depth=8, num_leaves=21;, score=-1115.216 total time=   0.8s\n",
      "[CV 3/3; 48/50] START learning_rate=1, max_depth=8, num_leaves=21...............\n",
      "[CV 3/3; 48/50] END learning_rate=1, max_depth=8, num_leaves=21;, score=-1495.898 total time=   0.8s\n",
      "[CV 1/3; 49/50] START learning_rate=0.5, max_depth=5, num_leaves=38.............\n",
      "[CV 1/3; 49/50] END learning_rate=0.5, max_depth=5, num_leaves=38;, score=-728.337 total time=   0.4s\n",
      "[CV 2/3; 49/50] START learning_rate=0.5, max_depth=5, num_leaves=38.............\n",
      "[CV 2/3; 49/50] END learning_rate=0.5, max_depth=5, num_leaves=38;, score=-693.419 total time=   0.6s\n",
      "[CV 3/3; 49/50] START learning_rate=0.5, max_depth=5, num_leaves=38.............\n",
      "[CV 3/3; 49/50] END learning_rate=0.5, max_depth=5, num_leaves=38;, score=-1166.832 total time=   0.5s\n",
      "[CV 1/3; 50/50] START learning_rate=0.1, max_depth=7, num_leaves=40.............\n",
      "[CV 1/3; 50/50] END learning_rate=0.1, max_depth=7, num_leaves=40;, score=-590.158 total time=   0.6s\n",
      "[CV 2/3; 50/50] START learning_rate=0.1, max_depth=7, num_leaves=40.............\n",
      "[CV 2/3; 50/50] END learning_rate=0.1, max_depth=7, num_leaves=40;, score=-579.470 total time=   0.9s\n",
      "[CV 3/3; 50/50] START learning_rate=0.1, max_depth=7, num_leaves=40.............\n",
      "[CV 3/3; 50/50] END learning_rate=0.1, max_depth=7, num_leaves=40;, score=-946.652 total time=   1.1s\n",
      "CPU times: user 1min 58s, sys: 1.15 s, total: 2min\n",
      "Wall time: 2min 4s\n"
     ]
    },
    {
     "data": {
      "text/html": [
       "<style>#sk-container-id-2 {\n",
       "  /* Definition of color scheme common for light and dark mode */\n",
       "  --sklearn-color-text: #000;\n",
       "  --sklearn-color-text-muted: #666;\n",
       "  --sklearn-color-line: gray;\n",
       "  /* Definition of color scheme for unfitted estimators */\n",
       "  --sklearn-color-unfitted-level-0: #fff5e6;\n",
       "  --sklearn-color-unfitted-level-1: #f6e4d2;\n",
       "  --sklearn-color-unfitted-level-2: #ffe0b3;\n",
       "  --sklearn-color-unfitted-level-3: chocolate;\n",
       "  /* Definition of color scheme for fitted estimators */\n",
       "  --sklearn-color-fitted-level-0: #f0f8ff;\n",
       "  --sklearn-color-fitted-level-1: #d4ebff;\n",
       "  --sklearn-color-fitted-level-2: #b3dbfd;\n",
       "  --sklearn-color-fitted-level-3: cornflowerblue;\n",
       "\n",
       "  /* Specific color for light theme */\n",
       "  --sklearn-color-text-on-default-background: var(--sg-text-color, var(--theme-code-foreground, var(--jp-content-font-color1, black)));\n",
       "  --sklearn-color-background: var(--sg-background-color, var(--theme-background, var(--jp-layout-color0, white)));\n",
       "  --sklearn-color-border-box: var(--sg-text-color, var(--theme-code-foreground, var(--jp-content-font-color1, black)));\n",
       "  --sklearn-color-icon: #696969;\n",
       "\n",
       "  @media (prefers-color-scheme: dark) {\n",
       "    /* Redefinition of color scheme for dark theme */\n",
       "    --sklearn-color-text-on-default-background: var(--sg-text-color, var(--theme-code-foreground, var(--jp-content-font-color1, white)));\n",
       "    --sklearn-color-background: var(--sg-background-color, var(--theme-background, var(--jp-layout-color0, #111)));\n",
       "    --sklearn-color-border-box: var(--sg-text-color, var(--theme-code-foreground, var(--jp-content-font-color1, white)));\n",
       "    --sklearn-color-icon: #878787;\n",
       "  }\n",
       "}\n",
       "\n",
       "#sk-container-id-2 {\n",
       "  color: var(--sklearn-color-text);\n",
       "}\n",
       "\n",
       "#sk-container-id-2 pre {\n",
       "  padding: 0;\n",
       "}\n",
       "\n",
       "#sk-container-id-2 input.sk-hidden--visually {\n",
       "  border: 0;\n",
       "  clip: rect(1px 1px 1px 1px);\n",
       "  clip: rect(1px, 1px, 1px, 1px);\n",
       "  height: 1px;\n",
       "  margin: -1px;\n",
       "  overflow: hidden;\n",
       "  padding: 0;\n",
       "  position: absolute;\n",
       "  width: 1px;\n",
       "}\n",
       "\n",
       "#sk-container-id-2 div.sk-dashed-wrapped {\n",
       "  border: 1px dashed var(--sklearn-color-line);\n",
       "  margin: 0 0.4em 0.5em 0.4em;\n",
       "  box-sizing: border-box;\n",
       "  padding-bottom: 0.4em;\n",
       "  background-color: var(--sklearn-color-background);\n",
       "}\n",
       "\n",
       "#sk-container-id-2 div.sk-container {\n",
       "  /* jupyter's `normalize.less` sets `[hidden] { display: none; }`\n",
       "     but bootstrap.min.css set `[hidden] { display: none !important; }`\n",
       "     so we also need the `!important` here to be able to override the\n",
       "     default hidden behavior on the sphinx rendered scikit-learn.org.\n",
       "     See: https://github.com/scikit-learn/scikit-learn/issues/21755 */\n",
       "  display: inline-block !important;\n",
       "  position: relative;\n",
       "}\n",
       "\n",
       "#sk-container-id-2 div.sk-text-repr-fallback {\n",
       "  display: none;\n",
       "}\n",
       "\n",
       "div.sk-parallel-item,\n",
       "div.sk-serial,\n",
       "div.sk-item {\n",
       "  /* draw centered vertical line to link estimators */\n",
       "  background-image: linear-gradient(var(--sklearn-color-text-on-default-background), var(--sklearn-color-text-on-default-background));\n",
       "  background-size: 2px 100%;\n",
       "  background-repeat: no-repeat;\n",
       "  background-position: center center;\n",
       "}\n",
       "\n",
       "/* Parallel-specific style estimator block */\n",
       "\n",
       "#sk-container-id-2 div.sk-parallel-item::after {\n",
       "  content: \"\";\n",
       "  width: 100%;\n",
       "  border-bottom: 2px solid var(--sklearn-color-text-on-default-background);\n",
       "  flex-grow: 1;\n",
       "}\n",
       "\n",
       "#sk-container-id-2 div.sk-parallel {\n",
       "  display: flex;\n",
       "  align-items: stretch;\n",
       "  justify-content: center;\n",
       "  background-color: var(--sklearn-color-background);\n",
       "  position: relative;\n",
       "}\n",
       "\n",
       "#sk-container-id-2 div.sk-parallel-item {\n",
       "  display: flex;\n",
       "  flex-direction: column;\n",
       "}\n",
       "\n",
       "#sk-container-id-2 div.sk-parallel-item:first-child::after {\n",
       "  align-self: flex-end;\n",
       "  width: 50%;\n",
       "}\n",
       "\n",
       "#sk-container-id-2 div.sk-parallel-item:last-child::after {\n",
       "  align-self: flex-start;\n",
       "  width: 50%;\n",
       "}\n",
       "\n",
       "#sk-container-id-2 div.sk-parallel-item:only-child::after {\n",
       "  width: 0;\n",
       "}\n",
       "\n",
       "/* Serial-specific style estimator block */\n",
       "\n",
       "#sk-container-id-2 div.sk-serial {\n",
       "  display: flex;\n",
       "  flex-direction: column;\n",
       "  align-items: center;\n",
       "  background-color: var(--sklearn-color-background);\n",
       "  padding-right: 1em;\n",
       "  padding-left: 1em;\n",
       "}\n",
       "\n",
       "\n",
       "/* Toggleable style: style used for estimator/Pipeline/ColumnTransformer box that is\n",
       "clickable and can be expanded/collapsed.\n",
       "- Pipeline and ColumnTransformer use this feature and define the default style\n",
       "- Estimators will overwrite some part of the style using the `sk-estimator` class\n",
       "*/\n",
       "\n",
       "/* Pipeline and ColumnTransformer style (default) */\n",
       "\n",
       "#sk-container-id-2 div.sk-toggleable {\n",
       "  /* Default theme specific background. It is overwritten whether we have a\n",
       "  specific estimator or a Pipeline/ColumnTransformer */\n",
       "  background-color: var(--sklearn-color-background);\n",
       "}\n",
       "\n",
       "/* Toggleable label */\n",
       "#sk-container-id-2 label.sk-toggleable__label {\n",
       "  cursor: pointer;\n",
       "  display: flex;\n",
       "  width: 100%;\n",
       "  margin-bottom: 0;\n",
       "  padding: 0.5em;\n",
       "  box-sizing: border-box;\n",
       "  text-align: center;\n",
       "  align-items: start;\n",
       "  justify-content: space-between;\n",
       "  gap: 0.5em;\n",
       "}\n",
       "\n",
       "#sk-container-id-2 label.sk-toggleable__label .caption {\n",
       "  font-size: 0.6rem;\n",
       "  font-weight: lighter;\n",
       "  color: var(--sklearn-color-text-muted);\n",
       "}\n",
       "\n",
       "#sk-container-id-2 label.sk-toggleable__label-arrow:before {\n",
       "  /* Arrow on the left of the label */\n",
       "  content: \"▸\";\n",
       "  float: left;\n",
       "  margin-right: 0.25em;\n",
       "  color: var(--sklearn-color-icon);\n",
       "}\n",
       "\n",
       "#sk-container-id-2 label.sk-toggleable__label-arrow:hover:before {\n",
       "  color: var(--sklearn-color-text);\n",
       "}\n",
       "\n",
       "/* Toggleable content - dropdown */\n",
       "\n",
       "#sk-container-id-2 div.sk-toggleable__content {\n",
       "  max-height: 0;\n",
       "  max-width: 0;\n",
       "  overflow: hidden;\n",
       "  text-align: left;\n",
       "  /* unfitted */\n",
       "  background-color: var(--sklearn-color-unfitted-level-0);\n",
       "}\n",
       "\n",
       "#sk-container-id-2 div.sk-toggleable__content.fitted {\n",
       "  /* fitted */\n",
       "  background-color: var(--sklearn-color-fitted-level-0);\n",
       "}\n",
       "\n",
       "#sk-container-id-2 div.sk-toggleable__content pre {\n",
       "  margin: 0.2em;\n",
       "  border-radius: 0.25em;\n",
       "  color: var(--sklearn-color-text);\n",
       "  /* unfitted */\n",
       "  background-color: var(--sklearn-color-unfitted-level-0);\n",
       "}\n",
       "\n",
       "#sk-container-id-2 div.sk-toggleable__content.fitted pre {\n",
       "  /* unfitted */\n",
       "  background-color: var(--sklearn-color-fitted-level-0);\n",
       "}\n",
       "\n",
       "#sk-container-id-2 input.sk-toggleable__control:checked~div.sk-toggleable__content {\n",
       "  /* Expand drop-down */\n",
       "  max-height: 200px;\n",
       "  max-width: 100%;\n",
       "  overflow: auto;\n",
       "}\n",
       "\n",
       "#sk-container-id-2 input.sk-toggleable__control:checked~label.sk-toggleable__label-arrow:before {\n",
       "  content: \"▾\";\n",
       "}\n",
       "\n",
       "/* Pipeline/ColumnTransformer-specific style */\n",
       "\n",
       "#sk-container-id-2 div.sk-label input.sk-toggleable__control:checked~label.sk-toggleable__label {\n",
       "  color: var(--sklearn-color-text);\n",
       "  background-color: var(--sklearn-color-unfitted-level-2);\n",
       "}\n",
       "\n",
       "#sk-container-id-2 div.sk-label.fitted input.sk-toggleable__control:checked~label.sk-toggleable__label {\n",
       "  background-color: var(--sklearn-color-fitted-level-2);\n",
       "}\n",
       "\n",
       "/* Estimator-specific style */\n",
       "\n",
       "/* Colorize estimator box */\n",
       "#sk-container-id-2 div.sk-estimator input.sk-toggleable__control:checked~label.sk-toggleable__label {\n",
       "  /* unfitted */\n",
       "  background-color: var(--sklearn-color-unfitted-level-2);\n",
       "}\n",
       "\n",
       "#sk-container-id-2 div.sk-estimator.fitted input.sk-toggleable__control:checked~label.sk-toggleable__label {\n",
       "  /* fitted */\n",
       "  background-color: var(--sklearn-color-fitted-level-2);\n",
       "}\n",
       "\n",
       "#sk-container-id-2 div.sk-label label.sk-toggleable__label,\n",
       "#sk-container-id-2 div.sk-label label {\n",
       "  /* The background is the default theme color */\n",
       "  color: var(--sklearn-color-text-on-default-background);\n",
       "}\n",
       "\n",
       "/* On hover, darken the color of the background */\n",
       "#sk-container-id-2 div.sk-label:hover label.sk-toggleable__label {\n",
       "  color: var(--sklearn-color-text);\n",
       "  background-color: var(--sklearn-color-unfitted-level-2);\n",
       "}\n",
       "\n",
       "/* Label box, darken color on hover, fitted */\n",
       "#sk-container-id-2 div.sk-label.fitted:hover label.sk-toggleable__label.fitted {\n",
       "  color: var(--sklearn-color-text);\n",
       "  background-color: var(--sklearn-color-fitted-level-2);\n",
       "}\n",
       "\n",
       "/* Estimator label */\n",
       "\n",
       "#sk-container-id-2 div.sk-label label {\n",
       "  font-family: monospace;\n",
       "  font-weight: bold;\n",
       "  display: inline-block;\n",
       "  line-height: 1.2em;\n",
       "}\n",
       "\n",
       "#sk-container-id-2 div.sk-label-container {\n",
       "  text-align: center;\n",
       "}\n",
       "\n",
       "/* Estimator-specific */\n",
       "#sk-container-id-2 div.sk-estimator {\n",
       "  font-family: monospace;\n",
       "  border: 1px dotted var(--sklearn-color-border-box);\n",
       "  border-radius: 0.25em;\n",
       "  box-sizing: border-box;\n",
       "  margin-bottom: 0.5em;\n",
       "  /* unfitted */\n",
       "  background-color: var(--sklearn-color-unfitted-level-0);\n",
       "}\n",
       "\n",
       "#sk-container-id-2 div.sk-estimator.fitted {\n",
       "  /* fitted */\n",
       "  background-color: var(--sklearn-color-fitted-level-0);\n",
       "}\n",
       "\n",
       "/* on hover */\n",
       "#sk-container-id-2 div.sk-estimator:hover {\n",
       "  /* unfitted */\n",
       "  background-color: var(--sklearn-color-unfitted-level-2);\n",
       "}\n",
       "\n",
       "#sk-container-id-2 div.sk-estimator.fitted:hover {\n",
       "  /* fitted */\n",
       "  background-color: var(--sklearn-color-fitted-level-2);\n",
       "}\n",
       "\n",
       "/* Specification for estimator info (e.g. \"i\" and \"?\") */\n",
       "\n",
       "/* Common style for \"i\" and \"?\" */\n",
       "\n",
       ".sk-estimator-doc-link,\n",
       "a:link.sk-estimator-doc-link,\n",
       "a:visited.sk-estimator-doc-link {\n",
       "  float: right;\n",
       "  font-size: smaller;\n",
       "  line-height: 1em;\n",
       "  font-family: monospace;\n",
       "  background-color: var(--sklearn-color-background);\n",
       "  border-radius: 1em;\n",
       "  height: 1em;\n",
       "  width: 1em;\n",
       "  text-decoration: none !important;\n",
       "  margin-left: 0.5em;\n",
       "  text-align: center;\n",
       "  /* unfitted */\n",
       "  border: var(--sklearn-color-unfitted-level-1) 1pt solid;\n",
       "  color: var(--sklearn-color-unfitted-level-1);\n",
       "}\n",
       "\n",
       ".sk-estimator-doc-link.fitted,\n",
       "a:link.sk-estimator-doc-link.fitted,\n",
       "a:visited.sk-estimator-doc-link.fitted {\n",
       "  /* fitted */\n",
       "  border: var(--sklearn-color-fitted-level-1) 1pt solid;\n",
       "  color: var(--sklearn-color-fitted-level-1);\n",
       "}\n",
       "\n",
       "/* On hover */\n",
       "div.sk-estimator:hover .sk-estimator-doc-link:hover,\n",
       ".sk-estimator-doc-link:hover,\n",
       "div.sk-label-container:hover .sk-estimator-doc-link:hover,\n",
       ".sk-estimator-doc-link:hover {\n",
       "  /* unfitted */\n",
       "  background-color: var(--sklearn-color-unfitted-level-3);\n",
       "  color: var(--sklearn-color-background);\n",
       "  text-decoration: none;\n",
       "}\n",
       "\n",
       "div.sk-estimator.fitted:hover .sk-estimator-doc-link.fitted:hover,\n",
       ".sk-estimator-doc-link.fitted:hover,\n",
       "div.sk-label-container:hover .sk-estimator-doc-link.fitted:hover,\n",
       ".sk-estimator-doc-link.fitted:hover {\n",
       "  /* fitted */\n",
       "  background-color: var(--sklearn-color-fitted-level-3);\n",
       "  color: var(--sklearn-color-background);\n",
       "  text-decoration: none;\n",
       "}\n",
       "\n",
       "/* Span, style for the box shown on hovering the info icon */\n",
       ".sk-estimator-doc-link span {\n",
       "  display: none;\n",
       "  z-index: 9999;\n",
       "  position: relative;\n",
       "  font-weight: normal;\n",
       "  right: .2ex;\n",
       "  padding: .5ex;\n",
       "  margin: .5ex;\n",
       "  width: min-content;\n",
       "  min-width: 20ex;\n",
       "  max-width: 50ex;\n",
       "  color: var(--sklearn-color-text);\n",
       "  box-shadow: 2pt 2pt 4pt #999;\n",
       "  /* unfitted */\n",
       "  background: var(--sklearn-color-unfitted-level-0);\n",
       "  border: .5pt solid var(--sklearn-color-unfitted-level-3);\n",
       "}\n",
       "\n",
       ".sk-estimator-doc-link.fitted span {\n",
       "  /* fitted */\n",
       "  background: var(--sklearn-color-fitted-level-0);\n",
       "  border: var(--sklearn-color-fitted-level-3);\n",
       "}\n",
       "\n",
       ".sk-estimator-doc-link:hover span {\n",
       "  display: block;\n",
       "}\n",
       "\n",
       "/* \"?\"-specific style due to the `<a>` HTML tag */\n",
       "\n",
       "#sk-container-id-2 a.estimator_doc_link {\n",
       "  float: right;\n",
       "  font-size: 1rem;\n",
       "  line-height: 1em;\n",
       "  font-family: monospace;\n",
       "  background-color: var(--sklearn-color-background);\n",
       "  border-radius: 1rem;\n",
       "  height: 1rem;\n",
       "  width: 1rem;\n",
       "  text-decoration: none;\n",
       "  /* unfitted */\n",
       "  color: var(--sklearn-color-unfitted-level-1);\n",
       "  border: var(--sklearn-color-unfitted-level-1) 1pt solid;\n",
       "}\n",
       "\n",
       "#sk-container-id-2 a.estimator_doc_link.fitted {\n",
       "  /* fitted */\n",
       "  border: var(--sklearn-color-fitted-level-1) 1pt solid;\n",
       "  color: var(--sklearn-color-fitted-level-1);\n",
       "}\n",
       "\n",
       "/* On hover */\n",
       "#sk-container-id-2 a.estimator_doc_link:hover {\n",
       "  /* unfitted */\n",
       "  background-color: var(--sklearn-color-unfitted-level-3);\n",
       "  color: var(--sklearn-color-background);\n",
       "  text-decoration: none;\n",
       "}\n",
       "\n",
       "#sk-container-id-2 a.estimator_doc_link.fitted:hover {\n",
       "  /* fitted */\n",
       "  background-color: var(--sklearn-color-fitted-level-3);\n",
       "}\n",
       "</style><div id=\"sk-container-id-2\" class=\"sk-top-container\"><div class=\"sk-text-repr-fallback\"><pre>RandomizedSearchCV(cv=TimeSeriesSplit(gap=0, max_train_size=None, n_splits=3, test_size=None),\n",
       "                   estimator=LGBMRegressor(random_state=42), n_iter=50,\n",
       "                   n_jobs=-1,\n",
       "                   param_distributions={&#x27;learning_rate&#x27;: [0.5, 0.1, 1],\n",
       "                                        &#x27;max_depth&#x27;: range(3, 10),\n",
       "                                        &#x27;num_leaves&#x27;: range(20, 50)},\n",
       "                   random_state=42, scoring=&#x27;neg_mean_squared_error&#x27;,\n",
       "                   verbose=10)</pre><b>In a Jupyter environment, please rerun this cell to show the HTML representation or trust the notebook. <br />On GitHub, the HTML representation is unable to render, please try loading this page with nbviewer.org.</b></div><div class=\"sk-container\" hidden><div class=\"sk-item sk-dashed-wrapped\"><div class=\"sk-label-container\"><div class=\"sk-label fitted sk-toggleable\"><input class=\"sk-toggleable__control sk-hidden--visually\" id=\"sk-estimator-id-4\" type=\"checkbox\" ><label for=\"sk-estimator-id-4\" class=\"sk-toggleable__label fitted sk-toggleable__label-arrow\"><div><div>RandomizedSearchCV</div></div><div><a class=\"sk-estimator-doc-link fitted\" rel=\"noreferrer\" target=\"_blank\" href=\"https://scikit-learn.org/1.6/modules/generated/sklearn.model_selection.RandomizedSearchCV.html\">?<span>Documentation for RandomizedSearchCV</span></a><span class=\"sk-estimator-doc-link fitted\">i<span>Fitted</span></span></div></label><div class=\"sk-toggleable__content fitted\"><pre>RandomizedSearchCV(cv=TimeSeriesSplit(gap=0, max_train_size=None, n_splits=3, test_size=None),\n",
       "                   estimator=LGBMRegressor(random_state=42), n_iter=50,\n",
       "                   n_jobs=-1,\n",
       "                   param_distributions={&#x27;learning_rate&#x27;: [0.5, 0.1, 1],\n",
       "                                        &#x27;max_depth&#x27;: range(3, 10),\n",
       "                                        &#x27;num_leaves&#x27;: range(20, 50)},\n",
       "                   random_state=42, scoring=&#x27;neg_mean_squared_error&#x27;,\n",
       "                   verbose=10)</pre></div> </div></div><div class=\"sk-parallel\"><div class=\"sk-parallel-item\"><div class=\"sk-item\"><div class=\"sk-label-container\"><div class=\"sk-label fitted sk-toggleable\"><input class=\"sk-toggleable__control sk-hidden--visually\" id=\"sk-estimator-id-5\" type=\"checkbox\" ><label for=\"sk-estimator-id-5\" class=\"sk-toggleable__label fitted sk-toggleable__label-arrow\"><div><div>best_estimator_: LGBMRegressor</div></div></label><div class=\"sk-toggleable__content fitted\"><pre>LGBMRegressor(max_depth=6, num_leaves=38, random_state=42)</pre></div> </div></div><div class=\"sk-serial\"><div class=\"sk-item\"><div class=\"sk-estimator fitted sk-toggleable\"><input class=\"sk-toggleable__control sk-hidden--visually\" id=\"sk-estimator-id-6\" type=\"checkbox\" ><label for=\"sk-estimator-id-6\" class=\"sk-toggleable__label fitted sk-toggleable__label-arrow\"><div><div>LGBMRegressor</div></div></label><div class=\"sk-toggleable__content fitted\"><pre>LGBMRegressor(max_depth=6, num_leaves=38, random_state=42)</pre></div> </div></div></div></div></div></div></div></div></div>"
      ],
      "text/plain": [
       "RandomizedSearchCV(cv=TimeSeriesSplit(gap=0, max_train_size=None, n_splits=3, test_size=None),\n",
       "                   estimator=LGBMRegressor(random_state=42), n_iter=50,\n",
       "                   n_jobs=-1,\n",
       "                   param_distributions={'learning_rate': [0.5, 0.1, 1],\n",
       "                                        'max_depth': range(3, 10),\n",
       "                                        'num_leaves': range(20, 50)},\n",
       "                   random_state=42, scoring='neg_mean_squared_error',\n",
       "                   verbose=10)"
      ]
     },
     "execution_count": 23,
     "metadata": {},
     "output_type": "execute_result"
    }
   ],
   "source": [
    "%%time\n",
    "random_search_lgb.fit(X_train, y_train)"
   ]
  },
  {
   "cell_type": "code",
   "execution_count": 24,
   "metadata": {},
   "outputs": [
    {
     "name": "stdout",
     "output_type": "stream",
     "text": [
      "RMSE для LGBMRegressor = 26.434478111079557\n"
     ]
    }
   ],
   "source": [
    "mse = -(random_search_lgb.best_score_)\n",
    "print('RMSE для LGBMRegressor =', mse**0.5)"
   ]
  },
  {
   "cell_type": "markdown",
   "metadata": {},
   "source": [
    "### RandomForestRegressor"
   ]
  },
  {
   "cell_type": "code",
   "execution_count": 25,
   "metadata": {},
   "outputs": [],
   "source": [
    "rf_model = RandomForestRegressor(random_state=42, n_estimators = 50)"
   ]
  },
  {
   "cell_type": "code",
   "execution_count": 26,
   "metadata": {},
   "outputs": [],
   "source": [
    "param_dist_rf = {\n",
    "    'max_depth': range(3, 20),\n",
    "    'min_samples_split': range(2, 20),\n",
    "    'min_samples_leaf': range(1, 20),\n",
    "\n",
    "}"
   ]
  },
  {
   "cell_type": "code",
   "execution_count": 27,
   "metadata": {},
   "outputs": [],
   "source": [
    "random_search_rf = RandomizedSearchCV(\n",
    "    rf_model,\n",
    "    param_dist_rf,\n",
    "    n_iter=25,\n",
    "    scoring='neg_mean_squared_error',\n",
    "    cv=tscv,\n",
    "    random_state=42,\n",
    "    n_jobs=-1,\n",
    "    verbose=10\n",
    ")"
   ]
  },
  {
   "cell_type": "code",
   "execution_count": 28,
   "metadata": {
    "scrolled": true
   },
   "outputs": [
    {
     "name": "stdout",
     "output_type": "stream",
     "text": [
      "Fitting 3 folds for each of 25 candidates, totalling 75 fits\n",
      "[CV 1/3; 1/25] START max_depth=5, min_samples_leaf=10, min_samples_split=16.....\n",
      "[CV 1/3; 1/25] END max_depth=5, min_samples_leaf=10, min_samples_split=16;, score=-686.447 total time=   0.4s\n",
      "[CV 2/3; 1/25] START max_depth=5, min_samples_leaf=10, min_samples_split=16.....\n",
      "[CV 2/3; 1/25] END max_depth=5, min_samples_leaf=10, min_samples_split=16;, score=-664.350 total time=   0.6s\n",
      "[CV 3/3; 1/25] START max_depth=5, min_samples_leaf=10, min_samples_split=16.....\n",
      "[CV 3/3; 1/25] END max_depth=5, min_samples_leaf=10, min_samples_split=16;, score=-1222.114 total time=   0.9s\n",
      "[CV 1/3; 2/25] START max_depth=18, min_samples_leaf=15, min_samples_split=10....\n",
      "[CV 1/3; 2/25] END max_depth=18, min_samples_leaf=15, min_samples_split=10;, score=-664.905 total time=   0.4s\n",
      "[CV 2/3; 2/25] START max_depth=18, min_samples_leaf=15, min_samples_split=10....\n",
      "[CV 2/3; 2/25] END max_depth=18, min_samples_leaf=15, min_samples_split=10;, score=-628.520 total time=   0.9s\n",
      "[CV 3/3; 2/25] START max_depth=18, min_samples_leaf=15, min_samples_split=10....\n",
      "[CV 3/3; 2/25] END max_depth=18, min_samples_leaf=15, min_samples_split=10;, score=-1103.242 total time=   1.3s\n",
      "[CV 1/3; 3/25] START max_depth=18, min_samples_leaf=6, min_samples_split=8......\n",
      "[CV 1/3; 3/25] END max_depth=18, min_samples_leaf=6, min_samples_split=8;, score=-654.385 total time=   0.6s\n",
      "[CV 2/3; 3/25] START max_depth=18, min_samples_leaf=6, min_samples_split=8......\n",
      "[CV 2/3; 3/25] END max_depth=18, min_samples_leaf=6, min_samples_split=8;, score=-606.699 total time=   1.1s\n",
      "[CV 3/3; 3/25] START max_depth=18, min_samples_leaf=6, min_samples_split=8......\n",
      "[CV 3/3; 3/25] END max_depth=18, min_samples_leaf=6, min_samples_split=8;, score=-1057.058 total time=   1.7s\n",
      "[CV 1/3; 4/25] START max_depth=18, min_samples_leaf=4, min_samples_split=9......\n",
      "[CV 1/3; 4/25] END max_depth=18, min_samples_leaf=4, min_samples_split=9;, score=-655.749 total time=   0.6s\n",
      "[CV 2/3; 4/25] START max_depth=18, min_samples_leaf=4, min_samples_split=9......\n",
      "[CV 2/3; 4/25] END max_depth=18, min_samples_leaf=4, min_samples_split=9;, score=-596.587 total time=   1.2s\n",
      "[CV 3/3; 4/25] START max_depth=18, min_samples_leaf=4, min_samples_split=9......\n",
      "[CV 3/3; 4/25] END max_depth=18, min_samples_leaf=4, min_samples_split=9;, score=-1037.502 total time=   2.0s\n",
      "[CV 1/3; 5/25] START max_depth=14, min_samples_leaf=1, min_samples_split=12.....\n",
      "[CV 1/3; 5/25] END max_depth=14, min_samples_leaf=1, min_samples_split=12;, score=-653.063 total time=   0.6s\n",
      "[CV 2/3; 5/25] START max_depth=14, min_samples_leaf=1, min_samples_split=12.....\n",
      "[CV 2/3; 5/25] END max_depth=14, min_samples_leaf=1, min_samples_split=12;, score=-610.359 total time=   1.3s\n",
      "[CV 3/3; 5/25] START max_depth=14, min_samples_leaf=1, min_samples_split=12.....\n",
      "[CV 3/3; 5/25] END max_depth=14, min_samples_leaf=1, min_samples_split=12;, score=-1005.959 total time=   2.0s\n",
      "[CV 1/3; 6/25] START max_depth=12, min_samples_leaf=1, min_samples_split=16.....\n",
      "[CV 1/3; 6/25] END max_depth=12, min_samples_leaf=1, min_samples_split=16;, score=-655.283 total time=   0.6s\n",
      "[CV 2/3; 6/25] START max_depth=12, min_samples_leaf=1, min_samples_split=16.....\n",
      "[CV 2/3; 6/25] END max_depth=12, min_samples_leaf=1, min_samples_split=16;, score=-611.722 total time=   1.2s\n",
      "[CV 3/3; 6/25] START max_depth=12, min_samples_leaf=1, min_samples_split=16.....\n",
      "[CV 3/3; 6/25] END max_depth=12, min_samples_leaf=1, min_samples_split=16;, score=-1011.973 total time=   1.8s\n",
      "[CV 1/3; 7/25] START max_depth=19, min_samples_leaf=15, min_samples_split=12....\n",
      "[CV 1/3; 7/25] END max_depth=19, min_samples_leaf=15, min_samples_split=12;, score=-664.905 total time=   0.4s\n",
      "[CV 2/3; 7/25] START max_depth=19, min_samples_leaf=15, min_samples_split=12....\n",
      "[CV 2/3; 7/25] END max_depth=19, min_samples_leaf=15, min_samples_split=12;, score=-628.520 total time=   0.9s\n",
      "[CV 3/3; 7/25] START max_depth=19, min_samples_leaf=15, min_samples_split=12....\n",
      "[CV 3/3; 7/25] END max_depth=19, min_samples_leaf=15, min_samples_split=12;, score=-1103.242 total time=   1.3s\n",
      "[CV 1/3; 8/25] START max_depth=4, min_samples_leaf=7, min_samples_split=18......\n",
      "[CV 1/3; 8/25] END max_depth=4, min_samples_leaf=7, min_samples_split=18;, score=-696.508 total time=   0.3s\n",
      "[CV 2/3; 8/25] START max_depth=4, min_samples_leaf=7, min_samples_split=18......\n",
      "[CV 2/3; 8/25] END max_depth=4, min_samples_leaf=7, min_samples_split=18;, score=-707.712 total time=   0.5s\n",
      "[CV 3/3; 8/25] START max_depth=4, min_samples_leaf=7, min_samples_split=18......\n",
      "[CV 3/3; 8/25] END max_depth=4, min_samples_leaf=7, min_samples_split=18;, score=-1331.604 total time=   0.7s\n",
      "[CV 1/3; 9/25] START max_depth=18, min_samples_leaf=12, min_samples_split=8.....\n",
      "[CV 1/3; 9/25] END max_depth=18, min_samples_leaf=12, min_samples_split=8;, score=-662.190 total time=   0.4s\n",
      "[CV 2/3; 9/25] START max_depth=18, min_samples_leaf=12, min_samples_split=8.....\n",
      "[CV 2/3; 9/25] END max_depth=18, min_samples_leaf=12, min_samples_split=8;, score=-623.730 total time=   0.9s\n",
      "[CV 3/3; 9/25] START max_depth=18, min_samples_leaf=12, min_samples_split=8.....\n",
      "[CV 3/3; 9/25] END max_depth=18, min_samples_leaf=12, min_samples_split=8;, score=-1096.758 total time=   1.4s\n",
      "[CV 1/3; 10/25] START max_depth=15, min_samples_leaf=18, min_samples_split=18...\n",
      "[CV 1/3; 10/25] END max_depth=15, min_samples_leaf=18, min_samples_split=18;, score=-677.244 total time=   0.4s\n",
      "[CV 2/3; 10/25] START max_depth=15, min_samples_leaf=18, min_samples_split=18...\n",
      "[CV 2/3; 10/25] END max_depth=15, min_samples_leaf=18, min_samples_split=18;, score=-632.158 total time=   0.8s\n",
      "[CV 3/3; 10/25] START max_depth=15, min_samples_leaf=18, min_samples_split=18...\n",
      "[CV 3/3; 10/25] END max_depth=15, min_samples_leaf=18, min_samples_split=18;, score=-1110.732 total time=   1.2s\n",
      "[CV 1/3; 11/25] START max_depth=19, min_samples_leaf=6, min_samples_split=18....\n",
      "[CV 1/3; 11/25] END max_depth=19, min_samples_leaf=6, min_samples_split=18;, score=-656.269 total time=   0.5s\n",
      "[CV 2/3; 11/25] START max_depth=19, min_samples_leaf=6, min_samples_split=18....\n",
      "[CV 2/3; 11/25] END max_depth=19, min_samples_leaf=6, min_samples_split=18;, score=-609.532 total time=   1.1s\n",
      "[CV 3/3; 11/25] START max_depth=19, min_samples_leaf=6, min_samples_split=18....\n",
      "[CV 3/3; 11/25] END max_depth=19, min_samples_leaf=6, min_samples_split=18;, score=-1052.416 total time=   1.6s\n",
      "[CV 1/3; 12/25] START max_depth=13, min_samples_leaf=2, min_samples_split=8.....\n",
      "[CV 1/3; 12/25] END max_depth=13, min_samples_leaf=2, min_samples_split=8;, score=-643.699 total time=   0.6s\n",
      "[CV 2/3; 12/25] START max_depth=13, min_samples_leaf=2, min_samples_split=8.....\n",
      "[CV 2/3; 12/25] END max_depth=13, min_samples_leaf=2, min_samples_split=8;, score=-607.921 total time=   1.3s\n",
      "[CV 3/3; 12/25] START max_depth=13, min_samples_leaf=2, min_samples_split=8.....\n",
      "[CV 3/3; 12/25] END max_depth=13, min_samples_leaf=2, min_samples_split=8;, score=-1010.030 total time=   2.0s\n",
      "[CV 1/3; 13/25] START max_depth=12, min_samples_leaf=6, min_samples_split=5.....\n",
      "[CV 1/3; 13/25] END max_depth=12, min_samples_leaf=6, min_samples_split=5;, score=-652.486 total time=   0.5s\n",
      "[CV 2/3; 13/25] START max_depth=12, min_samples_leaf=6, min_samples_split=5.....\n",
      "[CV 2/3; 13/25] END max_depth=12, min_samples_leaf=6, min_samples_split=5;, score=-609.810 total time=   1.0s\n",
      "[CV 3/3; 13/25] START max_depth=12, min_samples_leaf=6, min_samples_split=5.....\n",
      "[CV 3/3; 13/25] END max_depth=12, min_samples_leaf=6, min_samples_split=5;, score=-1058.327 total time=   1.6s\n",
      "[CV 1/3; 14/25] START max_depth=11, min_samples_leaf=11, min_samples_split=5....\n",
      "[CV 1/3; 14/25] END max_depth=11, min_samples_leaf=11, min_samples_split=5;, score=-660.495 total time=   0.5s\n",
      "[CV 2/3; 14/25] START max_depth=11, min_samples_leaf=11, min_samples_split=5....\n",
      "[CV 2/3; 14/25] END max_depth=11, min_samples_leaf=11, min_samples_split=5;, score=-619.918 total time=   0.9s\n",
      "[CV 3/3; 14/25] START max_depth=11, min_samples_leaf=11, min_samples_split=5....\n",
      "[CV 3/3; 14/25] END max_depth=11, min_samples_leaf=11, min_samples_split=5;, score=-1084.605 total time=   1.4s\n",
      "[CV 1/3; 15/25] START max_depth=3, min_samples_leaf=8, min_samples_split=6......\n",
      "[CV 1/3; 15/25] END max_depth=3, min_samples_leaf=8, min_samples_split=6;, score=-773.835 total time=   0.2s\n",
      "[CV 2/3; 15/25] START max_depth=3, min_samples_leaf=8, min_samples_split=6......\n",
      "[CV 2/3; 15/25] END max_depth=3, min_samples_leaf=8, min_samples_split=6;, score=-745.329 total time=   0.4s\n",
      "[CV 3/3; 15/25] START max_depth=3, min_samples_leaf=8, min_samples_split=6......\n",
      "[CV 3/3; 15/25] END max_depth=3, min_samples_leaf=8, min_samples_split=6;, score=-1523.700 total time=   0.5s\n",
      "[CV 1/3; 16/25] START max_depth=7, min_samples_leaf=18, min_samples_split=13....\n",
      "[CV 1/3; 16/25] END max_depth=7, min_samples_leaf=18, min_samples_split=13;, score=-681.950 total time=   0.4s\n",
      "[CV 2/3; 16/25] START max_depth=7, min_samples_leaf=18, min_samples_split=13....\n",
      "[CV 2/3; 16/25] END max_depth=7, min_samples_leaf=18, min_samples_split=13;, score=-635.770 total time=   0.7s\n",
      "[CV 3/3; 16/25] START max_depth=7, min_samples_leaf=18, min_samples_split=13....\n",
      "[CV 3/3; 16/25] END max_depth=7, min_samples_leaf=18, min_samples_split=13;, score=-1145.368 total time=   1.1s\n",
      "[CV 1/3; 17/25] START max_depth=5, min_samples_leaf=5, min_samples_split=15.....\n",
      "[CV 1/3; 17/25] END max_depth=5, min_samples_leaf=5, min_samples_split=15;, score=-687.430 total time=   0.4s\n",
      "[CV 2/3; 17/25] START max_depth=5, min_samples_leaf=5, min_samples_split=15.....\n",
      "[CV 2/3; 17/25] END max_depth=5, min_samples_leaf=5, min_samples_split=15;, score=-665.171 total time=   0.6s\n",
      "[CV 3/3; 17/25] START max_depth=5, min_samples_leaf=5, min_samples_split=15.....\n",
      "[CV 3/3; 17/25] END max_depth=5, min_samples_leaf=5, min_samples_split=15;, score=-1220.359 total time=   0.8s\n",
      "[CV 1/3; 18/25] START max_depth=9, min_samples_leaf=19, min_samples_split=17....\n",
      "[CV 1/3; 18/25] END max_depth=9, min_samples_leaf=19, min_samples_split=17;, score=-680.689 total time=   0.4s\n",
      "[CV 2/3; 18/25] START max_depth=9, min_samples_leaf=19, min_samples_split=17....\n",
      "[CV 2/3; 18/25] END max_depth=9, min_samples_leaf=19, min_samples_split=17;, score=-635.752 total time=   0.8s\n",
      "[CV 3/3; 18/25] START max_depth=9, min_samples_leaf=19, min_samples_split=17....\n",
      "[CV 3/3; 18/25] END max_depth=9, min_samples_leaf=19, min_samples_split=17;, score=-1119.675 total time=   1.2s\n",
      "[CV 1/3; 19/25] START max_depth=19, min_samples_leaf=8, min_samples_split=15....\n",
      "[CV 1/3; 19/25] END max_depth=19, min_samples_leaf=8, min_samples_split=15;, score=-655.856 total time=   0.5s\n",
      "[CV 2/3; 19/25] START max_depth=19, min_samples_leaf=8, min_samples_split=15....\n",
      "[CV 2/3; 19/25] END max_depth=19, min_samples_leaf=8, min_samples_split=15;, score=-610.639 total time=   1.1s\n",
      "[CV 3/3; 19/25] START max_depth=19, min_samples_leaf=8, min_samples_split=15....\n",
      "[CV 3/3; 19/25] END max_depth=19, min_samples_leaf=8, min_samples_split=15;, score=-1065.675 total time=   1.6s\n",
      "[CV 1/3; 20/25] START max_depth=10, min_samples_leaf=3, min_samples_split=5.....\n",
      "[CV 1/3; 20/25] END max_depth=10, min_samples_leaf=3, min_samples_split=5;, score=-647.304 total time=   0.6s\n",
      "[CV 2/3; 20/25] START max_depth=10, min_samples_leaf=3, min_samples_split=5.....\n",
      "[CV 2/3; 20/25] END max_depth=10, min_samples_leaf=3, min_samples_split=5;, score=-613.727 total time=   1.1s\n",
      "[CV 3/3; 20/25] START max_depth=10, min_samples_leaf=3, min_samples_split=5.....\n",
      "[CV 3/3; 20/25] END max_depth=10, min_samples_leaf=3, min_samples_split=5;, score=-1041.523 total time=   1.6s\n",
      "[CV 1/3; 21/25] START max_depth=18, min_samples_leaf=11, min_samples_split=3....\n",
      "[CV 1/3; 21/25] END max_depth=18, min_samples_leaf=11, min_samples_split=3;, score=-660.771 total time=   0.4s\n",
      "[CV 2/3; 21/25] START max_depth=18, min_samples_leaf=11, min_samples_split=3....\n",
      "[CV 2/3; 21/25] END max_depth=18, min_samples_leaf=11, min_samples_split=3;, score=-619.071 total time=   0.9s\n",
      "[CV 3/3; 21/25] START max_depth=18, min_samples_leaf=11, min_samples_split=3....\n",
      "[CV 3/3; 21/25] END max_depth=18, min_samples_leaf=11, min_samples_split=3;, score=-1084.174 total time=   1.4s\n",
      "[CV 1/3; 22/25] START max_depth=17, min_samples_leaf=15, min_samples_split=13...\n",
      "[CV 1/3; 22/25] END max_depth=17, min_samples_leaf=15, min_samples_split=13;, score=-664.905 total time=   0.4s\n",
      "[CV 2/3; 22/25] START max_depth=17, min_samples_leaf=15, min_samples_split=13...\n",
      "[CV 2/3; 22/25] END max_depth=17, min_samples_leaf=15, min_samples_split=13;, score=-628.520 total time=   0.9s\n",
      "[CV 3/3; 22/25] START max_depth=17, min_samples_leaf=15, min_samples_split=13...\n",
      "[CV 3/3; 22/25] END max_depth=17, min_samples_leaf=15, min_samples_split=13;, score=-1103.242 total time=   1.3s\n",
      "[CV 1/3; 23/25] START max_depth=6, min_samples_leaf=9, min_samples_split=16.....\n",
      "[CV 1/3; 23/25] END max_depth=6, min_samples_leaf=9, min_samples_split=16;, score=-675.639 total time=   0.4s\n",
      "[CV 2/3; 23/25] START max_depth=6, min_samples_leaf=9, min_samples_split=16.....\n",
      "[CV 2/3; 23/25] END max_depth=6, min_samples_leaf=9, min_samples_split=16;, score=-640.538 total time=   0.7s\n",
      "[CV 3/3; 23/25] START max_depth=6, min_samples_leaf=9, min_samples_split=16.....\n",
      "[CV 3/3; 23/25] END max_depth=6, min_samples_leaf=9, min_samples_split=16;, score=-1161.668 total time=   1.0s\n",
      "[CV 1/3; 24/25] START max_depth=16, min_samples_leaf=7, min_samples_split=3.....\n",
      "[CV 1/3; 24/25] END max_depth=16, min_samples_leaf=7, min_samples_split=3;, score=-654.437 total time=   0.5s\n",
      "[CV 2/3; 24/25] START max_depth=16, min_samples_leaf=7, min_samples_split=3.....\n",
      "[CV 2/3; 24/25] END max_depth=16, min_samples_leaf=7, min_samples_split=3;, score=-606.100 total time=   1.2s\n",
      "[CV 3/3; 24/25] START max_depth=16, min_samples_leaf=7, min_samples_split=3.....\n",
      "[CV 3/3; 24/25] END max_depth=16, min_samples_leaf=7, min_samples_split=3;, score=-1061.964 total time=   1.6s\n",
      "[CV 1/3; 25/25] START max_depth=12, min_samples_leaf=18, min_samples_split=3....\n",
      "[CV 1/3; 25/25] END max_depth=12, min_samples_leaf=18, min_samples_split=3;, score=-677.244 total time=   0.4s\n",
      "[CV 2/3; 25/25] START max_depth=12, min_samples_leaf=18, min_samples_split=3....\n",
      "[CV 2/3; 25/25] END max_depth=12, min_samples_leaf=18, min_samples_split=3;, score=-632.046 total time=   0.8s\n",
      "[CV 3/3; 25/25] START max_depth=12, min_samples_leaf=18, min_samples_split=3....\n",
      "[CV 3/3; 25/25] END max_depth=12, min_samples_leaf=18, min_samples_split=3;, score=-1110.877 total time=   1.3s\n",
      "CPU times: user 1min 11s, sys: 127 ms, total: 1min 11s\n",
      "Wall time: 1min 11s\n"
     ]
    },
    {
     "data": {
      "text/html": [
       "<style>#sk-container-id-3 {\n",
       "  /* Definition of color scheme common for light and dark mode */\n",
       "  --sklearn-color-text: #000;\n",
       "  --sklearn-color-text-muted: #666;\n",
       "  --sklearn-color-line: gray;\n",
       "  /* Definition of color scheme for unfitted estimators */\n",
       "  --sklearn-color-unfitted-level-0: #fff5e6;\n",
       "  --sklearn-color-unfitted-level-1: #f6e4d2;\n",
       "  --sklearn-color-unfitted-level-2: #ffe0b3;\n",
       "  --sklearn-color-unfitted-level-3: chocolate;\n",
       "  /* Definition of color scheme for fitted estimators */\n",
       "  --sklearn-color-fitted-level-0: #f0f8ff;\n",
       "  --sklearn-color-fitted-level-1: #d4ebff;\n",
       "  --sklearn-color-fitted-level-2: #b3dbfd;\n",
       "  --sklearn-color-fitted-level-3: cornflowerblue;\n",
       "\n",
       "  /* Specific color for light theme */\n",
       "  --sklearn-color-text-on-default-background: var(--sg-text-color, var(--theme-code-foreground, var(--jp-content-font-color1, black)));\n",
       "  --sklearn-color-background: var(--sg-background-color, var(--theme-background, var(--jp-layout-color0, white)));\n",
       "  --sklearn-color-border-box: var(--sg-text-color, var(--theme-code-foreground, var(--jp-content-font-color1, black)));\n",
       "  --sklearn-color-icon: #696969;\n",
       "\n",
       "  @media (prefers-color-scheme: dark) {\n",
       "    /* Redefinition of color scheme for dark theme */\n",
       "    --sklearn-color-text-on-default-background: var(--sg-text-color, var(--theme-code-foreground, var(--jp-content-font-color1, white)));\n",
       "    --sklearn-color-background: var(--sg-background-color, var(--theme-background, var(--jp-layout-color0, #111)));\n",
       "    --sklearn-color-border-box: var(--sg-text-color, var(--theme-code-foreground, var(--jp-content-font-color1, white)));\n",
       "    --sklearn-color-icon: #878787;\n",
       "  }\n",
       "}\n",
       "\n",
       "#sk-container-id-3 {\n",
       "  color: var(--sklearn-color-text);\n",
       "}\n",
       "\n",
       "#sk-container-id-3 pre {\n",
       "  padding: 0;\n",
       "}\n",
       "\n",
       "#sk-container-id-3 input.sk-hidden--visually {\n",
       "  border: 0;\n",
       "  clip: rect(1px 1px 1px 1px);\n",
       "  clip: rect(1px, 1px, 1px, 1px);\n",
       "  height: 1px;\n",
       "  margin: -1px;\n",
       "  overflow: hidden;\n",
       "  padding: 0;\n",
       "  position: absolute;\n",
       "  width: 1px;\n",
       "}\n",
       "\n",
       "#sk-container-id-3 div.sk-dashed-wrapped {\n",
       "  border: 1px dashed var(--sklearn-color-line);\n",
       "  margin: 0 0.4em 0.5em 0.4em;\n",
       "  box-sizing: border-box;\n",
       "  padding-bottom: 0.4em;\n",
       "  background-color: var(--sklearn-color-background);\n",
       "}\n",
       "\n",
       "#sk-container-id-3 div.sk-container {\n",
       "  /* jupyter's `normalize.less` sets `[hidden] { display: none; }`\n",
       "     but bootstrap.min.css set `[hidden] { display: none !important; }`\n",
       "     so we also need the `!important` here to be able to override the\n",
       "     default hidden behavior on the sphinx rendered scikit-learn.org.\n",
       "     See: https://github.com/scikit-learn/scikit-learn/issues/21755 */\n",
       "  display: inline-block !important;\n",
       "  position: relative;\n",
       "}\n",
       "\n",
       "#sk-container-id-3 div.sk-text-repr-fallback {\n",
       "  display: none;\n",
       "}\n",
       "\n",
       "div.sk-parallel-item,\n",
       "div.sk-serial,\n",
       "div.sk-item {\n",
       "  /* draw centered vertical line to link estimators */\n",
       "  background-image: linear-gradient(var(--sklearn-color-text-on-default-background), var(--sklearn-color-text-on-default-background));\n",
       "  background-size: 2px 100%;\n",
       "  background-repeat: no-repeat;\n",
       "  background-position: center center;\n",
       "}\n",
       "\n",
       "/* Parallel-specific style estimator block */\n",
       "\n",
       "#sk-container-id-3 div.sk-parallel-item::after {\n",
       "  content: \"\";\n",
       "  width: 100%;\n",
       "  border-bottom: 2px solid var(--sklearn-color-text-on-default-background);\n",
       "  flex-grow: 1;\n",
       "}\n",
       "\n",
       "#sk-container-id-3 div.sk-parallel {\n",
       "  display: flex;\n",
       "  align-items: stretch;\n",
       "  justify-content: center;\n",
       "  background-color: var(--sklearn-color-background);\n",
       "  position: relative;\n",
       "}\n",
       "\n",
       "#sk-container-id-3 div.sk-parallel-item {\n",
       "  display: flex;\n",
       "  flex-direction: column;\n",
       "}\n",
       "\n",
       "#sk-container-id-3 div.sk-parallel-item:first-child::after {\n",
       "  align-self: flex-end;\n",
       "  width: 50%;\n",
       "}\n",
       "\n",
       "#sk-container-id-3 div.sk-parallel-item:last-child::after {\n",
       "  align-self: flex-start;\n",
       "  width: 50%;\n",
       "}\n",
       "\n",
       "#sk-container-id-3 div.sk-parallel-item:only-child::after {\n",
       "  width: 0;\n",
       "}\n",
       "\n",
       "/* Serial-specific style estimator block */\n",
       "\n",
       "#sk-container-id-3 div.sk-serial {\n",
       "  display: flex;\n",
       "  flex-direction: column;\n",
       "  align-items: center;\n",
       "  background-color: var(--sklearn-color-background);\n",
       "  padding-right: 1em;\n",
       "  padding-left: 1em;\n",
       "}\n",
       "\n",
       "\n",
       "/* Toggleable style: style used for estimator/Pipeline/ColumnTransformer box that is\n",
       "clickable and can be expanded/collapsed.\n",
       "- Pipeline and ColumnTransformer use this feature and define the default style\n",
       "- Estimators will overwrite some part of the style using the `sk-estimator` class\n",
       "*/\n",
       "\n",
       "/* Pipeline and ColumnTransformer style (default) */\n",
       "\n",
       "#sk-container-id-3 div.sk-toggleable {\n",
       "  /* Default theme specific background. It is overwritten whether we have a\n",
       "  specific estimator or a Pipeline/ColumnTransformer */\n",
       "  background-color: var(--sklearn-color-background);\n",
       "}\n",
       "\n",
       "/* Toggleable label */\n",
       "#sk-container-id-3 label.sk-toggleable__label {\n",
       "  cursor: pointer;\n",
       "  display: flex;\n",
       "  width: 100%;\n",
       "  margin-bottom: 0;\n",
       "  padding: 0.5em;\n",
       "  box-sizing: border-box;\n",
       "  text-align: center;\n",
       "  align-items: start;\n",
       "  justify-content: space-between;\n",
       "  gap: 0.5em;\n",
       "}\n",
       "\n",
       "#sk-container-id-3 label.sk-toggleable__label .caption {\n",
       "  font-size: 0.6rem;\n",
       "  font-weight: lighter;\n",
       "  color: var(--sklearn-color-text-muted);\n",
       "}\n",
       "\n",
       "#sk-container-id-3 label.sk-toggleable__label-arrow:before {\n",
       "  /* Arrow on the left of the label */\n",
       "  content: \"▸\";\n",
       "  float: left;\n",
       "  margin-right: 0.25em;\n",
       "  color: var(--sklearn-color-icon);\n",
       "}\n",
       "\n",
       "#sk-container-id-3 label.sk-toggleable__label-arrow:hover:before {\n",
       "  color: var(--sklearn-color-text);\n",
       "}\n",
       "\n",
       "/* Toggleable content - dropdown */\n",
       "\n",
       "#sk-container-id-3 div.sk-toggleable__content {\n",
       "  max-height: 0;\n",
       "  max-width: 0;\n",
       "  overflow: hidden;\n",
       "  text-align: left;\n",
       "  /* unfitted */\n",
       "  background-color: var(--sklearn-color-unfitted-level-0);\n",
       "}\n",
       "\n",
       "#sk-container-id-3 div.sk-toggleable__content.fitted {\n",
       "  /* fitted */\n",
       "  background-color: var(--sklearn-color-fitted-level-0);\n",
       "}\n",
       "\n",
       "#sk-container-id-3 div.sk-toggleable__content pre {\n",
       "  margin: 0.2em;\n",
       "  border-radius: 0.25em;\n",
       "  color: var(--sklearn-color-text);\n",
       "  /* unfitted */\n",
       "  background-color: var(--sklearn-color-unfitted-level-0);\n",
       "}\n",
       "\n",
       "#sk-container-id-3 div.sk-toggleable__content.fitted pre {\n",
       "  /* unfitted */\n",
       "  background-color: var(--sklearn-color-fitted-level-0);\n",
       "}\n",
       "\n",
       "#sk-container-id-3 input.sk-toggleable__control:checked~div.sk-toggleable__content {\n",
       "  /* Expand drop-down */\n",
       "  max-height: 200px;\n",
       "  max-width: 100%;\n",
       "  overflow: auto;\n",
       "}\n",
       "\n",
       "#sk-container-id-3 input.sk-toggleable__control:checked~label.sk-toggleable__label-arrow:before {\n",
       "  content: \"▾\";\n",
       "}\n",
       "\n",
       "/* Pipeline/ColumnTransformer-specific style */\n",
       "\n",
       "#sk-container-id-3 div.sk-label input.sk-toggleable__control:checked~label.sk-toggleable__label {\n",
       "  color: var(--sklearn-color-text);\n",
       "  background-color: var(--sklearn-color-unfitted-level-2);\n",
       "}\n",
       "\n",
       "#sk-container-id-3 div.sk-label.fitted input.sk-toggleable__control:checked~label.sk-toggleable__label {\n",
       "  background-color: var(--sklearn-color-fitted-level-2);\n",
       "}\n",
       "\n",
       "/* Estimator-specific style */\n",
       "\n",
       "/* Colorize estimator box */\n",
       "#sk-container-id-3 div.sk-estimator input.sk-toggleable__control:checked~label.sk-toggleable__label {\n",
       "  /* unfitted */\n",
       "  background-color: var(--sklearn-color-unfitted-level-2);\n",
       "}\n",
       "\n",
       "#sk-container-id-3 div.sk-estimator.fitted input.sk-toggleable__control:checked~label.sk-toggleable__label {\n",
       "  /* fitted */\n",
       "  background-color: var(--sklearn-color-fitted-level-2);\n",
       "}\n",
       "\n",
       "#sk-container-id-3 div.sk-label label.sk-toggleable__label,\n",
       "#sk-container-id-3 div.sk-label label {\n",
       "  /* The background is the default theme color */\n",
       "  color: var(--sklearn-color-text-on-default-background);\n",
       "}\n",
       "\n",
       "/* On hover, darken the color of the background */\n",
       "#sk-container-id-3 div.sk-label:hover label.sk-toggleable__label {\n",
       "  color: var(--sklearn-color-text);\n",
       "  background-color: var(--sklearn-color-unfitted-level-2);\n",
       "}\n",
       "\n",
       "/* Label box, darken color on hover, fitted */\n",
       "#sk-container-id-3 div.sk-label.fitted:hover label.sk-toggleable__label.fitted {\n",
       "  color: var(--sklearn-color-text);\n",
       "  background-color: var(--sklearn-color-fitted-level-2);\n",
       "}\n",
       "\n",
       "/* Estimator label */\n",
       "\n",
       "#sk-container-id-3 div.sk-label label {\n",
       "  font-family: monospace;\n",
       "  font-weight: bold;\n",
       "  display: inline-block;\n",
       "  line-height: 1.2em;\n",
       "}\n",
       "\n",
       "#sk-container-id-3 div.sk-label-container {\n",
       "  text-align: center;\n",
       "}\n",
       "\n",
       "/* Estimator-specific */\n",
       "#sk-container-id-3 div.sk-estimator {\n",
       "  font-family: monospace;\n",
       "  border: 1px dotted var(--sklearn-color-border-box);\n",
       "  border-radius: 0.25em;\n",
       "  box-sizing: border-box;\n",
       "  margin-bottom: 0.5em;\n",
       "  /* unfitted */\n",
       "  background-color: var(--sklearn-color-unfitted-level-0);\n",
       "}\n",
       "\n",
       "#sk-container-id-3 div.sk-estimator.fitted {\n",
       "  /* fitted */\n",
       "  background-color: var(--sklearn-color-fitted-level-0);\n",
       "}\n",
       "\n",
       "/* on hover */\n",
       "#sk-container-id-3 div.sk-estimator:hover {\n",
       "  /* unfitted */\n",
       "  background-color: var(--sklearn-color-unfitted-level-2);\n",
       "}\n",
       "\n",
       "#sk-container-id-3 div.sk-estimator.fitted:hover {\n",
       "  /* fitted */\n",
       "  background-color: var(--sklearn-color-fitted-level-2);\n",
       "}\n",
       "\n",
       "/* Specification for estimator info (e.g. \"i\" and \"?\") */\n",
       "\n",
       "/* Common style for \"i\" and \"?\" */\n",
       "\n",
       ".sk-estimator-doc-link,\n",
       "a:link.sk-estimator-doc-link,\n",
       "a:visited.sk-estimator-doc-link {\n",
       "  float: right;\n",
       "  font-size: smaller;\n",
       "  line-height: 1em;\n",
       "  font-family: monospace;\n",
       "  background-color: var(--sklearn-color-background);\n",
       "  border-radius: 1em;\n",
       "  height: 1em;\n",
       "  width: 1em;\n",
       "  text-decoration: none !important;\n",
       "  margin-left: 0.5em;\n",
       "  text-align: center;\n",
       "  /* unfitted */\n",
       "  border: var(--sklearn-color-unfitted-level-1) 1pt solid;\n",
       "  color: var(--sklearn-color-unfitted-level-1);\n",
       "}\n",
       "\n",
       ".sk-estimator-doc-link.fitted,\n",
       "a:link.sk-estimator-doc-link.fitted,\n",
       "a:visited.sk-estimator-doc-link.fitted {\n",
       "  /* fitted */\n",
       "  border: var(--sklearn-color-fitted-level-1) 1pt solid;\n",
       "  color: var(--sklearn-color-fitted-level-1);\n",
       "}\n",
       "\n",
       "/* On hover */\n",
       "div.sk-estimator:hover .sk-estimator-doc-link:hover,\n",
       ".sk-estimator-doc-link:hover,\n",
       "div.sk-label-container:hover .sk-estimator-doc-link:hover,\n",
       ".sk-estimator-doc-link:hover {\n",
       "  /* unfitted */\n",
       "  background-color: var(--sklearn-color-unfitted-level-3);\n",
       "  color: var(--sklearn-color-background);\n",
       "  text-decoration: none;\n",
       "}\n",
       "\n",
       "div.sk-estimator.fitted:hover .sk-estimator-doc-link.fitted:hover,\n",
       ".sk-estimator-doc-link.fitted:hover,\n",
       "div.sk-label-container:hover .sk-estimator-doc-link.fitted:hover,\n",
       ".sk-estimator-doc-link.fitted:hover {\n",
       "  /* fitted */\n",
       "  background-color: var(--sklearn-color-fitted-level-3);\n",
       "  color: var(--sklearn-color-background);\n",
       "  text-decoration: none;\n",
       "}\n",
       "\n",
       "/* Span, style for the box shown on hovering the info icon */\n",
       ".sk-estimator-doc-link span {\n",
       "  display: none;\n",
       "  z-index: 9999;\n",
       "  position: relative;\n",
       "  font-weight: normal;\n",
       "  right: .2ex;\n",
       "  padding: .5ex;\n",
       "  margin: .5ex;\n",
       "  width: min-content;\n",
       "  min-width: 20ex;\n",
       "  max-width: 50ex;\n",
       "  color: var(--sklearn-color-text);\n",
       "  box-shadow: 2pt 2pt 4pt #999;\n",
       "  /* unfitted */\n",
       "  background: var(--sklearn-color-unfitted-level-0);\n",
       "  border: .5pt solid var(--sklearn-color-unfitted-level-3);\n",
       "}\n",
       "\n",
       ".sk-estimator-doc-link.fitted span {\n",
       "  /* fitted */\n",
       "  background: var(--sklearn-color-fitted-level-0);\n",
       "  border: var(--sklearn-color-fitted-level-3);\n",
       "}\n",
       "\n",
       ".sk-estimator-doc-link:hover span {\n",
       "  display: block;\n",
       "}\n",
       "\n",
       "/* \"?\"-specific style due to the `<a>` HTML tag */\n",
       "\n",
       "#sk-container-id-3 a.estimator_doc_link {\n",
       "  float: right;\n",
       "  font-size: 1rem;\n",
       "  line-height: 1em;\n",
       "  font-family: monospace;\n",
       "  background-color: var(--sklearn-color-background);\n",
       "  border-radius: 1rem;\n",
       "  height: 1rem;\n",
       "  width: 1rem;\n",
       "  text-decoration: none;\n",
       "  /* unfitted */\n",
       "  color: var(--sklearn-color-unfitted-level-1);\n",
       "  border: var(--sklearn-color-unfitted-level-1) 1pt solid;\n",
       "}\n",
       "\n",
       "#sk-container-id-3 a.estimator_doc_link.fitted {\n",
       "  /* fitted */\n",
       "  border: var(--sklearn-color-fitted-level-1) 1pt solid;\n",
       "  color: var(--sklearn-color-fitted-level-1);\n",
       "}\n",
       "\n",
       "/* On hover */\n",
       "#sk-container-id-3 a.estimator_doc_link:hover {\n",
       "  /* unfitted */\n",
       "  background-color: var(--sklearn-color-unfitted-level-3);\n",
       "  color: var(--sklearn-color-background);\n",
       "  text-decoration: none;\n",
       "}\n",
       "\n",
       "#sk-container-id-3 a.estimator_doc_link.fitted:hover {\n",
       "  /* fitted */\n",
       "  background-color: var(--sklearn-color-fitted-level-3);\n",
       "}\n",
       "</style><div id=\"sk-container-id-3\" class=\"sk-top-container\"><div class=\"sk-text-repr-fallback\"><pre>RandomizedSearchCV(cv=TimeSeriesSplit(gap=0, max_train_size=None, n_splits=3, test_size=None),\n",
       "                   estimator=RandomForestRegressor(n_estimators=50,\n",
       "                                                   random_state=42),\n",
       "                   n_iter=25, n_jobs=-1,\n",
       "                   param_distributions={&#x27;max_depth&#x27;: range(3, 20),\n",
       "                                        &#x27;min_samples_leaf&#x27;: range(1, 20),\n",
       "                                        &#x27;min_samples_split&#x27;: range(2, 20)},\n",
       "                   random_state=42, scoring=&#x27;neg_mean_squared_error&#x27;,\n",
       "                   verbose=10)</pre><b>In a Jupyter environment, please rerun this cell to show the HTML representation or trust the notebook. <br />On GitHub, the HTML representation is unable to render, please try loading this page with nbviewer.org.</b></div><div class=\"sk-container\" hidden><div class=\"sk-item sk-dashed-wrapped\"><div class=\"sk-label-container\"><div class=\"sk-label fitted sk-toggleable\"><input class=\"sk-toggleable__control sk-hidden--visually\" id=\"sk-estimator-id-7\" type=\"checkbox\" ><label for=\"sk-estimator-id-7\" class=\"sk-toggleable__label fitted sk-toggleable__label-arrow\"><div><div>RandomizedSearchCV</div></div><div><a class=\"sk-estimator-doc-link fitted\" rel=\"noreferrer\" target=\"_blank\" href=\"https://scikit-learn.org/1.6/modules/generated/sklearn.model_selection.RandomizedSearchCV.html\">?<span>Documentation for RandomizedSearchCV</span></a><span class=\"sk-estimator-doc-link fitted\">i<span>Fitted</span></span></div></label><div class=\"sk-toggleable__content fitted\"><pre>RandomizedSearchCV(cv=TimeSeriesSplit(gap=0, max_train_size=None, n_splits=3, test_size=None),\n",
       "                   estimator=RandomForestRegressor(n_estimators=50,\n",
       "                                                   random_state=42),\n",
       "                   n_iter=25, n_jobs=-1,\n",
       "                   param_distributions={&#x27;max_depth&#x27;: range(3, 20),\n",
       "                                        &#x27;min_samples_leaf&#x27;: range(1, 20),\n",
       "                                        &#x27;min_samples_split&#x27;: range(2, 20)},\n",
       "                   random_state=42, scoring=&#x27;neg_mean_squared_error&#x27;,\n",
       "                   verbose=10)</pre></div> </div></div><div class=\"sk-parallel\"><div class=\"sk-parallel-item\"><div class=\"sk-item\"><div class=\"sk-label-container\"><div class=\"sk-label fitted sk-toggleable\"><input class=\"sk-toggleable__control sk-hidden--visually\" id=\"sk-estimator-id-8\" type=\"checkbox\" ><label for=\"sk-estimator-id-8\" class=\"sk-toggleable__label fitted sk-toggleable__label-arrow\"><div><div>best_estimator_: RandomForestRegressor</div></div></label><div class=\"sk-toggleable__content fitted\"><pre>RandomForestRegressor(max_depth=13, min_samples_leaf=2, min_samples_split=8,\n",
       "                      n_estimators=50, random_state=42)</pre></div> </div></div><div class=\"sk-serial\"><div class=\"sk-item\"><div class=\"sk-estimator fitted sk-toggleable\"><input class=\"sk-toggleable__control sk-hidden--visually\" id=\"sk-estimator-id-9\" type=\"checkbox\" ><label for=\"sk-estimator-id-9\" class=\"sk-toggleable__label fitted sk-toggleable__label-arrow\"><div><div>RandomForestRegressor</div></div><div><a class=\"sk-estimator-doc-link fitted\" rel=\"noreferrer\" target=\"_blank\" href=\"https://scikit-learn.org/1.6/modules/generated/sklearn.ensemble.RandomForestRegressor.html\">?<span>Documentation for RandomForestRegressor</span></a></div></label><div class=\"sk-toggleable__content fitted\"><pre>RandomForestRegressor(max_depth=13, min_samples_leaf=2, min_samples_split=8,\n",
       "                      n_estimators=50, random_state=42)</pre></div> </div></div></div></div></div></div></div></div></div>"
      ],
      "text/plain": [
       "RandomizedSearchCV(cv=TimeSeriesSplit(gap=0, max_train_size=None, n_splits=3, test_size=None),\n",
       "                   estimator=RandomForestRegressor(n_estimators=50,\n",
       "                                                   random_state=42),\n",
       "                   n_iter=25, n_jobs=-1,\n",
       "                   param_distributions={'max_depth': range(3, 20),\n",
       "                                        'min_samples_leaf': range(1, 20),\n",
       "                                        'min_samples_split': range(2, 20)},\n",
       "                   random_state=42, scoring='neg_mean_squared_error',\n",
       "                   verbose=10)"
      ]
     },
     "execution_count": 28,
     "metadata": {},
     "output_type": "execute_result"
    }
   ],
   "source": [
    "%%time\n",
    "random_search_rf.fit(X_train, y_train)"
   ]
  },
  {
   "cell_type": "code",
   "execution_count": 29,
   "metadata": {},
   "outputs": [
    {
     "name": "stdout",
     "output_type": "stream",
     "text": [
      "RMSE для RandomForestRegressor = 27.456935002952896\n"
     ]
    }
   ],
   "source": [
    "mse = -(random_search_rf.best_score_)\n",
    "print('RMSE для RandomForestRegressor =', mse**0.5)"
   ]
  },
  {
   "cell_type": "markdown",
   "metadata": {},
   "source": [
    "### LinearRegression"
   ]
  },
  {
   "cell_type": "code",
   "execution_count": 30,
   "metadata": {},
   "outputs": [],
   "source": [
    "X_train_lr = X_train.copy()\n",
    "X_test_lr = X_test.copy()\n",
    "encoder = OneHotEncoder(drop='first', sparse_output=False)\n",
    "cat_cols = ['hour', 'dayofweek']\n",
    "X_train_ohe = encoder.fit_transform(X_train[cat_cols])\n",
    "X_test_ohe = encoder.transform(X_test[cat_cols])\n",
    "ohe_cols = encoder.get_feature_names_out(cat_cols)\n",
    "X_train_ohe = pd.DataFrame(X_train_ohe, columns=ohe_cols, index=X_train.index)\n",
    "X_test_ohe = pd.DataFrame(X_test_ohe, columns=ohe_cols, index=X_test.index)\n",
    "X_train_lr.drop(columns=cat_cols, inplace=True)\n",
    "X_test_lr.drop(columns=cat_cols, inplace=True)\n",
    "X_train_lr = pd.concat([X_train_lr, X_train_ohe], axis=1)\n",
    "X_test_lr = pd.concat([X_test_lr, X_test_ohe], axis=1)"
   ]
  },
  {
   "cell_type": "code",
   "execution_count": 31,
   "metadata": {},
   "outputs": [
    {
     "name": "stdout",
     "output_type": "stream",
     "text": [
      "RMSE для LinearRegression = 26.198471541541004\n"
     ]
    }
   ],
   "source": [
    "lr_model = LinearRegression()\n",
    "mse = cross_val_score(lr_model, X_train_lr, y_train, cv=tscv, scoring='neg_mean_squared_error')\n",
    "print('RMSE для LinearRegression =',(-mse).mean()**0.5)"
   ]
  },
  {
   "cell_type": "markdown",
   "metadata": {},
   "source": [
    "## Тестирование"
   ]
  },
  {
   "cell_type": "markdown",
   "metadata": {},
   "source": [
    "Результаты на тренировочных данных:  \n",
    "LinearRegression = 26.19  \n",
    "DecisionTreeRegressor = 30.23  \n",
    "LightGBM = 26.43 \n",
    "RandomForestRegressor = 27.45\n",
    "Все модели справились с поставленной задачей(RMSE<=48), Лучшей стала LinearRegression, ее и будем проверить на тестовых данных."
   ]
  },
  {
   "cell_type": "code",
   "execution_count": 33,
   "metadata": {},
   "outputs": [
    {
     "name": "stdout",
     "output_type": "stream",
     "text": [
      "RMSE на тестовой выборке для LinearRegression = 41.53099433497102\n"
     ]
    }
   ],
   "source": [
    "lr_model.fit(X_train_lr,y_train)\n",
    "y_pred_lr = lr_model.predict(X_test_lr)\n",
    "print('RMSE на тестовой выборке для LinearRegression =', mean_squared_error(y_test, y_pred_lr)**0.5)"
   ]
  },
  {
   "cell_type": "markdown",
   "metadata": {},
   "source": [
    "В ходе работы были построены 4 модели и посчитаны их метрики RMSE на тренировочных данных с помощью кросс-валидации(LinearRegression = 26.19, DecisionTreeRegressor = 30.23, LightGBM = 26.43, RandomForestRegressor = 27.45). Лучшей была выбрана LinearRegression, она была протестирована на тестовых данных и показала результат RMSE=41.53, что удовлетворяет условие поставленной задачи(RMSE<=48). Так же в ходе анализа было выявлено, что количество заказов такси растет по месяцам, сезонность суточная, остатки также имеют постоянной среднее значение, но иногда возникают большие всплески."
   ]
  }
 ],
 "metadata": {
  "ExecuteTimeLog": [
   {
    "duration": 399,
    "start_time": "2025-04-19T16:38:12.258Z"
   },
   {
    "duration": 44,
    "start_time": "2025-04-19T16:38:27.178Z"
   },
   {
    "duration": 13,
    "start_time": "2025-04-19T16:38:34.687Z"
   },
   {
    "duration": 14,
    "start_time": "2025-04-19T16:38:46.381Z"
   },
   {
    "duration": 38,
    "start_time": "2025-04-19T21:39:25.478Z"
   },
   {
    "duration": 10,
    "start_time": "2025-04-19T21:39:27.080Z"
   },
   {
    "duration": 6,
    "start_time": "2025-04-19T21:39:28.655Z"
   },
   {
    "duration": 9,
    "start_time": "2025-04-19T21:40:15.268Z"
   },
   {
    "duration": 7,
    "start_time": "2025-04-19T21:40:37.594Z"
   },
   {
    "duration": 3,
    "start_time": "2025-04-19T21:43:17.104Z"
   },
   {
    "duration": 6,
    "start_time": "2025-04-19T21:43:18.577Z"
   },
   {
    "duration": 8,
    "start_time": "2025-04-19T21:43:19.566Z"
   },
   {
    "duration": 643,
    "start_time": "2025-04-19T21:43:35.046Z"
   },
   {
    "duration": 76,
    "start_time": "2025-04-19T21:47:51.223Z"
   },
   {
    "duration": 7,
    "start_time": "2025-04-19T21:47:56.520Z"
   },
   {
    "duration": 7,
    "start_time": "2025-04-19T21:48:03.784Z"
   },
   {
    "duration": 562,
    "start_time": "2025-04-19T21:48:43.513Z"
   },
   {
    "duration": 8,
    "start_time": "2025-04-19T21:49:33.805Z"
   },
   {
    "duration": 42,
    "start_time": "2025-04-19T21:52:25.525Z"
   },
   {
    "duration": 3,
    "start_time": "2025-04-19T21:52:30.848Z"
   },
   {
    "duration": 734,
    "start_time": "2025-04-19T21:52:40.041Z"
   },
   {
    "duration": 840,
    "start_time": "2025-04-19T21:52:49.809Z"
   },
   {
    "duration": 103,
    "start_time": "2025-04-19T21:54:12.106Z"
   },
   {
    "duration": 10,
    "start_time": "2025-04-19T21:54:26.371Z"
   },
   {
    "duration": 4,
    "start_time": "2025-04-19T21:54:33.674Z"
   },
   {
    "duration": 4,
    "start_time": "2025-04-19T21:54:41.441Z"
   },
   {
    "duration": 11,
    "start_time": "2025-04-19T21:59:14.039Z"
   },
   {
    "duration": 656,
    "start_time": "2025-04-19T21:59:16.203Z"
   },
   {
    "duration": 792,
    "start_time": "2025-04-19T21:59:23.986Z"
   },
   {
    "duration": 651,
    "start_time": "2025-04-19T22:03:43.068Z"
   },
   {
    "duration": 786,
    "start_time": "2025-04-19T22:03:48.029Z"
   },
   {
    "duration": 864,
    "start_time": "2025-04-19T22:03:58.233Z"
   },
   {
    "duration": 7,
    "start_time": "2025-04-19T22:04:27.426Z"
   },
   {
    "duration": 837,
    "start_time": "2025-04-19T22:04:28.046Z"
   },
   {
    "duration": 9,
    "start_time": "2025-04-19T22:04:36.057Z"
   },
   {
    "duration": 888,
    "start_time": "2025-04-19T22:04:36.456Z"
   },
   {
    "duration": 1050,
    "start_time": "2025-04-19T22:12:18.777Z"
   },
   {
    "duration": 92,
    "start_time": "2025-04-19T22:12:19.829Z"
   },
   {
    "duration": 22,
    "start_time": "2025-04-19T22:12:19.922Z"
   },
   {
    "duration": 3,
    "start_time": "2025-04-19T22:12:19.946Z"
   },
   {
    "duration": 18,
    "start_time": "2025-04-19T22:12:19.951Z"
   },
   {
    "duration": 12,
    "start_time": "2025-04-19T22:12:19.970Z"
   },
   {
    "duration": 17,
    "start_time": "2025-04-19T22:12:19.984Z"
   },
   {
    "duration": 13,
    "start_time": "2025-04-19T22:12:20.003Z"
   },
   {
    "duration": 25,
    "start_time": "2025-04-19T22:12:20.018Z"
   },
   {
    "duration": 907,
    "start_time": "2025-04-19T22:12:20.046Z"
   },
   {
    "duration": 1117,
    "start_time": "2025-04-19T22:12:54.019Z"
   },
   {
    "duration": 85,
    "start_time": "2025-04-19T22:12:55.138Z"
   },
   {
    "duration": 34,
    "start_time": "2025-04-19T22:12:55.224Z"
   },
   {
    "duration": 6,
    "start_time": "2025-04-19T22:12:55.259Z"
   },
   {
    "duration": 6,
    "start_time": "2025-04-19T22:12:55.267Z"
   },
   {
    "duration": 11,
    "start_time": "2025-04-19T22:12:55.274Z"
   },
   {
    "duration": 23,
    "start_time": "2025-04-19T22:12:55.286Z"
   },
   {
    "duration": 13,
    "start_time": "2025-04-19T22:12:55.310Z"
   },
   {
    "duration": 27,
    "start_time": "2025-04-19T22:12:55.324Z"
   },
   {
    "duration": 821,
    "start_time": "2025-04-19T22:12:55.352Z"
   },
   {
    "duration": 1099,
    "start_time": "2025-04-19T22:13:11.841Z"
   },
   {
    "duration": 86,
    "start_time": "2025-04-19T22:13:12.942Z"
   },
   {
    "duration": 14,
    "start_time": "2025-04-19T22:13:13.030Z"
   },
   {
    "duration": 5,
    "start_time": "2025-04-19T22:13:13.046Z"
   },
   {
    "duration": 9,
    "start_time": "2025-04-19T22:13:13.053Z"
   },
   {
    "duration": 8,
    "start_time": "2025-04-19T22:13:13.064Z"
   },
   {
    "duration": 4,
    "start_time": "2025-04-19T22:13:13.073Z"
   },
   {
    "duration": 9,
    "start_time": "2025-04-19T22:13:13.079Z"
   },
   {
    "duration": 883,
    "start_time": "2025-04-19T22:13:13.090Z"
   },
   {
    "duration": 102,
    "start_time": "2025-04-19T22:36:02.443Z"
   },
   {
    "duration": 24,
    "start_time": "2025-04-19T22:36:15.613Z"
   },
   {
    "duration": 337,
    "start_time": "2025-04-19T22:36:17.455Z"
   },
   {
    "duration": 25,
    "start_time": "2025-04-19T22:38:30.860Z"
   },
   {
    "duration": 34,
    "start_time": "2025-04-19T22:38:55.345Z"
   },
   {
    "duration": 15,
    "start_time": "2025-04-19T22:39:23.392Z"
   },
   {
    "duration": 1453,
    "start_time": "2025-04-19T22:40:10.903Z"
   },
   {
    "duration": 100,
    "start_time": "2025-04-19T22:40:12.358Z"
   },
   {
    "duration": 11,
    "start_time": "2025-04-19T22:40:12.460Z"
   },
   {
    "duration": 19,
    "start_time": "2025-04-19T22:40:12.473Z"
   },
   {
    "duration": 9,
    "start_time": "2025-04-19T22:40:12.494Z"
   },
   {
    "duration": 8,
    "start_time": "2025-04-19T22:40:12.505Z"
   },
   {
    "duration": 87,
    "start_time": "2025-04-19T22:40:12.515Z"
   },
   {
    "duration": 22,
    "start_time": "2025-04-19T22:40:12.604Z"
   },
   {
    "duration": 821,
    "start_time": "2025-04-19T22:40:12.628Z"
   },
   {
    "duration": 11,
    "start_time": "2025-04-19T22:40:13.450Z"
   },
   {
    "duration": 34,
    "start_time": "2025-04-19T22:40:13.463Z"
   },
   {
    "duration": 14,
    "start_time": "2025-04-19T22:43:14.852Z"
   },
   {
    "duration": 11,
    "start_time": "2025-04-19T22:43:33.361Z"
   },
   {
    "duration": 11,
    "start_time": "2025-04-19T22:43:38.839Z"
   },
   {
    "duration": 110,
    "start_time": "2025-04-19T22:52:09.637Z"
   },
   {
    "duration": 265,
    "start_time": "2025-04-19T22:53:38.101Z"
   },
   {
    "duration": 9,
    "start_time": "2025-04-19T22:53:43.087Z"
   },
   {
    "duration": 35,
    "start_time": "2025-04-19T22:54:50.216Z"
   },
   {
    "duration": 7,
    "start_time": "2025-04-19T22:55:02.075Z"
   },
   {
    "duration": 176,
    "start_time": "2025-04-19T22:58:59.167Z"
   },
   {
    "duration": 149,
    "start_time": "2025-04-19T23:00:10.088Z"
   },
   {
    "duration": 4,
    "start_time": "2025-04-19T23:00:14.256Z"
   },
   {
    "duration": 50,
    "start_time": "2025-04-19T23:00:19.992Z"
   },
   {
    "duration": 3,
    "start_time": "2025-04-19T23:02:07.973Z"
   },
   {
    "duration": 670,
    "start_time": "2025-04-19T23:03:12.374Z"
   },
   {
    "duration": 8,
    "start_time": "2025-04-19T23:07:46.643Z"
   },
   {
    "duration": 1413,
    "start_time": "2025-04-19T23:10:25.006Z"
   },
   {
    "duration": 58,
    "start_time": "2025-04-19T23:10:26.421Z"
   },
   {
    "duration": 12,
    "start_time": "2025-04-19T23:10:26.481Z"
   },
   {
    "duration": 6,
    "start_time": "2025-04-19T23:10:26.494Z"
   },
   {
    "duration": 15,
    "start_time": "2025-04-19T23:10:26.504Z"
   },
   {
    "duration": 16,
    "start_time": "2025-04-19T23:10:26.521Z"
   },
   {
    "duration": 19,
    "start_time": "2025-04-19T23:10:26.539Z"
   },
   {
    "duration": 29,
    "start_time": "2025-04-19T23:10:26.560Z"
   },
   {
    "duration": 801,
    "start_time": "2025-04-19T23:10:26.591Z"
   },
   {
    "duration": 24,
    "start_time": "2025-04-19T23:10:27.394Z"
   },
   {
    "duration": 24,
    "start_time": "2025-04-19T23:10:27.420Z"
   },
   {
    "duration": 12,
    "start_time": "2025-04-19T23:10:27.446Z"
   },
   {
    "duration": 6,
    "start_time": "2025-04-19T23:10:27.460Z"
   },
   {
    "duration": 471,
    "start_time": "2025-04-19T23:10:27.469Z"
   },
   {
    "duration": 284,
    "start_time": "2025-04-19T23:10:27.942Z"
   },
   {
    "duration": 132,
    "start_time": "2025-04-19T23:11:06.704Z"
   },
   {
    "duration": 19,
    "start_time": "2025-04-19T23:12:22.315Z"
   },
   {
    "duration": 139,
    "start_time": "2025-04-19T23:12:31.505Z"
   },
   {
    "duration": 779,
    "start_time": "2025-04-19T23:12:35.862Z"
   },
   {
    "duration": 27,
    "start_time": "2025-04-19T23:13:10.910Z"
   },
   {
    "duration": 14,
    "start_time": "2025-04-19T23:13:16.650Z"
   },
   {
    "duration": 22,
    "start_time": "2025-04-19T23:15:07.587Z"
   },
   {
    "duration": 1413,
    "start_time": "2025-04-19T23:16:41.137Z"
   },
   {
    "duration": 39,
    "start_time": "2025-04-19T23:16:42.552Z"
   },
   {
    "duration": 10,
    "start_time": "2025-04-19T23:16:42.593Z"
   },
   {
    "duration": 6,
    "start_time": "2025-04-19T23:16:42.604Z"
   },
   {
    "duration": 11,
    "start_time": "2025-04-19T23:16:42.612Z"
   },
   {
    "duration": 9,
    "start_time": "2025-04-19T23:16:42.636Z"
   },
   {
    "duration": 23,
    "start_time": "2025-04-19T23:16:42.646Z"
   },
   {
    "duration": 11,
    "start_time": "2025-04-19T23:16:42.670Z"
   },
   {
    "duration": 791,
    "start_time": "2025-04-19T23:16:42.683Z"
   },
   {
    "duration": 24,
    "start_time": "2025-04-19T23:16:43.476Z"
   },
   {
    "duration": 19,
    "start_time": "2025-04-19T23:16:43.502Z"
   },
   {
    "duration": 21,
    "start_time": "2025-04-19T23:16:43.523Z"
   },
   {
    "duration": 7,
    "start_time": "2025-04-19T23:16:43.545Z"
   },
   {
    "duration": 887,
    "start_time": "2025-04-19T23:16:43.555Z"
   },
   {
    "duration": 93,
    "start_time": "2025-04-19T23:16:44.444Z"
   },
   {
    "duration": 200,
    "start_time": "2025-04-19T23:16:44.540Z"
   },
   {
    "duration": 3,
    "start_time": "2025-04-19T23:20:57.938Z"
   },
   {
    "duration": 6968,
    "start_time": "2025-04-19T23:21:56.663Z"
   },
   {
    "duration": 5,
    "start_time": "2025-04-19T23:22:27.948Z"
   },
   {
    "duration": 4,
    "start_time": "2025-04-19T23:23:33.292Z"
   },
   {
    "duration": 169,
    "start_time": "2025-04-19T23:24:29.667Z"
   },
   {
    "duration": 46,
    "start_time": "2025-04-19T23:24:29.838Z"
   },
   {
    "duration": 9,
    "start_time": "2025-04-19T23:24:29.886Z"
   },
   {
    "duration": 73,
    "start_time": "2025-04-19T23:24:29.897Z"
   },
   {
    "duration": 8,
    "start_time": "2025-04-19T23:24:29.972Z"
   },
   {
    "duration": 28,
    "start_time": "2025-04-19T23:24:29.981Z"
   },
   {
    "duration": 97,
    "start_time": "2025-04-19T23:24:30.011Z"
   },
   {
    "duration": 45,
    "start_time": "2025-04-19T23:24:30.110Z"
   },
   {
    "duration": 892,
    "start_time": "2025-04-19T23:24:30.157Z"
   },
   {
    "duration": 23,
    "start_time": "2025-04-19T23:24:31.051Z"
   },
   {
    "duration": 30,
    "start_time": "2025-04-19T23:24:31.076Z"
   },
   {
    "duration": 11,
    "start_time": "2025-04-19T23:24:31.108Z"
   },
   {
    "duration": 18,
    "start_time": "2025-04-19T23:24:31.120Z"
   },
   {
    "duration": 604,
    "start_time": "2025-04-19T23:24:31.140Z"
   },
   {
    "duration": 92,
    "start_time": "2025-04-19T23:24:31.746Z"
   },
   {
    "duration": 172,
    "start_time": "2025-04-19T23:24:31.841Z"
   },
   {
    "duration": 24329,
    "start_time": "2025-04-19T23:24:32.015Z"
   },
   {
    "duration": 4,
    "start_time": "2025-04-19T23:24:56.345Z"
   },
   {
    "duration": 25,
    "start_time": "2025-04-19T23:24:56.351Z"
   },
   {
    "duration": 63,
    "start_time": "2025-04-19T23:24:56.378Z"
   },
   {
    "duration": 3,
    "start_time": "2025-04-19T23:25:05.716Z"
   },
   {
    "duration": 24402,
    "start_time": "2025-04-19T23:25:06.249Z"
   },
   {
    "duration": 4,
    "start_time": "2025-04-19T23:25:30.654Z"
   },
   {
    "duration": 75,
    "start_time": "2025-04-19T23:25:30.660Z"
   },
   {
    "duration": 4,
    "start_time": "2025-04-19T23:28:47.655Z"
   },
   {
    "duration": 7,
    "start_time": "2025-04-19T23:28:54.488Z"
   },
   {
    "duration": 1406,
    "start_time": "2025-04-19T23:29:16.835Z"
   },
   {
    "duration": 40,
    "start_time": "2025-04-19T23:29:18.243Z"
   },
   {
    "duration": 11,
    "start_time": "2025-04-19T23:29:18.284Z"
   },
   {
    "duration": 10,
    "start_time": "2025-04-19T23:29:18.297Z"
   },
   {
    "duration": 18,
    "start_time": "2025-04-19T23:29:18.309Z"
   },
   {
    "duration": 11,
    "start_time": "2025-04-19T23:29:18.328Z"
   },
   {
    "duration": 5,
    "start_time": "2025-04-19T23:29:18.340Z"
   },
   {
    "duration": 15,
    "start_time": "2025-04-19T23:29:18.346Z"
   },
   {
    "duration": 820,
    "start_time": "2025-04-19T23:29:18.362Z"
   },
   {
    "duration": 25,
    "start_time": "2025-04-19T23:29:19.184Z"
   },
   {
    "duration": 30,
    "start_time": "2025-04-19T23:29:19.210Z"
   },
   {
    "duration": 12,
    "start_time": "2025-04-19T23:29:19.242Z"
   },
   {
    "duration": 7,
    "start_time": "2025-04-19T23:29:19.256Z"
   },
   {
    "duration": 979,
    "start_time": "2025-04-19T23:29:19.266Z"
   },
   {
    "duration": 4,
    "start_time": "2025-04-19T23:29:20.337Z"
   },
   {
    "duration": 10,
    "start_time": "2025-04-19T23:29:20.343Z"
   },
   {
    "duration": 24428,
    "start_time": "2025-04-19T23:29:20.355Z"
   },
   {
    "duration": 5,
    "start_time": "2025-04-19T23:29:44.784Z"
   },
   {
    "duration": 18,
    "start_time": "2025-04-19T23:29:44.790Z"
   },
   {
    "duration": 31,
    "start_time": "2025-04-19T23:29:44.810Z"
   },
   {
    "duration": 127,
    "start_time": "2025-04-19T23:29:44.936Z"
   },
   {
    "duration": 1439,
    "start_time": "2025-04-19T23:30:22.227Z"
   },
   {
    "duration": 41,
    "start_time": "2025-04-19T23:30:23.668Z"
   },
   {
    "duration": 11,
    "start_time": "2025-04-19T23:30:23.711Z"
   },
   {
    "duration": 6,
    "start_time": "2025-04-19T23:30:23.723Z"
   },
   {
    "duration": 15,
    "start_time": "2025-04-19T23:30:23.731Z"
   },
   {
    "duration": 8,
    "start_time": "2025-04-19T23:30:23.748Z"
   },
   {
    "duration": 4,
    "start_time": "2025-04-19T23:30:23.758Z"
   },
   {
    "duration": 10,
    "start_time": "2025-04-19T23:30:23.764Z"
   },
   {
    "duration": 871,
    "start_time": "2025-04-19T23:30:23.776Z"
   },
   {
    "duration": 27,
    "start_time": "2025-04-19T23:30:24.649Z"
   },
   {
    "duration": 11,
    "start_time": "2025-04-19T23:30:24.678Z"
   },
   {
    "duration": 60,
    "start_time": "2025-04-19T23:30:24.691Z"
   },
   {
    "duration": 8,
    "start_time": "2025-04-19T23:30:24.753Z"
   },
   {
    "duration": 1080,
    "start_time": "2025-04-19T23:30:24.764Z"
   },
   {
    "duration": 92,
    "start_time": "2025-04-19T23:30:25.846Z"
   },
   {
    "duration": 85,
    "start_time": "2025-04-19T23:30:25.940Z"
   },
   {
    "duration": 21488,
    "start_time": "2025-04-19T23:30:26.027Z"
   },
   {
    "duration": 5,
    "start_time": "2025-04-19T23:30:47.516Z"
   },
   {
    "duration": 14,
    "start_time": "2025-04-19T23:30:47.522Z"
   },
   {
    "duration": 18,
    "start_time": "2025-04-19T23:30:47.537Z"
   },
   {
    "duration": 180,
    "start_time": "2025-04-19T23:30:47.557Z"
   },
   {
    "duration": 1440,
    "start_time": "2025-04-19T23:31:20.161Z"
   },
   {
    "duration": 41,
    "start_time": "2025-04-19T23:31:21.603Z"
   },
   {
    "duration": 10,
    "start_time": "2025-04-19T23:31:21.646Z"
   },
   {
    "duration": 6,
    "start_time": "2025-04-19T23:31:21.658Z"
   },
   {
    "duration": 22,
    "start_time": "2025-04-19T23:31:21.666Z"
   },
   {
    "duration": 9,
    "start_time": "2025-04-19T23:31:21.689Z"
   },
   {
    "duration": 14,
    "start_time": "2025-04-19T23:31:21.700Z"
   },
   {
    "duration": 24,
    "start_time": "2025-04-19T23:31:21.716Z"
   },
   {
    "duration": 829,
    "start_time": "2025-04-19T23:31:21.742Z"
   },
   {
    "duration": 25,
    "start_time": "2025-04-19T23:31:22.572Z"
   },
   {
    "duration": 11,
    "start_time": "2025-04-19T23:31:22.599Z"
   },
   {
    "duration": 34,
    "start_time": "2025-04-19T23:31:22.611Z"
   },
   {
    "duration": 7,
    "start_time": "2025-04-19T23:31:22.647Z"
   },
   {
    "duration": 682,
    "start_time": "2025-04-19T23:31:22.656Z"
   },
   {
    "duration": 95,
    "start_time": "2025-04-19T23:31:23.343Z"
   },
   {
    "duration": 87,
    "start_time": "2025-04-19T23:31:23.440Z"
   },
   {
    "duration": 19940,
    "start_time": "2025-04-19T23:31:23.528Z"
   },
   {
    "duration": 4,
    "start_time": "2025-04-19T23:31:43.470Z"
   },
   {
    "duration": 36,
    "start_time": "2025-04-19T23:31:43.475Z"
   },
   {
    "duration": 25,
    "start_time": "2025-04-19T23:31:43.513Z"
   },
   {
    "duration": 95,
    "start_time": "2025-04-19T23:31:43.543Z"
   },
   {
    "duration": 1413,
    "start_time": "2025-04-19T23:32:13.471Z"
   },
   {
    "duration": 40,
    "start_time": "2025-04-19T23:32:14.886Z"
   },
   {
    "duration": 10,
    "start_time": "2025-04-19T23:32:14.928Z"
   },
   {
    "duration": 5,
    "start_time": "2025-04-19T23:32:14.940Z"
   },
   {
    "duration": 9,
    "start_time": "2025-04-19T23:32:14.948Z"
   },
   {
    "duration": 8,
    "start_time": "2025-04-19T23:32:14.958Z"
   },
   {
    "duration": 4,
    "start_time": "2025-04-19T23:32:14.968Z"
   },
   {
    "duration": 9,
    "start_time": "2025-04-19T23:32:14.973Z"
   },
   {
    "duration": 859,
    "start_time": "2025-04-19T23:32:14.984Z"
   },
   {
    "duration": 25,
    "start_time": "2025-04-19T23:32:15.844Z"
   },
   {
    "duration": 12,
    "start_time": "2025-04-19T23:32:15.870Z"
   },
   {
    "duration": 16,
    "start_time": "2025-04-19T23:32:15.883Z"
   },
   {
    "duration": 41,
    "start_time": "2025-04-19T23:32:15.901Z"
   },
   {
    "duration": 803,
    "start_time": "2025-04-19T23:32:15.944Z"
   },
   {
    "duration": 84,
    "start_time": "2025-04-19T23:32:16.753Z"
   },
   {
    "duration": 6,
    "start_time": "2025-04-19T23:32:16.839Z"
   },
   {
    "duration": 27927,
    "start_time": "2025-04-19T23:32:16.848Z"
   },
   {
    "duration": 4,
    "start_time": "2025-04-19T23:32:44.777Z"
   },
   {
    "duration": 12,
    "start_time": "2025-04-19T23:32:44.783Z"
   },
   {
    "duration": 46,
    "start_time": "2025-04-19T23:32:44.797Z"
   },
   {
    "duration": 97,
    "start_time": "2025-04-19T23:32:44.844Z"
   },
   {
    "duration": 1453,
    "start_time": "2025-04-19T23:34:05.717Z"
   },
   {
    "duration": 40,
    "start_time": "2025-04-19T23:34:07.172Z"
   },
   {
    "duration": 10,
    "start_time": "2025-04-19T23:34:07.214Z"
   },
   {
    "duration": 9,
    "start_time": "2025-04-19T23:34:07.226Z"
   },
   {
    "duration": 9,
    "start_time": "2025-04-19T23:34:07.237Z"
   },
   {
    "duration": 10,
    "start_time": "2025-04-19T23:34:07.248Z"
   },
   {
    "duration": 7,
    "start_time": "2025-04-19T23:34:07.259Z"
   },
   {
    "duration": 13,
    "start_time": "2025-04-19T23:34:07.267Z"
   },
   {
    "duration": 881,
    "start_time": "2025-04-19T23:34:07.282Z"
   },
   {
    "duration": 24,
    "start_time": "2025-04-19T23:34:08.166Z"
   },
   {
    "duration": 10,
    "start_time": "2025-04-19T23:34:08.192Z"
   },
   {
    "duration": 37,
    "start_time": "2025-04-19T23:34:08.203Z"
   },
   {
    "duration": 7,
    "start_time": "2025-04-19T23:34:08.242Z"
   },
   {
    "duration": 990,
    "start_time": "2025-04-19T23:34:08.250Z"
   },
   {
    "duration": 209,
    "start_time": "2025-04-19T23:34:09.245Z"
   },
   {
    "duration": 0,
    "start_time": "2025-04-19T23:34:09.456Z"
   },
   {
    "duration": 0,
    "start_time": "2025-04-19T23:34:09.457Z"
   },
   {
    "duration": 0,
    "start_time": "2025-04-19T23:34:09.458Z"
   },
   {
    "duration": 0,
    "start_time": "2025-04-19T23:34:09.460Z"
   },
   {
    "duration": 0,
    "start_time": "2025-04-19T23:34:09.461Z"
   },
   {
    "duration": 0,
    "start_time": "2025-04-19T23:34:09.462Z"
   },
   {
    "duration": 4,
    "start_time": "2025-04-19T23:34:39.102Z"
   },
   {
    "duration": 2,
    "start_time": "2025-04-19T23:34:40.126Z"
   },
   {
    "duration": 11743,
    "start_time": "2025-04-19T23:34:40.566Z"
   },
   {
    "duration": 4,
    "start_time": "2025-04-19T23:34:52.311Z"
   },
   {
    "duration": 21,
    "start_time": "2025-04-19T23:34:52.316Z"
   },
   {
    "duration": 28,
    "start_time": "2025-04-19T23:34:52.339Z"
   },
   {
    "duration": 172,
    "start_time": "2025-04-19T23:34:52.369Z"
   },
   {
    "duration": 1343,
    "start_time": "2025-04-19T23:35:38.887Z"
   },
   {
    "duration": 39,
    "start_time": "2025-04-19T23:35:40.232Z"
   },
   {
    "duration": 12,
    "start_time": "2025-04-19T23:35:40.273Z"
   },
   {
    "duration": 5,
    "start_time": "2025-04-19T23:35:40.288Z"
   },
   {
    "duration": 10,
    "start_time": "2025-04-19T23:35:40.295Z"
   },
   {
    "duration": 8,
    "start_time": "2025-04-19T23:35:40.307Z"
   },
   {
    "duration": 22,
    "start_time": "2025-04-19T23:35:40.317Z"
   },
   {
    "duration": 22,
    "start_time": "2025-04-19T23:35:40.340Z"
   },
   {
    "duration": 799,
    "start_time": "2025-04-19T23:35:40.364Z"
   },
   {
    "duration": 25,
    "start_time": "2025-04-19T23:35:41.165Z"
   },
   {
    "duration": 10,
    "start_time": "2025-04-19T23:35:41.191Z"
   },
   {
    "duration": 11,
    "start_time": "2025-04-19T23:35:41.203Z"
   },
   {
    "duration": 8,
    "start_time": "2025-04-19T23:35:41.237Z"
   },
   {
    "duration": 999,
    "start_time": "2025-04-19T23:35:41.246Z"
   },
   {
    "duration": 91,
    "start_time": "2025-04-19T23:35:42.247Z"
   },
   {
    "duration": 5,
    "start_time": "2025-04-19T23:35:42.340Z"
   },
   {
    "duration": 17339,
    "start_time": "2025-04-19T23:35:42.347Z"
   },
   {
    "duration": 4,
    "start_time": "2025-04-19T23:35:59.688Z"
   },
   {
    "duration": 4,
    "start_time": "2025-04-19T23:35:59.694Z"
   },
   {
    "duration": 45,
    "start_time": "2025-04-19T23:35:59.700Z"
   },
   {
    "duration": 93,
    "start_time": "2025-04-19T23:35:59.748Z"
   },
   {
    "duration": 4,
    "start_time": "2025-04-19T23:36:36.270Z"
   },
   {
    "duration": 55,
    "start_time": "2025-04-19T23:36:36.276Z"
   },
   {
    "duration": 10,
    "start_time": "2025-04-19T23:36:36.332Z"
   },
   {
    "duration": 48,
    "start_time": "2025-04-19T23:36:36.343Z"
   },
   {
    "duration": 31,
    "start_time": "2025-04-19T23:36:36.393Z"
   },
   {
    "duration": 15,
    "start_time": "2025-04-19T23:36:36.426Z"
   },
   {
    "duration": 58,
    "start_time": "2025-04-19T23:36:36.442Z"
   },
   {
    "duration": 28,
    "start_time": "2025-04-19T23:36:36.502Z"
   },
   {
    "duration": 913,
    "start_time": "2025-04-19T23:36:36.531Z"
   },
   {
    "duration": 24,
    "start_time": "2025-04-19T23:36:37.445Z"
   },
   {
    "duration": 77,
    "start_time": "2025-04-19T23:36:37.470Z"
   },
   {
    "duration": 11,
    "start_time": "2025-04-19T23:36:37.549Z"
   },
   {
    "duration": 25,
    "start_time": "2025-04-19T23:36:37.562Z"
   },
   {
    "duration": 948,
    "start_time": "2025-04-19T23:36:37.590Z"
   },
   {
    "duration": 97,
    "start_time": "2025-04-19T23:36:38.540Z"
   },
   {
    "duration": 3,
    "start_time": "2025-04-19T23:36:38.638Z"
   },
   {
    "duration": 134,
    "start_time": "2025-04-19T23:36:38.642Z"
   },
   {
    "duration": 0,
    "start_time": "2025-04-19T23:36:38.778Z"
   },
   {
    "duration": 0,
    "start_time": "2025-04-19T23:36:38.779Z"
   },
   {
    "duration": 0,
    "start_time": "2025-04-19T23:36:38.780Z"
   },
   {
    "duration": 1,
    "start_time": "2025-04-19T23:36:38.781Z"
   },
   {
    "duration": 15,
    "start_time": "2025-04-19T23:37:01.122Z"
   },
   {
    "duration": 1441,
    "start_time": "2025-04-19T23:37:10.847Z"
   },
   {
    "duration": 40,
    "start_time": "2025-04-19T23:37:12.290Z"
   },
   {
    "duration": 11,
    "start_time": "2025-04-19T23:37:12.332Z"
   },
   {
    "duration": 38,
    "start_time": "2025-04-19T23:37:12.345Z"
   },
   {
    "duration": 16,
    "start_time": "2025-04-19T23:37:12.386Z"
   },
   {
    "duration": 8,
    "start_time": "2025-04-19T23:37:12.403Z"
   },
   {
    "duration": 46,
    "start_time": "2025-04-19T23:37:12.413Z"
   },
   {
    "duration": 29,
    "start_time": "2025-04-19T23:37:12.462Z"
   },
   {
    "duration": 822,
    "start_time": "2025-04-19T23:37:12.493Z"
   },
   {
    "duration": 39,
    "start_time": "2025-04-19T23:37:13.317Z"
   },
   {
    "duration": 10,
    "start_time": "2025-04-19T23:37:13.358Z"
   },
   {
    "duration": 12,
    "start_time": "2025-04-19T23:37:13.370Z"
   },
   {
    "duration": 10,
    "start_time": "2025-04-19T23:37:13.384Z"
   },
   {
    "duration": 1051,
    "start_time": "2025-04-19T23:37:13.395Z"
   },
   {
    "duration": 91,
    "start_time": "2025-04-19T23:37:14.448Z"
   },
   {
    "duration": 5,
    "start_time": "2025-04-19T23:37:14.543Z"
   },
   {
    "duration": 138,
    "start_time": "2025-04-19T23:37:14.638Z"
   },
   {
    "duration": 0,
    "start_time": "2025-04-19T23:37:14.778Z"
   },
   {
    "duration": 0,
    "start_time": "2025-04-19T23:37:14.780Z"
   },
   {
    "duration": 1,
    "start_time": "2025-04-19T23:37:14.781Z"
   },
   {
    "duration": 0,
    "start_time": "2025-04-19T23:37:14.783Z"
   },
   {
    "duration": 16,
    "start_time": "2025-04-19T23:37:32.168Z"
   },
   {
    "duration": 16,
    "start_time": "2025-04-19T23:37:38.288Z"
   },
   {
    "duration": 16,
    "start_time": "2025-04-19T23:38:24.821Z"
   },
   {
    "duration": 9,
    "start_time": "2025-04-19T23:38:25.274Z"
   },
   {
    "duration": 3,
    "start_time": "2025-04-19T23:38:31.544Z"
   },
   {
    "duration": 3,
    "start_time": "2025-04-19T23:38:32.074Z"
   },
   {
    "duration": 29332,
    "start_time": "2025-04-19T23:38:32.639Z"
   },
   {
    "duration": 4,
    "start_time": "2025-04-19T23:39:01.973Z"
   },
   {
    "duration": 95,
    "start_time": "2025-04-19T23:39:01.979Z"
   },
   {
    "duration": 61,
    "start_time": "2025-04-19T23:39:02.076Z"
   },
   {
    "duration": 116,
    "start_time": "2025-04-19T23:39:02.140Z"
   },
   {
    "duration": 1391,
    "start_time": "2025-04-19T23:39:32.135Z"
   },
   {
    "duration": 39,
    "start_time": "2025-04-19T23:39:33.528Z"
   },
   {
    "duration": 11,
    "start_time": "2025-04-19T23:39:33.569Z"
   },
   {
    "duration": 24,
    "start_time": "2025-04-19T23:39:33.581Z"
   },
   {
    "duration": 8,
    "start_time": "2025-04-19T23:39:33.608Z"
   },
   {
    "duration": 12,
    "start_time": "2025-04-19T23:39:33.618Z"
   },
   {
    "duration": 29,
    "start_time": "2025-04-19T23:39:33.632Z"
   },
   {
    "duration": 35,
    "start_time": "2025-04-19T23:39:33.662Z"
   },
   {
    "duration": 872,
    "start_time": "2025-04-19T23:39:33.698Z"
   },
   {
    "duration": 26,
    "start_time": "2025-04-19T23:39:34.572Z"
   },
   {
    "duration": 12,
    "start_time": "2025-04-19T23:39:34.599Z"
   },
   {
    "duration": 34,
    "start_time": "2025-04-19T23:39:34.613Z"
   },
   {
    "duration": 17,
    "start_time": "2025-04-19T23:39:34.649Z"
   },
   {
    "duration": 878,
    "start_time": "2025-04-19T23:39:34.670Z"
   },
   {
    "duration": 4,
    "start_time": "2025-04-19T23:39:35.636Z"
   },
   {
    "duration": 101,
    "start_time": "2025-04-19T23:39:35.646Z"
   },
   {
    "duration": 63761,
    "start_time": "2025-04-19T23:39:35.749Z"
   },
   {
    "duration": 4,
    "start_time": "2025-04-19T23:40:39.512Z"
   },
   {
    "duration": 19,
    "start_time": "2025-04-19T23:40:39.518Z"
   },
   {
    "duration": 97,
    "start_time": "2025-04-19T23:40:39.539Z"
   },
   {
    "duration": 10,
    "start_time": "2025-04-19T23:40:39.639Z"
   },
   {
    "duration": 1431,
    "start_time": "2025-04-19T23:41:04.237Z"
   },
   {
    "duration": 40,
    "start_time": "2025-04-19T23:41:05.670Z"
   },
   {
    "duration": 11,
    "start_time": "2025-04-19T23:41:05.712Z"
   },
   {
    "duration": 6,
    "start_time": "2025-04-19T23:41:05.725Z"
   },
   {
    "duration": 9,
    "start_time": "2025-04-19T23:41:05.736Z"
   },
   {
    "duration": 8,
    "start_time": "2025-04-19T23:41:05.747Z"
   },
   {
    "duration": 48,
    "start_time": "2025-04-19T23:41:05.757Z"
   },
   {
    "duration": 22,
    "start_time": "2025-04-19T23:41:05.807Z"
   },
   {
    "duration": 828,
    "start_time": "2025-04-19T23:41:05.830Z"
   },
   {
    "duration": 25,
    "start_time": "2025-04-19T23:41:06.661Z"
   },
   {
    "duration": 11,
    "start_time": "2025-04-19T23:41:06.687Z"
   },
   {
    "duration": 83,
    "start_time": "2025-04-19T23:41:06.699Z"
   },
   {
    "duration": 17,
    "start_time": "2025-04-19T23:41:06.783Z"
   },
   {
    "duration": 1237,
    "start_time": "2025-04-19T23:41:06.802Z"
   },
   {
    "duration": 4,
    "start_time": "2025-04-19T23:41:08.040Z"
   },
   {
    "duration": 27,
    "start_time": "2025-04-19T23:41:08.045Z"
   },
   {
    "duration": 64091,
    "start_time": "2025-04-19T23:41:08.073Z"
   },
   {
    "duration": 5,
    "start_time": "2025-04-19T23:42:12.165Z"
   },
   {
    "duration": 6,
    "start_time": "2025-04-19T23:42:12.172Z"
   },
   {
    "duration": 61,
    "start_time": "2025-04-19T23:42:12.180Z"
   },
   {
    "duration": 96,
    "start_time": "2025-04-19T23:42:12.244Z"
   },
   {
    "duration": 1347,
    "start_time": "2025-04-19T23:42:45.990Z"
   },
   {
    "duration": 40,
    "start_time": "2025-04-19T23:42:47.339Z"
   },
   {
    "duration": 12,
    "start_time": "2025-04-19T23:42:47.380Z"
   },
   {
    "duration": 8,
    "start_time": "2025-04-19T23:42:47.393Z"
   },
   {
    "duration": 14,
    "start_time": "2025-04-19T23:42:47.403Z"
   },
   {
    "duration": 21,
    "start_time": "2025-04-19T23:42:47.419Z"
   },
   {
    "duration": 5,
    "start_time": "2025-04-19T23:42:47.441Z"
   },
   {
    "duration": 11,
    "start_time": "2025-04-19T23:42:47.447Z"
   },
   {
    "duration": 853,
    "start_time": "2025-04-19T23:42:47.460Z"
   },
   {
    "duration": 41,
    "start_time": "2025-04-19T23:42:48.315Z"
   },
   {
    "duration": 10,
    "start_time": "2025-04-19T23:42:48.358Z"
   },
   {
    "duration": 12,
    "start_time": "2025-04-19T23:42:48.369Z"
   },
   {
    "duration": 7,
    "start_time": "2025-04-19T23:42:48.382Z"
   },
   {
    "duration": 1051,
    "start_time": "2025-04-19T23:42:48.392Z"
   },
   {
    "duration": 4,
    "start_time": "2025-04-19T23:42:49.535Z"
   },
   {
    "duration": 22,
    "start_time": "2025-04-19T23:42:49.541Z"
   },
   {
    "duration": 75956,
    "start_time": "2025-04-19T23:42:49.565Z"
   },
   {
    "duration": 4,
    "start_time": "2025-04-19T23:44:05.523Z"
   },
   {
    "duration": 9,
    "start_time": "2025-04-19T23:44:05.528Z"
   },
   {
    "duration": 52,
    "start_time": "2025-04-19T23:44:05.539Z"
   },
   {
    "duration": 104,
    "start_time": "2025-04-19T23:44:05.638Z"
   },
   {
    "duration": 1420,
    "start_time": "2025-04-19T23:45:16.986Z"
   },
   {
    "duration": 41,
    "start_time": "2025-04-19T23:45:18.408Z"
   },
   {
    "duration": 12,
    "start_time": "2025-04-19T23:45:18.450Z"
   },
   {
    "duration": 19,
    "start_time": "2025-04-19T23:45:18.463Z"
   },
   {
    "duration": 10,
    "start_time": "2025-04-19T23:45:18.484Z"
   },
   {
    "duration": 9,
    "start_time": "2025-04-19T23:45:18.496Z"
   },
   {
    "duration": 5,
    "start_time": "2025-04-19T23:45:18.507Z"
   },
   {
    "duration": 31,
    "start_time": "2025-04-19T23:45:18.514Z"
   },
   {
    "duration": 856,
    "start_time": "2025-04-19T23:45:18.546Z"
   },
   {
    "duration": 60,
    "start_time": "2025-04-19T23:45:19.404Z"
   },
   {
    "duration": 16,
    "start_time": "2025-04-19T23:45:19.466Z"
   },
   {
    "duration": 27,
    "start_time": "2025-04-19T23:45:19.484Z"
   },
   {
    "duration": 7,
    "start_time": "2025-04-19T23:45:19.513Z"
   },
   {
    "duration": 1317,
    "start_time": "2025-04-19T23:45:19.523Z"
   },
   {
    "duration": 90,
    "start_time": "2025-04-19T23:45:20.847Z"
   },
   {
    "duration": 5,
    "start_time": "2025-04-19T23:45:20.940Z"
   },
   {
    "duration": 130730,
    "start_time": "2025-04-19T23:45:20.947Z"
   },
   {
    "duration": 5,
    "start_time": "2025-04-19T23:47:31.680Z"
   },
   {
    "duration": 13,
    "start_time": "2025-04-19T23:47:31.686Z"
   },
   {
    "duration": 45,
    "start_time": "2025-04-19T23:47:31.701Z"
   },
   {
    "duration": 99,
    "start_time": "2025-04-19T23:47:31.748Z"
   },
   {
    "duration": 1428,
    "start_time": "2025-04-19T23:48:32.154Z"
   },
   {
    "duration": 40,
    "start_time": "2025-04-19T23:48:33.585Z"
   },
   {
    "duration": 12,
    "start_time": "2025-04-19T23:48:33.627Z"
   },
   {
    "duration": 14,
    "start_time": "2025-04-19T23:48:33.642Z"
   },
   {
    "duration": 18,
    "start_time": "2025-04-19T23:48:33.658Z"
   },
   {
    "duration": 10,
    "start_time": "2025-04-19T23:48:33.677Z"
   },
   {
    "duration": 5,
    "start_time": "2025-04-19T23:48:33.689Z"
   },
   {
    "duration": 16,
    "start_time": "2025-04-19T23:48:33.696Z"
   },
   {
    "duration": 885,
    "start_time": "2025-04-19T23:48:33.736Z"
   },
   {
    "duration": 71,
    "start_time": "2025-04-19T23:48:34.624Z"
   },
   {
    "duration": 40,
    "start_time": "2025-04-19T23:48:34.696Z"
   },
   {
    "duration": 68,
    "start_time": "2025-04-19T23:48:34.738Z"
   },
   {
    "duration": 10,
    "start_time": "2025-04-19T23:48:34.807Z"
   },
   {
    "duration": 1421,
    "start_time": "2025-04-19T23:48:34.819Z"
   },
   {
    "duration": 4,
    "start_time": "2025-04-19T23:48:36.244Z"
   },
   {
    "duration": 19,
    "start_time": "2025-04-19T23:48:36.336Z"
   },
   {
    "duration": 173334,
    "start_time": "2025-04-19T23:48:36.357Z"
   },
   {
    "duration": 4,
    "start_time": "2025-04-19T23:51:29.693Z"
   },
   {
    "duration": 9,
    "start_time": "2025-04-19T23:51:29.699Z"
   },
   {
    "duration": 134,
    "start_time": "2025-04-19T23:51:29.709Z"
   },
   {
    "duration": 8,
    "start_time": "2025-04-19T23:51:29.845Z"
   },
   {
    "duration": 25,
    "start_time": "2025-04-19T23:58:43.743Z"
   },
   {
    "duration": 3,
    "start_time": "2025-04-19T23:59:09.907Z"
   },
   {
    "duration": 5,
    "start_time": "2025-04-20T00:00:02.512Z"
   },
   {
    "duration": 3,
    "start_time": "2025-04-20T00:00:23.940Z"
   },
   {
    "duration": 3,
    "start_time": "2025-04-20T00:06:51.400Z"
   },
   {
    "duration": 3,
    "start_time": "2025-04-20T00:07:45.245Z"
   },
   {
    "duration": 1496,
    "start_time": "2025-04-20T00:09:29.089Z"
   },
   {
    "duration": 40,
    "start_time": "2025-04-20T00:09:30.587Z"
   },
   {
    "duration": 11,
    "start_time": "2025-04-20T00:09:30.628Z"
   },
   {
    "duration": 38,
    "start_time": "2025-04-20T00:09:30.641Z"
   },
   {
    "duration": 16,
    "start_time": "2025-04-20T00:09:30.681Z"
   },
   {
    "duration": 19,
    "start_time": "2025-04-20T00:09:30.699Z"
   },
   {
    "duration": 4,
    "start_time": "2025-04-20T00:09:30.720Z"
   },
   {
    "duration": 49,
    "start_time": "2025-04-20T00:09:30.726Z"
   },
   {
    "duration": 837,
    "start_time": "2025-04-20T00:09:30.777Z"
   },
   {
    "duration": 74,
    "start_time": "2025-04-20T00:09:31.616Z"
   },
   {
    "duration": 20,
    "start_time": "2025-04-20T00:09:31.692Z"
   },
   {
    "duration": 32,
    "start_time": "2025-04-20T00:09:31.714Z"
   },
   {
    "duration": 9,
    "start_time": "2025-04-20T00:09:31.748Z"
   },
   {
    "duration": 1479,
    "start_time": "2025-04-20T00:09:31.760Z"
   },
   {
    "duration": 8,
    "start_time": "2025-04-20T00:09:33.242Z"
   },
   {
    "duration": 3,
    "start_time": "2025-04-20T00:09:33.337Z"
   },
   {
    "duration": 165417,
    "start_time": "2025-04-20T00:09:33.341Z"
   },
   {
    "duration": 5,
    "start_time": "2025-04-20T00:12:18.760Z"
   },
   {
    "duration": 17,
    "start_time": "2025-04-20T00:12:18.767Z"
   },
   {
    "duration": 5,
    "start_time": "2025-04-20T00:12:18.786Z"
   },
   {
    "duration": 8,
    "start_time": "2025-04-20T00:12:18.793Z"
   },
   {
    "duration": 6,
    "start_time": "2025-04-20T00:12:18.802Z"
   },
   {
    "duration": 198740,
    "start_time": "2025-04-20T00:12:18.809Z"
   },
   {
    "duration": 91,
    "start_time": "2025-04-20T00:15:37.551Z"
   },
   {
    "duration": 104,
    "start_time": "2025-04-20T00:15:37.644Z"
   },
   {
    "duration": 9,
    "start_time": "2025-04-20T00:15:37.836Z"
   },
   {
    "duration": 4,
    "start_time": "2025-04-20T00:16:35.400Z"
   },
   {
    "duration": 134,
    "start_time": "2025-04-20T00:19:51.252Z"
   },
   {
    "duration": 119,
    "start_time": "2025-04-20T00:25:55.985Z"
   },
   {
    "duration": 3,
    "start_time": "2025-04-20T00:25:56.402Z"
   },
   {
    "duration": 12,
    "start_time": "2025-04-20T00:25:59.966Z"
   },
   {
    "duration": 3,
    "start_time": "2025-04-20T00:26:05.431Z"
   },
   {
    "duration": 3,
    "start_time": "2025-04-20T00:26:06.129Z"
   },
   {
    "duration": 3,
    "start_time": "2025-04-20T00:26:06.588Z"
   },
   {
    "duration": 49,
    "start_time": "2025-04-20T00:33:44.101Z"
   },
   {
    "duration": 1430,
    "start_time": "2025-04-20T00:33:48.749Z"
   },
   {
    "duration": 40,
    "start_time": "2025-04-20T00:33:50.181Z"
   },
   {
    "duration": 3,
    "start_time": "2025-04-20T00:33:52.785Z"
   },
   {
    "duration": 1455,
    "start_time": "2025-04-20T00:34:46.241Z"
   },
   {
    "duration": 42,
    "start_time": "2025-04-20T00:34:47.698Z"
   },
   {
    "duration": 34,
    "start_time": "2025-04-20T00:34:47.742Z"
   },
   {
    "duration": 5,
    "start_time": "2025-04-20T00:34:47.779Z"
   },
   {
    "duration": 16,
    "start_time": "2025-04-20T00:34:47.786Z"
   },
   {
    "duration": 13,
    "start_time": "2025-04-20T00:34:47.804Z"
   },
   {
    "duration": 4,
    "start_time": "2025-04-20T00:34:47.819Z"
   },
   {
    "duration": 14,
    "start_time": "2025-04-20T00:34:47.824Z"
   },
   {
    "duration": 829,
    "start_time": "2025-04-20T00:34:47.840Z"
   },
   {
    "duration": 107,
    "start_time": "2025-04-20T00:34:48.672Z"
   },
   {
    "duration": 72,
    "start_time": "2025-04-20T00:34:48.781Z"
   },
   {
    "duration": 23,
    "start_time": "2025-04-20T00:34:48.855Z"
   },
   {
    "duration": 60,
    "start_time": "2025-04-20T00:34:48.880Z"
   },
   {
    "duration": 1599,
    "start_time": "2025-04-20T00:34:48.942Z"
   },
   {
    "duration": 93,
    "start_time": "2025-04-20T00:34:50.544Z"
   },
   {
    "duration": 29,
    "start_time": "2025-04-20T00:34:50.639Z"
   },
   {
    "duration": 166754,
    "start_time": "2025-04-20T00:34:50.669Z"
   },
   {
    "duration": 13,
    "start_time": "2025-04-20T00:37:37.425Z"
   },
   {
    "duration": 4,
    "start_time": "2025-04-20T00:37:37.439Z"
   },
   {
    "duration": 3,
    "start_time": "2025-04-20T00:37:37.445Z"
   },
   {
    "duration": 7,
    "start_time": "2025-04-20T00:37:37.450Z"
   },
   {
    "duration": 10,
    "start_time": "2025-04-20T00:37:37.458Z"
   },
   {
    "duration": 282471,
    "start_time": "2025-04-20T00:37:37.470Z"
   },
   {
    "duration": 4,
    "start_time": "2025-04-20T00:42:19.943Z"
   },
   {
    "duration": 5,
    "start_time": "2025-04-20T00:42:19.949Z"
   },
   {
    "duration": 12,
    "start_time": "2025-04-20T00:42:19.955Z"
   },
   {
    "duration": 3,
    "start_time": "2025-04-20T00:42:19.968Z"
   },
   {
    "duration": 109763,
    "start_time": "2025-04-20T00:42:19.974Z"
   },
   {
    "duration": 3,
    "start_time": "2025-04-20T00:44:09.739Z"
   },
   {
    "duration": 44,
    "start_time": "2025-04-20T00:44:09.744Z"
   },
   {
    "duration": 100,
    "start_time": "2025-04-20T00:44:09.838Z"
   },
   {
    "duration": 10,
    "start_time": "2025-04-20T00:44:09.940Z"
   },
   {
    "duration": 14,
    "start_time": "2025-04-20T00:44:09.952Z"
   },
   {
    "duration": 1401,
    "start_time": "2025-04-20T00:48:30.867Z"
   },
   {
    "duration": 41,
    "start_time": "2025-04-20T00:48:32.270Z"
   },
   {
    "duration": 11,
    "start_time": "2025-04-20T00:48:32.313Z"
   },
   {
    "duration": 12,
    "start_time": "2025-04-20T00:48:32.325Z"
   },
   {
    "duration": 44,
    "start_time": "2025-04-20T00:48:32.339Z"
   },
   {
    "duration": 69,
    "start_time": "2025-04-20T00:48:32.385Z"
   },
   {
    "duration": 7,
    "start_time": "2025-04-20T00:48:32.456Z"
   },
   {
    "duration": 23,
    "start_time": "2025-04-20T00:48:32.464Z"
   },
   {
    "duration": 769,
    "start_time": "2025-04-20T00:48:32.489Z"
   },
   {
    "duration": 58,
    "start_time": "2025-04-20T00:48:33.260Z"
   },
   {
    "duration": 33,
    "start_time": "2025-04-20T00:48:33.319Z"
   },
   {
    "duration": 118,
    "start_time": "2025-04-20T00:48:33.354Z"
   },
   {
    "duration": 10,
    "start_time": "2025-04-20T00:48:33.474Z"
   },
   {
    "duration": 1455,
    "start_time": "2025-04-20T00:48:33.487Z"
   },
   {
    "duration": 4,
    "start_time": "2025-04-20T00:48:34.945Z"
   },
   {
    "duration": 86,
    "start_time": "2025-04-20T00:48:34.951Z"
   },
   {
    "duration": 1430,
    "start_time": "2025-04-20T00:50:37.763Z"
   },
   {
    "duration": 43,
    "start_time": "2025-04-20T00:50:39.196Z"
   },
   {
    "duration": 11,
    "start_time": "2025-04-20T00:50:39.241Z"
   },
   {
    "duration": 19,
    "start_time": "2025-04-20T00:50:39.253Z"
   },
   {
    "duration": 14,
    "start_time": "2025-04-20T00:50:39.273Z"
   },
   {
    "duration": 8,
    "start_time": "2025-04-20T00:50:39.289Z"
   },
   {
    "duration": 33,
    "start_time": "2025-04-20T00:50:39.299Z"
   },
   {
    "duration": 29,
    "start_time": "2025-04-20T00:50:39.334Z"
   },
   {
    "duration": 784,
    "start_time": "2025-04-20T00:50:39.365Z"
   },
   {
    "duration": 59,
    "start_time": "2025-04-20T00:50:40.151Z"
   },
   {
    "duration": 35,
    "start_time": "2025-04-20T00:50:40.212Z"
   },
   {
    "duration": 15,
    "start_time": "2025-04-20T00:50:40.249Z"
   },
   {
    "duration": 7,
    "start_time": "2025-04-20T00:50:40.266Z"
   },
   {
    "duration": 1263,
    "start_time": "2025-04-20T00:50:40.275Z"
   },
   {
    "duration": 5,
    "start_time": "2025-04-20T00:50:41.540Z"
   },
   {
    "duration": 3,
    "start_time": "2025-04-20T00:50:41.637Z"
   },
   {
    "duration": 85639,
    "start_time": "2025-04-20T00:50:41.641Z"
   },
   {
    "duration": 7,
    "start_time": "2025-04-20T00:52:07.282Z"
   },
   {
    "duration": 7,
    "start_time": "2025-04-20T00:52:07.290Z"
   },
   {
    "duration": 7,
    "start_time": "2025-04-20T00:52:07.298Z"
   },
   {
    "duration": 6,
    "start_time": "2025-04-20T00:52:07.307Z"
   },
   {
    "duration": 22,
    "start_time": "2025-04-20T00:52:07.314Z"
   },
   {
    "duration": 1377,
    "start_time": "2025-04-20T00:52:52.089Z"
   },
   {
    "duration": 41,
    "start_time": "2025-04-20T00:52:53.468Z"
   },
   {
    "duration": 9,
    "start_time": "2025-04-20T00:52:53.511Z"
   },
   {
    "duration": 5,
    "start_time": "2025-04-20T00:52:53.522Z"
   },
   {
    "duration": 9,
    "start_time": "2025-04-20T00:52:53.537Z"
   },
   {
    "duration": 9,
    "start_time": "2025-04-20T00:52:53.547Z"
   },
   {
    "duration": 4,
    "start_time": "2025-04-20T00:52:53.558Z"
   },
   {
    "duration": 11,
    "start_time": "2025-04-20T00:52:53.563Z"
   },
   {
    "duration": 817,
    "start_time": "2025-04-20T00:52:53.576Z"
   },
   {
    "duration": 84,
    "start_time": "2025-04-20T00:52:54.397Z"
   },
   {
    "duration": 18,
    "start_time": "2025-04-20T00:52:54.483Z"
   },
   {
    "duration": 19,
    "start_time": "2025-04-20T00:52:54.503Z"
   },
   {
    "duration": 17,
    "start_time": "2025-04-20T00:52:54.524Z"
   },
   {
    "duration": 1295,
    "start_time": "2025-04-20T00:52:54.543Z"
   },
   {
    "duration": 5,
    "start_time": "2025-04-20T00:52:55.840Z"
   },
   {
    "duration": 6,
    "start_time": "2025-04-20T00:52:55.937Z"
   },
   {
    "duration": 86414,
    "start_time": "2025-04-20T00:52:55.945Z"
   },
   {
    "duration": 3,
    "start_time": "2025-04-20T00:54:22.361Z"
   },
   {
    "duration": 14,
    "start_time": "2025-04-20T00:54:22.366Z"
   },
   {
    "duration": 3,
    "start_time": "2025-04-20T00:54:22.382Z"
   },
   {
    "duration": 4,
    "start_time": "2025-04-20T00:54:22.386Z"
   },
   {
    "duration": 209350,
    "start_time": "2025-04-20T00:54:22.391Z"
   },
   {
    "duration": 4,
    "start_time": "2025-04-20T00:57:51.743Z"
   },
   {
    "duration": 17,
    "start_time": "2025-04-20T00:57:51.749Z"
   },
   {
    "duration": 30,
    "start_time": "2025-04-20T00:57:51.768Z"
   },
   {
    "duration": 4,
    "start_time": "2025-04-20T00:57:51.800Z"
   },
   {
    "duration": 111849,
    "start_time": "2025-04-20T00:57:51.806Z"
   },
   {
    "duration": 4,
    "start_time": "2025-04-20T00:59:43.658Z"
   },
   {
    "duration": 78,
    "start_time": "2025-04-20T00:59:43.664Z"
   },
   {
    "duration": 90,
    "start_time": "2025-04-20T00:59:43.748Z"
   },
   {
    "duration": 11,
    "start_time": "2025-04-20T00:59:43.840Z"
   },
   {
    "duration": 12,
    "start_time": "2025-04-20T00:59:43.853Z"
   },
   {
    "duration": 3,
    "start_time": "2025-04-20T01:03:05.981Z"
   },
   {
    "duration": 1432,
    "start_time": "2025-04-20T01:05:14.560Z"
   },
   {
    "duration": 41,
    "start_time": "2025-04-20T01:05:15.994Z"
   },
   {
    "duration": 11,
    "start_time": "2025-04-20T01:05:16.037Z"
   },
   {
    "duration": 8,
    "start_time": "2025-04-20T01:05:16.050Z"
   },
   {
    "duration": 17,
    "start_time": "2025-04-20T01:05:16.060Z"
   },
   {
    "duration": 14,
    "start_time": "2025-04-20T01:05:16.078Z"
   },
   {
    "duration": 4,
    "start_time": "2025-04-20T01:05:16.094Z"
   },
   {
    "duration": 13,
    "start_time": "2025-04-20T01:05:16.099Z"
   },
   {
    "duration": 830,
    "start_time": "2025-04-20T01:05:16.113Z"
   },
   {
    "duration": 59,
    "start_time": "2025-04-20T01:05:16.946Z"
   },
   {
    "duration": 39,
    "start_time": "2025-04-20T01:05:17.007Z"
   },
   {
    "duration": 16,
    "start_time": "2025-04-20T01:05:17.048Z"
   },
   {
    "duration": 8,
    "start_time": "2025-04-20T01:05:17.066Z"
   },
   {
    "duration": 1367,
    "start_time": "2025-04-20T01:05:17.076Z"
   },
   {
    "duration": 93,
    "start_time": "2025-04-20T01:05:18.446Z"
   },
   {
    "duration": 96,
    "start_time": "2025-04-20T01:05:18.541Z"
   },
   {
    "duration": 90862,
    "start_time": "2025-04-20T01:05:18.638Z"
   },
   {
    "duration": 3,
    "start_time": "2025-04-20T01:06:49.502Z"
   },
   {
    "duration": 49,
    "start_time": "2025-04-20T01:06:49.507Z"
   },
   {
    "duration": 31,
    "start_time": "2025-04-20T01:06:49.557Z"
   },
   {
    "duration": 11,
    "start_time": "2025-04-20T01:06:49.590Z"
   },
   {
    "duration": 3,
    "start_time": "2025-04-20T01:06:49.603Z"
   },
   {
    "duration": 1428,
    "start_time": "2025-04-20T01:07:37.244Z"
   },
   {
    "duration": 41,
    "start_time": "2025-04-20T01:07:38.674Z"
   },
   {
    "duration": 11,
    "start_time": "2025-04-20T01:07:38.717Z"
   },
   {
    "duration": 7,
    "start_time": "2025-04-20T01:07:38.730Z"
   },
   {
    "duration": 13,
    "start_time": "2025-04-20T01:07:38.739Z"
   },
   {
    "duration": 9,
    "start_time": "2025-04-20T01:07:38.753Z"
   },
   {
    "duration": 8,
    "start_time": "2025-04-20T01:07:38.764Z"
   },
   {
    "duration": 24,
    "start_time": "2025-04-20T01:07:38.773Z"
   },
   {
    "duration": 856,
    "start_time": "2025-04-20T01:07:38.798Z"
   },
   {
    "duration": 59,
    "start_time": "2025-04-20T01:07:39.657Z"
   },
   {
    "duration": 35,
    "start_time": "2025-04-20T01:07:39.718Z"
   },
   {
    "duration": 15,
    "start_time": "2025-04-20T01:07:39.755Z"
   },
   {
    "duration": 8,
    "start_time": "2025-04-20T01:07:39.771Z"
   },
   {
    "duration": 1360,
    "start_time": "2025-04-20T01:07:39.781Z"
   },
   {
    "duration": 3,
    "start_time": "2025-04-20T01:07:41.144Z"
   },
   {
    "duration": 4,
    "start_time": "2025-04-20T01:07:41.149Z"
   },
   {
    "duration": 83057,
    "start_time": "2025-04-20T01:07:41.237Z"
   },
   {
    "duration": 3,
    "start_time": "2025-04-20T01:09:04.295Z"
   },
   {
    "duration": 30,
    "start_time": "2025-04-20T01:09:04.300Z"
   },
   {
    "duration": 6,
    "start_time": "2025-04-20T01:09:04.331Z"
   },
   {
    "duration": 46,
    "start_time": "2025-04-20T01:09:04.338Z"
   },
   {
    "duration": 92,
    "start_time": "2025-04-20T01:09:04.386Z"
   },
   {
    "duration": 1476,
    "start_time": "2025-04-20T01:10:31.327Z"
   },
   {
    "duration": 42,
    "start_time": "2025-04-20T01:10:32.805Z"
   },
   {
    "duration": 11,
    "start_time": "2025-04-20T01:10:32.849Z"
   },
   {
    "duration": 7,
    "start_time": "2025-04-20T01:10:32.862Z"
   },
   {
    "duration": 9,
    "start_time": "2025-04-20T01:10:32.872Z"
   },
   {
    "duration": 17,
    "start_time": "2025-04-20T01:10:32.883Z"
   },
   {
    "duration": 21,
    "start_time": "2025-04-20T01:10:32.901Z"
   },
   {
    "duration": 23,
    "start_time": "2025-04-20T01:10:32.924Z"
   },
   {
    "duration": 808,
    "start_time": "2025-04-20T01:10:32.949Z"
   },
   {
    "duration": 60,
    "start_time": "2025-04-20T01:10:33.759Z"
   },
   {
    "duration": 32,
    "start_time": "2025-04-20T01:10:33.820Z"
   },
   {
    "duration": 16,
    "start_time": "2025-04-20T01:10:33.853Z"
   },
   {
    "duration": 1467,
    "start_time": "2025-04-20T01:10:33.870Z"
   },
   {
    "duration": 3,
    "start_time": "2025-04-20T01:10:35.341Z"
   },
   {
    "duration": 90,
    "start_time": "2025-04-20T01:10:35.346Z"
   },
   {
    "duration": 85696,
    "start_time": "2025-04-20T01:10:35.438Z"
   },
   {
    "duration": 4,
    "start_time": "2025-04-20T01:12:01.136Z"
   },
   {
    "duration": 3,
    "start_time": "2025-04-20T01:12:13.227Z"
   },
   {
    "duration": 5,
    "start_time": "2025-04-20T01:12:13.232Z"
   },
   {
    "duration": 18,
    "start_time": "2025-04-20T01:12:13.238Z"
   },
   {
    "duration": 11,
    "start_time": "2025-04-20T01:12:13.258Z"
   },
   {
    "duration": 200774,
    "start_time": "2025-04-20T01:12:13.271Z"
   },
   {
    "duration": 3,
    "start_time": "2025-04-20T01:15:34.047Z"
   },
   {
    "duration": 13,
    "start_time": "2025-04-20T01:15:34.052Z"
   },
   {
    "duration": 75,
    "start_time": "2025-04-20T01:15:34.066Z"
   },
   {
    "duration": 32,
    "start_time": "2025-04-20T01:15:34.143Z"
   },
   {
    "duration": 110763,
    "start_time": "2025-04-20T01:15:34.176Z"
   },
   {
    "duration": 4,
    "start_time": "2025-04-20T01:17:24.940Z"
   },
   {
    "duration": 8,
    "start_time": "2025-04-20T01:17:24.945Z"
   },
   {
    "duration": 91,
    "start_time": "2025-04-20T01:17:24.955Z"
   },
   {
    "duration": 13,
    "start_time": "2025-04-20T01:17:25.138Z"
   },
   {
    "duration": 14,
    "start_time": "2025-04-20T01:17:25.152Z"
   },
   {
    "duration": 118,
    "start_time": "2025-04-20T01:32:05.507Z"
   },
   {
    "duration": 7,
    "start_time": "2025-04-20T01:32:30.962Z"
   },
   {
    "duration": 7,
    "start_time": "2025-04-20T01:32:38.070Z"
   },
   {
    "duration": 4,
    "start_time": "2025-04-20T01:33:05.511Z"
   },
   {
    "duration": 4,
    "start_time": "2025-04-20T01:33:12.383Z"
   },
   {
    "duration": 3,
    "start_time": "2025-04-20T01:39:05.498Z"
   },
   {
    "duration": 3,
    "start_time": "2025-04-20T01:39:08.383Z"
   },
   {
    "duration": 3,
    "start_time": "2025-04-20T01:39:09.766Z"
   },
   {
    "duration": 42333,
    "start_time": "2025-04-20T01:39:23.396Z"
   },
   {
    "duration": 3,
    "start_time": "2025-04-20T01:40:31.530Z"
   },
   {
    "duration": 7,
    "start_time": "2025-04-20T01:40:45.221Z"
   },
   {
    "duration": 84412,
    "start_time": "2025-04-20T01:41:03.666Z"
   },
   {
    "duration": 3,
    "start_time": "2025-04-20T01:43:00.778Z"
   },
   {
    "duration": 6,
    "start_time": "2025-04-20T01:43:06.447Z"
   },
   {
    "duration": 2022,
    "start_time": "2025-04-20T01:48:48.531Z"
   },
   {
    "duration": 40,
    "start_time": "2025-04-20T01:48:50.556Z"
   },
   {
    "duration": 129,
    "start_time": "2025-04-20T01:48:50.598Z"
   },
   {
    "duration": 5,
    "start_time": "2025-04-20T01:48:50.728Z"
   },
   {
    "duration": 10,
    "start_time": "2025-04-20T01:48:50.735Z"
   },
   {
    "duration": 9,
    "start_time": "2025-04-20T01:48:50.747Z"
   },
   {
    "duration": 4,
    "start_time": "2025-04-20T01:48:50.758Z"
   },
   {
    "duration": 10,
    "start_time": "2025-04-20T01:48:50.763Z"
   },
   {
    "duration": 781,
    "start_time": "2025-04-20T01:48:50.774Z"
   },
   {
    "duration": 56,
    "start_time": "2025-04-20T01:48:51.557Z"
   },
   {
    "duration": 35,
    "start_time": "2025-04-20T01:48:51.615Z"
   },
   {
    "duration": 7,
    "start_time": "2025-04-20T01:48:51.652Z"
   },
   {
    "duration": 1284,
    "start_time": "2025-04-20T01:48:51.660Z"
   },
   {
    "duration": 3,
    "start_time": "2025-04-20T01:48:53.037Z"
   },
   {
    "duration": 34,
    "start_time": "2025-04-20T01:48:53.042Z"
   },
   {
    "duration": 82636,
    "start_time": "2025-04-20T01:48:53.077Z"
   },
   {
    "duration": 4,
    "start_time": "2025-04-20T01:50:15.715Z"
   },
   {
    "duration": 7,
    "start_time": "2025-04-20T01:50:15.736Z"
   },
   {
    "duration": 7,
    "start_time": "2025-04-20T01:50:15.746Z"
   },
   {
    "duration": 20,
    "start_time": "2025-04-20T01:50:15.754Z"
   },
   {
    "duration": 210172,
    "start_time": "2025-04-20T01:50:15.775Z"
   },
   {
    "duration": 4,
    "start_time": "2025-04-20T01:53:45.949Z"
   },
   {
    "duration": 4,
    "start_time": "2025-04-20T01:53:45.954Z"
   },
   {
    "duration": 40,
    "start_time": "2025-04-20T01:53:46.037Z"
   },
   {
    "duration": 11,
    "start_time": "2025-04-20T01:53:46.079Z"
   },
   {
    "duration": 1940,
    "start_time": "2025-04-20T02:39:26.227Z"
   },
   {
    "duration": 42,
    "start_time": "2025-04-20T02:39:28.169Z"
   },
   {
    "duration": 11,
    "start_time": "2025-04-20T02:39:28.213Z"
   },
   {
    "duration": 15,
    "start_time": "2025-04-20T02:39:28.226Z"
   },
   {
    "duration": 11,
    "start_time": "2025-04-20T02:39:28.243Z"
   },
   {
    "duration": 12,
    "start_time": "2025-04-20T02:39:28.255Z"
   },
   {
    "duration": 5,
    "start_time": "2025-04-20T02:39:28.269Z"
   },
   {
    "duration": 14,
    "start_time": "2025-04-20T02:39:28.276Z"
   },
   {
    "duration": 905,
    "start_time": "2025-04-20T02:39:28.306Z"
   },
   {
    "duration": 158,
    "start_time": "2025-04-20T02:39:29.214Z"
   },
   {
    "duration": 31,
    "start_time": "2025-04-20T02:39:29.374Z"
   },
   {
    "duration": 9,
    "start_time": "2025-04-20T02:39:29.407Z"
   },
   {
    "duration": 1491,
    "start_time": "2025-04-20T02:39:29.417Z"
   },
   {
    "duration": 3,
    "start_time": "2025-04-20T02:39:30.910Z"
   },
   {
    "duration": 29,
    "start_time": "2025-04-20T02:39:30.914Z"
   },
   {
    "duration": 91482,
    "start_time": "2025-04-20T02:39:30.945Z"
   },
   {
    "duration": 4,
    "start_time": "2025-04-20T02:41:02.429Z"
   },
   {
    "duration": 12,
    "start_time": "2025-04-20T02:41:02.434Z"
   },
   {
    "duration": 6,
    "start_time": "2025-04-20T02:41:02.447Z"
   },
   {
    "duration": 29,
    "start_time": "2025-04-20T02:41:02.454Z"
   },
   {
    "duration": 319333,
    "start_time": "2025-04-20T02:41:02.485Z"
   },
   {
    "duration": 89,
    "start_time": "2025-04-20T02:46:21.819Z"
   },
   {
    "duration": 43,
    "start_time": "2025-04-20T02:46:21.909Z"
   },
   {
    "duration": 5,
    "start_time": "2025-04-20T02:46:21.954Z"
   },
   {
    "duration": 6,
    "start_time": "2025-04-20T02:46:21.960Z"
   },
   {
    "duration": 118744,
    "start_time": "2025-04-20T02:46:21.968Z"
   },
   {
    "duration": 5,
    "start_time": "2025-04-20T02:48:20.714Z"
   },
   {
    "duration": 30,
    "start_time": "2025-04-20T02:48:20.724Z"
   },
   {
    "duration": 100,
    "start_time": "2025-04-20T02:48:20.806Z"
   },
   {
    "duration": 70,
    "start_time": "2025-04-20T02:48:20.907Z"
   },
   {
    "duration": 42,
    "start_time": "2025-04-20T02:48:20.978Z"
   },
   {
    "duration": 1714,
    "start_time": "2025-04-20T09:33:26.110Z"
   },
   {
    "duration": 58,
    "start_time": "2025-04-20T09:33:27.827Z"
   },
   {
    "duration": 11,
    "start_time": "2025-04-20T09:33:27.992Z"
   },
   {
    "duration": 5,
    "start_time": "2025-04-20T09:33:30.531Z"
   },
   {
    "duration": 10,
    "start_time": "2025-04-20T09:33:31.059Z"
   },
   {
    "duration": 10,
    "start_time": "2025-04-20T09:33:31.681Z"
   },
   {
    "duration": 109,
    "start_time": "2025-04-20T09:33:38.400Z"
   },
   {
    "duration": 268,
    "start_time": "2025-04-20T09:33:46.470Z"
   },
   {
    "duration": 246,
    "start_time": "2025-04-20T09:33:55.547Z"
   },
   {
    "duration": 4,
    "start_time": "2025-04-20T09:36:20.489Z"
   },
   {
    "duration": 5,
    "start_time": "2025-04-20T09:36:29.316Z"
   },
   {
    "duration": 10,
    "start_time": "2025-04-20T09:36:57.123Z"
   },
   {
    "duration": 1343,
    "start_time": "2025-04-20T09:37:15.514Z"
   },
   {
    "duration": 38,
    "start_time": "2025-04-20T09:37:16.858Z"
   },
   {
    "duration": 12,
    "start_time": "2025-04-20T09:37:17.674Z"
   },
   {
    "duration": 5,
    "start_time": "2025-04-20T09:37:18.282Z"
   },
   {
    "duration": 9,
    "start_time": "2025-04-20T09:37:18.893Z"
   },
   {
    "duration": 9,
    "start_time": "2025-04-20T09:37:21.783Z"
   },
   {
    "duration": 289,
    "start_time": "2025-04-20T09:37:36.372Z"
   },
   {
    "duration": 4,
    "start_time": "2025-04-20T09:37:42.229Z"
   },
   {
    "duration": 8,
    "start_time": "2025-04-20T09:37:43.115Z"
   },
   {
    "duration": 897,
    "start_time": "2025-04-20T09:37:54.881Z"
   },
   {
    "duration": 308,
    "start_time": "2025-04-20T09:43:34.852Z"
   },
   {
    "duration": 305,
    "start_time": "2025-04-20T09:43:48.964Z"
   },
   {
    "duration": 269,
    "start_time": "2025-04-20T09:43:59.558Z"
   },
   {
    "duration": 22,
    "start_time": "2025-04-20T09:50:11.388Z"
   },
   {
    "duration": 9,
    "start_time": "2025-04-20T09:50:21.006Z"
   },
   {
    "duration": 30,
    "start_time": "2025-04-20T09:50:32.404Z"
   },
   {
    "duration": 7,
    "start_time": "2025-04-20T09:50:47.629Z"
   },
   {
    "duration": 4,
    "start_time": "2025-04-20T09:55:58.820Z"
   },
   {
    "duration": 46,
    "start_time": "2025-04-20T09:55:58.835Z"
   },
   {
    "duration": 3,
    "start_time": "2025-04-20T09:56:09.951Z"
   },
   {
    "duration": 4,
    "start_time": "2025-04-20T09:57:59.652Z"
   },
   {
    "duration": 79,
    "start_time": "2025-04-20T09:57:59.657Z"
   },
   {
    "duration": 12,
    "start_time": "2025-04-20T09:57:59.737Z"
   },
   {
    "duration": 5,
    "start_time": "2025-04-20T09:57:59.751Z"
   },
   {
    "duration": 15,
    "start_time": "2025-04-20T09:57:59.757Z"
   },
   {
    "duration": 7,
    "start_time": "2025-04-20T09:57:59.773Z"
   },
   {
    "duration": 206,
    "start_time": "2025-04-20T09:57:59.782Z"
   },
   {
    "duration": 5,
    "start_time": "2025-04-20T09:57:59.990Z"
   },
   {
    "duration": 22,
    "start_time": "2025-04-20T09:57:59.996Z"
   },
   {
    "duration": 855,
    "start_time": "2025-04-20T09:58:00.022Z"
   },
   {
    "duration": 296,
    "start_time": "2025-04-20T09:58:00.879Z"
   },
   {
    "duration": 24,
    "start_time": "2025-04-20T09:58:01.177Z"
   },
   {
    "duration": 9,
    "start_time": "2025-04-20T09:58:01.203Z"
   },
   {
    "duration": 23,
    "start_time": "2025-04-20T09:58:01.214Z"
   },
   {
    "duration": 9,
    "start_time": "2025-04-20T09:58:01.239Z"
   },
   {
    "duration": 2,
    "start_time": "2025-04-20T09:58:01.260Z"
   },
   {
    "duration": 17,
    "start_time": "2025-04-20T09:58:01.264Z"
   },
   {
    "duration": 23490,
    "start_time": "2025-04-20T09:58:01.283Z"
   },
   {
    "duration": 4,
    "start_time": "2025-04-20T09:58:24.775Z"
   },
   {
    "duration": 16,
    "start_time": "2025-04-20T09:58:24.780Z"
   },
   {
    "duration": 4,
    "start_time": "2025-04-20T09:58:24.798Z"
   },
   {
    "duration": 3,
    "start_time": "2025-04-20T09:58:24.803Z"
   },
   {
    "duration": 227658,
    "start_time": "2025-04-20T09:58:24.808Z"
   },
   {
    "duration": 3,
    "start_time": "2025-04-20T10:02:12.468Z"
   },
   {
    "duration": 3,
    "start_time": "2025-04-20T10:02:12.473Z"
   },
   {
    "duration": 4,
    "start_time": "2025-04-20T10:02:12.478Z"
   },
   {
    "duration": 3,
    "start_time": "2025-04-20T10:02:12.483Z"
   },
   {
    "duration": 55410,
    "start_time": "2025-04-20T10:02:12.489Z"
   },
   {
    "duration": 3,
    "start_time": "2025-04-20T10:03:07.901Z"
   },
   {
    "duration": 7,
    "start_time": "2025-04-20T10:03:15.471Z"
   },
   {
    "duration": 10,
    "start_time": "2025-04-20T10:03:17.839Z"
   },
   {
    "duration": 14,
    "start_time": "2025-04-20T10:03:19.883Z"
   },
   {
    "duration": 3,
    "start_time": "2025-04-20T10:03:49.931Z"
   },
   {
    "duration": 5,
    "start_time": "2025-04-20T10:04:40.821Z"
   },
   {
    "duration": 32,
    "start_time": "2025-04-20T10:04:55.192Z"
   },
   {
    "duration": 3,
    "start_time": "2025-04-20T10:09:13.626Z"
   },
   {
    "duration": 38,
    "start_time": "2025-04-20T10:09:30.409Z"
   },
   {
    "duration": 42,
    "start_time": "2025-04-20T10:10:33.933Z"
   },
   {
    "duration": 108,
    "start_time": "2025-04-20T10:13:34.025Z"
   },
   {
    "duration": 13,
    "start_time": "2025-04-20T10:13:55.136Z"
   },
   {
    "duration": 10,
    "start_time": "2025-04-20T10:14:08.984Z"
   },
   {
    "duration": 31,
    "start_time": "2025-04-20T10:14:43.638Z"
   },
   {
    "duration": 5,
    "start_time": "2025-04-20T10:14:52.832Z"
   },
   {
    "duration": 14,
    "start_time": "2025-04-20T10:18:26.334Z"
   },
   {
    "duration": 33,
    "start_time": "2025-04-20T10:18:27.523Z"
   },
   {
    "duration": 1518,
    "start_time": "2025-04-20T10:19:04.872Z"
   },
   {
    "duration": 41,
    "start_time": "2025-04-20T10:19:06.392Z"
   },
   {
    "duration": 51,
    "start_time": "2025-04-20T10:19:06.435Z"
   },
   {
    "duration": 7,
    "start_time": "2025-04-20T10:19:06.488Z"
   },
   {
    "duration": 11,
    "start_time": "2025-04-20T10:19:06.496Z"
   },
   {
    "duration": 29,
    "start_time": "2025-04-20T10:19:06.509Z"
   },
   {
    "duration": 309,
    "start_time": "2025-04-20T10:19:13.223Z"
   },
   {
    "duration": 4,
    "start_time": "2025-04-20T10:19:13.631Z"
   },
   {
    "duration": 8,
    "start_time": "2025-04-20T10:19:13.809Z"
   },
   {
    "duration": 961,
    "start_time": "2025-04-20T10:19:16.039Z"
   },
   {
    "duration": 311,
    "start_time": "2025-04-20T10:19:17.002Z"
   },
   {
    "duration": 29,
    "start_time": "2025-04-20T10:19:20.259Z"
   },
   {
    "duration": 9,
    "start_time": "2025-04-20T10:19:25.713Z"
   },
   {
    "duration": 8,
    "start_time": "2025-04-20T10:19:25.990Z"
   },
   {
    "duration": 18,
    "start_time": "2025-04-20T10:19:32.263Z"
   },
   {
    "duration": 33,
    "start_time": "2025-04-20T10:19:32.917Z"
   },
   {
    "duration": 36,
    "start_time": "2025-04-20T10:19:53.147Z"
   },
   {
    "duration": 307,
    "start_time": "2025-04-20T10:20:10.556Z"
   },
   {
    "duration": 3,
    "start_time": "2025-04-20T10:20:18.337Z"
   },
   {
    "duration": 693,
    "start_time": "2025-04-20T10:20:22.270Z"
   },
   {
    "duration": 14,
    "start_time": "2025-04-20T10:20:30.118Z"
   },
   {
    "duration": 1547,
    "start_time": "2025-04-20T10:20:49.026Z"
   },
   {
    "duration": 41,
    "start_time": "2025-04-20T10:20:50.575Z"
   },
   {
    "duration": 11,
    "start_time": "2025-04-20T10:20:50.618Z"
   },
   {
    "duration": 5,
    "start_time": "2025-04-20T10:20:50.631Z"
   },
   {
    "duration": 22,
    "start_time": "2025-04-20T10:20:50.638Z"
   },
   {
    "duration": 9,
    "start_time": "2025-04-20T10:20:50.662Z"
   },
   {
    "duration": 317,
    "start_time": "2025-04-20T10:20:50.673Z"
   },
   {
    "duration": 4,
    "start_time": "2025-04-20T10:20:50.992Z"
   },
   {
    "duration": 20,
    "start_time": "2025-04-20T10:20:50.998Z"
   },
   {
    "duration": 952,
    "start_time": "2025-04-20T10:20:51.020Z"
   },
   {
    "duration": 312,
    "start_time": "2025-04-20T10:20:51.974Z"
   },
   {
    "duration": 23,
    "start_time": "2025-04-20T10:20:52.287Z"
   },
   {
    "duration": 9,
    "start_time": "2025-04-20T10:20:52.312Z"
   },
   {
    "duration": 7,
    "start_time": "2025-04-20T10:20:52.324Z"
   },
   {
    "duration": 3,
    "start_time": "2025-04-20T10:20:52.360Z"
   },
   {
    "duration": 117,
    "start_time": "2025-04-20T10:20:52.365Z"
   },
   {
    "duration": 4,
    "start_time": "2025-04-20T10:20:52.483Z"
   },
   {
    "duration": 23778,
    "start_time": "2025-04-20T10:20:52.489Z"
   },
   {
    "duration": 4,
    "start_time": "2025-04-20T10:21:16.269Z"
   },
   {
    "duration": 16,
    "start_time": "2025-04-20T10:21:16.274Z"
   },
   {
    "duration": 6,
    "start_time": "2025-04-20T10:21:16.292Z"
   },
   {
    "duration": 5,
    "start_time": "2025-04-20T10:21:16.299Z"
   },
   {
    "duration": 185763,
    "start_time": "2025-04-20T10:21:16.306Z"
   },
   {
    "duration": 4,
    "start_time": "2025-04-20T10:24:22.070Z"
   },
   {
    "duration": 20,
    "start_time": "2025-04-20T10:24:22.075Z"
   },
   {
    "duration": 4,
    "start_time": "2025-04-20T10:24:22.096Z"
   },
   {
    "duration": 3,
    "start_time": "2025-04-20T10:24:22.102Z"
   },
   {
    "duration": 56189,
    "start_time": "2025-04-20T10:24:22.160Z"
   },
   {
    "duration": 3,
    "start_time": "2025-04-20T10:25:18.361Z"
   },
   {
    "duration": 84,
    "start_time": "2025-04-20T10:25:18.366Z"
   },
   {
    "duration": 616,
    "start_time": "2025-04-20T10:25:18.452Z"
   },
   {
    "duration": 10,
    "start_time": "2025-04-20T10:25:19.161Z"
   },
   {
    "duration": 299,
    "start_time": "2025-04-20T10:25:19.175Z"
   },
   {
    "duration": 0,
    "start_time": "2025-04-20T10:25:19.475Z"
   },
   {
    "duration": 0,
    "start_time": "2025-04-20T10:25:19.476Z"
   },
   {
    "duration": 12,
    "start_time": "2025-04-20T10:26:05.045Z"
   },
   {
    "duration": 1412,
    "start_time": "2025-04-20T10:28:36.923Z"
   },
   {
    "duration": 38,
    "start_time": "2025-04-20T10:28:38.337Z"
   },
   {
    "duration": 11,
    "start_time": "2025-04-20T10:28:38.377Z"
   },
   {
    "duration": 106,
    "start_time": "2025-04-20T10:28:38.390Z"
   },
   {
    "duration": 34,
    "start_time": "2025-04-20T10:28:38.498Z"
   },
   {
    "duration": 15,
    "start_time": "2025-04-20T10:28:38.534Z"
   },
   {
    "duration": 280,
    "start_time": "2025-04-20T10:28:38.550Z"
   },
   {
    "duration": 4,
    "start_time": "2025-04-20T10:28:38.832Z"
   },
   {
    "duration": 23,
    "start_time": "2025-04-20T10:28:38.837Z"
   },
   {
    "duration": 1230,
    "start_time": "2025-04-20T10:28:38.863Z"
   },
   {
    "duration": 582,
    "start_time": "2025-04-20T10:28:40.094Z"
   },
   {
    "duration": 22,
    "start_time": "2025-04-20T10:28:40.678Z"
   },
   {
    "duration": 65,
    "start_time": "2025-04-20T10:28:40.701Z"
   },
   {
    "duration": 7,
    "start_time": "2025-04-20T10:28:40.768Z"
   },
   {
    "duration": 3,
    "start_time": "2025-04-20T10:28:40.776Z"
   },
   {
    "duration": 3,
    "start_time": "2025-04-20T10:28:40.781Z"
   },
   {
    "duration": 3,
    "start_time": "2025-04-20T10:28:40.786Z"
   },
   {
    "duration": 22514,
    "start_time": "2025-04-20T10:28:40.790Z"
   },
   {
    "duration": 3,
    "start_time": "2025-04-20T10:29:03.305Z"
   },
   {
    "duration": 3,
    "start_time": "2025-04-20T10:29:03.310Z"
   },
   {
    "duration": 4,
    "start_time": "2025-04-20T10:29:03.314Z"
   },
   {
    "duration": 6,
    "start_time": "2025-04-20T10:29:03.319Z"
   },
   {
    "duration": 1529,
    "start_time": "2025-04-20T10:30:29.170Z"
   },
   {
    "duration": 40,
    "start_time": "2025-04-20T10:30:30.701Z"
   },
   {
    "duration": 11,
    "start_time": "2025-04-20T10:30:30.743Z"
   },
   {
    "duration": 17,
    "start_time": "2025-04-20T10:30:30.755Z"
   },
   {
    "duration": 9,
    "start_time": "2025-04-20T10:30:30.775Z"
   },
   {
    "duration": 8,
    "start_time": "2025-04-20T10:30:30.786Z"
   },
   {
    "duration": 318,
    "start_time": "2025-04-20T10:30:30.796Z"
   },
   {
    "duration": 4,
    "start_time": "2025-04-20T10:30:31.116Z"
   },
   {
    "duration": 82,
    "start_time": "2025-04-20T10:30:31.121Z"
   },
   {
    "duration": 931,
    "start_time": "2025-04-20T10:30:31.205Z"
   },
   {
    "duration": 290,
    "start_time": "2025-04-20T10:30:32.138Z"
   },
   {
    "duration": 34,
    "start_time": "2025-04-20T10:30:32.429Z"
   },
   {
    "duration": 69,
    "start_time": "2025-04-20T10:30:32.474Z"
   },
   {
    "duration": 6,
    "start_time": "2025-04-20T10:30:32.546Z"
   },
   {
    "duration": 5,
    "start_time": "2025-04-20T10:30:32.553Z"
   },
   {
    "duration": 14,
    "start_time": "2025-04-20T10:30:32.559Z"
   },
   {
    "duration": 3,
    "start_time": "2025-04-20T10:30:32.575Z"
   },
   {
    "duration": 22745,
    "start_time": "2025-04-20T10:30:32.579Z"
   },
   {
    "duration": 3,
    "start_time": "2025-04-20T10:30:55.326Z"
   },
   {
    "duration": 5,
    "start_time": "2025-04-20T10:30:55.331Z"
   },
   {
    "duration": 3,
    "start_time": "2025-04-20T10:30:55.337Z"
   },
   {
    "duration": 3,
    "start_time": "2025-04-20T10:30:55.373Z"
   },
   {
    "duration": 174393,
    "start_time": "2025-04-20T10:30:55.378Z"
   },
   {
    "duration": 4,
    "start_time": "2025-04-20T10:33:49.772Z"
   },
   {
    "duration": 85,
    "start_time": "2025-04-20T10:33:49.777Z"
   },
   {
    "duration": 3,
    "start_time": "2025-04-20T10:33:49.864Z"
   },
   {
    "duration": 3,
    "start_time": "2025-04-20T10:33:49.869Z"
   },
   {
    "duration": 53360,
    "start_time": "2025-04-20T10:33:49.874Z"
   },
   {
    "duration": 3,
    "start_time": "2025-04-20T10:34:43.235Z"
   },
   {
    "duration": 28,
    "start_time": "2025-04-20T10:34:43.240Z"
   },
   {
    "duration": 393,
    "start_time": "2025-04-20T10:34:43.270Z"
   },
   {
    "duration": 297,
    "start_time": "2025-04-20T10:34:43.666Z"
   },
   {
    "duration": 5,
    "start_time": "2025-04-20T10:34:43.965Z"
   },
   {
    "duration": 91,
    "start_time": "2025-04-20T10:34:43.972Z"
   },
   {
    "duration": 12,
    "start_time": "2025-04-20T10:34:44.065Z"
   },
   {
    "duration": 33,
    "start_time": "2025-04-20T10:36:23.878Z"
   },
   {
    "duration": 1384,
    "start_time": "2025-04-20T10:55:16.506Z"
   },
   {
    "duration": 40,
    "start_time": "2025-04-20T10:55:17.892Z"
   },
   {
    "duration": 9,
    "start_time": "2025-04-20T10:55:17.934Z"
   },
   {
    "duration": 7,
    "start_time": "2025-04-20T10:55:17.944Z"
   },
   {
    "duration": 9,
    "start_time": "2025-04-20T10:55:17.959Z"
   },
   {
    "duration": 8,
    "start_time": "2025-04-20T10:55:17.970Z"
   },
   {
    "duration": 294,
    "start_time": "2025-04-20T10:55:17.980Z"
   },
   {
    "duration": 4,
    "start_time": "2025-04-20T10:55:18.276Z"
   },
   {
    "duration": 8,
    "start_time": "2025-04-20T10:55:18.281Z"
   },
   {
    "duration": 891,
    "start_time": "2025-04-20T10:55:18.290Z"
   },
   {
    "duration": 289,
    "start_time": "2025-04-20T10:55:19.183Z"
   },
   {
    "duration": 24,
    "start_time": "2025-04-20T10:55:19.473Z"
   },
   {
    "duration": 9,
    "start_time": "2025-04-20T10:55:19.498Z"
   },
   {
    "duration": 8,
    "start_time": "2025-04-20T10:55:19.510Z"
   },
   {
    "duration": 5,
    "start_time": "2025-04-20T10:55:19.520Z"
   },
   {
    "duration": 3,
    "start_time": "2025-04-20T10:55:19.527Z"
   },
   {
    "duration": 3,
    "start_time": "2025-04-20T10:55:19.561Z"
   },
   {
    "duration": 22012,
    "start_time": "2025-04-20T10:55:19.565Z"
   },
   {
    "duration": 3,
    "start_time": "2025-04-20T10:55:41.579Z"
   },
   {
    "duration": 3,
    "start_time": "2025-04-20T10:55:41.583Z"
   },
   {
    "duration": 5,
    "start_time": "2025-04-20T10:55:41.587Z"
   },
   {
    "duration": 3,
    "start_time": "2025-04-20T10:55:41.593Z"
   },
   {
    "duration": 179076,
    "start_time": "2025-04-20T10:55:41.597Z"
   },
   {
    "duration": 3,
    "start_time": "2025-04-20T10:58:40.761Z"
   },
   {
    "duration": 20,
    "start_time": "2025-04-20T10:58:40.766Z"
   },
   {
    "duration": 4,
    "start_time": "2025-04-20T10:58:40.788Z"
   },
   {
    "duration": 3,
    "start_time": "2025-04-20T10:58:40.793Z"
   },
   {
    "duration": 2467,
    "start_time": "2025-04-20T23:18:43.927Z"
   },
   {
    "duration": 41,
    "start_time": "2025-04-20T23:18:46.395Z"
   },
   {
    "duration": 12,
    "start_time": "2025-04-20T23:18:46.440Z"
   },
   {
    "duration": 69,
    "start_time": "2025-04-20T23:18:46.454Z"
   },
   {
    "duration": 17,
    "start_time": "2025-04-20T23:18:46.525Z"
   },
   {
    "duration": 24,
    "start_time": "2025-04-20T23:18:46.543Z"
   },
   {
    "duration": 304,
    "start_time": "2025-04-20T23:18:46.569Z"
   },
   {
    "duration": 4,
    "start_time": "2025-04-20T23:18:46.875Z"
   },
   {
    "duration": 8,
    "start_time": "2025-04-20T23:18:46.882Z"
   },
   {
    "duration": 971,
    "start_time": "2025-04-20T23:18:46.904Z"
   },
   {
    "duration": 317,
    "start_time": "2025-04-20T23:18:47.878Z"
   },
   {
    "duration": 33,
    "start_time": "2025-04-20T23:18:48.197Z"
   },
   {
    "duration": 13,
    "start_time": "2025-04-20T23:18:48.232Z"
   },
   {
    "duration": 9,
    "start_time": "2025-04-20T23:18:48.248Z"
   },
   {
    "duration": 9,
    "start_time": "2025-04-20T23:18:48.259Z"
   },
   {
    "duration": 14,
    "start_time": "2025-04-20T23:18:48.269Z"
   },
   {
    "duration": 21,
    "start_time": "2025-04-20T23:18:48.284Z"
   },
   {
    "duration": 25966,
    "start_time": "2025-04-20T23:18:48.307Z"
   },
   {
    "duration": 3,
    "start_time": "2025-04-20T23:19:14.275Z"
   },
   {
    "duration": 13,
    "start_time": "2025-04-20T23:19:14.279Z"
   },
   {
    "duration": 10,
    "start_time": "2025-04-20T23:19:14.294Z"
   },
   {
    "duration": 7,
    "start_time": "2025-04-20T23:19:14.305Z"
   },
   {
    "duration": 111604,
    "start_time": "2025-04-20T23:19:14.313Z"
   },
   {
    "duration": 4,
    "start_time": "2025-04-20T23:21:05.918Z"
   },
   {
    "duration": 64,
    "start_time": "2025-04-20T23:21:05.923Z"
   },
   {
    "duration": 18,
    "start_time": "2025-04-20T23:21:05.989Z"
   },
   {
    "duration": 69,
    "start_time": "2025-04-20T23:21:06.010Z"
   },
   {
    "duration": 71651,
    "start_time": "2025-04-20T23:21:06.081Z"
   },
   {
    "duration": 3,
    "start_time": "2025-04-20T23:22:17.734Z"
   },
   {
    "duration": 138,
    "start_time": "2025-04-20T23:22:17.738Z"
   },
   {
    "duration": 0,
    "start_time": "2025-04-20T23:22:17.878Z"
   },
   {
    "duration": 0,
    "start_time": "2025-04-20T23:22:17.880Z"
   },
   {
    "duration": 21,
    "start_time": "2025-04-20T23:24:19.145Z"
   },
   {
    "duration": 175,
    "start_time": "2025-04-20T23:24:31.712Z"
   },
   {
    "duration": 1345,
    "start_time": "2025-04-20T23:27:10.994Z"
   },
   {
    "duration": 40,
    "start_time": "2025-04-20T23:27:12.342Z"
   },
   {
    "duration": 12,
    "start_time": "2025-04-20T23:27:12.384Z"
   },
   {
    "duration": 5,
    "start_time": "2025-04-20T23:27:12.403Z"
   },
   {
    "duration": 9,
    "start_time": "2025-04-20T23:27:12.410Z"
   },
   {
    "duration": 11,
    "start_time": "2025-04-20T23:27:12.421Z"
   },
   {
    "duration": 324,
    "start_time": "2025-04-20T23:27:12.433Z"
   },
   {
    "duration": 5,
    "start_time": "2025-04-20T23:27:12.759Z"
   },
   {
    "duration": 13,
    "start_time": "2025-04-20T23:27:12.765Z"
   },
   {
    "duration": 954,
    "start_time": "2025-04-20T23:27:12.780Z"
   },
   {
    "duration": 306,
    "start_time": "2025-04-20T23:27:13.736Z"
   },
   {
    "duration": 23,
    "start_time": "2025-04-20T23:27:14.044Z"
   },
   {
    "duration": 10,
    "start_time": "2025-04-20T23:27:14.068Z"
   },
   {
    "duration": 28,
    "start_time": "2025-04-20T23:27:14.080Z"
   },
   {
    "duration": 3,
    "start_time": "2025-04-20T23:27:14.110Z"
   },
   {
    "duration": 6,
    "start_time": "2025-04-20T23:27:14.114Z"
   },
   {
    "duration": 6,
    "start_time": "2025-04-20T23:27:14.121Z"
   },
   {
    "duration": 26258,
    "start_time": "2025-04-20T23:27:14.129Z"
   },
   {
    "duration": 4,
    "start_time": "2025-04-20T23:27:40.388Z"
   },
   {
    "duration": 3,
    "start_time": "2025-04-20T23:27:40.404Z"
   },
   {
    "duration": 4,
    "start_time": "2025-04-20T23:27:40.409Z"
   },
   {
    "duration": 4,
    "start_time": "2025-04-20T23:27:40.414Z"
   },
   {
    "duration": 112192,
    "start_time": "2025-04-20T23:27:40.420Z"
   },
   {
    "duration": 4,
    "start_time": "2025-04-20T23:29:32.613Z"
   },
   {
    "duration": 17,
    "start_time": "2025-04-20T23:29:32.619Z"
   },
   {
    "duration": 23,
    "start_time": "2025-04-20T23:29:32.638Z"
   },
   {
    "duration": 49,
    "start_time": "2025-04-20T23:29:32.663Z"
   },
   {
    "duration": 71705,
    "start_time": "2025-04-20T23:29:32.716Z"
   },
   {
    "duration": 4,
    "start_time": "2025-04-20T23:30:44.423Z"
   },
   {
    "duration": 298,
    "start_time": "2025-04-20T23:30:44.429Z"
   },
   {
    "duration": 0,
    "start_time": "2025-04-20T23:30:44.729Z"
   },
   {
    "duration": 0,
    "start_time": "2025-04-20T23:30:44.731Z"
   },
   {
    "duration": 4,
    "start_time": "2025-04-20T23:34:51.181Z"
   },
   {
    "duration": 153,
    "start_time": "2025-04-20T23:35:29.373Z"
   },
   {
    "duration": 161,
    "start_time": "2025-04-20T23:35:33.149Z"
   },
   {
    "duration": 20,
    "start_time": "2025-04-20T23:36:33.144Z"
   },
   {
    "duration": 1421,
    "start_time": "2025-04-20T23:36:42.866Z"
   },
   {
    "duration": 39,
    "start_time": "2025-04-20T23:36:44.289Z"
   },
   {
    "duration": 14,
    "start_time": "2025-04-20T23:36:44.329Z"
   },
   {
    "duration": 5,
    "start_time": "2025-04-20T23:36:44.345Z"
   },
   {
    "duration": 12,
    "start_time": "2025-04-20T23:36:44.351Z"
   },
   {
    "duration": 9,
    "start_time": "2025-04-20T23:36:44.365Z"
   },
   {
    "duration": 341,
    "start_time": "2025-04-20T23:36:44.375Z"
   },
   {
    "duration": 5,
    "start_time": "2025-04-20T23:36:44.717Z"
   },
   {
    "duration": 14,
    "start_time": "2025-04-20T23:36:44.723Z"
   },
   {
    "duration": 1014,
    "start_time": "2025-04-20T23:36:44.740Z"
   },
   {
    "duration": 326,
    "start_time": "2025-04-20T23:36:45.756Z"
   },
   {
    "duration": 36,
    "start_time": "2025-04-20T23:36:46.084Z"
   },
   {
    "duration": 10,
    "start_time": "2025-04-20T23:36:46.122Z"
   },
   {
    "duration": 8,
    "start_time": "2025-04-20T23:36:46.134Z"
   },
   {
    "duration": 20,
    "start_time": "2025-04-20T23:36:46.144Z"
   },
   {
    "duration": 23,
    "start_time": "2025-04-20T23:36:46.166Z"
   },
   {
    "duration": 25,
    "start_time": "2025-04-20T23:36:46.191Z"
   },
   {
    "duration": 26796,
    "start_time": "2025-04-20T23:36:46.217Z"
   },
   {
    "duration": 4,
    "start_time": "2025-04-20T23:37:13.014Z"
   },
   {
    "duration": 41,
    "start_time": "2025-04-20T23:37:13.019Z"
   },
   {
    "duration": 14,
    "start_time": "2025-04-20T23:37:13.061Z"
   },
   {
    "duration": 5,
    "start_time": "2025-04-20T23:37:13.077Z"
   },
   {
    "duration": 124337,
    "start_time": "2025-04-20T23:37:13.084Z"
   },
   {
    "duration": 4,
    "start_time": "2025-04-20T23:39:17.503Z"
   },
   {
    "duration": 22,
    "start_time": "2025-04-20T23:39:17.510Z"
   },
   {
    "duration": 6,
    "start_time": "2025-04-20T23:39:17.534Z"
   },
   {
    "duration": 11,
    "start_time": "2025-04-20T23:39:17.542Z"
   },
   {
    "duration": 71868,
    "start_time": "2025-04-20T23:39:17.557Z"
   },
   {
    "duration": 4,
    "start_time": "2025-04-20T23:40:29.426Z"
   },
   {
    "duration": 22,
    "start_time": "2025-04-20T23:40:29.431Z"
   },
   {
    "duration": 753,
    "start_time": "2025-04-20T23:40:29.455Z"
   },
   {
    "duration": 598,
    "start_time": "2025-04-20T23:40:30.211Z"
   },
   {
    "duration": 150,
    "start_time": "2025-04-20T23:40:52.455Z"
   }
  ],
  "kernelspec": {
   "display_name": "Python 3 (ipykernel)",
   "language": "python",
   "name": "python3"
  },
  "language_info": {
   "codemirror_mode": {
    "name": "ipython",
    "version": 3
   },
   "file_extension": ".py",
   "mimetype": "text/x-python",
   "name": "python",
   "nbconvert_exporter": "python",
   "pygments_lexer": "ipython3",
   "version": "3.12.4"
  },
  "toc": {
   "base_numbering": 1,
   "nav_menu": {},
   "number_sections": true,
   "sideBar": true,
   "skip_h1_title": true,
   "title_cell": "Содержание",
   "title_sidebar": "Contents",
   "toc_cell": true,
   "toc_position": {
    "height": "calc(100% - 180px)",
    "left": "10px",
    "top": "150px",
    "width": "294.4px"
   },
   "toc_section_display": true,
   "toc_window_display": true
  }
 },
 "nbformat": 4,
 "nbformat_minor": 4
}
